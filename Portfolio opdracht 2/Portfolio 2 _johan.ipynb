{
  "cells": [
    {
      "cell_type": "markdown",
      "metadata": {
        "id": "rZ5vntWL5GIU"
      },
      "source": [
        "<table style=\"margin-left: 0;\">\n",
        "    <tr>\n",
        "        <td colspan=\"5\" style=\"text-align: center;\"><h2><b>Portfolio 2 - Deep Learning</b></h2></td>\n",
        "    </tr>\n",
        "    <tr>\n",
        "        <th>Coach</th>\n",
        "        <th>Opdrachtnummer</th>\n",
        "        <th>Namen groepsleden</th>\n",
        "        <th>Kaggle naam</th>\n",
        "    </tr>\n",
        "    <tr>\n",
        "        <td><span style=\"color:blue\">Vikram en Bob</span></td>\n",
        "        <td><span style=\"color:blue\">2</span></td>\n",
        "        <td>\n",
        "            <ul style=\"list-style-type:none; padding-left:0;\">\n",
        "                <li><b>Mark Olieman:</b> <span style=\"color:green\">19054033</span></li>\n",
        "                <li><b>Johan Heskes:</b> <span style=\"color:green\">22132376</span></li>\n",
        "                <li><b>Henry Lau:</b> <span style=\"color:green\">22122958</span></li>\n",
        "                <li><b>Isa Dijkstra:</b> <span style=\"color:green\">22119485</span></li>\n",
        "            </ul>\n",
        "        </td>\n",
        "        <td><span style=\"color:blue\">???</span></td>\n",
        "    </tr>\n",
        "</table>\n",
        "\n",
        "    \n",
        "    \n",
        "## Inhoudsopgave\n",
        "\n",
        "- [**Inleiding**](#inleiding)\n",
        "- [**Packages en de data inladen**](#data)\n",
        "- [**Opdracht 1 - EDA**](#eda)\n",
        "- [**Opdracht 2 - LSTM voor audioclips**](#audio)\n",
        "- [**Opdracht 3 - LSTM voor songteksten**](#song_lstm)\n",
        "- [**Opdracht 4 - Transformer voor songteksten**](#song_tran)\n",
        "- [**Opdracht 5 - Model naar keuze**](#mnk)\n",
        "- [**Opdracht 6 - Bevindingen**](#bevindingen)\n",
        "- [**Opdracht 7 - Conclusie en aanbevelingen**](#conclusie)\n",
        "- [**Bronnenlijst**](#bronnenlijst)"
      ]
    },
    {
      "cell_type": "markdown",
      "metadata": {
        "id": "mOJyEVZU5GIV"
      },
      "source": [
        "## Inleiding <a name='inleiding'></a>"
      ]
    },
    {
      "cell_type": "markdown",
      "metadata": {
        "id": "AW1hq3IR5GIV"
      },
      "source": [
        "In dit notebook gaan we aan de hand van songteksten en audiodata, audiotracks in verschillende genres classificeren"
      ]
    },
    {
      "cell_type": "markdown",
      "metadata": {
        "id": "AYrpxCra5GIV"
      },
      "source": [
        "## Packages en de data inladen <a name='data'></a>"
      ]
    },
    {
      "cell_type": "code",
      "execution_count": 1,
      "metadata": {
        "id": "uAyKCk8t5GIW"
      },
      "outputs": [
        {
          "name": "stderr",
          "output_type": "stream",
          "text": [
            "c:\\Users\\johan\\anaconda3\\lib\\site-packages\\scipy\\__init__.py:146: UserWarning: A NumPy version >=1.16.5 and <1.23.0 is required for this version of SciPy (detected version 1.26.4\n",
            "  warnings.warn(f\"A NumPy version >={np_minversion} and <{np_maxversion}\"\n"
          ]
        },
        {
          "name": "stdout",
          "output_type": "stream",
          "text": [
            "WARNING:tensorflow:From c:\\Users\\johan\\anaconda3\\lib\\site-packages\\tf_keras\\src\\losses.py:2976: The name tf.losses.sparse_softmax_cross_entropy is deprecated. Please use tf.compat.v1.losses.sparse_softmax_cross_entropy instead.\n",
            "\n"
          ]
        }
      ],
      "source": [
        "# !pip install datasets\n",
        "\n",
        "import os\n",
        "import re\n",
        "import nltk\n",
        "from nltk.tokenize import word_tokenize\n",
        "import string\n",
        "import pathlib\n",
        "from collections import Counter\n",
        "import numpy as np\n",
        "import pandas as pd\n",
        "import matplotlib.pyplot as plt\n",
        "import seaborn as sns\n",
        "from sklearn.preprocessing import LabelEncoder\n",
        "import tensorflow as tf\n",
        "from tensorflow.keras import Sequential\n",
        "from tensorflow.keras import layers\n",
        "from tensorflow.keras import models\n",
        "from IPython.display import display\n",
        "from tensorflow.keras.layers import LSTM, GRU, Bidirectional, Dense, Dropout, Embedding, TextVectorization\n",
        "from tensorflow.keras.utils import to_categorical\n",
        "from transformers import AutoTokenizer, create_optimizer, TFAutoModelForSequenceClassification\n",
        "from datasets import Dataset"
      ]
    },
    {
      "cell_type": "code",
      "execution_count": 11,
      "metadata": {
        "colab": {
          "base_uri": "https://localhost:8080/"
        },
        "id": "6d3Dmp560GoW",
        "outputId": "b7416c86-0467-48d1-b898-742794bab6f4"
      },
      "outputs": [
        {
          "ename": "ModuleNotFoundError",
          "evalue": "No module named 'google.colab'",
          "output_type": "error",
          "traceback": [
            "\u001b[1;31m---------------------------------------------------------------------------\u001b[0m",
            "\u001b[1;31mModuleNotFoundError\u001b[0m                       Traceback (most recent call last)",
            "Cell \u001b[1;32mIn [11], line 1\u001b[0m\n\u001b[1;32m----> 1\u001b[0m \u001b[38;5;28;01mfrom\u001b[39;00m \u001b[38;5;21;01mgoogle\u001b[39;00m\u001b[38;5;21;01m.\u001b[39;00m\u001b[38;5;21;01mcolab\u001b[39;00m \u001b[38;5;28;01mimport\u001b[39;00m drive\n\u001b[0;32m      2\u001b[0m drive\u001b[38;5;241m.\u001b[39mmount(\u001b[38;5;124m'\u001b[39m\u001b[38;5;124m/content/drive\u001b[39m\u001b[38;5;124m'\u001b[39m)\n",
            "\u001b[1;31mModuleNotFoundError\u001b[0m: No module named 'google.colab'"
          ]
        }
      ],
      "source": [
        "from google.colab import drive\n",
        "drive.mount('/content/drive')"
      ]
    },
    {
      "cell_type": "code",
      "execution_count": 2,
      "metadata": {
        "id": "mmuBr74I0K6x"
      },
      "outputs": [
        {
          "ename": "FileNotFoundError",
          "evalue": "[WinError 3] Het systeem kan het opgegeven pad niet vinden: '/content/drive/MyDrive/Colab Notebooks/Deep-learning/Portfolio opdracht 2'",
          "output_type": "error",
          "traceback": [
            "\u001b[1;31m---------------------------------------------------------------------------\u001b[0m",
            "\u001b[1;31mFileNotFoundError\u001b[0m                         Traceback (most recent call last)",
            "Input \u001b[1;32mIn [2]\u001b[0m, in \u001b[0;36m<cell line: 1>\u001b[1;34m()\u001b[0m\n\u001b[1;32m----> 1\u001b[0m \u001b[43mos\u001b[49m\u001b[38;5;241;43m.\u001b[39;49m\u001b[43mchdir\u001b[49m\u001b[43m(\u001b[49m\u001b[38;5;124;43m'\u001b[39;49m\u001b[38;5;124;43m/content/drive/MyDrive/Colab Notebooks/Deep-learning/Portfolio opdracht 2\u001b[39;49m\u001b[38;5;124;43m'\u001b[39;49m\u001b[43m)\u001b[49m\n",
            "\u001b[1;31mFileNotFoundError\u001b[0m: [WinError 3] Het systeem kan het opgegeven pad niet vinden: '/content/drive/MyDrive/Colab Notebooks/Deep-learning/Portfolio opdracht 2'"
          ]
        }
      ],
      "source": [
        "os.chdir('/content/drive/MyDrive/Colab Notebooks/Deep-learning/Portfolio opdracht 2')"
      ]
    },
    {
      "cell_type": "code",
      "execution_count": 2,
      "metadata": {
        "id": "bIIrqzAs5GIW"
      },
      "outputs": [],
      "source": [
        "#songteksten inladen\n",
        "\n",
        "train = pd.read_csv('train.csv', index_col='filename')\n",
        "test = pd.read_csv('test.csv', index_col='filename')"
      ]
    },
    {
      "cell_type": "code",
      "execution_count": 3,
      "metadata": {
        "colab": {
          "base_uri": "https://localhost:8080/",
          "height": 455
        },
        "id": "EWeZQ_Qh5GIX",
        "outputId": "5943dcb4-1de1-4079-e7e9-5ecb6b69c734"
      },
      "outputs": [
        {
          "data": {
            "text/html": [
              "<div>\n",
              "<style scoped>\n",
              "    .dataframe tbody tr th:only-of-type {\n",
              "        vertical-align: middle;\n",
              "    }\n",
              "\n",
              "    .dataframe tbody tr th {\n",
              "        vertical-align: top;\n",
              "    }\n",
              "\n",
              "    .dataframe thead th {\n",
              "        text-align: right;\n",
              "    }\n",
              "</style>\n",
              "<table border=\"1\" class=\"dataframe\">\n",
              "  <thead>\n",
              "    <tr style=\"text-align: right;\">\n",
              "      <th></th>\n",
              "      <th>lyrics</th>\n",
              "    </tr>\n",
              "    <tr>\n",
              "      <th>filename</th>\n",
              "      <th></th>\n",
              "    </tr>\n",
              "  </thead>\n",
              "  <tbody>\n",
              "    <tr>\n",
              "      <th>test.00000.wav</th>\n",
              "      <td>[Instrumental Intro]\\r\\n(Radio)\\r\\n(Radio)\\r\\n...</td>\n",
              "    </tr>\n",
              "    <tr>\n",
              "      <th>test.00001.wav</th>\n",
              "      <td>[Verse 1]\\r\\nThere's an old Kodak camera in my...</td>\n",
              "    </tr>\n",
              "    <tr>\n",
              "      <th>test.00002.wav</th>\n",
              "      <td>[Intro]\\r\\nSo curious, so curious\\r\\n\\r\\n[Vers...</td>\n",
              "    </tr>\n",
              "    <tr>\n",
              "      <th>test.00003.wav</th>\n",
              "      <td>[Intro]\\r\\nWhere do I take this pain of mine\\r...</td>\n",
              "    </tr>\n",
              "    <tr>\n",
              "      <th>test.00004.wav</th>\n",
              "      <td>[Verse 1]\\r\\nBaby's into runnin' around, hangi...</td>\n",
              "    </tr>\n",
              "    <tr>\n",
              "      <th>...</th>\n",
              "      <td>...</td>\n",
              "    </tr>\n",
              "    <tr>\n",
              "      <th>test.00124.wav</th>\n",
              "      <td>Heaven must be missing an angel\\r\\nMissing one...</td>\n",
              "    </tr>\n",
              "    <tr>\n",
              "      <th>test.00125.wav</th>\n",
              "      <td>[Verse 1]\\r\\nLaura and Tommy were lovers\\r\\nHe...</td>\n",
              "    </tr>\n",
              "    <tr>\n",
              "      <th>test.00126.wav</th>\n",
              "      <td>[Chorus: Agnetha &amp; Frida, Benny &amp; Björn]\\r\\nIf...</td>\n",
              "    </tr>\n",
              "    <tr>\n",
              "      <th>test.00127.wav</th>\n",
              "      <td>[Chorus]\\r\\nLegalize it\\r\\nAnd don't criticize...</td>\n",
              "    </tr>\n",
              "    <tr>\n",
              "      <th>test.00128.wav</th>\n",
              "      <td>[Verse 1]\\r\\nWell, in North Carolina, way back...</td>\n",
              "    </tr>\n",
              "  </tbody>\n",
              "</table>\n",
              "<p>129 rows × 1 columns</p>\n",
              "</div>"
            ],
            "text/plain": [
              "                                                           lyrics\n",
              "filename                                                         \n",
              "test.00000.wav  [Instrumental Intro]\\r\\n(Radio)\\r\\n(Radio)\\r\\n...\n",
              "test.00001.wav  [Verse 1]\\r\\nThere's an old Kodak camera in my...\n",
              "test.00002.wav  [Intro]\\r\\nSo curious, so curious\\r\\n\\r\\n[Vers...\n",
              "test.00003.wav  [Intro]\\r\\nWhere do I take this pain of mine\\r...\n",
              "test.00004.wav  [Verse 1]\\r\\nBaby's into runnin' around, hangi...\n",
              "...                                                           ...\n",
              "test.00124.wav  Heaven must be missing an angel\\r\\nMissing one...\n",
              "test.00125.wav  [Verse 1]\\r\\nLaura and Tommy were lovers\\r\\nHe...\n",
              "test.00126.wav  [Chorus: Agnetha & Frida, Benny & Björn]\\r\\nIf...\n",
              "test.00127.wav  [Chorus]\\r\\nLegalize it\\r\\nAnd don't criticize...\n",
              "test.00128.wav  [Verse 1]\\r\\nWell, in North Carolina, way back...\n",
              "\n",
              "[129 rows x 1 columns]"
            ]
          },
          "execution_count": 3,
          "metadata": {},
          "output_type": "execute_result"
        }
      ],
      "source": [
        "test\n"
      ]
    },
    {
      "cell_type": "code",
      "execution_count": 3,
      "metadata": {
        "colab": {
          "base_uri": "https://localhost:8080/"
        },
        "id": "IMk66ocp5GIX",
        "outputId": "f376586d-becb-46a6-ae77-6bce8db191f7"
      },
      "outputs": [
        {
          "name": "stdout",
          "output_type": "stream",
          "text": [
            "Found 537 files belonging to 8 classes.\n",
            "Using 430 files for training.\n",
            "Using 107 files for validation.\n",
            "\n",
            "label names: ['blues' 'country' 'disco' 'hiphop' 'metal' 'pop' 'reggae' 'rock']\n"
          ]
        }
      ],
      "source": [
        "#Train en validation set inladen\n",
        "\n",
        "train_ds, val_ds = tf.keras.utils.audio_dataset_from_directory(\n",
        "    directory='Train',\n",
        "    batch_size=32,\n",
        "    validation_split=0.2,\n",
        "    seed=0,\n",
        "    output_sequence_length=5*16000,\n",
        "    subset='both')\n",
        "\n",
        "label_names = np.array(train_ds.class_names)\n",
        "print()\n",
        "print(\"label names:\", label_names)"
      ]
    },
    {
      "cell_type": "code",
      "execution_count": 4,
      "metadata": {
        "colab": {
          "base_uri": "https://localhost:8080/"
        },
        "id": "ghQqQsSq5GIX",
        "outputId": "9024457b-1002-4bf6-c3c2-b9dd4f6260e9"
      },
      "outputs": [
        {
          "data": {
            "text/plain": [
              "8"
            ]
          },
          "execution_count": 4,
          "metadata": {},
          "output_type": "execute_result"
        }
      ],
      "source": [
        "len(label_names)"
      ]
    },
    {
      "cell_type": "code",
      "execution_count": 5,
      "metadata": {
        "id": "EyfqYBR35GIX"
      },
      "outputs": [],
      "source": [
        "def squeeze(audio, labels):\n",
        "    audio = tf.squeeze(audio, axis=-1)\n",
        "    return audio, labels\n",
        "\n",
        "train_ds = train_ds.map(squeeze, tf.data.AUTOTUNE)\n",
        "val_ds = val_ds.map(squeeze, tf.data.AUTOTUNE)"
      ]
    },
    {
      "cell_type": "code",
      "execution_count": 6,
      "metadata": {
        "colab": {
          "base_uri": "https://localhost:8080/"
        },
        "id": "9q95ccuK5GIX",
        "outputId": "e00eec88-72e9-41a4-bf68-d520d785aa81"
      },
      "outputs": [
        {
          "name": "stdout",
          "output_type": "stream",
          "text": [
            "Found 129 files.\n"
          ]
        },
        {
          "name": "stdout",
          "output_type": "stream",
          "text": [
            "\n"
          ]
        }
      ],
      "source": [
        "#test dataset inladen\n",
        "\n",
        "test_ds = tf.keras.utils.audio_dataset_from_directory(\n",
        "    directory='Test',\n",
        "    label_mode=None,\n",
        "    batch_size=32,\n",
        "    seed=0,\n",
        "    output_sequence_length=5*16000)\n",
        "\n",
        "print()"
      ]
    },
    {
      "cell_type": "code",
      "execution_count": 7,
      "metadata": {
        "id": "7Vg10eyr5GIX"
      },
      "outputs": [],
      "source": [
        "train_ds = train_ds.cache().shuffle(10).prefetch(tf.data.AUTOTUNE)\n",
        "val_ds = val_ds.cache().prefetch(tf.data.AUTOTUNE)"
      ]
    },
    {
      "cell_type": "markdown",
      "metadata": {
        "id": "OXgYSMRZ5GIX"
      },
      "source": [
        "## **Opdracht 1 - EDA** <a name='eda'></a>"
      ]
    },
    {
      "cell_type": "code",
      "execution_count": 10,
      "metadata": {
        "colab": {
          "base_uri": "https://localhost:8080/",
          "height": 449
        },
        "id": "0T6qBZZ45GIX",
        "outputId": "83cc5c2e-a225-46fd-cc8e-951381452977"
      },
      "outputs": [
        {
          "data": {
            "text/html": [
              "<div>\n",
              "<style scoped>\n",
              "    .dataframe tbody tr th:only-of-type {\n",
              "        vertical-align: middle;\n",
              "    }\n",
              "\n",
              "    .dataframe tbody tr th {\n",
              "        vertical-align: top;\n",
              "    }\n",
              "\n",
              "    .dataframe thead th {\n",
              "        text-align: right;\n",
              "    }\n",
              "</style>\n",
              "<table border=\"1\" class=\"dataframe\">\n",
              "  <thead>\n",
              "    <tr style=\"text-align: right;\">\n",
              "      <th></th>\n",
              "      <th>lyrics</th>\n",
              "      <th>genre</th>\n",
              "    </tr>\n",
              "    <tr>\n",
              "      <th>filename</th>\n",
              "      <th></th>\n",
              "      <th></th>\n",
              "    </tr>\n",
              "  </thead>\n",
              "  <tbody>\n",
              "    <tr>\n",
              "      <th>blues.00001.wav</th>\n",
              "      <td>I’m in the Mood Lyrics[Verse 1]\\r\\nI'm in the ...</td>\n",
              "      <td>blues</td>\n",
              "    </tr>\n",
              "    <tr>\n",
              "      <th>blues.00002.wav</th>\n",
              "      <td>(John Lee Hooker)\\r\\nThink twice before you go...</td>\n",
              "      <td>blues</td>\n",
              "    </tr>\n",
              "    <tr>\n",
              "      <th>blues.00003.wav</th>\n",
              "      <td>[Intro, Spoken]\\r\\n...A little thing I'm going...</td>\n",
              "      <td>blues</td>\n",
              "    </tr>\n",
              "    <tr>\n",
              "      <th>blues.00005.wav</th>\n",
              "      <td>Sugar mama, sugar mama, sugar mama please come...</td>\n",
              "      <td>blues</td>\n",
              "    </tr>\n",
              "    <tr>\n",
              "      <th>blues.00006.wav</th>\n",
              "      <td>My baby left me this morning\\r\\nPeople just ar...</td>\n",
              "      <td>blues</td>\n",
              "    </tr>\n",
              "  </tbody>\n",
              "</table>\n",
              "</div>"
            ],
            "text/plain": [
              "                                                            lyrics  genre\n",
              "filename                                                                 \n",
              "blues.00001.wav  I’m in the Mood Lyrics[Verse 1]\\r\\nI'm in the ...  blues\n",
              "blues.00002.wav  (John Lee Hooker)\\r\\nThink twice before you go...  blues\n",
              "blues.00003.wav  [Intro, Spoken]\\r\\n...A little thing I'm going...  blues\n",
              "blues.00005.wav  Sugar mama, sugar mama, sugar mama please come...  blues\n",
              "blues.00006.wav  My baby left me this morning\\r\\nPeople just ar...  blues"
            ]
          },
          "metadata": {},
          "output_type": "display_data"
        },
        {
          "data": {
            "text/html": [
              "<div>\n",
              "<style scoped>\n",
              "    .dataframe tbody tr th:only-of-type {\n",
              "        vertical-align: middle;\n",
              "    }\n",
              "\n",
              "    .dataframe tbody tr th {\n",
              "        vertical-align: top;\n",
              "    }\n",
              "\n",
              "    .dataframe thead th {\n",
              "        text-align: right;\n",
              "    }\n",
              "</style>\n",
              "<table border=\"1\" class=\"dataframe\">\n",
              "  <thead>\n",
              "    <tr style=\"text-align: right;\">\n",
              "      <th></th>\n",
              "      <th>lyrics</th>\n",
              "      <th>genre</th>\n",
              "    </tr>\n",
              "  </thead>\n",
              "  <tbody>\n",
              "    <tr>\n",
              "      <th>count</th>\n",
              "      <td>537</td>\n",
              "      <td>537</td>\n",
              "    </tr>\n",
              "    <tr>\n",
              "      <th>unique</th>\n",
              "      <td>500</td>\n",
              "      <td>8</td>\n",
              "    </tr>\n",
              "    <tr>\n",
              "      <th>top</th>\n",
              "      <td>[Intro: Lil' Kim, Mýa, Christina Aguilera &amp; P!...</td>\n",
              "      <td>rock</td>\n",
              "    </tr>\n",
              "    <tr>\n",
              "      <th>freq</th>\n",
              "      <td>4</td>\n",
              "      <td>79</td>\n",
              "    </tr>\n",
              "  </tbody>\n",
              "</table>\n",
              "</div>"
            ],
            "text/plain": [
              "                                                   lyrics genre\n",
              "count                                                 537   537\n",
              "unique                                                500     8\n",
              "top     [Intro: Lil' Kim, Mýa, Christina Aguilera & P!...  rock\n",
              "freq                                                    4    79"
            ]
          },
          "metadata": {},
          "output_type": "display_data"
        },
        {
          "data": {
            "text/plain": [
              "lyrics    0\n",
              "genre     0\n",
              "dtype: int64"
            ]
          },
          "metadata": {},
          "output_type": "display_data"
        }
      ],
      "source": [
        "display(train.head())\n",
        "display(train.describe())\n",
        "display(train.isnull().sum())"
      ]
    },
    {
      "cell_type": "code",
      "execution_count": 20,
      "metadata": {
        "colab": {
          "base_uri": "https://localhost:8080/",
          "height": 455
        },
        "id": "3Nb79mOfWAC0",
        "outputId": "ef9c36ac-267f-4fc7-85e3-7f40b7254402"
      },
      "outputs": [
        {
          "data": {
            "text/html": [
              "<div>\n",
              "<style scoped>\n",
              "    .dataframe tbody tr th:only-of-type {\n",
              "        vertical-align: middle;\n",
              "    }\n",
              "\n",
              "    .dataframe tbody tr th {\n",
              "        vertical-align: top;\n",
              "    }\n",
              "\n",
              "    .dataframe thead th {\n",
              "        text-align: right;\n",
              "    }\n",
              "</style>\n",
              "<table border=\"1\" class=\"dataframe\">\n",
              "  <thead>\n",
              "    <tr style=\"text-align: right;\">\n",
              "      <th></th>\n",
              "      <th>lyrics</th>\n",
              "      <th>genre</th>\n",
              "      <th>prep_text</th>\n",
              "    </tr>\n",
              "    <tr>\n",
              "      <th>filename</th>\n",
              "      <th></th>\n",
              "      <th></th>\n",
              "      <th></th>\n",
              "    </tr>\n",
              "  </thead>\n",
              "  <tbody>\n",
              "    <tr>\n",
              "      <th>blues.00001.wav</th>\n",
              "      <td>I’m in the Mood Lyrics[Verse 1]\\r\\nI'm in the ...</td>\n",
              "      <td>blues</td>\n",
              "      <td>i’m in the mood lyrics\\r im in the mood baby i...</td>\n",
              "    </tr>\n",
              "    <tr>\n",
              "      <th>blues.00002.wav</th>\n",
              "      <td>(John Lee Hooker)\\r\\nThink twice before you go...</td>\n",
              "      <td>blues</td>\n",
              "      <td>john lee hooker\\r think twice before you go ba...</td>\n",
              "    </tr>\n",
              "    <tr>\n",
              "      <th>blues.00003.wav</th>\n",
              "      <td>[Intro, Spoken]\\r\\n...A little thing I'm going...</td>\n",
              "      <td>blues</td>\n",
              "      <td>\\r a little thing im going to do called im bad...</td>\n",
              "    </tr>\n",
              "    <tr>\n",
              "      <th>blues.00005.wav</th>\n",
              "      <td>Sugar mama, sugar mama, sugar mama please come...</td>\n",
              "      <td>blues</td>\n",
              "      <td>sugar mama sugar mama sugar mama please come b...</td>\n",
              "    </tr>\n",
              "    <tr>\n",
              "      <th>blues.00006.wav</th>\n",
              "      <td>My baby left me this morning\\r\\nPeople just ar...</td>\n",
              "      <td>blues</td>\n",
              "      <td>my baby left me this morning\\r people just aro...</td>\n",
              "    </tr>\n",
              "    <tr>\n",
              "      <th>...</th>\n",
              "      <td>...</td>\n",
              "      <td>...</td>\n",
              "      <td>...</td>\n",
              "    </tr>\n",
              "    <tr>\n",
              "      <th>rock.00094.wav</th>\n",
              "      <td>[Chorus]\\r\\nDon’t stop\\r\\nIsn’t it funny how y...</td>\n",
              "      <td>rock</td>\n",
              "      <td>\\r don’t stop\\r isn’t it funny how you shine\\r...</td>\n",
              "    </tr>\n",
              "    <tr>\n",
              "      <th>rock.00096.wav</th>\n",
              "      <td>[Verse 1]\\r\\nHer hair, soft drifted snow\\r\\nDe...</td>\n",
              "      <td>rock</td>\n",
              "      <td>\\r her hair soft drifted snow\\r death white id...</td>\n",
              "    </tr>\n",
              "    <tr>\n",
              "      <th>rock.00097.wav</th>\n",
              "      <td>[Verse 1]\\r\\nYour knuckles whiten on the wheel...</td>\n",
              "      <td>rock</td>\n",
              "      <td>\\r your knuckles whiten on the wheel\\r the las...</td>\n",
              "    </tr>\n",
              "    <tr>\n",
              "      <th>rock.00098.wav</th>\n",
              "      <td>[Verse 1]\\r\\nYou know it\\r\\nYou show it\\r\\nAnd...</td>\n",
              "      <td>rock</td>\n",
              "      <td>\\r you know it\\r you show it\\r and the time ha...</td>\n",
              "    </tr>\n",
              "    <tr>\n",
              "      <th>rock.00099.wav</th>\n",
              "      <td>[Verse 1]\\r\\nA girl consumed by fire\\r\\nWe all...</td>\n",
              "      <td>rock</td>\n",
              "      <td>\\r a girl consumed by fire\\r we all know her d...</td>\n",
              "    </tr>\n",
              "  </tbody>\n",
              "</table>\n",
              "<p>537 rows × 3 columns</p>\n",
              "</div>"
            ],
            "text/plain": [
              "                                                            lyrics  genre  \\\n",
              "filename                                                                    \n",
              "blues.00001.wav  I’m in the Mood Lyrics[Verse 1]\\r\\nI'm in the ...  blues   \n",
              "blues.00002.wav  (John Lee Hooker)\\r\\nThink twice before you go...  blues   \n",
              "blues.00003.wav  [Intro, Spoken]\\r\\n...A little thing I'm going...  blues   \n",
              "blues.00005.wav  Sugar mama, sugar mama, sugar mama please come...  blues   \n",
              "blues.00006.wav  My baby left me this morning\\r\\nPeople just ar...  blues   \n",
              "...                                                            ...    ...   \n",
              "rock.00094.wav   [Chorus]\\r\\nDon’t stop\\r\\nIsn’t it funny how y...   rock   \n",
              "rock.00096.wav   [Verse 1]\\r\\nHer hair, soft drifted snow\\r\\nDe...   rock   \n",
              "rock.00097.wav   [Verse 1]\\r\\nYour knuckles whiten on the wheel...   rock   \n",
              "rock.00098.wav   [Verse 1]\\r\\nYou know it\\r\\nYou show it\\r\\nAnd...   rock   \n",
              "rock.00099.wav   [Verse 1]\\r\\nA girl consumed by fire\\r\\nWe all...   rock   \n",
              "\n",
              "                                                         prep_text  \n",
              "filename                                                            \n",
              "blues.00001.wav  i’m in the mood lyrics\\r im in the mood baby i...  \n",
              "blues.00002.wav  john lee hooker\\r think twice before you go ba...  \n",
              "blues.00003.wav  \\r a little thing im going to do called im bad...  \n",
              "blues.00005.wav  sugar mama sugar mama sugar mama please come b...  \n",
              "blues.00006.wav  my baby left me this morning\\r people just aro...  \n",
              "...                                                            ...  \n",
              "rock.00094.wav   \\r don’t stop\\r isn’t it funny how you shine\\r...  \n",
              "rock.00096.wav   \\r her hair soft drifted snow\\r death white id...  \n",
              "rock.00097.wav   \\r your knuckles whiten on the wheel\\r the las...  \n",
              "rock.00098.wav   \\r you know it\\r you show it\\r and the time ha...  \n",
              "rock.00099.wav   \\r a girl consumed by fire\\r we all know her d...  \n",
              "\n",
              "[537 rows x 3 columns]"
            ]
          },
          "metadata": {},
          "output_type": "display_data"
        }
      ],
      "source": [
        "def preprocess_text(text):\n",
        "    text = text.lower()\n",
        "    text = re.sub(r'\\n', ' ', text)  # Replace newline characters with space\n",
        "    text = re.sub(r'\\[.*?\\]', '', text)  # Remove square brackets and their contents\n",
        "    punctuation = string.punctuation\n",
        "    text = re.sub(r'[%s]' % re.escape(punctuation), '', text)  # Remove punctuation\n",
        "    return text\n",
        "\n",
        "df_test = train.copy()\n",
        "df_test['prep_text'] = df_test['lyrics'].apply(preprocess_text)\n",
        "display(df_test)"
      ]
    },
    {
      "cell_type": "code",
      "execution_count": 21,
      "metadata": {
        "id": "FlXsxZWLZPTI"
      },
      "outputs": [],
      "source": [
        "def preprocess_text(text):\n",
        "    text = text.lower()\n",
        "    text = re.sub(r'\\n', ' ', text)  # Replace newline characters with space\n",
        "    text = re.sub(r'\\[.*?\\]', '', text)  # Remove square brackets and their contents\n",
        "    punctuation = string.punctuation\n",
        "    text = re.sub(r'[%s]' % re.escape(punctuation), '', text)  # Remove punctuation\n",
        "    return text\n",
        "\n",
        "def tokenize_text(text):\n",
        "    return text.split()\n",
        "\n",
        "def count_tokens(text):\n",
        "    return Counter(text)\n",
        "\n",
        "df_test['prep_text'] = df_test['lyrics'].apply(preprocess_text)\n",
        "\n",
        "# Combine all lyrics\n",
        "all_lyrics = ' '.join(df_test['prep_text'])\n",
        "\n",
        "# Tokenize combined text\n",
        "all_tokens = tokenize_text(all_lyrics)\n",
        "\n",
        "# Count occurrences of each token\n",
        "token_counts = count_tokens(all_tokens)\n",
        "\n",
        "# Get the most common tokens\n",
        "most_common_all_genres = token_counts.most_common(20)  # You can adjust this number as needed\n",
        "\n",
        "\n",
        "grouped_by_genre = df_test.groupby('genre')\n",
        "\n",
        "#Calculate frequency distribution of tokens and extract most common tokens per genre\n",
        "most_common_per_genre = {}\n",
        "for genre, group in grouped_by_genre:\n",
        "    all_tokens = [token for text in group['prep_text'] for token in tokenize_text(text)]\n",
        "    token_counts = count_tokens(all_tokens)\n",
        "    most_common = token_counts.most_common(20)  # You can adjust this number as needed\n",
        "    most_common_per_genre[genre] = most_common"
      ]
    },
    {
      "cell_type": "code",
      "execution_count": 23,
      "metadata": {
        "colab": {
          "base_uri": "https://localhost:8080/",
          "height": 1000
        },
        "id": "JL8s-uJ9bUcd",
        "outputId": "ee84d074-c81b-45e6-fd41-43ae6fbe2d78"
      },
      "outputs": [
        {
          "name": "stderr",
          "output_type": "stream",
          "text": [
            "C:\\Users\\johan\\AppData\\Local\\Temp\\ipykernel_16920\\2134938147.py:8: FutureWarning: \n",
            "\n",
            "The `ci` parameter is deprecated. Use `errorbar=None` for the same effect.\n",
            "\n",
            "  sns.barplot(x=counts, y=tokens, ci=None)\n"
          ]
        },
        {
          "ename": "AttributeError",
          "evalue": "'bool' object has no attribute 'all'",
          "output_type": "error",
          "traceback": [
            "\u001b[1;31m---------------------------------------------------------------------------\u001b[0m",
            "\u001b[1;31mAttributeError\u001b[0m                            Traceback (most recent call last)",
            "Cell \u001b[1;32mIn [23], line 8\u001b[0m\n\u001b[0;32m      6\u001b[0m tokens, counts \u001b[38;5;241m=\u001b[39m \u001b[38;5;28mzip\u001b[39m(\u001b[38;5;241m*\u001b[39mcommon_tokens)\n\u001b[0;32m      7\u001b[0m plt\u001b[38;5;241m.\u001b[39mfigure(figsize\u001b[38;5;241m=\u001b[39m(\u001b[38;5;241m10\u001b[39m, \u001b[38;5;241m6\u001b[39m))\n\u001b[1;32m----> 8\u001b[0m \u001b[43msns\u001b[49m\u001b[38;5;241;43m.\u001b[39;49m\u001b[43mbarplot\u001b[49m\u001b[43m(\u001b[49m\u001b[43mx\u001b[49m\u001b[38;5;241;43m=\u001b[39;49m\u001b[43mcounts\u001b[49m\u001b[43m,\u001b[49m\u001b[43m \u001b[49m\u001b[43my\u001b[49m\u001b[38;5;241;43m=\u001b[39;49m\u001b[43mtokens\u001b[49m\u001b[43m,\u001b[49m\u001b[43m \u001b[49m\u001b[43mci\u001b[49m\u001b[38;5;241;43m=\u001b[39;49m\u001b[38;5;28;43;01mNone\u001b[39;49;00m\u001b[43m)\u001b[49m\n\u001b[0;32m      9\u001b[0m plt\u001b[38;5;241m.\u001b[39mtitle(\u001b[38;5;124mf\u001b[39m\u001b[38;5;124m\"\u001b[39m\u001b[38;5;124mMost Common Tokens in \u001b[39m\u001b[38;5;132;01m{\u001b[39;00mgenre\u001b[38;5;132;01m}\u001b[39;00m\u001b[38;5;124m\"\u001b[39m)\n\u001b[0;32m     10\u001b[0m plt\u001b[38;5;241m.\u001b[39mxlabel(\u001b[38;5;124m\"\u001b[39m\u001b[38;5;124mFrequency\u001b[39m\u001b[38;5;124m\"\u001b[39m)\n",
            "File \u001b[1;32mc:\\Users\\johan\\anaconda3\\envs\\snowflakes\\lib\\site-packages\\seaborn\\categorical.py:2754\u001b[0m, in \u001b[0;36mbarplot\u001b[1;34m(data, x, y, hue, order, hue_order, estimator, errorbar, n_boot, units, seed, orient, color, palette, saturation, width, errcolor, errwidth, capsize, dodge, ci, ax, **kwargs)\u001b[0m\n\u001b[0;32m   2751\u001b[0m \u001b[38;5;28;01mif\u001b[39;00m estimator \u001b[38;5;129;01mis\u001b[39;00m \u001b[38;5;28mlen\u001b[39m:\n\u001b[0;32m   2752\u001b[0m     estimator \u001b[38;5;241m=\u001b[39m \u001b[38;5;124m\"\u001b[39m\u001b[38;5;124msize\u001b[39m\u001b[38;5;124m\"\u001b[39m\n\u001b[1;32m-> 2754\u001b[0m plotter \u001b[38;5;241m=\u001b[39m \u001b[43m_BarPlotter\u001b[49m\u001b[43m(\u001b[49m\u001b[43mx\u001b[49m\u001b[43m,\u001b[49m\u001b[43m \u001b[49m\u001b[43my\u001b[49m\u001b[43m,\u001b[49m\u001b[43m \u001b[49m\u001b[43mhue\u001b[49m\u001b[43m,\u001b[49m\u001b[43m \u001b[49m\u001b[43mdata\u001b[49m\u001b[43m,\u001b[49m\u001b[43m \u001b[49m\u001b[43morder\u001b[49m\u001b[43m,\u001b[49m\u001b[43m \u001b[49m\u001b[43mhue_order\u001b[49m\u001b[43m,\u001b[49m\n\u001b[0;32m   2755\u001b[0m \u001b[43m                      \u001b[49m\u001b[43mestimator\u001b[49m\u001b[43m,\u001b[49m\u001b[43m \u001b[49m\u001b[43merrorbar\u001b[49m\u001b[43m,\u001b[49m\u001b[43m \u001b[49m\u001b[43mn_boot\u001b[49m\u001b[43m,\u001b[49m\u001b[43m \u001b[49m\u001b[43munits\u001b[49m\u001b[43m,\u001b[49m\u001b[43m \u001b[49m\u001b[43mseed\u001b[49m\u001b[43m,\u001b[49m\n\u001b[0;32m   2756\u001b[0m \u001b[43m                      \u001b[49m\u001b[43morient\u001b[49m\u001b[43m,\u001b[49m\u001b[43m \u001b[49m\u001b[43mcolor\u001b[49m\u001b[43m,\u001b[49m\u001b[43m \u001b[49m\u001b[43mpalette\u001b[49m\u001b[43m,\u001b[49m\u001b[43m \u001b[49m\u001b[43msaturation\u001b[49m\u001b[43m,\u001b[49m\n\u001b[0;32m   2757\u001b[0m \u001b[43m                      \u001b[49m\u001b[43mwidth\u001b[49m\u001b[43m,\u001b[49m\u001b[43m \u001b[49m\u001b[43merrcolor\u001b[49m\u001b[43m,\u001b[49m\u001b[43m \u001b[49m\u001b[43merrwidth\u001b[49m\u001b[43m,\u001b[49m\u001b[43m \u001b[49m\u001b[43mcapsize\u001b[49m\u001b[43m,\u001b[49m\u001b[43m \u001b[49m\u001b[43mdodge\u001b[49m\u001b[43m)\u001b[49m\n\u001b[0;32m   2759\u001b[0m \u001b[38;5;28;01mif\u001b[39;00m ax \u001b[38;5;129;01mis\u001b[39;00m \u001b[38;5;28;01mNone\u001b[39;00m:\n\u001b[0;32m   2760\u001b[0m     ax \u001b[38;5;241m=\u001b[39m plt\u001b[38;5;241m.\u001b[39mgca()\n",
            "File \u001b[1;32mc:\\Users\\johan\\anaconda3\\envs\\snowflakes\\lib\\site-packages\\seaborn\\categorical.py:1530\u001b[0m, in \u001b[0;36m_BarPlotter.__init__\u001b[1;34m(self, x, y, hue, data, order, hue_order, estimator, errorbar, n_boot, units, seed, orient, color, palette, saturation, width, errcolor, errwidth, capsize, dodge)\u001b[0m\n\u001b[0;32m   1525\u001b[0m \u001b[38;5;28;01mdef\u001b[39;00m \u001b[38;5;21m__init__\u001b[39m(\u001b[38;5;28mself\u001b[39m, x, y, hue, data, order, hue_order,\n\u001b[0;32m   1526\u001b[0m              estimator, errorbar, n_boot, units, seed,\n\u001b[0;32m   1527\u001b[0m              orient, color, palette, saturation, width,\n\u001b[0;32m   1528\u001b[0m              errcolor, errwidth, capsize, dodge):\n\u001b[0;32m   1529\u001b[0m     \u001b[38;5;124;03m\"\"\"Initialize the plotter.\"\"\"\u001b[39;00m\n\u001b[1;32m-> 1530\u001b[0m     \u001b[38;5;28;43mself\u001b[39;49m\u001b[38;5;241;43m.\u001b[39;49m\u001b[43mestablish_variables\u001b[49m\u001b[43m(\u001b[49m\u001b[43mx\u001b[49m\u001b[43m,\u001b[49m\u001b[43m \u001b[49m\u001b[43my\u001b[49m\u001b[43m,\u001b[49m\u001b[43m \u001b[49m\u001b[43mhue\u001b[49m\u001b[43m,\u001b[49m\u001b[43m \u001b[49m\u001b[43mdata\u001b[49m\u001b[43m,\u001b[49m\u001b[43m \u001b[49m\u001b[43morient\u001b[49m\u001b[43m,\u001b[49m\n\u001b[0;32m   1531\u001b[0m \u001b[43m                             \u001b[49m\u001b[43morder\u001b[49m\u001b[43m,\u001b[49m\u001b[43m \u001b[49m\u001b[43mhue_order\u001b[49m\u001b[43m,\u001b[49m\u001b[43m \u001b[49m\u001b[43munits\u001b[49m\u001b[43m)\u001b[49m\n\u001b[0;32m   1532\u001b[0m     \u001b[38;5;28mself\u001b[39m\u001b[38;5;241m.\u001b[39mestablish_colors(color, palette, saturation)\n\u001b[0;32m   1533\u001b[0m     \u001b[38;5;28mself\u001b[39m\u001b[38;5;241m.\u001b[39mestimate_statistic(estimator, errorbar, n_boot, seed)\n",
            "File \u001b[1;32mc:\\Users\\johan\\anaconda3\\envs\\snowflakes\\lib\\site-packages\\seaborn\\categorical.py:544\u001b[0m, in \u001b[0;36m_CategoricalPlotter.establish_variables\u001b[1;34m(self, x, y, hue, data, orient, order, hue_order, units)\u001b[0m\n\u001b[0;32m    541\u001b[0m         \u001b[38;5;28;01mraise\u001b[39;00m \u001b[38;5;167;01mValueError\u001b[39;00m(err)\n\u001b[0;32m    543\u001b[0m \u001b[38;5;66;03m# Figure out the plotting orientation\u001b[39;00m\n\u001b[1;32m--> 544\u001b[0m orient \u001b[38;5;241m=\u001b[39m \u001b[43minfer_orient\u001b[49m\u001b[43m(\u001b[49m\n\u001b[0;32m    545\u001b[0m \u001b[43m    \u001b[49m\u001b[43mx\u001b[49m\u001b[43m,\u001b[49m\u001b[43m \u001b[49m\u001b[43my\u001b[49m\u001b[43m,\u001b[49m\u001b[43m \u001b[49m\u001b[43morient\u001b[49m\u001b[43m,\u001b[49m\u001b[43m \u001b[49m\u001b[43mrequire_numeric\u001b[49m\u001b[38;5;241;43m=\u001b[39;49m\u001b[38;5;28;43mself\u001b[39;49m\u001b[38;5;241;43m.\u001b[39;49m\u001b[43mrequire_numeric\u001b[49m\n\u001b[0;32m    546\u001b[0m \u001b[43m\u001b[49m\u001b[43m)\u001b[49m\n\u001b[0;32m    548\u001b[0m \u001b[38;5;66;03m# Option 2a:\u001b[39;00m\n\u001b[0;32m    549\u001b[0m \u001b[38;5;66;03m# We are plotting a single set of data\u001b[39;00m\n\u001b[0;32m    550\u001b[0m \u001b[38;5;66;03m# ------------------------------------\u001b[39;00m\n\u001b[0;32m    551\u001b[0m \u001b[38;5;28;01mif\u001b[39;00m x \u001b[38;5;129;01mis\u001b[39;00m \u001b[38;5;28;01mNone\u001b[39;00m \u001b[38;5;129;01mor\u001b[39;00m y \u001b[38;5;129;01mis\u001b[39;00m \u001b[38;5;28;01mNone\u001b[39;00m:\n\u001b[0;32m    552\u001b[0m \n\u001b[0;32m    553\u001b[0m     \u001b[38;5;66;03m# Determine where the data are\u001b[39;00m\n",
            "File \u001b[1;32mc:\\Users\\johan\\anaconda3\\envs\\snowflakes\\lib\\site-packages\\seaborn\\_oldcore.py:1584\u001b[0m, in \u001b[0;36minfer_orient\u001b[1;34m(x, y, orient, require_numeric)\u001b[0m\n\u001b[0;32m   1556\u001b[0m \u001b[38;5;28;01mdef\u001b[39;00m \u001b[38;5;21minfer_orient\u001b[39m(x\u001b[38;5;241m=\u001b[39m\u001b[38;5;28;01mNone\u001b[39;00m, y\u001b[38;5;241m=\u001b[39m\u001b[38;5;28;01mNone\u001b[39;00m, orient\u001b[38;5;241m=\u001b[39m\u001b[38;5;28;01mNone\u001b[39;00m, require_numeric\u001b[38;5;241m=\u001b[39m\u001b[38;5;28;01mTrue\u001b[39;00m):\n\u001b[0;32m   1557\u001b[0m     \u001b[38;5;124;03m\"\"\"Determine how the plot should be oriented based on the data.\u001b[39;00m\n\u001b[0;32m   1558\u001b[0m \n\u001b[0;32m   1559\u001b[0m \u001b[38;5;124;03m    For historical reasons, the convention is to call a plot \"horizontally\"\u001b[39;00m\n\u001b[1;32m   (...)\u001b[0m\n\u001b[0;32m   1581\u001b[0m \n\u001b[0;32m   1582\u001b[0m \u001b[38;5;124;03m    \"\"\"\u001b[39;00m\n\u001b[1;32m-> 1584\u001b[0m     x_type \u001b[38;5;241m=\u001b[39m \u001b[38;5;28;01mNone\u001b[39;00m \u001b[38;5;28;01mif\u001b[39;00m x \u001b[38;5;129;01mis\u001b[39;00m \u001b[38;5;28;01mNone\u001b[39;00m \u001b[38;5;28;01melse\u001b[39;00m \u001b[43mvariable_type\u001b[49m\u001b[43m(\u001b[49m\u001b[43mx\u001b[49m\u001b[43m)\u001b[49m\n\u001b[0;32m   1585\u001b[0m     y_type \u001b[38;5;241m=\u001b[39m \u001b[38;5;28;01mNone\u001b[39;00m \u001b[38;5;28;01mif\u001b[39;00m y \u001b[38;5;129;01mis\u001b[39;00m \u001b[38;5;28;01mNone\u001b[39;00m \u001b[38;5;28;01melse\u001b[39;00m variable_type(y)\n\u001b[0;32m   1587\u001b[0m     nonnumeric_dv_error \u001b[38;5;241m=\u001b[39m \u001b[38;5;124m\"\u001b[39m\u001b[38;5;132;01m{}\u001b[39;00m\u001b[38;5;124m orientation requires numeric `\u001b[39m\u001b[38;5;132;01m{}\u001b[39;00m\u001b[38;5;124m` variable.\u001b[39m\u001b[38;5;124m\"\u001b[39m\n",
            "File \u001b[1;32mc:\\Users\\johan\\anaconda3\\envs\\snowflakes\\lib\\site-packages\\seaborn\\_oldcore.py:1502\u001b[0m, in \u001b[0;36mvariable_type\u001b[1;34m(vector, boolean_type)\u001b[0m\n\u001b[0;32m   1499\u001b[0m     \u001b[38;5;28;01mreturn\u001b[39;00m VariableType(\u001b[38;5;124m\"\u001b[39m\u001b[38;5;124mcategorical\u001b[39m\u001b[38;5;124m\"\u001b[39m)\n\u001b[0;32m   1501\u001b[0m \u001b[38;5;66;03m# Special-case all-na data, which is always \"numeric\"\u001b[39;00m\n\u001b[1;32m-> 1502\u001b[0m \u001b[38;5;28;01mif\u001b[39;00m \u001b[43mpd\u001b[49m\u001b[38;5;241;43m.\u001b[39;49m\u001b[43misna\u001b[49m\u001b[43m(\u001b[49m\u001b[43mvector\u001b[49m\u001b[43m)\u001b[49m\u001b[38;5;241;43m.\u001b[39;49m\u001b[43mall\u001b[49m():\n\u001b[0;32m   1503\u001b[0m     \u001b[38;5;28;01mreturn\u001b[39;00m VariableType(\u001b[38;5;124m\"\u001b[39m\u001b[38;5;124mnumeric\u001b[39m\u001b[38;5;124m\"\u001b[39m)\n\u001b[0;32m   1505\u001b[0m \u001b[38;5;66;03m# Special-case binary/boolean data, allow caller to determine\u001b[39;00m\n\u001b[0;32m   1506\u001b[0m \u001b[38;5;66;03m# This triggers a numpy warning when vector has strings/objects\u001b[39;00m\n\u001b[0;32m   1507\u001b[0m \u001b[38;5;66;03m# https://github.com/numpy/numpy/issues/6784\u001b[39;00m\n\u001b[1;32m   (...)\u001b[0m\n\u001b[0;32m   1511\u001b[0m \u001b[38;5;66;03m# https://github.com/numpy/numpy/issues/13548\u001b[39;00m\n\u001b[0;32m   1512\u001b[0m \u001b[38;5;66;03m# This is considered a bug by numpy and will likely go away.\u001b[39;00m\n",
            "\u001b[1;31mAttributeError\u001b[0m: 'bool' object has no attribute 'all'"
          ]
        },
        {
          "data": {
            "text/plain": [
              "<Figure size 1000x600 with 0 Axes>"
            ]
          },
          "metadata": {},
          "output_type": "display_data"
        }
      ],
      "source": [
        "max_count = max(max(sublist[1] for sublist in sublist_list) for sublist_list in most_common_per_genre.values())\n",
        "x_ticks = np.arange(0, max_count + 1, 100)\n",
        "\n",
        "# Plot most common tokens per genre\n",
        "for genre, common_tokens in most_common_per_genre.items():\n",
        "    tokens, counts = zip(*common_tokens)\n",
        "    plt.figure(figsize=(10, 6))\n",
        "    sns.barplot(x=counts, y=tokens, ci=None)\n",
        "    plt.title(f\"Most Common Tokens in {genre}\")\n",
        "    plt.xlabel(\"Frequency\")\n",
        "    plt.ylabel(\"Token\")\n",
        "    plt.xticks(x_ticks, rotation=90)\n",
        "    plt.show()\n",
        "\n",
        "# Plot most common tokens across all genres\n",
        "tokens_all, counts_all = zip(*most_common_all_genres)\n",
        "plt.figure(figsize=(10, 6))\n",
        "sns.barplot(x=counts_all, y=tokens_all, ci=None)\n",
        "plt.title(\"Most Common Tokens Across All Genres\")\n",
        "plt.xlabel(\"Frequency\")\n",
        "plt.ylabel(\"Token\")\n",
        "plt.show()"
      ]
    },
    {
      "cell_type": "code",
      "execution_count": 24,
      "metadata": {
        "colab": {
          "base_uri": "https://localhost:8080/",
          "height": 888
        },
        "id": "Xq89vSfr5GIX",
        "outputId": "f7e4193a-260d-441f-c508-95b15458618a"
      },
      "outputs": [
        {
          "name": "stdout",
          "output_type": "stream",
          "text": [
            "(32, 80000)\n",
            "(32,)\n"
          ]
        },
        {
          "data": {
            "image/png": "[encoded data removed]",
            "text/plain": [
              "<Figure size 1600x1000 with 9 Axes>"
            ]
          },
          "metadata": {},
          "output_type": "display_data"
        }
      ],
      "source": [
        "for example_audio, example_labels in train_ds.take(1):\n",
        "    print(example_audio.shape)\n",
        "    print(example_labels.shape)\n",
        "\n",
        "label_names[[1,1,0,0]]\n",
        "plt.figure(figsize=(16, 10))\n",
        "rows = 3\n",
        "cols = 3\n",
        "n = rows * cols\n",
        "for i in range(n):\n",
        "    plt.subplot(rows, cols, i+1)\n",
        "    audio_signal = example_audio[i]\n",
        "    plt.plot(audio_signal)\n",
        "    plt.title(label_names[example_labels[i]])\n",
        "    plt.yticks(np.arange(-1.2, 1.2, 0.2))\n",
        "    plt.ylim([-1.1, 1.1])"
      ]
    },
    {
      "cell_type": "markdown",
      "metadata": {
        "id": "QuCCR4M55GIY"
      },
      "source": [
        "## Opdracht 2 - LSTM voor audioclips <a name='audio'></a>"
      ]
    },
    {
      "cell_type": "code",
      "execution_count": 12,
      "metadata": {
        "id": "nPt97Fpt5GIY"
      },
      "outputs": [],
      "source": [
        "def get_spectrogram(waveform):\n",
        "    # Convert the waveform to a spectrogram via a STFT.\n",
        "    spectrogram = tf.signal.stft(waveform, frame_length=512, frame_step=256)\n",
        "\n",
        "    # Obtain the magnitude of the STFT (use tf.abs).\n",
        "    spectrogram = tf.abs(spectrogram)\n",
        "\n",
        "    # Add a `channels` dimension, so that the spectrogram can be used\n",
        "    # as image-like input data with convolution layers (which expect\n",
        "    # shape (`batch_size`, `height`, `width`, `channels`).\n",
        "    spectrogram = spectrogram[..., tf.newaxis]\n",
        "\n",
        "    return spectrogram"
      ]
    },
    {
      "cell_type": "code",
      "execution_count": 13,
      "metadata": {
        "id": "-4O8S_q45GIY"
      },
      "outputs": [],
      "source": [
        "def make_spec_ds(ds):\n",
        "    return ds.map(\n",
        "      map_func=lambda audio,label: (get_spectrogram(audio), label),\n",
        "      num_parallel_calls=tf.data.AUTOTUNE)"
      ]
    },
    {
      "cell_type": "code",
      "execution_count": 14,
      "metadata": {
        "id": "KH6ErSXQ5GIY"
      },
      "outputs": [],
      "source": [
        "train_spectrogram_ds = make_spec_ds(train_ds)\n",
        "val_spectrogram_ds = make_spec_ds(val_ds)"
      ]
    },
    {
      "cell_type": "code",
      "execution_count": 15,
      "metadata": {
        "id": "b36nVd6-5GIY"
      },
      "outputs": [],
      "source": [
        "#even kijken of het zo werkt\n",
        "def make_spec_ds(ds):\n",
        "    return ds.map(\n",
        "      map_func=lambda audio: (get_spectrogram(audio),),  # Geen label doorgeven\n",
        "      num_parallel_calls=tf.data.AUTOTUNE)\n",
        "\n",
        "test_spectrogram_ds = make_spec_ds(test_ds)\n"
      ]
    },
    {
      "cell_type": "code",
      "execution_count": 16,
      "metadata": {
        "id": "TfkC4RAT5GIY"
      },
      "outputs": [],
      "source": [
        "train_spectrogram_ds = train_spectrogram_ds.cache().shuffle(10).prefetch(tf.data.AUTOTUNE)\n",
        "val_spectrogram_ds = val_spectrogram_ds.cache().prefetch(tf.data.AUTOTUNE)\n",
        "test_spectrogram_ds = test_spectrogram_ds.cache().prefetch(tf.data.AUTOTUNE)"
      ]
    },
    {
      "cell_type": "code",
      "execution_count": 17,
      "metadata": {
        "id": "S8MPu5Ai5GIY"
      },
      "outputs": [],
      "source": [
        "def spectrogram_to_mfcc(spectrograms, num_mel_bins=128, num_coefficients=13, sample_rate=16000):\n",
        "    \"\"\"\n",
        "    Convert a batch of spectrograms to a batch of 1D time series of MFCCs.\n",
        "\n",
        "    Parameters:\n",
        "    - spectrograms: A TensorFlow Tensor representing a batch of spectrograms with shape (batch_size, 311, 257, 1).\n",
        "    - num_mel_bins: Number of Mel bins to use.\n",
        "    - num_coefficients: Number of MFCC coefficients to return.\n",
        "    - sample_rate: Sample rate of the audio.\n",
        "\n",
        "    Returns:\n",
        "    - A TensorFlow Tensor containing the MFCCs with shape (batch_size, num_frames, num_coefficients).\n",
        "    \"\"\"\n",
        "    # Remove the last dimension (channel dimension, if it's 1)\n",
        "    spectrograms = tf.squeeze(spectrograms, axis=-1)\n",
        "\n",
        "    # Compute Mel spectrograms\n",
        "    stfts_to_mel_matrix = tf.signal.linear_to_mel_weight_matrix(\n",
        "        num_mel_bins=num_mel_bins,\n",
        "        num_spectrogram_bins=spectrograms.shape[-1],\n",
        "        sample_rate=sample_rate,\n",
        "        lower_edge_hertz=20.0,\n",
        "        upper_edge_hertz=sample_rate / 2)\n",
        "    mel_spectrograms = tf.tensordot(spectrograms, stfts_to_mel_matrix, 1)\n",
        "    # Shape tuning for the mel spectrograms as expected\n",
        "    mel_spectrograms.set_shape(spectrograms.shape[:-1] + (num_mel_bins,))\n",
        "\n",
        "    # Logarithmic scaling\n",
        "    log_mel_spectrograms = tf.math.log(mel_spectrograms + 1e-6)\n",
        "\n",
        "    # Compute MFCCs\n",
        "    mfccs = tf.signal.mfccs_from_log_mel_spectrograms(log_mel_spectrograms)[..., :num_coefficients]\n",
        "\n",
        "    return mfccs"
      ]
    },
    {
      "cell_type": "code",
      "execution_count": 18,
      "metadata": {
        "id": "AtI7CK5x5GIY"
      },
      "outputs": [],
      "source": [
        "def make_MFCC_ds(ds):\n",
        "    return ds.map(\n",
        "      map_func=lambda spectrogram,label: (spectrogram_to_mfcc(spectrogram), label),\n",
        "      num_parallel_calls=tf.data.AUTOTUNE)"
      ]
    },
    {
      "cell_type": "code",
      "execution_count": 19,
      "metadata": {
        "id": "ziAJ7pwC5GIY"
      },
      "outputs": [],
      "source": [
        "train_MFCC_ds = make_MFCC_ds(train_spectrogram_ds)\n",
        "val_MFCC_ds = make_MFCC_ds(val_spectrogram_ds)"
      ]
    },
    {
      "cell_type": "code",
      "execution_count": 20,
      "metadata": {
        "id": "ueP5FhRK5GIY"
      },
      "outputs": [],
      "source": [
        "#even kijken of het zo werkt\n",
        "def make_MFCC_ds(ds):\n",
        "    return ds.map(\n",
        "      map_func=lambda spectrogram: (spectrogram_to_mfcc(spectrogram)),\n",
        "      num_parallel_calls=tf.data.AUTOTUNE)\n",
        "\n",
        "test_MFCC_ds = make_MFCC_ds(test_spectrogram_ds)"
      ]
    },
    {
      "cell_type": "code",
      "execution_count": 21,
      "metadata": {
        "id": "08oEJy1f5GIY"
      },
      "outputs": [],
      "source": [
        "train_MFCC_ds = train_MFCC_ds.cache().shuffle(10).prefetch(tf.data.AUTOTUNE)\n",
        "val_MFCC_ds = val_MFCC_ds.cache().prefetch(tf.data.AUTOTUNE)\n",
        "test_MFCC_ds = test_MFCC_ds.cache().prefetch(tf.data.AUTOTUNE)"
      ]
    },
    {
      "cell_type": "code",
      "execution_count": 22,
      "metadata": {
        "id": "va22VxgK5GIY",
        "outputId": "6269065e-1fbd-453f-9c94-57230ca3a976"
      },
      "outputs": [],
      "source": [
        "model_lstm = models.Sequential([\n",
        "    Bidirectional(LSTM(units=64, return_sequences=True)),\n",
        "    Dropout(0.2),\n",
        "    Bidirectional(LSTM(units=32)),\n",
        "    Dropout(0.2),\n",
        "    Dense(8, activation='softmax')\n",
        "])\n"
      ]
    },
    {
      "cell_type": "code",
      "execution_count": 23,
      "metadata": {
        "id": "Je9rrHkg5GIY"
      },
      "outputs": [],
      "source": [
        "model_lstm.compile(\n",
        "    optimizer=tf.keras.optimizers.Adam(),\n",
        "    loss=tf.keras.losses.SparseCategoricalCrossentropy(),\n",
        "    metrics=['accuracy']\n",
        ")"
      ]
    },
    {
      "cell_type": "code",
      "execution_count": null,
      "metadata": {
        "id": "c0_N0TQB5GIY",
        "outputId": "680d8f87-7b8c-4ddd-932f-8c7e1edb7d68"
      },
      "outputs": [
        {
          "name": "stdout",
          "output_type": "stream",
          "text": [
            "Epoch 1/50\n",
            "WARNING:tensorflow:From C:\\Users\\Gebruiker\\anaconda3\\lib\\site-packages\\keras\\src\\utils\\tf_utils.py:492: The name tf.ragged.RaggedTensorValue is deprecated. Please use tf.compat.v1.ragged.RaggedTensorValue instead.\n",
            "\n",
            "WARNING:tensorflow:From C:\\Users\\Gebruiker\\anaconda3\\lib\\site-packages\\keras\\src\\engine\\base_layer_utils.py:384: The name tf.executing_eagerly_outside_functions is deprecated. Please use tf.compat.v1.executing_eagerly_outside_functions instead.\n",
            "\n",
            "14/14 [==============================] - 14s 342ms/step - loss: 1.9979 - accuracy: 0.1930 - val_loss: 1.8618 - val_accuracy: 0.2523\n",
            "Epoch 2/50\n",
            "14/14 [==============================] - 3s 195ms/step - loss: 1.7571 - accuracy: 0.3837 - val_loss: 1.7240 - val_accuracy: 0.3271\n",
            "Epoch 3/50\n",
            "14/14 [==============================] - 3s 215ms/step - loss: 1.5897 - accuracy: 0.4279 - val_loss: 1.6516 - val_accuracy: 0.3551\n",
            "Epoch 4/50\n",
            "14/14 [==============================] - 3s 192ms/step - loss: 1.4740 - accuracy: 0.4628 - val_loss: 1.5947 - val_accuracy: 0.3645\n",
            "Epoch 5/50\n",
            "14/14 [==============================] - 3s 188ms/step - loss: 1.3745 - accuracy: 0.5070 - val_loss: 1.5529 - val_accuracy: 0.3364\n",
            "Epoch 6/50\n",
            "14/14 [==============================] - 3s 199ms/step - loss: 1.2721 - accuracy: 0.5233 - val_loss: 1.5056 - val_accuracy: 0.3925\n",
            "Epoch 7/50\n",
            "14/14 [==============================] - 3s 183ms/step - loss: 1.1730 - accuracy: 0.5605 - val_loss: 1.4851 - val_accuracy: 0.4112\n",
            "Epoch 8/50\n",
            "14/14 [==============================] - 3s 193ms/step - loss: 1.0495 - accuracy: 0.6465 - val_loss: 1.4665 - val_accuracy: 0.4393\n",
            "Epoch 9/50\n",
            "14/14 [==============================] - 3s 186ms/step - loss: 0.9773 - accuracy: 0.6977 - val_loss: 1.4932 - val_accuracy: 0.3738\n",
            "Epoch 10/50\n",
            "14/14 [==============================] - 3s 186ms/step - loss: 0.8921 - accuracy: 0.7116 - val_loss: 1.4692 - val_accuracy: 0.4299\n",
            "Epoch 11/50\n",
            "14/14 [==============================] - 3s 189ms/step - loss: 0.8195 - accuracy: 0.7558 - val_loss: 1.4533 - val_accuracy: 0.4299\n",
            "Epoch 12/50\n",
            "14/14 [==============================] - 3s 235ms/step - loss: 0.7691 - accuracy: 0.7535 - val_loss: 1.4634 - val_accuracy: 0.4112\n",
            "Epoch 13/50\n",
            "14/14 [==============================] - 3s 230ms/step - loss: 0.7346 - accuracy: 0.7512 - val_loss: 1.4865 - val_accuracy: 0.4486\n",
            "Epoch 14/50\n",
            "14/14 [==============================] - 3s 222ms/step - loss: 0.7132 - accuracy: 0.7651 - val_loss: 1.5225 - val_accuracy: 0.4393\n",
            "Epoch 15/50\n",
            "14/14 [==============================] - 3s 235ms/step - loss: 0.6344 - accuracy: 0.8093 - val_loss: 1.5734 - val_accuracy: 0.3832\n",
            "Epoch 16/50\n",
            "14/14 [==============================] - 3s 228ms/step - loss: 0.6024 - accuracy: 0.8070 - val_loss: 1.5198 - val_accuracy: 0.4486\n",
            "Epoch 17/50\n",
            "14/14 [==============================] - 3s 233ms/step - loss: 0.5548 - accuracy: 0.8419 - val_loss: 1.4197 - val_accuracy: 0.4766\n",
            "Epoch 18/50\n",
            "14/14 [==============================] - 3s 228ms/step - loss: 0.5734 - accuracy: 0.8186 - val_loss: 1.6384 - val_accuracy: 0.3925\n",
            "Epoch 19/50\n",
            "14/14 [==============================] - 3s 242ms/step - loss: 0.5089 - accuracy: 0.8349 - val_loss: 1.5026 - val_accuracy: 0.4953\n",
            "Epoch 20/50\n",
            "14/14 [==============================] - 3s 218ms/step - loss: 0.4987 - accuracy: 0.8674 - val_loss: 1.7545 - val_accuracy: 0.3738\n",
            "Epoch 21/50\n",
            "14/14 [==============================] - 3s 223ms/step - loss: 0.5199 - accuracy: 0.8395 - val_loss: 1.7656 - val_accuracy: 0.4299\n",
            "Epoch 22/50\n",
            "14/14 [==============================] - 3s 229ms/step - loss: 0.4693 - accuracy: 0.8512 - val_loss: 1.6862 - val_accuracy: 0.3925\n",
            "Epoch 23/50\n",
            "14/14 [==============================] - 3s 223ms/step - loss: 0.3774 - accuracy: 0.8884 - val_loss: 1.6196 - val_accuracy: 0.4486\n",
            "Epoch 24/50\n",
            "14/14 [==============================] - 3s 228ms/step - loss: 0.3603 - accuracy: 0.9023 - val_loss: 1.6666 - val_accuracy: 0.4299\n",
            "Epoch 25/50\n",
            "14/14 [==============================] - 3s 233ms/step - loss: 0.3640 - accuracy: 0.8814 - val_loss: 1.7181 - val_accuracy: 0.4206\n",
            "Epoch 26/50\n",
            "14/14 [==============================] - 3s 214ms/step - loss: 0.3007 - accuracy: 0.9140 - val_loss: 1.8175 - val_accuracy: 0.4393\n",
            "Epoch 27/50\n",
            "14/14 [==============================] - 3s 216ms/step - loss: 0.2648 - accuracy: 0.9419 - val_loss: 1.7708 - val_accuracy: 0.4673\n",
            "Epoch 28/50\n",
            "14/14 [==============================] - 3s 183ms/step - loss: 0.2303 - accuracy: 0.9419 - val_loss: 1.7387 - val_accuracy: 0.4673\n",
            "Epoch 29/50\n",
            "14/14 [==============================] - 3s 200ms/step - loss: 0.2527 - accuracy: 0.9512 - val_loss: 1.8163 - val_accuracy: 0.4486\n",
            "Epoch 30/50\n",
            "14/14 [==============================] - 3s 210ms/step - loss: 0.2195 - accuracy: 0.9442 - val_loss: 1.7069 - val_accuracy: 0.4673\n",
            "Epoch 31/50\n",
            "14/14 [==============================] - 3s 246ms/step - loss: 0.1941 - accuracy: 0.9674 - val_loss: 1.8349 - val_accuracy: 0.4299\n",
            "Epoch 32/50\n",
            "14/14 [==============================] - 3s 243ms/step - loss: 0.2043 - accuracy: 0.9442 - val_loss: 1.7545 - val_accuracy: 0.4299\n",
            "Epoch 33/50\n",
            "14/14 [==============================] - 3s 198ms/step - loss: 0.2370 - accuracy: 0.9302 - val_loss: 1.6959 - val_accuracy: 0.4486\n",
            "Epoch 34/50\n",
            "14/14 [==============================] - 3s 230ms/step - loss: 0.2223 - accuracy: 0.9349 - val_loss: 1.7730 - val_accuracy: 0.4486\n",
            "Epoch 35/50\n",
            "14/14 [==============================] - 3s 210ms/step - loss: 0.2078 - accuracy: 0.9372 - val_loss: 1.8217 - val_accuracy: 0.4393\n",
            "Epoch 36/50\n",
            "14/14 [==============================] - 3s 241ms/step - loss: 0.2061 - accuracy: 0.9535 - val_loss: 1.7761 - val_accuracy: 0.4486\n",
            "Epoch 37/50\n",
            "14/14 [==============================] - 3s 237ms/step - loss: 0.1742 - accuracy: 0.9628 - val_loss: 1.8514 - val_accuracy: 0.4579\n",
            "Epoch 37: early stopping\n"
          ]
        }
      ],
      "source": [
        "EPOCHS = 50\n",
        "\n",
        "history = model_lstm.fit(\n",
        "    train_MFCC_ds,\n",
        "    validation_data=val_MFCC_ds,\n",
        "    epochs=EPOCHS,\n",
        "    callbacks=tf.keras.callbacks.EarlyStopping(verbose=1, patience=20)\n",
        ")"
      ]
    },
    {
      "cell_type": "code",
      "execution_count": null,
      "metadata": {
        "id": "UUG7WN5v5GIZ",
        "outputId": "14f4a0fc-6e63-4a10-a871-f05aa721f860"
      },
      "outputs": [
        {
          "name": "stdout",
          "output_type": "stream",
          "text": [
            "Epoch 1/50\n",
            "14/14 [==============================] - 10s 268ms/step - loss: 1.9956 - accuracy: 0.2209 - val_loss: 1.9216 - val_accuracy: 0.2804\n",
            "Epoch 2/50\n",
            "14/14 [==============================] - 2s 174ms/step - loss: 1.7430 - accuracy: 0.3651 - val_loss: 1.7759 - val_accuracy: 0.3271\n",
            "Epoch 3/50\n",
            "14/14 [==============================] - 2s 175ms/step - loss: 1.6015 - accuracy: 0.4302 - val_loss: 1.7377 - val_accuracy: 0.3551\n",
            "Epoch 4/50\n",
            "14/14 [==============================] - 2s 179ms/step - loss: 1.5026 - accuracy: 0.4791 - val_loss: 1.6539 - val_accuracy: 0.4112\n",
            "Epoch 5/50\n",
            "14/14 [==============================] - 3s 222ms/step - loss: 1.3561 - accuracy: 0.5395 - val_loss: 1.6665 - val_accuracy: 0.3645\n",
            "Epoch 6/50\n",
            "14/14 [==============================] - 3s 219ms/step - loss: 1.2452 - accuracy: 0.5628 - val_loss: 1.6120 - val_accuracy: 0.3645\n",
            "Epoch 7/50\n",
            "14/14 [==============================] - 3s 201ms/step - loss: 1.1508 - accuracy: 0.6302 - val_loss: 1.4951 - val_accuracy: 0.4299\n",
            "Epoch 8/50\n",
            "14/14 [==============================] - 3s 214ms/step - loss: 1.1197 - accuracy: 0.6419 - val_loss: 1.4821 - val_accuracy: 0.4486\n",
            "Epoch 9/50\n",
            "14/14 [==============================] - 3s 227ms/step - loss: 1.0210 - accuracy: 0.6628 - val_loss: 1.4805 - val_accuracy: 0.4299\n",
            "Epoch 10/50\n",
            "14/14 [==============================] - 3s 222ms/step - loss: 0.9005 - accuracy: 0.7070 - val_loss: 1.4307 - val_accuracy: 0.4766\n",
            "Epoch 11/50\n",
            "14/14 [==============================] - 3s 216ms/step - loss: 0.8271 - accuracy: 0.7395 - val_loss: 1.5203 - val_accuracy: 0.4579\n",
            "Epoch 12/50\n",
            "14/14 [==============================] - 3s 216ms/step - loss: 0.7196 - accuracy: 0.7860 - val_loss: 1.4794 - val_accuracy: 0.4579\n",
            "Epoch 13/50\n",
            "14/14 [==============================] - 3s 221ms/step - loss: 0.7101 - accuracy: 0.7744 - val_loss: 1.5201 - val_accuracy: 0.5234\n",
            "Epoch 14/50\n",
            "14/14 [==============================] - 3s 213ms/step - loss: 0.6458 - accuracy: 0.8023 - val_loss: 1.5489 - val_accuracy: 0.4299\n",
            "Epoch 15/50\n",
            "14/14 [==============================] - 3s 227ms/step - loss: 0.5736 - accuracy: 0.8558 - val_loss: 1.5450 - val_accuracy: 0.4299\n",
            "Epoch 16/50\n",
            "14/14 [==============================] - 3s 215ms/step - loss: 0.5292 - accuracy: 0.8465 - val_loss: 1.5733 - val_accuracy: 0.4393\n",
            "Epoch 17/50\n",
            "14/14 [==============================] - 3s 217ms/step - loss: 0.4704 - accuracy: 0.8628 - val_loss: 1.6308 - val_accuracy: 0.4766\n",
            "Epoch 18/50\n",
            "14/14 [==============================] - 3s 206ms/step - loss: 0.4361 - accuracy: 0.8744 - val_loss: 1.6326 - val_accuracy: 0.4206\n",
            "Epoch 19/50\n",
            "14/14 [==============================] - 3s 224ms/step - loss: 0.4369 - accuracy: 0.8628 - val_loss: 1.7350 - val_accuracy: 0.4299\n",
            "Epoch 20/50\n",
            "14/14 [==============================] - 3s 209ms/step - loss: 0.4301 - accuracy: 0.8767 - val_loss: 1.6306 - val_accuracy: 0.4766\n",
            "Epoch 21/50\n",
            "14/14 [==============================] - 3s 241ms/step - loss: 0.3590 - accuracy: 0.9163 - val_loss: 1.7119 - val_accuracy: 0.4019\n",
            "Epoch 22/50\n",
            "14/14 [==============================] - 3s 245ms/step - loss: 0.3362 - accuracy: 0.9093 - val_loss: 1.6928 - val_accuracy: 0.4673\n",
            "Epoch 23/50\n",
            "14/14 [==============================] - 3s 230ms/step - loss: 0.3246 - accuracy: 0.9186 - val_loss: 1.6272 - val_accuracy: 0.4766\n",
            "Epoch 24/50\n",
            "14/14 [==============================] - 3s 223ms/step - loss: 0.2905 - accuracy: 0.9116 - val_loss: 1.6506 - val_accuracy: 0.4860\n",
            "Epoch 25/50\n",
            "14/14 [==============================] - 3s 232ms/step - loss: 0.2537 - accuracy: 0.9465 - val_loss: 1.6529 - val_accuracy: 0.4579\n",
            "Epoch 26/50\n",
            "14/14 [==============================] - 3s 217ms/step - loss: 0.2114 - accuracy: 0.9512 - val_loss: 1.7517 - val_accuracy: 0.4486\n",
            "Epoch 27/50\n",
            "14/14 [==============================] - 3s 227ms/step - loss: 0.1974 - accuracy: 0.9512 - val_loss: 1.7513 - val_accuracy: 0.4206\n",
            "Epoch 28/50\n",
            "14/14 [==============================] - 3s 223ms/step - loss: 0.2390 - accuracy: 0.9372 - val_loss: 1.9119 - val_accuracy: 0.4299\n",
            "Epoch 29/50\n",
            "14/14 [==============================] - 3s 236ms/step - loss: 0.3459 - accuracy: 0.8860 - val_loss: 1.8059 - val_accuracy: 0.4486\n",
            "Epoch 30/50\n",
            "14/14 [==============================] - 3s 243ms/step - loss: 0.3333 - accuracy: 0.9023 - val_loss: 1.7503 - val_accuracy: 0.4393\n",
            "Epoch 30: early stopping\n"
          ]
        }
      ],
      "source": [
        "del model_lstm\n",
        "model_lstm = models.Sequential([\n",
        "    Bidirectional(LSTM(units=64, return_sequences=True)),\n",
        "    Dropout(0.2),\n",
        "    Bidirectional(LSTM(units=32)),\n",
        "    Dropout(0.2),\n",
        "    Dense(8, activation='softmax')\n",
        "])\n",
        "\n",
        "model_lstm.compile(\n",
        "    optimizer=tf.keras.optimizers.Adam(),\n",
        "    loss=tf.keras.losses.SparseCategoricalCrossentropy(),\n",
        "    metrics=['accuracy']\n",
        ")\n",
        "\n",
        "EPOCHS = 50\n",
        "\n",
        "history = model_lstm.fit(\n",
        "    train_MFCC_ds,\n",
        "    validation_data=val_MFCC_ds,\n",
        "    epochs=EPOCHS,\n",
        "    callbacks=tf.keras.callbacks.EarlyStopping(verbose=1, patience=20)\n",
        ")"
      ]
    },
    {
      "cell_type": "code",
      "execution_count": null,
      "metadata": {
        "id": "hGTvXKGK5GIZ",
        "outputId": "429e330f-f048-4a72-bb7d-f09c77c3688f"
      },
      "outputs": [
        {
          "name": "stdout",
          "output_type": "stream",
          "text": [
            "Epoch 1/10\n",
            "14/14 [==============================] - 15s 388ms/step - loss: 2.0384 - accuracy: 0.1674 - val_loss: 1.9572 - val_accuracy: 0.3364\n",
            "Epoch 2/10\n",
            "14/14 [==============================] - 4s 306ms/step - loss: 1.8930 - accuracy: 0.3279 - val_loss: 1.8353 - val_accuracy: 0.3271\n",
            "Epoch 3/10\n",
            "14/14 [==============================] - 5s 345ms/step - loss: 1.7987 - accuracy: 0.3419 - val_loss: 1.7459 - val_accuracy: 0.3551\n",
            "Epoch 4/10\n",
            "14/14 [==============================] - 6s 447ms/step - loss: 1.6998 - accuracy: 0.3698 - val_loss: 1.6844 - val_accuracy: 0.3271\n",
            "Epoch 5/10\n",
            "14/14 [==============================] - 5s 367ms/step - loss: 1.5938 - accuracy: 0.4163 - val_loss: 1.6271 - val_accuracy: 0.3551\n",
            "Epoch 6/10\n",
            "14/14 [==============================] - 5s 344ms/step - loss: 1.5313 - accuracy: 0.4628 - val_loss: 1.5906 - val_accuracy: 0.3458\n",
            "Epoch 7/10\n",
            "14/14 [==============================] - 7s 476ms/step - loss: 1.3950 - accuracy: 0.4698 - val_loss: 1.6172 - val_accuracy: 0.3925\n",
            "Epoch 8/10\n",
            "14/14 [==============================] - 7s 507ms/step - loss: 1.3479 - accuracy: 0.5302 - val_loss: 1.5950 - val_accuracy: 0.3551\n",
            "Epoch 9/10\n",
            "14/14 [==============================] - 9s 650ms/step - loss: 1.3063 - accuracy: 0.5279 - val_loss: 1.5590 - val_accuracy: 0.3925\n",
            "Epoch 10/10\n",
            "14/14 [==============================] - 8s 546ms/step - loss: 1.2100 - accuracy: 0.5628 - val_loss: 1.5254 - val_accuracy: 0.4393\n"
          ]
        }
      ],
      "source": [
        "model_lstm = models.Sequential([\n",
        "    Bidirectional(LSTM(units=64, return_sequences=True)),\n",
        "    Dropout(0.2),\n",
        "    Bidirectional(LSTM(units=32, return_sequences=True)),  # Extra LSTM-laag met return_sequences=True\n",
        "    Dropout(0.2),\n",
        "    Bidirectional(LSTM(units=16)),  # Nog een LSTM-laag zonder return_sequences=True\n",
        "    Dropout(0.2),\n",
        "    Dense(64, activation='relu'),  # Extra dense-laag\n",
        "    Dropout(0.2),\n",
        "    Dense(8, activation='softmax')\n",
        "])\n",
        "\n",
        "model_lstm.compile(\n",
        "    optimizer=tf.keras.optimizers.Adam(),\n",
        "    loss=tf.keras.losses.SparseCategoricalCrossentropy(),\n",
        "    metrics=['accuracy']\n",
        ")\n",
        "\n",
        "EPOCHS = 10\n",
        "history = model_lstm.fit(\n",
        "    train_MFCC_ds,\n",
        "    validation_data=val_MFCC_ds,\n",
        "    epochs=EPOCHS,\n",
        ")"
      ]
    },
    {
      "cell_type": "code",
      "execution_count": null,
      "metadata": {
        "id": "Y-SeLzB55GIZ",
        "outputId": "10bc3015-146e-4181-a1b2-4a783eaeef4d"
      },
      "outputs": [
        {
          "name": "stdout",
          "output_type": "stream",
          "text": [
            "Epoch 1/50\n",
            "14/14 [==============================] - 25s 802ms/step - loss: 1.9946 - accuracy: 0.2000 - val_loss: 1.8622 - val_accuracy: 0.3084\n",
            "Epoch 2/50\n",
            "14/14 [==============================] - 9s 631ms/step - loss: 1.8361 - accuracy: 0.3279 - val_loss: 1.7310 - val_accuracy: 0.3458\n",
            "Epoch 3/50\n",
            "14/14 [==============================] - 8s 589ms/step - loss: 1.7161 - accuracy: 0.4000 - val_loss: 1.6639 - val_accuracy: 0.3551\n",
            "Epoch 4/50\n",
            "14/14 [==============================] - 8s 597ms/step - loss: 1.6158 - accuracy: 0.4140 - val_loss: 1.5829 - val_accuracy: 0.3738\n",
            "Epoch 5/50\n",
            "14/14 [==============================] - 8s 586ms/step - loss: 1.5259 - accuracy: 0.4395 - val_loss: 1.5788 - val_accuracy: 0.3645\n",
            "Epoch 6/50\n",
            "14/14 [==============================] - 8s 596ms/step - loss: 1.3972 - accuracy: 0.4791 - val_loss: 1.5227 - val_accuracy: 0.3738\n",
            "Epoch 7/50\n",
            "14/14 [==============================] - 8s 607ms/step - loss: 1.3520 - accuracy: 0.5395 - val_loss: 1.5153 - val_accuracy: 0.3645\n",
            "Epoch 8/50\n",
            "14/14 [==============================] - 8s 585ms/step - loss: 1.3050 - accuracy: 0.5395 - val_loss: 1.5238 - val_accuracy: 0.3832\n",
            "Epoch 9/50\n",
            "14/14 [==============================] - 8s 604ms/step - loss: 1.2178 - accuracy: 0.5535 - val_loss: 1.5446 - val_accuracy: 0.3738\n",
            "Epoch 10/50\n",
            "14/14 [==============================] - 8s 586ms/step - loss: 1.1003 - accuracy: 0.6000 - val_loss: 1.5880 - val_accuracy: 0.4019\n",
            "Epoch 11/50\n",
            "14/14 [==============================] - 8s 569ms/step - loss: 1.0622 - accuracy: 0.6093 - val_loss: 1.5293 - val_accuracy: 0.4579\n",
            "Epoch 12/50\n",
            "14/14 [==============================] - 8s 572ms/step - loss: 0.9863 - accuracy: 0.6442 - val_loss: 1.5246 - val_accuracy: 0.4579\n",
            "Epoch 13/50\n",
            "14/14 [==============================] - 8s 569ms/step - loss: 0.9402 - accuracy: 0.6512 - val_loss: 1.6558 - val_accuracy: 0.4486\n",
            "Epoch 14/50\n",
            "14/14 [==============================] - 8s 564ms/step - loss: 0.8904 - accuracy: 0.6907 - val_loss: 1.6192 - val_accuracy: 0.4019\n",
            "Epoch 15/50\n",
            "14/14 [==============================] - 8s 546ms/step - loss: 0.8619 - accuracy: 0.7186 - val_loss: 1.6158 - val_accuracy: 0.4860\n",
            "Epoch 16/50\n",
            "14/14 [==============================] - 8s 550ms/step - loss: 0.8346 - accuracy: 0.7233 - val_loss: 1.7427 - val_accuracy: 0.4673\n",
            "Epoch 17/50\n",
            "14/14 [==============================] - 9s 621ms/step - loss: 0.8375 - accuracy: 0.7256 - val_loss: 1.7907 - val_accuracy: 0.4206\n",
            "Epoch 18/50\n",
            "14/14 [==============================] - 9s 621ms/step - loss: 0.7181 - accuracy: 0.7512 - val_loss: 1.6360 - val_accuracy: 0.4860\n",
            "Epoch 19/50\n",
            "14/14 [==============================] - 8s 572ms/step - loss: 0.6385 - accuracy: 0.8000 - val_loss: 1.6491 - val_accuracy: 0.4860\n",
            "Epoch 20/50\n",
            "14/14 [==============================] - 8s 582ms/step - loss: 0.6517 - accuracy: 0.7907 - val_loss: 1.8963 - val_accuracy: 0.4486\n",
            "Epoch 21/50\n",
            "14/14 [==============================] - 9s 627ms/step - loss: 0.5318 - accuracy: 0.8233 - val_loss: 1.9936 - val_accuracy: 0.4673\n",
            "Epoch 22/50\n",
            "14/14 [==============================] - 9s 660ms/step - loss: 0.4900 - accuracy: 0.8395 - val_loss: 2.1287 - val_accuracy: 0.4393\n",
            "Epoch 23/50\n",
            "14/14 [==============================] - 9s 639ms/step - loss: 0.4557 - accuracy: 0.8488 - val_loss: 1.9339 - val_accuracy: 0.4579\n",
            "Epoch 24/50\n",
            "14/14 [==============================] - 8s 591ms/step - loss: 0.4465 - accuracy: 0.8488 - val_loss: 2.1100 - val_accuracy: 0.4579\n",
            "Epoch 25/50\n",
            "14/14 [==============================] - 8s 610ms/step - loss: 0.4063 - accuracy: 0.8674 - val_loss: 1.9175 - val_accuracy: 0.5140\n",
            "Epoch 26/50\n",
            "14/14 [==============================] - 8s 605ms/step - loss: 0.3564 - accuracy: 0.8791 - val_loss: 2.1738 - val_accuracy: 0.4766\n",
            "Epoch 27/50\n",
            "14/14 [==============================] - 9s 610ms/step - loss: 0.4132 - accuracy: 0.8698 - val_loss: 2.0107 - val_accuracy: 0.4579\n",
            "Epoch 27: early stopping\n"
          ]
        }
      ],
      "source": [
        "del model_lstm\n",
        "model_lstm = models.Sequential([\n",
        "    Bidirectional(LSTM(units=128, return_sequences=True)),\n",
        "    Dropout(0.3),\n",
        "    Bidirectional(LSTM(units=64, return_sequences=True)),\n",
        "    Dropout(0.3),\n",
        "    Bidirectional(LSTM(units=32)),\n",
        "    Dropout(0.3),\n",
        "    Dense(64, activation='relu'),\n",
        "    Dropout(0.3),\n",
        "    Dense(8, activation='softmax')\n",
        "])\n",
        "\n",
        "model_lstm.compile(\n",
        "    optimizer=tf.keras.optimizers.Adam(),\n",
        "    loss=tf.keras.losses.SparseCategoricalCrossentropy(),\n",
        "    metrics=['accuracy']\n",
        ")\n",
        "\n",
        "EPOCHS = 50\n",
        "\n",
        "history = model_lstm.fit(\n",
        "    train_MFCC_ds,\n",
        "    validation_data=val_MFCC_ds,\n",
        "    epochs=EPOCHS,\n",
        "    callbacks=tf.keras.callbacks.EarlyStopping(verbose=1, patience=20)\n",
        ")\n"
      ]
    },
    {
      "cell_type": "code",
      "execution_count": null,
      "metadata": {
        "id": "uLPh5LJy5GIZ",
        "outputId": "decfeae4-13ef-4af4-e4d3-ad28888aec60"
      },
      "outputs": [
        {
          "data": {
            "text/plain": [
              "Text(0, 0.5, 'Accuracy [%]')"
            ]
          },
          "execution_count": 27,
          "metadata": {},
          "output_type": "execute_result"
        },
        {
          "data": {
            "image/png": "[encoded data removed]",
            "text/plain": [
              "<Figure size 1152x432 with 2 Axes>"
            ]
          },
          "metadata": {
            "needs_background": "light"
          },
          "output_type": "display_data"
        }
      ],
      "source": [
        "metrics = history.history\n",
        "plt.figure(figsize=(16,6))\n",
        "plt.subplot(1,2,1)\n",
        "plt.plot(history.epoch, metrics['loss'], metrics['val_loss'])\n",
        "plt.legend(['loss', 'val_loss'])\n",
        "plt.ylim([0, max(plt.ylim())])\n",
        "plt.xlabel('Epoch')\n",
        "plt.ylabel('Loss [CrossEntropy]')\n",
        "\n",
        "plt.subplot(1,2,2)\n",
        "plt.plot(history.epoch, 100*np.array(metrics['accuracy']), 100*np.array(metrics['val_accuracy']))\n",
        "plt.legend(['accuracy', 'val_accuracy'])\n",
        "plt.ylim([0, 100])\n",
        "plt.xlabel('Epoch')\n",
        "plt.ylabel('Accuracy [%]')"
      ]
    },
    {
      "cell_type": "markdown",
      "metadata": {
        "id": "rVCkTo1X5GIZ"
      },
      "source": [
        "## Opdracht 3 - LSTM voor songteksten <a name='song_lstm'></a>"
      ]
    },
    {
      "cell_type": "markdown",
      "metadata": {
        "id": "L7JfnpMn--uU"
      },
      "source": [
        "De dataframe heeft als index de filename en de kollomen zijn lyrics en genre. We maken gebruik van LabelEncoder om een encoded genre te maken, zodat de target/labels numeriek zijn."
      ]
    },
    {
      "cell_type": "code",
      "execution_count": 24,
      "metadata": {
        "colab": {
          "base_uri": "https://localhost:8080/",
          "height": 472
        },
        "id": "ubrmYHIakPWF",
        "outputId": "d61ab751-3c11-4f06-cbb7-92349ab00f1a"
      },
      "outputs": [
        {
          "name": "stdout",
          "output_type": "stream",
          "text": [
            "Label mapping: {'blues': 0, 'country': 1, 'disco': 2, 'hiphop': 3, 'metal': 4, 'pop': 5, 'reggae': 6, 'rock': 7}\n"
          ]
        },
        {
          "data": {
            "text/html": [
              "<div>\n",
              "<style scoped>\n",
              "    .dataframe tbody tr th:only-of-type {\n",
              "        vertical-align: middle;\n",
              "    }\n",
              "\n",
              "    .dataframe tbody tr th {\n",
              "        vertical-align: top;\n",
              "    }\n",
              "\n",
              "    .dataframe thead th {\n",
              "        text-align: right;\n",
              "    }\n",
              "</style>\n",
              "<table border=\"1\" class=\"dataframe\">\n",
              "  <thead>\n",
              "    <tr style=\"text-align: right;\">\n",
              "      <th></th>\n",
              "      <th>lyrics</th>\n",
              "      <th>genre</th>\n",
              "      <th>genre_encoded</th>\n",
              "    </tr>\n",
              "    <tr>\n",
              "      <th>filename</th>\n",
              "      <th></th>\n",
              "      <th></th>\n",
              "      <th></th>\n",
              "    </tr>\n",
              "  </thead>\n",
              "  <tbody>\n",
              "    <tr>\n",
              "      <th>blues.00001.wav</th>\n",
              "      <td>I’m in the Mood Lyrics[Verse 1]\\r\\nI'm in the ...</td>\n",
              "      <td>blues</td>\n",
              "      <td>0</td>\n",
              "    </tr>\n",
              "    <tr>\n",
              "      <th>blues.00002.wav</th>\n",
              "      <td>(John Lee Hooker)\\r\\nThink twice before you go...</td>\n",
              "      <td>blues</td>\n",
              "      <td>0</td>\n",
              "    </tr>\n",
              "    <tr>\n",
              "      <th>blues.00003.wav</th>\n",
              "      <td>[Intro, Spoken]\\r\\n...A little thing I'm going...</td>\n",
              "      <td>blues</td>\n",
              "      <td>0</td>\n",
              "    </tr>\n",
              "    <tr>\n",
              "      <th>blues.00005.wav</th>\n",
              "      <td>Sugar mama, sugar mama, sugar mama please come...</td>\n",
              "      <td>blues</td>\n",
              "      <td>0</td>\n",
              "    </tr>\n",
              "    <tr>\n",
              "      <th>blues.00006.wav</th>\n",
              "      <td>My baby left me this morning\\r\\nPeople just ar...</td>\n",
              "      <td>blues</td>\n",
              "      <td>0</td>\n",
              "    </tr>\n",
              "    <tr>\n",
              "      <th>...</th>\n",
              "      <td>...</td>\n",
              "      <td>...</td>\n",
              "      <td>...</td>\n",
              "    </tr>\n",
              "    <tr>\n",
              "      <th>rock.00094.wav</th>\n",
              "      <td>[Chorus]\\r\\nDon’t stop\\r\\nIsn’t it funny how y...</td>\n",
              "      <td>rock</td>\n",
              "      <td>7</td>\n",
              "    </tr>\n",
              "    <tr>\n",
              "      <th>rock.00096.wav</th>\n",
              "      <td>[Verse 1]\\r\\nHer hair, soft drifted snow\\r\\nDe...</td>\n",
              "      <td>rock</td>\n",
              "      <td>7</td>\n",
              "    </tr>\n",
              "    <tr>\n",
              "      <th>rock.00097.wav</th>\n",
              "      <td>[Verse 1]\\r\\nYour knuckles whiten on the wheel...</td>\n",
              "      <td>rock</td>\n",
              "      <td>7</td>\n",
              "    </tr>\n",
              "    <tr>\n",
              "      <th>rock.00098.wav</th>\n",
              "      <td>[Verse 1]\\r\\nYou know it\\r\\nYou show it\\r\\nAnd...</td>\n",
              "      <td>rock</td>\n",
              "      <td>7</td>\n",
              "    </tr>\n",
              "    <tr>\n",
              "      <th>rock.00099.wav</th>\n",
              "      <td>[Verse 1]\\r\\nA girl consumed by fire\\r\\nWe all...</td>\n",
              "      <td>rock</td>\n",
              "      <td>7</td>\n",
              "    </tr>\n",
              "  </tbody>\n",
              "</table>\n",
              "<p>537 rows × 3 columns</p>\n",
              "</div>"
            ],
            "text/plain": [
              "                                                            lyrics  genre  \\\n",
              "filename                                                                    \n",
              "blues.00001.wav  I’m in the Mood Lyrics[Verse 1]\\r\\nI'm in the ...  blues   \n",
              "blues.00002.wav  (John Lee Hooker)\\r\\nThink twice before you go...  blues   \n",
              "blues.00003.wav  [Intro, Spoken]\\r\\n...A little thing I'm going...  blues   \n",
              "blues.00005.wav  Sugar mama, sugar mama, sugar mama please come...  blues   \n",
              "blues.00006.wav  My baby left me this morning\\r\\nPeople just ar...  blues   \n",
              "...                                                            ...    ...   \n",
              "rock.00094.wav   [Chorus]\\r\\nDon’t stop\\r\\nIsn’t it funny how y...   rock   \n",
              "rock.00096.wav   [Verse 1]\\r\\nHer hair, soft drifted snow\\r\\nDe...   rock   \n",
              "rock.00097.wav   [Verse 1]\\r\\nYour knuckles whiten on the wheel...   rock   \n",
              "rock.00098.wav   [Verse 1]\\r\\nYou know it\\r\\nYou show it\\r\\nAnd...   rock   \n",
              "rock.00099.wav   [Verse 1]\\r\\nA girl consumed by fire\\r\\nWe all...   rock   \n",
              "\n",
              "                 genre_encoded  \n",
              "filename                        \n",
              "blues.00001.wav              0  \n",
              "blues.00002.wav              0  \n",
              "blues.00003.wav              0  \n",
              "blues.00005.wav              0  \n",
              "blues.00006.wav              0  \n",
              "...                        ...  \n",
              "rock.00094.wav               7  \n",
              "rock.00096.wav               7  \n",
              "rock.00097.wav               7  \n",
              "rock.00098.wav               7  \n",
              "rock.00099.wav               7  \n",
              "\n",
              "[537 rows x 3 columns]"
            ]
          },
          "metadata": {},
          "output_type": "display_data"
        }
      ],
      "source": [
        "genres = list(set(train['genre']))\n",
        "\n",
        "label_encoder = LabelEncoder()\n",
        "\n",
        "# Fit label encoder and transform the genre labels into numbers\n",
        "encoded_labels = label_encoder.fit_transform(genres)\n",
        "\n",
        "# Print the mapping between genres and encoded labels\n",
        "label_mapping = dict(sorted(zip(genres, encoded_labels)))\n",
        "print(\"Label mapping:\", label_mapping)\n",
        "\n",
        "train['genre_encoded'] = train['genre'].map(label_mapping)\n",
        "\n",
        "display(train)"
      ]
    },
    {
      "cell_type": "code",
      "execution_count": 25,
      "metadata": {
        "id": "TSlqyCN3DzN3"
      },
      "outputs": [],
      "source": [
        "def df_to_dataset(dataframe, target, num_classes, batch_size=32, shuffle=True):\n",
        "    '''Takes a dataframe with lyrics, target and number of classes to turn them to a training and validation dataset.\n",
        "\n",
        "    Parameters:\n",
        "    -----------\n",
        "      dataframe: Dataframe.\n",
        "      target: str, target column (labels).\n",
        "      num_classes: int, amount of set classes.\n",
        "\n",
        "    Returns:\n",
        "    --------\n",
        "      train_ds: tensorflow.python.data.ops.batch_op._BatchDataset, training dataset.\n",
        "      val_ds: tensorflow.python.data.ops.batch_op._BatchDataset, validation dataset.\n",
        "    '''\n",
        "    dataframe = dataframe.copy()\n",
        "    if shuffle:\n",
        "      dataframe = dataframe.reset_index().sample(frac=1).set_index('filename')\n",
        "\n",
        "    train_size = int(0.8 * len(dataframe))\n",
        "\n",
        "    # Split dataframe into training and validation sets\n",
        "    train_df = dataframe[:train_size]\n",
        "    val_df = dataframe[train_size:]\n",
        "    train_labels = to_categorical(train_df.pop(target), num_classes)\n",
        "    val_labels = to_categorical(val_df.pop(target), num_classes)\n",
        "\n",
        "    train_ds = tf.data.Dataset.from_tensor_slices((train_df['lyrics'].values, train_labels))\n",
        "    train_ds = train_ds.batch(batch_size)\n",
        "\n",
        "    val_ds = tf.data.Dataset.from_tensor_slices((val_df['lyrics'].values, val_labels))\n",
        "    val_ds = val_ds.batch(batch_size)\n",
        "    return train_ds, val_ds"
      ]
    },
    {
      "cell_type": "code",
      "execution_count": 26,
      "metadata": {
        "id": "WJqmmGPqD1DC"
      },
      "outputs": [],
      "source": [
        "dataframe = train[['lyrics', 'genre_encoded']]\n",
        "num_classes = len(set(dataframe['genre_encoded']))\n",
        "train_text_ds, val_text_ds = df_to_dataset(dataframe, 'genre_encoded', num_classes)"
      ]
    },
    {
      "cell_type": "markdown",
      "metadata": {
        "id": "we0gT-kB_9Ut"
      },
      "source": [
        "Voor de vectorize layer is er een custom_standardization functie gemaakt om de lyrics te preprocessen. De preprocessing bestaat uit:  \n",
        "1. Alles uit de text tot klein letters gemaakt.\n",
        "2. Alle new lines (\\n) verplaats met een spatie.\n",
        "3. Alles in rechte haakjes verplaats met een spatie (Er wordt in rechte haakjes de Chorus, Verse of andere termen gewezen).\n",
        "4. Alle leestekens weggehaald.  \n",
        "  \n",
        "We hebben dan schonere teksten voor de vectorize layer, met max_tokens en output_sequence_length hopen we voor een goede kwaliteit van de vectorize layer.  \n",
        "De embedding layer is om voor elk woord een dense vector te maken, zodat de woorden een connectie hebben met elkaar.\n"
      ]
    },
    {
      "cell_type": "code",
      "execution_count": 27,
      "metadata": {
        "id": "xkJ9Hpo16du2"
      },
      "outputs": [],
      "source": [
        "def custom_standardization(text):\n",
        "    # Lowercase text\n",
        "    text = tf.strings.lower(text)\n",
        "    # Remove new lines\n",
        "    text = tf.strings.regex_replace(text, r'\\n', ' ')\n",
        "    # Remove anything in square brackets\n",
        "    text = tf.strings.regex_replace(text, r'\\[.*?\\]', '')\n",
        "    # Remove punctuation\n",
        "    punctuation = string.punctuation\n",
        "    text = tf.strings.regex_replace(text, '[%s]' % re.escape(punctuation), '')\n",
        "    return text\n",
        "\n",
        "vocab_size = 10000\n",
        "sequence_length = 120\n",
        "\n",
        "vectorize_layer = TextVectorization(\n",
        "    standardize=custom_standardization,\n",
        "    max_tokens=vocab_size,\n",
        "    output_mode='int',\n",
        "    output_sequence_length=sequence_length)\n",
        "\n",
        "# Make a text-only dataset (no labels) and call adapt to build the vocabulary.\n",
        "text_ds = train_text_ds.map(lambda x, y: x)\n",
        "text_ds = text_ds.unbatch()  # Unbatch the dataset to get individual text samples\n",
        "\n",
        "# Extract the text data from the dataset\n",
        "texts = [text.numpy().decode('utf-8') for text in text_ds]\n",
        "vectorize_layer.adapt(texts)\n",
        "\n",
        "embedding_layer = Embedding(input_dim=len(vectorize_layer.get_vocabulary()), output_dim=64, mask_zero=True)"
      ]
    },
    {
      "cell_type": "code",
      "execution_count": null,
      "metadata": {
        "colab": {
          "base_uri": "https://localhost:8080/"
        },
        "id": "iXzUgf4-q09B",
        "outputId": "b47e4333-06c8-47c8-c292-18b04300a53d"
      },
      "outputs": [
        {
          "name": "stdout",
          "output_type": "stream",
          "text": [
            "Model: \"sequential\"\n",
            "_________________________________________________________________\n",
            " Layer (type)                Output Shape              Param #   \n",
            "=================================================================\n",
            " text_vectorization (TextVe  (None, 120)               0         \n",
            " ctorization)                                                    \n",
            "                                                                 \n",
            " embedding (Embedding)       (None, 120, 64)           966464    \n",
            "                                                                 \n",
            " gru (GRU)                   (None, 120, 128)          74496     \n",
            "                                                                 \n",
            " bidirectional (Bidirection  (None, 128)               98816     \n",
            " al)                                                             \n",
            "                                                                 \n",
            " dense (Dense)               (None, 64)                8256      \n",
            "                                                                 \n",
            " dense_1 (Dense)             (None, 8)                 520       \n",
            "                                                                 \n",
            "=================================================================\n",
            "Total params: 1148552 (4.38 MB)\n",
            "Trainable params: 1148552 (4.38 MB)\n",
            "Non-trainable params: 0 (0.00 Byte)\n",
            "_________________________________________________________________\n"
          ]
        }
      ],
      "source": [
        "model_text_lstm = Sequential([\n",
        "    vectorize_layer,\n",
        "    embedding_layer,\n",
        "    GRU(128, return_sequences=True, dropout=0.2),\n",
        "    Bidirectional(LSTM(64, return_sequences=False, dropout=0.2)),\n",
        "    Dense(64, activation='relu'),\n",
        "    Dense(num_classes, activation='softmax')\n",
        "])\n",
        "\n",
        "model_text_lstm.summary()"
      ]
    },
    {
      "cell_type": "markdown",
      "metadata": {
        "id": "d6uQ8FVOhstK"
      },
      "source": [
        "Het model bestaat eerst uit vectorized_layer en embedding_layer, daarna hebben we willekeurig een GRU en Bidrectional met LSTM layers geplaatst. Dan een Dense naar een output met softmax als activation, omdat we te maken hebben met multiple classes. In dit geval 8."
      ]
    },
    {
      "cell_type": "code",
      "execution_count": null,
      "metadata": {
        "colab": {
          "base_uri": "https://localhost:8080/"
        },
        "id": "FOnWGFTEAqI2",
        "outputId": "8ae989dc-dc72-439f-be27-e23754b7032d"
      },
      "outputs": [
        {
          "name": "stdout",
          "output_type": "stream",
          "text": [
            "Epoch 1/5000\n",
            "14/14 [==============================] - 14s 535ms/step - loss: 2.0766 - accuracy: 0.1235 - val_loss: 2.0727 - val_accuracy: 0.1574\n",
            "Epoch 2/5000\n",
            "14/14 [==============================] - 4s 295ms/step - loss: 2.0483 - accuracy: 0.1958 - val_loss: 2.0710 - val_accuracy: 0.1574\n",
            "Epoch 3/5000\n",
            "14/14 [==============================] - 5s 340ms/step - loss: 1.9292 - accuracy: 0.2471 - val_loss: 2.0825 - val_accuracy: 0.2037\n",
            "Epoch 4/5000\n",
            "14/14 [==============================] - 5s 341ms/step - loss: 1.5668 - accuracy: 0.3520 - val_loss: 2.3671 - val_accuracy: 0.1574\n",
            "Epoch 5/5000\n",
            "14/14 [==============================] - 4s 297ms/step - loss: 1.4360 - accuracy: 0.3566 - val_loss: 2.3420 - val_accuracy: 0.2037\n"
          ]
        }
      ],
      "source": [
        "epochs=5000\n",
        "\n",
        "# Compile\n",
        "model_text_lstm.compile(optimizer=tf.keras.optimizers.Adam(),\n",
        "                          loss=tf.keras.losses.CategoricalCrossentropy(),\n",
        "                          metrics=['accuracy'])\n",
        "\n",
        "# Add early stopping to the tuning process\n",
        "stop_early = tf.keras.callbacks.EarlyStopping(monitor='val_loss', patience=3)\n",
        "\n",
        "# Train\n",
        "history = model_text_lstm.fit(train_text_ds,\n",
        "                              batch_size = 32,\n",
        "                                validation_data=val_text_ds,\n",
        "                                epochs=epochs,\n",
        "                                callbacks=[stop_early])"
      ]
    },
    {
      "cell_type": "markdown",
      "metadata": {
        "id": "XGBy6mz1-LYA"
      },
      "source": [
        "Willekeurig 5000 epochs gekozen om te zien hoe ver de training gaat. De EarlyStopping monitor de val_loss en heeft de training gestopt, omdat het al zakte. Maar de val_accuracy is heel laag."
      ]
    },
    {
      "cell_type": "markdown",
      "metadata": {
        "id": "e0nd4cfd5GIZ"
      },
      "source": [
        "## Opdracht 4 - Transformer voor songteksten <a name='song_tran'></a>"
      ]
    },
    {
      "cell_type": "markdown",
      "metadata": {
        "id": "B9G22GCEQsfN"
      },
      "source": [
        "## BERT model\n",
        "Voor deze opdracht gebruiken wij het BERT model, dit is een vrij klein model wat goed is omdat het lokaal gerunt kan worden. Ook is het een transformer model dat getrained is op een grote dataset van text waardoor het model goede generalisaties in text kan herkennen en dus beter is in het voorspellen van genres gebaseerd op lyrics. Het model gebruikt de voorgetrainde kennis om de voorspellingen goed uit te kunnen voeren zonder hier enorme hoeveelheden data voor nodig te hebben.\n",
        "\n",
        "### Modelnaam\n",
        "model: bert-base-uncased\n",
        "\n",
        "### Training data\n",
        "Het BERT-model werd vooraf getraind op BookCorpus, een dataset bestaande uit 11.038 niet-gepubliceerde boeken en de Engelstalige Wikipedia (zonder lijsten, tabellen en kopteksten).\n",
        "\n",
        "BookCorpus: https://yknzhu.wixsite.com/mbweb<br>\n",
        "English Wikipedia: https://en.wikipedia.org/wiki/English_Wikipedia"
      ]
    },
    {
      "cell_type": "code",
      "execution_count": 7,
      "metadata": {
        "id": "YwH4CZEWQuFo"
      },
      "outputs": [],
      "source": [
        "batch_size = 8\n",
        "num_train_epochs = 15\n",
        "num_train_steps = (len(train['lyrics']) // batch_size) * num_train_epochs\n",
        "label2id = label_dict = train[['genre', 'genre_encoded']].drop_duplicates().set_index('genre').to_dict()['genre_encoded']\n",
        "id2label = {i: label for label, i in label_dict.items()}"
      ]
    },
    {
      "cell_type": "code",
      "execution_count": 8,
      "metadata": {
        "colab": {
          "base_uri": "https://localhost:8080/",
          "height": 304,
          "referenced_widgets": [
            "f1d77d3ca79f441d87d53f5a04e60267",
            "588117cc5f4a405f836909d817d15df2",
            "9b81160710d043a7991e739dfe9f6c5e",
            "355bc557ba3f456cad167e5f9b796d6a",
            "1691c450b438493aa7fa3b953e9fef81",
            "cb5060f0347846d58f592450478b6179",
            "6289f582dcab47c296f6c6dfcdc27101",
            "12df5a1890a54ecf81a70aebde9dae97",
            "19ac81cf50d84412acf1a4a2b4e76d16",
            "24214e8cd11f4c32a2dff2b45f87066a",
            "cb72104c7a254918ad9502c5732bbd95",
            "16c752e4d6384cd7b72ed1f0d152ab43",
            "1435823adf784ca88fecdd43816f7fbb",
            "e110ed620cf94ea69a8d9d036fc984f2",
            "8bfaced0124d461b8711a297c7677ad7",
            "624ce013a8c940ae99268bb377fc9b95",
            "4186c32189bc459fb6958a13170cb875",
            "601863af5a4349a8806300d417216bf5",
            "f0239174398148c0a11c670a9d55fd41",
            "40d27a4e72dc4bab8c56be5d304f19ab",
            "edcff0a1e9a74b0ba758b11feb44b861",
            "3def6638a9e443f1b7f7db3f02571ac6",
            "82b813ac396440d6bf6c4fb5211ff327",
            "f14489429f5a41f6b61904aab6910f13",
            "94e59d09e1ce41009d231e8c4582bdf6",
            "15b27433a7a5448bbb3c0e66e9bb720b",
            "05b4c345881a45f986bc033ceaa54d16",
            "256b2089217b4400960cb13769e2ab21",
            "f29df4a5154843b69241b034c19db6ef",
            "c0b31962e0b44fa5827b84fd0466759c",
            "e97f22c290b743fda865781d082e2a9c",
            "aec776ab38e849dcaf36b64a8348fe8e",
            "239c48dfabf64a0d898a47d254cf05bc",
            "39f43cb4d6a646f989d55669b2edc430",
            "06bee8e7980c49f29a8f56db7e8c4594",
            "da88fbc9793f48588e9fffc647101e57",
            "e8b9e0db053340c3862492a364aecaba",
            "57f7d9839fc34423b7ccaf51c7e20cb2",
            "39446fd6740743ae9490104450bcb710",
            "046f70cd7bfb410299e665fdfbfde283",
            "d23d7bba1b6b48a3bff0bdfddf929623",
            "6f25e693c0e34e63a6533f0f73e8a710",
            "a679a89143ef42b6b6a63a728d19d24e",
            "6085ec4a31ca4f8e9d2d6490aeaab893"
          ]
        },
        "id": "R11cO0B7Qw6I",
        "outputId": "e8a54454-1196-4030-ec09-e9aec5d5c147"
      },
      "outputs": [
        {
          "name": "stderr",
          "output_type": "stream",
          "text": [
            "/usr/local/lib/python3.10/dist-packages/huggingface_hub/file_download.py:1132: FutureWarning: `resume_download` is deprecated and will be removed in version 1.0.0. Downloads always resume when possible. If you want to force a new download, use `force_download=True`.\n",
            "  warnings.warn(\n",
            "/usr/local/lib/python3.10/dist-packages/huggingface_hub/utils/_token.py:89: UserWarning: \n",
            "The secret `HF_TOKEN` does not exist in your Colab secrets.\n",
            "To authenticate with the Hugging Face Hub, create a token in your settings tab (https://huggingface.co/settings/tokens), set it as secret in your Google Colab and restart your session.\n",
            "You will be able to reuse this secret in all of your notebooks.\n",
            "Please note that authentication is recommended but still optional to access public models or datasets.\n",
            "  warnings.warn(\n"
          ]
        },
        {
          "data": {
            "application/vnd.jupyter.widget-view+json": {
              "model_id": "f1d77d3ca79f441d87d53f5a04e60267",
              "version_major": 2,
              "version_minor": 0
            },
            "text/plain": [
              "tokenizer_config.json:   0%|          | 0.00/48.0 [00:00<?, ?B/s]"
            ]
          },
          "metadata": {},
          "output_type": "display_data"
        },
        {
          "data": {
            "application/vnd.jupyter.widget-view+json": {
              "model_id": "16c752e4d6384cd7b72ed1f0d152ab43",
              "version_major": 2,
              "version_minor": 0
            },
            "text/plain": [
              "config.json:   0%|          | 0.00/570 [00:00<?, ?B/s]"
            ]
          },
          "metadata": {},
          "output_type": "display_data"
        },
        {
          "data": {
            "application/vnd.jupyter.widget-view+json": {
              "model_id": "82b813ac396440d6bf6c4fb5211ff327",
              "version_major": 2,
              "version_minor": 0
            },
            "text/plain": [
              "vocab.txt:   0%|          | 0.00/232k [00:00<?, ?B/s]"
            ]
          },
          "metadata": {},
          "output_type": "display_data"
        },
        {
          "data": {
            "application/vnd.jupyter.widget-view+json": {
              "model_id": "39f43cb4d6a646f989d55669b2edc430",
              "version_major": 2,
              "version_minor": 0
            },
            "text/plain": [
              "tokenizer.json:   0%|          | 0.00/466k [00:00<?, ?B/s]"
            ]
          },
          "metadata": {},
          "output_type": "display_data"
        }
      ],
      "source": [
        "model_checkpoint = \"bert-base-uncased\"\n",
        "\n",
        "tokenizer = AutoTokenizer.from_pretrained(model_checkpoint)\n",
        "train['tokenized'] = train['lyrics'].apply(lambda lyrics: tokenizer(lyrics, truncation=True, padding='max_length', max_length=512)['input_ids'])"
      ]
    },
    {
      "cell_type": "code",
      "execution_count": 9,
      "metadata": {
        "colab": {
          "base_uri": "https://localhost:8080/"
        },
        "id": "Vgs8Q3HKQ6ow",
        "outputId": "888b2295-004a-4e6d-9a53-f702ae786237"
      },
      "outputs": [
        {
          "name": "stderr",
          "output_type": "stream",
          "text": [
            "/usr/local/lib/python3.10/dist-packages/datasets/arrow_dataset.py:410: FutureWarning: The output of `to_tf_dataset` will change when a passing single element list for `labels` or `columns` in the next datasets version. To return a tuple structure rather than dict, pass a single string.\n",
            "Old behaviour: columns=['a'], labels=['labels'] -> (tf.Tensor, tf.Tensor)  \n",
            "             : columns='a', labels='labels' -> (tf.Tensor, tf.Tensor)  \n",
            "New behaviour: columns=['a'],labels=['labels'] -> ({'a': tf.Tensor}, {'labels': tf.Tensor})  \n",
            "             : columns='a', labels='labels' -> (tf.Tensor, tf.Tensor) \n",
            "  warnings.warn(\n"
          ]
        }
      ],
      "source": [
        "dataset = Dataset.from_pandas(train).to_tf_dataset(\n",
        "    columns=['tokenized'],\n",
        "    label_cols=[\"genre_encoded\"],\n",
        "    shuffle=True,\n",
        "    batch_size=batch_size,\n",
        ")"
      ]
    },
    {
      "cell_type": "markdown",
      "metadata": {
        "id": "pcvn3ES8Q9p2"
      },
      "source": [
        "## Training/fine-tuning het BERT model op de train dataset\n",
        "Voor het finetunen van het BERT model op de songteksten is eerst de dataset ingeladen en zijn de labels ge-encoded naar nummerieke data zodat dit gebruikt kan worden. Daarna is door de AutoTokenizer de song lyrics getokenized en deze worden vervolgens omgezet naar een Tensorflow dataset met de kolom 'tokenized' (de getokenizede lyrics) als columns en 'genre_encoded' (de numerieke genres) als label_cols. Dit gebeurd allemaal in cellen hierboven\n",
        "\n",
        "Als laatst is het alleen nog noodzakelijk een optimizer te definieren en het model te trainen. Dit gebeurd in de cel hieronder"
      ]
    },
    {
      "cell_type": "code",
      "execution_count": 10,
      "metadata": {
        "colab": {
          "base_uri": "https://localhost:8080/",
          "height": 815,
          "referenced_widgets": [
            "1bb09d9c9ac34544b56af9261ae23778",
            "7a4395a310c94024bc4900fd6d227388",
            "e109ed20eb2f42f4b4300e16b971c3e6",
            "b7f4640e6ab9451ca0c1fd7fe7374f90",
            "5bd25fa7c7ec4f138aeb2b9d69632200",
            "71ace48fb7534106a6b91e0719074958",
            "4555b0950eba404a9f5536a539d1c17d",
            "d43e690977c44cc0828aed7bbaabaf4b",
            "dad9571765a840a3bb824449b7d24700",
            "06f985debfac465fac2ff3720eedc591",
            "7c607ebffc7d4d509936eba59551e2ed"
          ]
        },
        "id": "7AyO6vDaQ-vV",
        "outputId": "19277090-5ec6-466a-f7d9-f617766bab9a"
      },
      "outputs": [
        {
          "name": "stderr",
          "output_type": "stream",
          "text": [
            "/usr/local/lib/python3.10/dist-packages/huggingface_hub/file_download.py:1132: FutureWarning: `resume_download` is deprecated and will be removed in version 1.0.0. Downloads always resume when possible. If you want to force a new download, use `force_download=True`.\n",
            "  warnings.warn(\n"
          ]
        },
        {
          "data": {
            "application/vnd.jupyter.widget-view+json": {
              "model_id": "1bb09d9c9ac34544b56af9261ae23778",
              "version_major": 2,
              "version_minor": 0
            },
            "text/plain": [
              "model.safetensors:   0%|          | 0.00/440M [00:00<?, ?B/s]"
            ]
          },
          "metadata": {},
          "output_type": "display_data"
        },
        {
          "name": "stderr",
          "output_type": "stream",
          "text": [
            "All PyTorch model weights were used when initializing TFBertForSequenceClassification.\n",
            "\n",
            "Some weights or buffers of the TF 2.0 model TFBertForSequenceClassification were not initialized from the PyTorch model and are newly initialized: ['classifier.weight', 'classifier.bias']\n",
            "You should probably TRAIN this model on a down-stream task to be able to use it for predictions and inference.\n"
          ]
        },
        {
          "name": "stdout",
          "output_type": "stream",
          "text": [
            "Epoch 1/15\n"
          ]
        },
        {
          "name": "stderr",
          "output_type": "stream",
          "text": [
            "WARNING:tensorflow:AutoGraph could not transform <function infer_framework at 0x7ff1603dc820> and will run it as-is.\n",
            "Cause: for/else statement not yet supported\n",
            "To silence this warning, decorate the function with @tf.autograph.experimental.do_not_convert\n"
          ]
        },
        {
          "name": "stdout",
          "output_type": "stream",
          "text": [
            "WARNING: AutoGraph could not transform <function infer_framework at 0x7ff1603dc820> and will run it as-is.\n",
            "Cause: for/else statement not yet supported\n",
            "To silence this warning, decorate the function with @tf.autograph.experimental.do_not_convert\n",
            "68/68 [==============================] - 142s 1s/step - loss: 1.9608\n",
            "Epoch 2/15\n",
            "68/68 [==============================] - 73s 1s/step - loss: 1.8278\n",
            "Epoch 3/15\n",
            "68/68 [==============================] - 73s 1s/step - loss: 1.6383\n",
            "Epoch 4/15\n",
            "68/68 [==============================] - 73s 1s/step - loss: 1.4259\n",
            "Epoch 5/15\n",
            "68/68 [==============================] - 73s 1s/step - loss: 1.1530\n",
            "Epoch 6/15\n",
            "68/68 [==============================] - 73s 1s/step - loss: 0.8574\n",
            "Epoch 7/15\n",
            "68/68 [==============================] - 74s 1s/step - loss: 0.5861\n",
            "Epoch 8/15\n",
            "68/68 [==============================] - 73s 1s/step - loss: 0.3955\n",
            "Epoch 9/15\n",
            "68/68 [==============================] - 74s 1s/step - loss: 0.2769\n",
            "Epoch 10/15\n",
            "68/68 [==============================] - 73s 1s/step - loss: 0.2009\n",
            "Epoch 11/15\n",
            "68/68 [==============================] - 74s 1s/step - loss: 0.1581\n",
            "Epoch 12/15\n",
            "68/68 [==============================] - 73s 1s/step - loss: 0.1289\n",
            "Epoch 13/15\n",
            "68/68 [==============================] - 73s 1s/step - loss: 0.1156\n",
            "Epoch 14/15\n",
            "68/68 [==============================] - 74s 1s/step - loss: 0.1068\n",
            "Epoch 15/15\n",
            "68/68 [==============================] - 74s 1s/step - loss: 0.0994\n"
          ]
        },
        {
          "data": {
            "text/plain": [
              "<tf_keras.src.callbacks.History at 0x7ff12581f640>"
            ]
          },
          "execution_count": 10,
          "metadata": {},
          "output_type": "execute_result"
        }
      ],
      "source": [
        "model = TFAutoModelForSequenceClassification.from_pretrained(\n",
        "    model_checkpoint, num_labels=len(label2id), id2label=id2label, label2id=label2id\n",
        ")\n",
        "\n",
        "\n",
        "optimizer, lr_schedule = create_optimizer(\n",
        "    init_lr=2e-5,\n",
        "    num_train_steps=num_train_steps,\n",
        "    weight_decay_rate=0.01,\n",
        "    num_warmup_steps=0,\n",
        ")\n",
        "\n",
        "model.compile(optimizer=optimizer)\n",
        "\n",
        "model.fit(\n",
        "    dataset,\n",
        "    epochs=num_train_epochs\n",
        ")\n"
      ]
    },
    {
      "cell_type": "markdown",
      "metadata": {
        "id": "q2mv3qxW5GIZ"
      },
      "source": [
        "## Opdracht 5 - Model naar keuze <a name='mnk'></a>"
      ]
    },
    {
      "cell_type": "markdown",
      "metadata": {},
      "source": [
        "We hebben besloten om een multi-input model te gebruiken, zodat het vanuit verschillende perspectieven naar de muziek kan kijken. Dit zal zorgen voor een accurater model. Het gebruik van meerdere invalshoeken in het model kan de prestaties ervan verbeteren. "
      ]
    },
    {
      "cell_type": "code",
      "execution_count": 8,
      "metadata": {},
      "outputs": [
        {
          "data": {
            "text/plain": [
              "(537, 29712)"
            ]
          },
          "execution_count": 8,
          "metadata": {},
          "output_type": "execute_result"
        }
      ],
      "source": [
        "from keras.preprocessing.sequence import pad_sequences\n",
        "\n",
        "# Tokens maken van de zinnen in de data\n",
        "tokenized_data = [word_tokenize(zin.lower()) for zin in train['lyrics']]\n",
        "\n",
        "# Lengte van de langste zin bepalen\n",
        "max_lengte = max([len(tokens) for tokens in tokenized_data])\n",
        "\n",
        "# Padding toevoegen om ervoor te zorgen dat alle sequenties dezelfde lengte hebben\n",
        "padded_tokenized_data = pad_sequences(tokenized_data, maxlen=max_lengte, padding='post', dtype=object)\n",
        "padded_tokenized_data.shape"
      ]
    },
    {
      "cell_type": "code",
      "execution_count": 10,
      "metadata": {},
      "outputs": [],
      "source": [
        "from tensorflow.keras import Model\n",
        "from tensorflow.keras.layers import Dense, Concatenate\n",
        "\n",
        "# Multi-input model\n",
        "inputA = tf.keras.Input(shape=(537, 29712))\n",
        "inputB = tf.keras.Input(shape=(537, 29712))\n",
        "\n",
        "# Model x\n",
        "x = Dense(8, activation=\"relu\")(inputA)\n",
        "x = Dense(4, activation=\"relu\")(x)\n",
        "x_output = Model(inputs=inputA, outputs=x)\n",
        "\n",
        "# Model y\n",
        "y = Dense(64, activation=\"relu\")(inputB)\n",
        "y = Dense(32, activation=\"relu\")(y)\n",
        "y = Dense(4, activation=\"relu\")(y)\n",
        "y_output = Model(inputs=inputB, outputs=y)\n",
        "\n",
        "# Combine outputs of x and y\n",
        "combined = Concatenate()([x, y])\n",
        "\n",
        "# Model z\n",
        "z = Dense(2, activation=\"relu\")(combined)\n",
        "z = Dense(1, activation=\"linear\")(z)\n",
        "\n",
        "# Define final model\n",
        "model = Model(inputs=[inputA, inputB], outputs=z)"
      ]
    },
    {
      "cell_type": "code",
      "execution_count": 12,
      "metadata": {},
      "outputs": [],
      "source": [
        "from tensorflow.keras import Model\n",
        "#multi input model\n",
        "inputA = tf.keras.Input(shape=(537, 29712))\n",
        "inputB = tf.keras.Input(shape=(537, 29712))\n",
        "x = Dense(8, activation=\"relu\")(inputA)\n",
        "x = Dense(4, activation=\"relu\")(x)\n",
        "x = Model(inputs=inputA, outputs=x)\n",
        "y = Dense(64, activation=\"relu\")(inputB)\n",
        "y = Dense(32, activation=\"relu\")(y)\n",
        "y = Dense(4, activation=\"relu\")(y)\n",
        "y = Model(inputs=inputB, outputs=y)\n",
        "z = Dense(2, activation=\"relu\")(combined)\n",
        "z = Dense(1, activation=\"linear\")(z)\n",
        "model = Model(inputs=[x.input, y.input], outputs=z)"
      ]
    },
    {
      "cell_type": "code",
      "execution_count": 12,
      "metadata": {},
      "outputs": [
        {
          "name": "stderr",
          "output_type": "stream",
          "text": [
            "Exception in thread Exception in thread Thread-32:\n",
            "Traceback (most recent call last):\n",
            "  File \"c:\\Users\\johan\\anaconda3\\lib\\threading.py\", line 973, in _bootstrap_inner\n",
            "Exception in thread Thread-33:\n",
            "Traceback (most recent call last):\n",
            "  File \"c:\\Users\\johan\\anaconda3\\lib\\threading.py\", line 973, in _bootstrap_inner\n",
            "Thread-30:\n",
            "Traceback (most recent call last):\n",
            "  File \"c:\\Users\\johan\\anaconda3\\lib\\threading.py\", line 973, in _bootstrap_inner\n",
            "Exception in thread Thread-31:\n",
            "Traceback (most recent call last):\n",
            "  File \"c:\\Users\\johan\\anaconda3\\lib\\threading.py\", line 973, in _bootstrap_inner\n",
            "        self.run()self.run()\n",
            "      File \"c:\\Users\\johan\\anaconda3\\lib\\threading.py\", line 910, in run\n",
            "self.run()\n",
            "\n",
            "  File \"c:\\Users\\johan\\anaconda3\\lib\\threading.py\", line 910, in run\n",
            "  File \"c:\\Users\\johan\\anaconda3\\lib\\threading.py\", line 910, in run\n",
            "    self.run()\n",
            "  File \"c:\\Users\\johan\\anaconda3\\lib\\threading.py\", line 910, in run\n",
            "        self._target(*self._args, **self._kwargs)\n",
            "  File \"c:\\Users\\johan\\anaconda3\\lib\\site-packages\\gensim\\models\\word2vec.py\", line 1162, in _worker_loop\n",
            "    self._target(*self._args, **self._kwargs)\n",
            "  File \"c:\\Users\\johan\\anaconda3\\lib\\site-packages\\gensim\\models\\word2vec.py\", line 1162, in _worker_loop\n",
            "self._target(*self._args, **self._kwargs)\n",
            "  File \"c:\\Users\\johan\\anaconda3\\lib\\site-packages\\gensim\\models\\word2vec.py\", line 1162, in _worker_loop\n",
            "    self._target(*self._args, **self._kwargs)\n",
            "  File \"c:\\Users\\johan\\anaconda3\\lib\\site-packages\\gensim\\models\\word2vec.py\", line 1162, in _worker_loop\n",
            "    tally, raw_tally = self._do_train_job(data_iterable, alpha, thread_private_mem)\n",
            "  File \"c:\\Users\\johan\\anaconda3\\lib\\site-packages\\gensim\\models\\word2vec.py\", line 953, in _do_train_job\n",
            "            tally, raw_tally = self._do_train_job(data_iterable, alpha, thread_private_mem)\n",
            "  File \"c:\\Users\\johan\\anaconda3\\lib\\site-packages\\gensim\\models\\word2vec.py\", line 953, in _do_train_job\n",
            "tally, raw_tally = self._do_train_job(data_iterable, alpha, thread_private_mem)\n",
            "  File \"c:\\Users\\johan\\anaconda3\\lib\\site-packages\\gensim\\models\\word2vec.py\", line 953, in _do_train_job\n",
            "tally, raw_tally = self._do_train_job(data_iterable, alpha, thread_private_mem)\n",
            "  File \"c:\\Users\\johan\\anaconda3\\lib\\site-packages\\gensim\\models\\word2vec.py\", line 953, in _do_train_job\n",
            "    tally += train_batch_cbow(self, sentences, alpha, work, neu1, self.compute_loss)\n",
            "  File \"gensim/models/word2vec_inner.pyx\", line 642, in gensim.models.word2vec_inner.train_batch_cbow\n",
            "    tally += train_batch_cbow(self, sentences, alpha, work, neu1, self.compute_loss)\n",
            "  File \"gensim/models/word2vec_inner.pyx\", line 642, in gensim.models.word2vec_inner.train_batch_cbow\n",
            "        tally += train_batch_cbow(self, sentences, alpha, work, neu1, self.compute_loss)tally += train_batch_cbow(self, sentences, alpha, work, neu1, self.compute_loss)\n",
            "  File \"gensim/models/word2vec_inner.pyx\", line 642, in gensim.models.word2vec_inner.train_batch_cbow\n",
            "\n",
            "  File \"gensim/models/word2vec_inner.pyx\", line 642, in gensim.models.word2vec_inner.train_batch_cbow\n",
            "    if not sent:\n",
            "ValueError: The truth value of an array with more than one element is ambiguous. Use a.any() or a.all()\n",
            "        if not sent:\n",
            "ValueError: The truth value of an array with more than one element is ambiguous. Use a.any() or a.all()\n",
            "    if not sent:\n",
            "ValueError: The truth value of an array with more than one element is ambiguous. Use a.any() or a.all()\n",
            "if not sent:\n",
            "ValueError: The truth value of an array with more than one element is ambiguous. Use a.any() or a.all()\n"
          ]
        }
      ],
      "source": [
        "from tensorflow.keras.optimizers import Adam\n",
        "from gensim.models import Word2Vec\n",
        "\n",
        "# Train een Word2Vec-model op je tokenized data\n",
        "word2vec_model = Word2Vec(sentences=padded_tokenized_data, vector_size=100, window=5, min_count=1, workers=4)\n",
        "\n",
        "# Vervang de tekstuele tokens door hun overeenkomstige Word2Vec-embeddings\n",
        "embedded_data = np.array([np.mean([word2vec_model[token] for token in tokens], axis=0) for tokens in padded_tokenized_data])\n",
        "\n",
        "model.compile(optimizer=Adam(), loss='mean_squared_error')\n",
        "scaler = MinMaxScaler()\n",
        "x_data_normalized = scaler.fit_transform(embedded_data.reshape(-1, 1)).reshape(embedded_data.shape)\n",
        "y_data_normalized = scaler.fit_transform(test['genre_encoded'].reshape(-1, 1)).reshape(test['genre_encoded'].shape)\n",
        "\n",
        "# Train het model\n",
        "history = model.fit(padded_tokenized_data, test['genre_encoded'], epochs=15, batch_size=32)\n",
        "\n",
        "# Print de trainingsgeschiedenis\n",
        "for epoch, loss in enumerate(history.history['loss'], 1):\n",
        "    print(f\"Epoch {epoch}/{len(history.history['loss'])} - loss: {loss}\")"
      ]
    },
    {
      "cell_type": "code",
      "execution_count": 11,
      "metadata": {},
      "outputs": [
        {
          "data": {
            "image/png": "[encoded data removed]",
            "text/plain": [
              "<Figure size 720x360 with 1 Axes>"
            ]
          },
          "metadata": {
            "needs_background": "light"
          },
          "output_type": "display_data"
        }
      ],
      "source": [
        "plt.figure(figsize=(10, 5))\n",
        "plt.title('Model Architecture')\n",
        "# Plot de input laag\n",
        "plt.scatter(0, 0, s=100, color='blue', label='Input Layer')\n",
        "# Loop over de lagen van het model en plot ze\n",
        "for i, layer in enumerate(model.layers):\n",
        "    if i == 0:\n",
        "        continue  # Skip de input laag omdat we die al geplot hebben\n",
        "    plt.scatter(i, 0, s=100, color='orange', label='Hidden Layer' if i == 1 else None)\n",
        "    plt.plot([i-1, i], [0, 0], color='black')  # Verbindingslijn tussen lagen\n",
        "plt.scatter(len(model.layers)-1, 0, s=100, color='green', label='Output Layer')\n",
        "\n",
        "plt.show()"
      ]
    },
    {
      "cell_type": "markdown",
      "metadata": {
        "id": "YVCy_Iao5GIZ"
      },
      "source": [
        "## Opdracht 6 - Bevindingen <a name='bevindingen'></a>"
      ]
    },
    {
      "cell_type": "markdown",
      "metadata": {
        "id": "2iq9q3OY5GIZ"
      },
      "source": [
        "## Opdracht 7 - Conclusie en aanbevelingen <a name='conclusie'></a>"
      ]
    },
    {
      "cell_type": "markdown",
      "metadata": {},
      "source": [
        "De uitdagingen van het modeleringsproces waren het omzetten van de data naar bruikbare data voor deep learning, het vinden van het juiste model naar keuze.\n",
        "\n",
        "\n",
        "\n",
        "LSTM had een betere val_accuracy met de audio data dan met de tekst data. Hieruit concluderen we dat dit model beter werkt met audio data. Transformermodellen zijn goed in het begrijpen van tekstuele gegevens en het ontdekken van patronen daarin maar hebben moeite met complexere data zoals audio data.\n",
        "\n",
        "Country en Blues muziek gaat vaak over de zelfde thema's. In het geval van country gaat dat vaak over heimwee en het leven op het platteland. in het geval van blues gaat dat vaak over tegenslagen in het leven.\n",
        "\n",
        "Maak gebruik van meerdere moddelen aangezien de modellen apart een lage accuracy hebben en mischien in een ensemble model tot een hogere score komen. \n",
        "\n",
        "Conceptueel gezien zouden we een systeem kunnen maken waarin liedjes van hetzelfde genre aanbevolen worden. Verder kunnen we in het systeem net zoals in een pointcloud waarin 3d wordt aangegeven hoe ver twee dingen van elkaar afstaan aangeven hoe ver genres van elkaar afstaan en kunnen we daarmee genres aanbevelen die de luisteraar misschien goed vindt op basis van de andere genres waar hij/zij naar luistert."
      ]
    },
    {
      "cell_type": "markdown",
      "metadata": {
        "id": "HMyH3ZF55GIg"
      },
      "source": [
        "## Bronnenlijst <a name='bronnenlijst'></a>"
      ]
    }
  ],
  "metadata": {
    "accelerator": "GPU",
    "colab": {
      "gpuType": "T4",
      "provenance": []
    },
    "kernelspec": {
      "display_name": "Python 3",
      "name": "python3"
    },
    "language_info": {
      "codemirror_mode": {
        "name": "ipython",
        "version": 3
      },
      "file_extension": ".py",
      "mimetype": "text/x-python",
      "name": "python",
      "nbconvert_exporter": "python",
      "pygments_lexer": "ipython3",
      "version": "3.9.12"
    },
    "widgets": {
      "application/vnd.jupyter.widget-state+json": {
        "046f70cd7bfb410299e665fdfbfde283": {
          "model_module": "@jupyter-widgets/controls",
          "model_module_version": "1.5.0",
          "model_name": "DescriptionStyleModel",
          "state": {
            "_model_module": "@jupyter-widgets/controls",
            "_model_module_version": "1.5.0",
            "_model_name": "DescriptionStyleModel",
            "_view_count": null,
            "_view_module": "@jupyter-widgets/base",
            "_view_module_version": "1.2.0",
            "_view_name": "StyleView",
            "description_width": ""
          }
        },
        "05b4c345881a45f986bc033ceaa54d16": {
          "model_module": "@jupyter-widgets/base",
          "model_module_version": "1.2.0",
          "model_name": "LayoutModel",
          "state": {
            "_model_module": "@jupyter-widgets/base",
            "_model_module_version": "1.2.0",
            "_model_name": "LayoutModel",
            "_view_count": null,
            "_view_module": "@jupyter-widgets/base",
            "_view_module_version": "1.2.0",
            "_view_name": "LayoutView",
            "align_content": null,
            "align_items": null,
            "align_self": null,
            "border": null,
            "bottom": null,
            "display": null,
            "flex": null,
            "flex_flow": null,
            "grid_area": null,
            "grid_auto_columns": null,
            "grid_auto_flow": null,
            "grid_auto_rows": null,
            "grid_column": null,
            "grid_gap": null,
            "grid_row": null,
            "grid_template_areas": null,
            "grid_template_columns": null,
            "grid_template_rows": null,
            "height": null,
            "justify_content": null,
            "justify_items": null,
            "left": null,
            "margin": null,
            "max_height": null,
            "max_width": null,
            "min_height": null,
            "min_width": null,
            "object_fit": null,
            "object_position": null,
            "order": null,
            "overflow": null,
            "overflow_x": null,
            "overflow_y": null,
            "padding": null,
            "right": null,
            "top": null,
            "visibility": null,
            "width": null
          }
        },
        "06bee8e7980c49f29a8f56db7e8c4594": {
          "model_module": "@jupyter-widgets/controls",
          "model_module_version": "1.5.0",
          "model_name": "HTMLModel",
          "state": {
            "_dom_classes": [],
            "_model_module": "@jupyter-widgets/controls",
            "_model_module_version": "1.5.0",
            "_model_name": "HTMLModel",
            "_view_count": null,
            "_view_module": "@jupyter-widgets/controls",
            "_view_module_version": "1.5.0",
            "_view_name": "HTMLView",
            "description": "",
            "description_tooltip": null,
            "layout": "IPY_MODEL_39446fd6740743ae9490104450bcb710",
            "placeholder": "​",
            "style": "IPY_MODEL_046f70cd7bfb410299e665fdfbfde283",
            "value": "tokenizer.json: 100%"
          }
        },
        "06f985debfac465fac2ff3720eedc591": {
          "model_module": "@jupyter-widgets/base",
          "model_module_version": "1.2.0",
          "model_name": "LayoutModel",
          "state": {
            "_model_module": "@jupyter-widgets/base",
            "_model_module_version": "1.2.0",
            "_model_name": "LayoutModel",
            "_view_count": null,
            "_view_module": "@jupyter-widgets/base",
            "_view_module_version": "1.2.0",
            "_view_name": "LayoutView",
            "align_content": null,
            "align_items": null,
            "align_self": null,
            "border": null,
            "bottom": null,
            "display": null,
            "flex": null,
            "flex_flow": null,
            "grid_area": null,
            "grid_auto_columns": null,
            "grid_auto_flow": null,
            "grid_auto_rows": null,
            "grid_column": null,
            "grid_gap": null,
            "grid_row": null,
            "grid_template_areas": null,
            "grid_template_columns": null,
            "grid_template_rows": null,
            "height": null,
            "justify_content": null,
            "justify_items": null,
            "left": null,
            "margin": null,
            "max_height": null,
            "max_width": null,
            "min_height": null,
            "min_width": null,
            "object_fit": null,
            "object_position": null,
            "order": null,
            "overflow": null,
            "overflow_x": null,
            "overflow_y": null,
            "padding": null,
            "right": null,
            "top": null,
            "visibility": null,
            "width": null
          }
        },
        "12df5a1890a54ecf81a70aebde9dae97": {
          "model_module": "@jupyter-widgets/base",
          "model_module_version": "1.2.0",
          "model_name": "LayoutModel",
          "state": {
            "_model_module": "@jupyter-widgets/base",
            "_model_module_version": "1.2.0",
            "_model_name": "LayoutModel",
            "_view_count": null,
            "_view_module": "@jupyter-widgets/base",
            "_view_module_version": "1.2.0",
            "_view_name": "LayoutView",
            "align_content": null,
            "align_items": null,
            "align_self": null,
            "border": null,
            "bottom": null,
            "display": null,
            "flex": null,
            "flex_flow": null,
            "grid_area": null,
            "grid_auto_columns": null,
            "grid_auto_flow": null,
            "grid_auto_rows": null,
            "grid_column": null,
            "grid_gap": null,
            "grid_row": null,
            "grid_template_areas": null,
            "grid_template_columns": null,
            "grid_template_rows": null,
            "height": null,
            "justify_content": null,
            "justify_items": null,
            "left": null,
            "margin": null,
            "max_height": null,
            "max_width": null,
            "min_height": null,
            "min_width": null,
            "object_fit": null,
            "object_position": null,
            "order": null,
            "overflow": null,
            "overflow_x": null,
            "overflow_y": null,
            "padding": null,
            "right": null,
            "top": null,
            "visibility": null,
            "width": null
          }
        },
        "1435823adf784ca88fecdd43816f7fbb": {
          "model_module": "@jupyter-widgets/controls",
          "model_module_version": "1.5.0",
          "model_name": "HTMLModel",
          "state": {
            "_dom_classes": [],
            "_model_module": "@jupyter-widgets/controls",
            "_model_module_version": "1.5.0",
            "_model_name": "HTMLModel",
            "_view_count": null,
            "_view_module": "@jupyter-widgets/controls",
            "_view_module_version": "1.5.0",
            "_view_name": "HTMLView",
            "description": "",
            "description_tooltip": null,
            "layout": "IPY_MODEL_4186c32189bc459fb6958a13170cb875",
            "placeholder": "​",
            "style": "IPY_MODEL_601863af5a4349a8806300d417216bf5",
            "value": "config.json: 100%"
          }
        },
        "15b27433a7a5448bbb3c0e66e9bb720b": {
          "model_module": "@jupyter-widgets/controls",
          "model_module_version": "1.5.0",
          "model_name": "HTMLModel",
          "state": {
            "_dom_classes": [],
            "_model_module": "@jupyter-widgets/controls",
            "_model_module_version": "1.5.0",
            "_model_name": "HTMLModel",
            "_view_count": null,
            "_view_module": "@jupyter-widgets/controls",
            "_view_module_version": "1.5.0",
            "_view_name": "HTMLView",
            "description": "",
            "description_tooltip": null,
            "layout": "IPY_MODEL_aec776ab38e849dcaf36b64a8348fe8e",
            "placeholder": "​",
            "style": "IPY_MODEL_239c48dfabf64a0d898a47d254cf05bc",
            "value": " 232k/232k [00:00&lt;00:00, 1.74MB/s]"
          }
        },
        "1691c450b438493aa7fa3b953e9fef81": {
          "model_module": "@jupyter-widgets/base",
          "model_module_version": "1.2.0",
          "model_name": "LayoutModel",
          "state": {
            "_model_module": "@jupyter-widgets/base",
            "_model_module_version": "1.2.0",
            "_model_name": "LayoutModel",
            "_view_count": null,
            "_view_module": "@jupyter-widgets/base",
            "_view_module_version": "1.2.0",
            "_view_name": "LayoutView",
            "align_content": null,
            "align_items": null,
            "align_self": null,
            "border": null,
            "bottom": null,
            "display": null,
            "flex": null,
            "flex_flow": null,
            "grid_area": null,
            "grid_auto_columns": null,
            "grid_auto_flow": null,
            "grid_auto_rows": null,
            "grid_column": null,
            "grid_gap": null,
            "grid_row": null,
            "grid_template_areas": null,
            "grid_template_columns": null,
            "grid_template_rows": null,
            "height": null,
            "justify_content": null,
            "justify_items": null,
            "left": null,
            "margin": null,
            "max_height": null,
            "max_width": null,
            "min_height": null,
            "min_width": null,
            "object_fit": null,
            "object_position": null,
            "order": null,
            "overflow": null,
            "overflow_x": null,
            "overflow_y": null,
            "padding": null,
            "right": null,
            "top": null,
            "visibility": null,
            "width": null
          }
        },
        "16c752e4d6384cd7b72ed1f0d152ab43": {
          "model_module": "@jupyter-widgets/controls",
          "model_module_version": "1.5.0",
          "model_name": "HBoxModel",
          "state": {
            "_dom_classes": [],
            "_model_module": "@jupyter-widgets/controls",
            "_model_module_version": "1.5.0",
            "_model_name": "HBoxModel",
            "_view_count": null,
            "_view_module": "@jupyter-widgets/controls",
            "_view_module_version": "1.5.0",
            "_view_name": "HBoxView",
            "box_style": "",
            "children": [
              "IPY_MODEL_1435823adf784ca88fecdd43816f7fbb",
              "IPY_MODEL_e110ed620cf94ea69a8d9d036fc984f2",
              "IPY_MODEL_8bfaced0124d461b8711a297c7677ad7"
            ],
            "layout": "IPY_MODEL_624ce013a8c940ae99268bb377fc9b95"
          }
        },
        "19ac81cf50d84412acf1a4a2b4e76d16": {
          "model_module": "@jupyter-widgets/controls",
          "model_module_version": "1.5.0",
          "model_name": "ProgressStyleModel",
          "state": {
            "_model_module": "@jupyter-widgets/controls",
            "_model_module_version": "1.5.0",
            "_model_name": "ProgressStyleModel",
            "_view_count": null,
            "_view_module": "@jupyter-widgets/base",
            "_view_module_version": "1.2.0",
            "_view_name": "StyleView",
            "bar_color": null,
            "description_width": ""
          }
        },
        "1bb09d9c9ac34544b56af9261ae23778": {
          "model_module": "@jupyter-widgets/controls",
          "model_module_version": "1.5.0",
          "model_name": "HBoxModel",
          "state": {
            "_dom_classes": [],
            "_model_module": "@jupyter-widgets/controls",
            "_model_module_version": "1.5.0",
            "_model_name": "HBoxModel",
            "_view_count": null,
            "_view_module": "@jupyter-widgets/controls",
            "_view_module_version": "1.5.0",
            "_view_name": "HBoxView",
            "box_style": "",
            "children": [
              "IPY_MODEL_7a4395a310c94024bc4900fd6d227388",
              "IPY_MODEL_e109ed20eb2f42f4b4300e16b971c3e6",
              "IPY_MODEL_b7f4640e6ab9451ca0c1fd7fe7374f90"
            ],
            "layout": "IPY_MODEL_5bd25fa7c7ec4f138aeb2b9d69632200"
          }
        },
        "239c48dfabf64a0d898a47d254cf05bc": {
          "model_module": "@jupyter-widgets/controls",
          "model_module_version": "1.5.0",
          "model_name": "DescriptionStyleModel",
          "state": {
            "_model_module": "@jupyter-widgets/controls",
            "_model_module_version": "1.5.0",
            "_model_name": "DescriptionStyleModel",
            "_view_count": null,
            "_view_module": "@jupyter-widgets/base",
            "_view_module_version": "1.2.0",
            "_view_name": "StyleView",
            "description_width": ""
          }
        },
        "24214e8cd11f4c32a2dff2b45f87066a": {
          "model_module": "@jupyter-widgets/base",
          "model_module_version": "1.2.0",
          "model_name": "LayoutModel",
          "state": {
            "_model_module": "@jupyter-widgets/base",
            "_model_module_version": "1.2.0",
            "_model_name": "LayoutModel",
            "_view_count": null,
            "_view_module": "@jupyter-widgets/base",
            "_view_module_version": "1.2.0",
            "_view_name": "LayoutView",
            "align_content": null,
            "align_items": null,
            "align_self": null,
            "border": null,
            "bottom": null,
            "display": null,
            "flex": null,
            "flex_flow": null,
            "grid_area": null,
            "grid_auto_columns": null,
            "grid_auto_flow": null,
            "grid_auto_rows": null,
            "grid_column": null,
            "grid_gap": null,
            "grid_row": null,
            "grid_template_areas": null,
            "grid_template_columns": null,
            "grid_template_rows": null,
            "height": null,
            "justify_content": null,
            "justify_items": null,
            "left": null,
            "margin": null,
            "max_height": null,
            "max_width": null,
            "min_height": null,
            "min_width": null,
            "object_fit": null,
            "object_position": null,
            "order": null,
            "overflow": null,
            "overflow_x": null,
            "overflow_y": null,
            "padding": null,
            "right": null,
            "top": null,
            "visibility": null,
            "width": null
          }
        },
        "256b2089217b4400960cb13769e2ab21": {
          "model_module": "@jupyter-widgets/base",
          "model_module_version": "1.2.0",
          "model_name": "LayoutModel",
          "state": {
            "_model_module": "@jupyter-widgets/base",
            "_model_module_version": "1.2.0",
            "_model_name": "LayoutModel",
            "_view_count": null,
            "_view_module": "@jupyter-widgets/base",
            "_view_module_version": "1.2.0",
            "_view_name": "LayoutView",
            "align_content": null,
            "align_items": null,
            "align_self": null,
            "border": null,
            "bottom": null,
            "display": null,
            "flex": null,
            "flex_flow": null,
            "grid_area": null,
            "grid_auto_columns": null,
            "grid_auto_flow": null,
            "grid_auto_rows": null,
            "grid_column": null,
            "grid_gap": null,
            "grid_row": null,
            "grid_template_areas": null,
            "grid_template_columns": null,
            "grid_template_rows": null,
            "height": null,
            "justify_content": null,
            "justify_items": null,
            "left": null,
            "margin": null,
            "max_height": null,
            "max_width": null,
            "min_height": null,
            "min_width": null,
            "object_fit": null,
            "object_position": null,
            "order": null,
            "overflow": null,
            "overflow_x": null,
            "overflow_y": null,
            "padding": null,
            "right": null,
            "top": null,
            "visibility": null,
            "width": null
          }
        },
        "355bc557ba3f456cad167e5f9b796d6a": {
          "model_module": "@jupyter-widgets/controls",
          "model_module_version": "1.5.0",
          "model_name": "HTMLModel",
          "state": {
            "_dom_classes": [],
            "_model_module": "@jupyter-widgets/controls",
            "_model_module_version": "1.5.0",
            "_model_name": "HTMLModel",
            "_view_count": null,
            "_view_module": "@jupyter-widgets/controls",
            "_view_module_version": "1.5.0",
            "_view_name": "HTMLView",
            "description": "",
            "description_tooltip": null,
            "layout": "IPY_MODEL_24214e8cd11f4c32a2dff2b45f87066a",
            "placeholder": "​",
            "style": "IPY_MODEL_cb72104c7a254918ad9502c5732bbd95",
            "value": " 48.0/48.0 [00:00&lt;00:00, 3.26kB/s]"
          }
        },
        "39446fd6740743ae9490104450bcb710": {
          "model_module": "@jupyter-widgets/base",
          "model_module_version": "1.2.0",
          "model_name": "LayoutModel",
          "state": {
            "_model_module": "@jupyter-widgets/base",
            "_model_module_version": "1.2.0",
            "_model_name": "LayoutModel",
            "_view_count": null,
            "_view_module": "@jupyter-widgets/base",
            "_view_module_version": "1.2.0",
            "_view_name": "LayoutView",
            "align_content": null,
            "align_items": null,
            "align_self": null,
            "border": null,
            "bottom": null,
            "display": null,
            "flex": null,
            "flex_flow": null,
            "grid_area": null,
            "grid_auto_columns": null,
            "grid_auto_flow": null,
            "grid_auto_rows": null,
            "grid_column": null,
            "grid_gap": null,
            "grid_row": null,
            "grid_template_areas": null,
            "grid_template_columns": null,
            "grid_template_rows": null,
            "height": null,
            "justify_content": null,
            "justify_items": null,
            "left": null,
            "margin": null,
            "max_height": null,
            "max_width": null,
            "min_height": null,
            "min_width": null,
            "object_fit": null,
            "object_position": null,
            "order": null,
            "overflow": null,
            "overflow_x": null,
            "overflow_y": null,
            "padding": null,
            "right": null,
            "top": null,
            "visibility": null,
            "width": null
          }
        },
        "39f43cb4d6a646f989d55669b2edc430": {
          "model_module": "@jupyter-widgets/controls",
          "model_module_version": "1.5.0",
          "model_name": "HBoxModel",
          "state": {
            "_dom_classes": [],
            "_model_module": "@jupyter-widgets/controls",
            "_model_module_version": "1.5.0",
            "_model_name": "HBoxModel",
            "_view_count": null,
            "_view_module": "@jupyter-widgets/controls",
            "_view_module_version": "1.5.0",
            "_view_name": "HBoxView",
            "box_style": "",
            "children": [
              "IPY_MODEL_06bee8e7980c49f29a8f56db7e8c4594",
              "IPY_MODEL_da88fbc9793f48588e9fffc647101e57",
              "IPY_MODEL_e8b9e0db053340c3862492a364aecaba"
            ],
            "layout": "IPY_MODEL_57f7d9839fc34423b7ccaf51c7e20cb2"
          }
        },
        "3def6638a9e443f1b7f7db3f02571ac6": {
          "model_module": "@jupyter-widgets/controls",
          "model_module_version": "1.5.0",
          "model_name": "DescriptionStyleModel",
          "state": {
            "_model_module": "@jupyter-widgets/controls",
            "_model_module_version": "1.5.0",
            "_model_name": "DescriptionStyleModel",
            "_view_count": null,
            "_view_module": "@jupyter-widgets/base",
            "_view_module_version": "1.2.0",
            "_view_name": "StyleView",
            "description_width": ""
          }
        },
        "40d27a4e72dc4bab8c56be5d304f19ab": {
          "model_module": "@jupyter-widgets/controls",
          "model_module_version": "1.5.0",
          "model_name": "ProgressStyleModel",
          "state": {
            "_model_module": "@jupyter-widgets/controls",
            "_model_module_version": "1.5.0",
            "_model_name": "ProgressStyleModel",
            "_view_count": null,
            "_view_module": "@jupyter-widgets/base",
            "_view_module_version": "1.2.0",
            "_view_name": "StyleView",
            "bar_color": null,
            "description_width": ""
          }
        },
        "4186c32189bc459fb6958a13170cb875": {
          "model_module": "@jupyter-widgets/base",
          "model_module_version": "1.2.0",
          "model_name": "LayoutModel",
          "state": {
            "_model_module": "@jupyter-widgets/base",
            "_model_module_version": "1.2.0",
            "_model_name": "LayoutModel",
            "_view_count": null,
            "_view_module": "@jupyter-widgets/base",
            "_view_module_version": "1.2.0",
            "_view_name": "LayoutView",
            "align_content": null,
            "align_items": null,
            "align_self": null,
            "border": null,
            "bottom": null,
            "display": null,
            "flex": null,
            "flex_flow": null,
            "grid_area": null,
            "grid_auto_columns": null,
            "grid_auto_flow": null,
            "grid_auto_rows": null,
            "grid_column": null,
            "grid_gap": null,
            "grid_row": null,
            "grid_template_areas": null,
            "grid_template_columns": null,
            "grid_template_rows": null,
            "height": null,
            "justify_content": null,
            "justify_items": null,
            "left": null,
            "margin": null,
            "max_height": null,
            "max_width": null,
            "min_height": null,
            "min_width": null,
            "object_fit": null,
            "object_position": null,
            "order": null,
            "overflow": null,
            "overflow_x": null,
            "overflow_y": null,
            "padding": null,
            "right": null,
            "top": null,
            "visibility": null,
            "width": null
          }
        },
        "4555b0950eba404a9f5536a539d1c17d": {
          "model_module": "@jupyter-widgets/controls",
          "model_module_version": "1.5.0",
          "model_name": "DescriptionStyleModel",
          "state": {
            "_model_module": "@jupyter-widgets/controls",
            "_model_module_version": "1.5.0",
            "_model_name": "DescriptionStyleModel",
            "_view_count": null,
            "_view_module": "@jupyter-widgets/base",
            "_view_module_version": "1.2.0",
            "_view_name": "StyleView",
            "description_width": ""
          }
        },
        "57f7d9839fc34423b7ccaf51c7e20cb2": {
          "model_module": "@jupyter-widgets/base",
          "model_module_version": "1.2.0",
          "model_name": "LayoutModel",
          "state": {
            "_model_module": "@jupyter-widgets/base",
            "_model_module_version": "1.2.0",
            "_model_name": "LayoutModel",
            "_view_count": null,
            "_view_module": "@jupyter-widgets/base",
            "_view_module_version": "1.2.0",
            "_view_name": "LayoutView",
            "align_content": null,
            "align_items": null,
            "align_self": null,
            "border": null,
            "bottom": null,
            "display": null,
            "flex": null,
            "flex_flow": null,
            "grid_area": null,
            "grid_auto_columns": null,
            "grid_auto_flow": null,
            "grid_auto_rows": null,
            "grid_column": null,
            "grid_gap": null,
            "grid_row": null,
            "grid_template_areas": null,
            "grid_template_columns": null,
            "grid_template_rows": null,
            "height": null,
            "justify_content": null,
            "justify_items": null,
            "left": null,
            "margin": null,
            "max_height": null,
            "max_width": null,
            "min_height": null,
            "min_width": null,
            "object_fit": null,
            "object_position": null,
            "order": null,
            "overflow": null,
            "overflow_x": null,
            "overflow_y": null,
            "padding": null,
            "right": null,
            "top": null,
            "visibility": null,
            "width": null
          }
        },
        "588117cc5f4a405f836909d817d15df2": {
          "model_module": "@jupyter-widgets/controls",
          "model_module_version": "1.5.0",
          "model_name": "HTMLModel",
          "state": {
            "_dom_classes": [],
            "_model_module": "@jupyter-widgets/controls",
            "_model_module_version": "1.5.0",
            "_model_name": "HTMLModel",
            "_view_count": null,
            "_view_module": "@jupyter-widgets/controls",
            "_view_module_version": "1.5.0",
            "_view_name": "HTMLView",
            "description": "",
            "description_tooltip": null,
            "layout": "IPY_MODEL_cb5060f0347846d58f592450478b6179",
            "placeholder": "​",
            "style": "IPY_MODEL_6289f582dcab47c296f6c6dfcdc27101",
            "value": "tokenizer_config.json: 100%"
          }
        },
        "5bd25fa7c7ec4f138aeb2b9d69632200": {
          "model_module": "@jupyter-widgets/base",
          "model_module_version": "1.2.0",
          "model_name": "LayoutModel",
          "state": {
            "_model_module": "@jupyter-widgets/base",
            "_model_module_version": "1.2.0",
            "_model_name": "LayoutModel",
            "_view_count": null,
            "_view_module": "@jupyter-widgets/base",
            "_view_module_version": "1.2.0",
            "_view_name": "LayoutView",
            "align_content": null,
            "align_items": null,
            "align_self": null,
            "border": null,
            "bottom": null,
            "display": null,
            "flex": null,
            "flex_flow": null,
            "grid_area": null,
            "grid_auto_columns": null,
            "grid_auto_flow": null,
            "grid_auto_rows": null,
            "grid_column": null,
            "grid_gap": null,
            "grid_row": null,
            "grid_template_areas": null,
            "grid_template_columns": null,
            "grid_template_rows": null,
            "height": null,
            "justify_content": null,
            "justify_items": null,
            "left": null,
            "margin": null,
            "max_height": null,
            "max_width": null,
            "min_height": null,
            "min_width": null,
            "object_fit": null,
            "object_position": null,
            "order": null,
            "overflow": null,
            "overflow_x": null,
            "overflow_y": null,
            "padding": null,
            "right": null,
            "top": null,
            "visibility": null,
            "width": null
          }
        },
        "601863af5a4349a8806300d417216bf5": {
          "model_module": "@jupyter-widgets/controls",
          "model_module_version": "1.5.0",
          "model_name": "DescriptionStyleModel",
          "state": {
            "_model_module": "@jupyter-widgets/controls",
            "_model_module_version": "1.5.0",
            "_model_name": "DescriptionStyleModel",
            "_view_count": null,
            "_view_module": "@jupyter-widgets/base",
            "_view_module_version": "1.2.0",
            "_view_name": "StyleView",
            "description_width": ""
          }
        },
        "6085ec4a31ca4f8e9d2d6490aeaab893": {
          "model_module": "@jupyter-widgets/controls",
          "model_module_version": "1.5.0",
          "model_name": "DescriptionStyleModel",
          "state": {
            "_model_module": "@jupyter-widgets/controls",
            "_model_module_version": "1.5.0",
            "_model_name": "DescriptionStyleModel",
            "_view_count": null,
            "_view_module": "@jupyter-widgets/base",
            "_view_module_version": "1.2.0",
            "_view_name": "StyleView",
            "description_width": ""
          }
        },
        "624ce013a8c940ae99268bb377fc9b95": {
          "model_module": "@jupyter-widgets/base",
          "model_module_version": "1.2.0",
          "model_name": "LayoutModel",
          "state": {
            "_model_module": "@jupyter-widgets/base",
            "_model_module_version": "1.2.0",
            "_model_name": "LayoutModel",
            "_view_count": null,
            "_view_module": "@jupyter-widgets/base",
            "_view_module_version": "1.2.0",
            "_view_name": "LayoutView",
            "align_content": null,
            "align_items": null,
            "align_self": null,
            "border": null,
            "bottom": null,
            "display": null,
            "flex": null,
            "flex_flow": null,
            "grid_area": null,
            "grid_auto_columns": null,
            "grid_auto_flow": null,
            "grid_auto_rows": null,
            "grid_column": null,
            "grid_gap": null,
            "grid_row": null,
            "grid_template_areas": null,
            "grid_template_columns": null,
            "grid_template_rows": null,
            "height": null,
            "justify_content": null,
            "justify_items": null,
            "left": null,
            "margin": null,
            "max_height": null,
            "max_width": null,
            "min_height": null,
            "min_width": null,
            "object_fit": null,
            "object_position": null,
            "order": null,
            "overflow": null,
            "overflow_x": null,
            "overflow_y": null,
            "padding": null,
            "right": null,
            "top": null,
            "visibility": null,
            "width": null
          }
        },
        "6289f582dcab47c296f6c6dfcdc27101": {
          "model_module": "@jupyter-widgets/controls",
          "model_module_version": "1.5.0",
          "model_name": "DescriptionStyleModel",
          "state": {
            "_model_module": "@jupyter-widgets/controls",
            "_model_module_version": "1.5.0",
            "_model_name": "DescriptionStyleModel",
            "_view_count": null,
            "_view_module": "@jupyter-widgets/base",
            "_view_module_version": "1.2.0",
            "_view_name": "StyleView",
            "description_width": ""
          }
        },
        "6f25e693c0e34e63a6533f0f73e8a710": {
          "model_module": "@jupyter-widgets/controls",
          "model_module_version": "1.5.0",
          "model_name": "ProgressStyleModel",
          "state": {
            "_model_module": "@jupyter-widgets/controls",
            "_model_module_version": "1.5.0",
            "_model_name": "ProgressStyleModel",
            "_view_count": null,
            "_view_module": "@jupyter-widgets/base",
            "_view_module_version": "1.2.0",
            "_view_name": "StyleView",
            "bar_color": null,
            "description_width": ""
          }
        },
        "71ace48fb7534106a6b91e0719074958": {
          "model_module": "@jupyter-widgets/base",
          "model_module_version": "1.2.0",
          "model_name": "LayoutModel",
          "state": {
            "_model_module": "@jupyter-widgets/base",
            "_model_module_version": "1.2.0",
            "_model_name": "LayoutModel",
            "_view_count": null,
            "_view_module": "@jupyter-widgets/base",
            "_view_module_version": "1.2.0",
            "_view_name": "LayoutView",
            "align_content": null,
            "align_items": null,
            "align_self": null,
            "border": null,
            "bottom": null,
            "display": null,
            "flex": null,
            "flex_flow": null,
            "grid_area": null,
            "grid_auto_columns": null,
            "grid_auto_flow": null,
            "grid_auto_rows": null,
            "grid_column": null,
            "grid_gap": null,
            "grid_row": null,
            "grid_template_areas": null,
            "grid_template_columns": null,
            "grid_template_rows": null,
            "height": null,
            "justify_content": null,
            "justify_items": null,
            "left": null,
            "margin": null,
            "max_height": null,
            "max_width": null,
            "min_height": null,
            "min_width": null,
            "object_fit": null,
            "object_position": null,
            "order": null,
            "overflow": null,
            "overflow_x": null,
            "overflow_y": null,
            "padding": null,
            "right": null,
            "top": null,
            "visibility": null,
            "width": null
          }
        },
        "7a4395a310c94024bc4900fd6d227388": {
          "model_module": "@jupyter-widgets/controls",
          "model_module_version": "1.5.0",
          "model_name": "HTMLModel",
          "state": {
            "_dom_classes": [],
            "_model_module": "@jupyter-widgets/controls",
            "_model_module_version": "1.5.0",
            "_model_name": "HTMLModel",
            "_view_count": null,
            "_view_module": "@jupyter-widgets/controls",
            "_view_module_version": "1.5.0",
            "_view_name": "HTMLView",
            "description": "",
            "description_tooltip": null,
            "layout": "IPY_MODEL_71ace48fb7534106a6b91e0719074958",
            "placeholder": "​",
            "style": "IPY_MODEL_4555b0950eba404a9f5536a539d1c17d",
            "value": "model.safetensors: 100%"
          }
        },
        "7c607ebffc7d4d509936eba59551e2ed": {
          "model_module": "@jupyter-widgets/controls",
          "model_module_version": "1.5.0",
          "model_name": "DescriptionStyleModel",
          "state": {
            "_model_module": "@jupyter-widgets/controls",
            "_model_module_version": "1.5.0",
            "_model_name": "DescriptionStyleModel",
            "_view_count": null,
            "_view_module": "@jupyter-widgets/base",
            "_view_module_version": "1.2.0",
            "_view_name": "StyleView",
            "description_width": ""
          }
        },
        "82b813ac396440d6bf6c4fb5211ff327": {
          "model_module": "@jupyter-widgets/controls",
          "model_module_version": "1.5.0",
          "model_name": "HBoxModel",
          "state": {
            "_dom_classes": [],
            "_model_module": "@jupyter-widgets/controls",
            "_model_module_version": "1.5.0",
            "_model_name": "HBoxModel",
            "_view_count": null,
            "_view_module": "@jupyter-widgets/controls",
            "_view_module_version": "1.5.0",
            "_view_name": "HBoxView",
            "box_style": "",
            "children": [
              "IPY_MODEL_f14489429f5a41f6b61904aab6910f13",
              "IPY_MODEL_94e59d09e1ce41009d231e8c4582bdf6",
              "IPY_MODEL_15b27433a7a5448bbb3c0e66e9bb720b"
            ],
            "layout": "IPY_MODEL_05b4c345881a45f986bc033ceaa54d16"
          }
        },
        "8bfaced0124d461b8711a297c7677ad7": {
          "model_module": "@jupyter-widgets/controls",
          "model_module_version": "1.5.0",
          "model_name": "HTMLModel",
          "state": {
            "_dom_classes": [],
            "_model_module": "@jupyter-widgets/controls",
            "_model_module_version": "1.5.0",
            "_model_name": "HTMLModel",
            "_view_count": null,
            "_view_module": "@jupyter-widgets/controls",
            "_view_module_version": "1.5.0",
            "_view_name": "HTMLView",
            "description": "",
            "description_tooltip": null,
            "layout": "IPY_MODEL_edcff0a1e9a74b0ba758b11feb44b861",
            "placeholder": "​",
            "style": "IPY_MODEL_3def6638a9e443f1b7f7db3f02571ac6",
            "value": " 570/570 [00:00&lt;00:00, 36.7kB/s]"
          }
        },
        "94e59d09e1ce41009d231e8c4582bdf6": {
          "model_module": "@jupyter-widgets/controls",
          "model_module_version": "1.5.0",
          "model_name": "FloatProgressModel",
          "state": {
            "_dom_classes": [],
            "_model_module": "@jupyter-widgets/controls",
            "_model_module_version": "1.5.0",
            "_model_name": "FloatProgressModel",
            "_view_count": null,
            "_view_module": "@jupyter-widgets/controls",
            "_view_module_version": "1.5.0",
            "_view_name": "ProgressView",
            "bar_style": "success",
            "description": "",
            "description_tooltip": null,
            "layout": "IPY_MODEL_c0b31962e0b44fa5827b84fd0466759c",
            "max": 231508,
            "min": 0,
            "orientation": "horizontal",
            "style": "IPY_MODEL_e97f22c290b743fda865781d082e2a9c",
            "value": 231508
          }
        },
        "9b81160710d043a7991e739dfe9f6c5e": {
          "model_module": "@jupyter-widgets/controls",
          "model_module_version": "1.5.0",
          "model_name": "FloatProgressModel",
          "state": {
            "_dom_classes": [],
            "_model_module": "@jupyter-widgets/controls",
            "_model_module_version": "1.5.0",
            "_model_name": "FloatProgressModel",
            "_view_count": null,
            "_view_module": "@jupyter-widgets/controls",
            "_view_module_version": "1.5.0",
            "_view_name": "ProgressView",
            "bar_style": "success",
            "description": "",
            "description_tooltip": null,
            "layout": "IPY_MODEL_12df5a1890a54ecf81a70aebde9dae97",
            "max": 48,
            "min": 0,
            "orientation": "horizontal",
            "style": "IPY_MODEL_19ac81cf50d84412acf1a4a2b4e76d16",
            "value": 48
          }
        },
        "a679a89143ef42b6b6a63a728d19d24e": {
          "model_module": "@jupyter-widgets/base",
          "model_module_version": "1.2.0",
          "model_name": "LayoutModel",
          "state": {
            "_model_module": "@jupyter-widgets/base",
            "_model_module_version": "1.2.0",
            "_model_name": "LayoutModel",
            "_view_count": null,
            "_view_module": "@jupyter-widgets/base",
            "_view_module_version": "1.2.0",
            "_view_name": "LayoutView",
            "align_content": null,
            "align_items": null,
            "align_self": null,
            "border": null,
            "bottom": null,
            "display": null,
            "flex": null,
            "flex_flow": null,
            "grid_area": null,
            "grid_auto_columns": null,
            "grid_auto_flow": null,
            "grid_auto_rows": null,
            "grid_column": null,
            "grid_gap": null,
            "grid_row": null,
            "grid_template_areas": null,
            "grid_template_columns": null,
            "grid_template_rows": null,
            "height": null,
            "justify_content": null,
            "justify_items": null,
            "left": null,
            "margin": null,
            "max_height": null,
            "max_width": null,
            "min_height": null,
            "min_width": null,
            "object_fit": null,
            "object_position": null,
            "order": null,
            "overflow": null,
            "overflow_x": null,
            "overflow_y": null,
            "padding": null,
            "right": null,
            "top": null,
            "visibility": null,
            "width": null
          }
        },
        "aec776ab38e849dcaf36b64a8348fe8e": {
          "model_module": "@jupyter-widgets/base",
          "model_module_version": "1.2.0",
          "model_name": "LayoutModel",
          "state": {
            "_model_module": "@jupyter-widgets/base",
            "_model_module_version": "1.2.0",
            "_model_name": "LayoutModel",
            "_view_count": null,
            "_view_module": "@jupyter-widgets/base",
            "_view_module_version": "1.2.0",
            "_view_name": "LayoutView",
            "align_content": null,
            "align_items": null,
            "align_self": null,
            "border": null,
            "bottom": null,
            "display": null,
            "flex": null,
            "flex_flow": null,
            "grid_area": null,
            "grid_auto_columns": null,
            "grid_auto_flow": null,
            "grid_auto_rows": null,
            "grid_column": null,
            "grid_gap": null,
            "grid_row": null,
            "grid_template_areas": null,
            "grid_template_columns": null,
            "grid_template_rows": null,
            "height": null,
            "justify_content": null,
            "justify_items": null,
            "left": null,
            "margin": null,
            "max_height": null,
            "max_width": null,
            "min_height": null,
            "min_width": null,
            "object_fit": null,
            "object_position": null,
            "order": null,
            "overflow": null,
            "overflow_x": null,
            "overflow_y": null,
            "padding": null,
            "right": null,
            "top": null,
            "visibility": null,
            "width": null
          }
        },
        "b7f4640e6ab9451ca0c1fd7fe7374f90": {
          "model_module": "@jupyter-widgets/controls",
          "model_module_version": "1.5.0",
          "model_name": "HTMLModel",
          "state": {
            "_dom_classes": [],
            "_model_module": "@jupyter-widgets/controls",
            "_model_module_version": "1.5.0",
            "_model_name": "HTMLModel",
            "_view_count": null,
            "_view_module": "@jupyter-widgets/controls",
            "_view_module_version": "1.5.0",
            "_view_name": "HTMLView",
            "description": "",
            "description_tooltip": null,
            "layout": "IPY_MODEL_06f985debfac465fac2ff3720eedc591",
            "placeholder": "​",
            "style": "IPY_MODEL_7c607ebffc7d4d509936eba59551e2ed",
            "value": " 440M/440M [00:01&lt;00:00, 225MB/s]"
          }
        },
        "c0b31962e0b44fa5827b84fd0466759c": {
          "model_module": "@jupyter-widgets/base",
          "model_module_version": "1.2.0",
          "model_name": "LayoutModel",
          "state": {
            "_model_module": "@jupyter-widgets/base",
            "_model_module_version": "1.2.0",
            "_model_name": "LayoutModel",
            "_view_count": null,
            "_view_module": "@jupyter-widgets/base",
            "_view_module_version": "1.2.0",
            "_view_name": "LayoutView",
            "align_content": null,
            "align_items": null,
            "align_self": null,
            "border": null,
            "bottom": null,
            "display": null,
            "flex": null,
            "flex_flow": null,
            "grid_area": null,
            "grid_auto_columns": null,
            "grid_auto_flow": null,
            "grid_auto_rows": null,
            "grid_column": null,
            "grid_gap": null,
            "grid_row": null,
            "grid_template_areas": null,
            "grid_template_columns": null,
            "grid_template_rows": null,
            "height": null,
            "justify_content": null,
            "justify_items": null,
            "left": null,
            "margin": null,
            "max_height": null,
            "max_width": null,
            "min_height": null,
            "min_width": null,
            "object_fit": null,
            "object_position": null,
            "order": null,
            "overflow": null,
            "overflow_x": null,
            "overflow_y": null,
            "padding": null,
            "right": null,
            "top": null,
            "visibility": null,
            "width": null
          }
        },
        "cb5060f0347846d58f592450478b6179": {
          "model_module": "@jupyter-widgets/base",
          "model_module_version": "1.2.0",
          "model_name": "LayoutModel",
          "state": {
            "_model_module": "@jupyter-widgets/base",
            "_model_module_version": "1.2.0",
            "_model_name": "LayoutModel",
            "_view_count": null,
            "_view_module": "@jupyter-widgets/base",
            "_view_module_version": "1.2.0",
            "_view_name": "LayoutView",
            "align_content": null,
            "align_items": null,
            "align_self": null,
            "border": null,
            "bottom": null,
            "display": null,
            "flex": null,
            "flex_flow": null,
            "grid_area": null,
            "grid_auto_columns": null,
            "grid_auto_flow": null,
            "grid_auto_rows": null,
            "grid_column": null,
            "grid_gap": null,
            "grid_row": null,
            "grid_template_areas": null,
            "grid_template_columns": null,
            "grid_template_rows": null,
            "height": null,
            "justify_content": null,
            "justify_items": null,
            "left": null,
            "margin": null,
            "max_height": null,
            "max_width": null,
            "min_height": null,
            "min_width": null,
            "object_fit": null,
            "object_position": null,
            "order": null,
            "overflow": null,
            "overflow_x": null,
            "overflow_y": null,
            "padding": null,
            "right": null,
            "top": null,
            "visibility": null,
            "width": null
          }
        },
        "cb72104c7a254918ad9502c5732bbd95": {
          "model_module": "@jupyter-widgets/controls",
          "model_module_version": "1.5.0",
          "model_name": "DescriptionStyleModel",
          "state": {
            "_model_module": "@jupyter-widgets/controls",
            "_model_module_version": "1.5.0",
            "_model_name": "DescriptionStyleModel",
            "_view_count": null,
            "_view_module": "@jupyter-widgets/base",
            "_view_module_version": "1.2.0",
            "_view_name": "StyleView",
            "description_width": ""
          }
        },
        "d23d7bba1b6b48a3bff0bdfddf929623": {
          "model_module": "@jupyter-widgets/base",
          "model_module_version": "1.2.0",
          "model_name": "LayoutModel",
          "state": {
            "_model_module": "@jupyter-widgets/base",
            "_model_module_version": "1.2.0",
            "_model_name": "LayoutModel",
            "_view_count": null,
            "_view_module": "@jupyter-widgets/base",
            "_view_module_version": "1.2.0",
            "_view_name": "LayoutView",
            "align_content": null,
            "align_items": null,
            "align_self": null,
            "border": null,
            "bottom": null,
            "display": null,
            "flex": null,
            "flex_flow": null,
            "grid_area": null,
            "grid_auto_columns": null,
            "grid_auto_flow": null,
            "grid_auto_rows": null,
            "grid_column": null,
            "grid_gap": null,
            "grid_row": null,
            "grid_template_areas": null,
            "grid_template_columns": null,
            "grid_template_rows": null,
            "height": null,
            "justify_content": null,
            "justify_items": null,
            "left": null,
            "margin": null,
            "max_height": null,
            "max_width": null,
            "min_height": null,
            "min_width": null,
            "object_fit": null,
            "object_position": null,
            "order": null,
            "overflow": null,
            "overflow_x": null,
            "overflow_y": null,
            "padding": null,
            "right": null,
            "top": null,
            "visibility": null,
            "width": null
          }
        },
        "d43e690977c44cc0828aed7bbaabaf4b": {
          "model_module": "@jupyter-widgets/base",
          "model_module_version": "1.2.0",
          "model_name": "LayoutModel",
          "state": {
            "_model_module": "@jupyter-widgets/base",
            "_model_module_version": "1.2.0",
            "_model_name": "LayoutModel",
            "_view_count": null,
            "_view_module": "@jupyter-widgets/base",
            "_view_module_version": "1.2.0",
            "_view_name": "LayoutView",
            "align_content": null,
            "align_items": null,
            "align_self": null,
            "border": null,
            "bottom": null,
            "display": null,
            "flex": null,
            "flex_flow": null,
            "grid_area": null,
            "grid_auto_columns": null,
            "grid_auto_flow": null,
            "grid_auto_rows": null,
            "grid_column": null,
            "grid_gap": null,
            "grid_row": null,
            "grid_template_areas": null,
            "grid_template_columns": null,
            "grid_template_rows": null,
            "height": null,
            "justify_content": null,
            "justify_items": null,
            "left": null,
            "margin": null,
            "max_height": null,
            "max_width": null,
            "min_height": null,
            "min_width": null,
            "object_fit": null,
            "object_position": null,
            "order": null,
            "overflow": null,
            "overflow_x": null,
            "overflow_y": null,
            "padding": null,
            "right": null,
            "top": null,
            "visibility": null,
            "width": null
          }
        },
        "da88fbc9793f48588e9fffc647101e57": {
          "model_module": "@jupyter-widgets/controls",
          "model_module_version": "1.5.0",
          "model_name": "FloatProgressModel",
          "state": {
            "_dom_classes": [],
            "_model_module": "@jupyter-widgets/controls",
            "_model_module_version": "1.5.0",
            "_model_name": "FloatProgressModel",
            "_view_count": null,
            "_view_module": "@jupyter-widgets/controls",
            "_view_module_version": "1.5.0",
            "_view_name": "ProgressView",
            "bar_style": "success",
            "description": "",
            "description_tooltip": null,
            "layout": "IPY_MODEL_d23d7bba1b6b48a3bff0bdfddf929623",
            "max": 466062,
            "min": 0,
            "orientation": "horizontal",
            "style": "IPY_MODEL_6f25e693c0e34e63a6533f0f73e8a710",
            "value": 466062
          }
        },
        "dad9571765a840a3bb824449b7d24700": {
          "model_module": "@jupyter-widgets/controls",
          "model_module_version": "1.5.0",
          "model_name": "ProgressStyleModel",
          "state": {
            "_model_module": "@jupyter-widgets/controls",
            "_model_module_version": "1.5.0",
            "_model_name": "ProgressStyleModel",
            "_view_count": null,
            "_view_module": "@jupyter-widgets/base",
            "_view_module_version": "1.2.0",
            "_view_name": "StyleView",
            "bar_color": null,
            "description_width": ""
          }
        },
        "e109ed20eb2f42f4b4300e16b971c3e6": {
          "model_module": "@jupyter-widgets/controls",
          "model_module_version": "1.5.0",
          "model_name": "FloatProgressModel",
          "state": {
            "_dom_classes": [],
            "_model_module": "@jupyter-widgets/controls",
            "_model_module_version": "1.5.0",
            "_model_name": "FloatProgressModel",
            "_view_count": null,
            "_view_module": "@jupyter-widgets/controls",
            "_view_module_version": "1.5.0",
            "_view_name": "ProgressView",
            "bar_style": "success",
            "description": "",
            "description_tooltip": null,
            "layout": "IPY_MODEL_d43e690977c44cc0828aed7bbaabaf4b",
            "max": 440449768,
            "min": 0,
            "orientation": "horizontal",
            "style": "IPY_MODEL_dad9571765a840a3bb824449b7d24700",
            "value": 440449768
          }
        },
        "e110ed620cf94ea69a8d9d036fc984f2": {
          "model_module": "@jupyter-widgets/controls",
          "model_module_version": "1.5.0",
          "model_name": "FloatProgressModel",
          "state": {
            "_dom_classes": [],
            "_model_module": "@jupyter-widgets/controls",
            "_model_module_version": "1.5.0",
            "_model_name": "FloatProgressModel",
            "_view_count": null,
            "_view_module": "@jupyter-widgets/controls",
            "_view_module_version": "1.5.0",
            "_view_name": "ProgressView",
            "bar_style": "success",
            "description": "",
            "description_tooltip": null,
            "layout": "IPY_MODEL_f0239174398148c0a11c670a9d55fd41",
            "max": 570,
            "min": 0,
            "orientation": "horizontal",
            "style": "IPY_MODEL_40d27a4e72dc4bab8c56be5d304f19ab",
            "value": 570
          }
        },
        "e8b9e0db053340c3862492a364aecaba": {
          "model_module": "@jupyter-widgets/controls",
          "model_module_version": "1.5.0",
          "model_name": "HTMLModel",
          "state": {
            "_dom_classes": [],
            "_model_module": "@jupyter-widgets/controls",
            "_model_module_version": "1.5.0",
            "_model_name": "HTMLModel",
            "_view_count": null,
            "_view_module": "@jupyter-widgets/controls",
            "_view_module_version": "1.5.0",
            "_view_name": "HTMLView",
            "description": "",
            "description_tooltip": null,
            "layout": "IPY_MODEL_a679a89143ef42b6b6a63a728d19d24e",
            "placeholder": "​",
            "style": "IPY_MODEL_6085ec4a31ca4f8e9d2d6490aeaab893",
            "value": " 466k/466k [00:00&lt;00:00, 2.37MB/s]"
          }
        },
        "e97f22c290b743fda865781d082e2a9c": {
          "model_module": "@jupyter-widgets/controls",
          "model_module_version": "1.5.0",
          "model_name": "ProgressStyleModel",
          "state": {
            "_model_module": "@jupyter-widgets/controls",
            "_model_module_version": "1.5.0",
            "_model_name": "ProgressStyleModel",
            "_view_count": null,
            "_view_module": "@jupyter-widgets/base",
            "_view_module_version": "1.2.0",
            "_view_name": "StyleView",
            "bar_color": null,
            "description_width": ""
          }
        },
        "edcff0a1e9a74b0ba758b11feb44b861": {
          "model_module": "@jupyter-widgets/base",
          "model_module_version": "1.2.0",
          "model_name": "LayoutModel",
          "state": {
            "_model_module": "@jupyter-widgets/base",
            "_model_module_version": "1.2.0",
            "_model_name": "LayoutModel",
            "_view_count": null,
            "_view_module": "@jupyter-widgets/base",
            "_view_module_version": "1.2.0",
            "_view_name": "LayoutView",
            "align_content": null,
            "align_items": null,
            "align_self": null,
            "border": null,
            "bottom": null,
            "display": null,
            "flex": null,
            "flex_flow": null,
            "grid_area": null,
            "grid_auto_columns": null,
            "grid_auto_flow": null,
            "grid_auto_rows": null,
            "grid_column": null,
            "grid_gap": null,
            "grid_row": null,
            "grid_template_areas": null,
            "grid_template_columns": null,
            "grid_template_rows": null,
            "height": null,
            "justify_content": null,
            "justify_items": null,
            "left": null,
            "margin": null,
            "max_height": null,
            "max_width": null,
            "min_height": null,
            "min_width": null,
            "object_fit": null,
            "object_position": null,
            "order": null,
            "overflow": null,
            "overflow_x": null,
            "overflow_y": null,
            "padding": null,
            "right": null,
            "top": null,
            "visibility": null,
            "width": null
          }
        },
        "f0239174398148c0a11c670a9d55fd41": {
          "model_module": "@jupyter-widgets/base",
          "model_module_version": "1.2.0",
          "model_name": "LayoutModel",
          "state": {
            "_model_module": "@jupyter-widgets/base",
            "_model_module_version": "1.2.0",
            "_model_name": "LayoutModel",
            "_view_count": null,
            "_view_module": "@jupyter-widgets/base",
            "_view_module_version": "1.2.0",
            "_view_name": "LayoutView",
            "align_content": null,
            "align_items": null,
            "align_self": null,
            "border": null,
            "bottom": null,
            "display": null,
            "flex": null,
            "flex_flow": null,
            "grid_area": null,
            "grid_auto_columns": null,
            "grid_auto_flow": null,
            "grid_auto_rows": null,
            "grid_column": null,
            "grid_gap": null,
            "grid_row": null,
            "grid_template_areas": null,
            "grid_template_columns": null,
            "grid_template_rows": null,
            "height": null,
            "justify_content": null,
            "justify_items": null,
            "left": null,
            "margin": null,
            "max_height": null,
            "max_width": null,
            "min_height": null,
            "min_width": null,
            "object_fit": null,
            "object_position": null,
            "order": null,
            "overflow": null,
            "overflow_x": null,
            "overflow_y": null,
            "padding": null,
            "right": null,
            "top": null,
            "visibility": null,
            "width": null
          }
        },
        "f14489429f5a41f6b61904aab6910f13": {
          "model_module": "@jupyter-widgets/controls",
          "model_module_version": "1.5.0",
          "model_name": "HTMLModel",
          "state": {
            "_dom_classes": [],
            "_model_module": "@jupyter-widgets/controls",
            "_model_module_version": "1.5.0",
            "_model_name": "HTMLModel",
            "_view_count": null,
            "_view_module": "@jupyter-widgets/controls",
            "_view_module_version": "1.5.0",
            "_view_name": "HTMLView",
            "description": "",
            "description_tooltip": null,
            "layout": "IPY_MODEL_256b2089217b4400960cb13769e2ab21",
            "placeholder": "​",
            "style": "IPY_MODEL_f29df4a5154843b69241b034c19db6ef",
            "value": "vocab.txt: 100%"
          }
        },
        "f1d77d3ca79f441d87d53f5a04e60267": {
          "model_module": "@jupyter-widgets/controls",
          "model_module_version": "1.5.0",
          "model_name": "HBoxModel",
          "state": {
            "_dom_classes": [],
            "_model_module": "@jupyter-widgets/controls",
            "_model_module_version": "1.5.0",
            "_model_name": "HBoxModel",
            "_view_count": null,
            "_view_module": "@jupyter-widgets/controls",
            "_view_module_version": "1.5.0",
            "_view_name": "HBoxView",
            "box_style": "",
            "children": [
              "IPY_MODEL_588117cc5f4a405f836909d817d15df2",
              "IPY_MODEL_9b81160710d043a7991e739dfe9f6c5e",
              "IPY_MODEL_355bc557ba3f456cad167e5f9b796d6a"
            ],
            "layout": "IPY_MODEL_1691c450b438493aa7fa3b953e9fef81"
          }
        },
        "f29df4a5154843b69241b034c19db6ef": {
          "model_module": "@jupyter-widgets/controls",
          "model_module_version": "1.5.0",
          "model_name": "DescriptionStyleModel",
          "state": {
            "_model_module": "@jupyter-widgets/controls",
            "_model_module_version": "1.5.0",
            "_model_name": "DescriptionStyleModel",
            "_view_count": null,
            "_view_module": "@jupyter-widgets/base",
            "_view_module_version": "1.2.0",
            "_view_name": "StyleView",
            "description_width": ""
          }
        }
      }
    }
  },
  "nbformat": 4,
  "nbformat_minor": 0
}
