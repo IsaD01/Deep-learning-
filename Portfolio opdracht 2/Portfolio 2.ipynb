{
 "cells": [
  {
   "cell_type": "markdown",
   "metadata": {},
   "source": [
    "<table style=\"margin-left: 0;\">\n",
    "    <tr>\n",
    "        <td colspan=\"5\" style=\"text-align: center;\"><h2><b>Portfolio 2 - Deep Learning</b></h2></td>\n",
    "    </tr>\n",
    "    <tr>\n",
    "        <th>Coach</th>\n",
    "        <th>Opdrachtnummer</th>\n",
    "        <th>Namen groepsleden</th>\n",
    "        <th>Kaggle naam</th>\n",
    "    </tr>\n",
    "    <tr>\n",
    "        <td><span style=\"color:blue\">Vikram en Bob</span></td>\n",
    "        <td><span style=\"color:blue\">2</span></td>\n",
    "        <td>\n",
    "            <ul style=\"list-style-type:none; padding-left:0;\">\n",
    "                <li><b>Mark Olieman:</b> <span style=\"color:green\">19054033</span></li>\n",
    "                <li><b>Johan Heskes:</b> <span style=\"color:green\">22132376</span></li>\n",
    "                <li><b>Henry Lau:</b> <span style=\"color:green\">22122958</span></li>\n",
    "                <li><b>Isa Dijkstra:</b> <span style=\"color:green\">22119485</span></li>\n",
    "            </ul>\n",
    "        </td>\n",
    "        <td><span style=\"color:blue\">???</span></td>\n",
    "    </tr>\n",
    "</table>\n",
    "\n",
    "    \n",
    "    \n",
    "## Inhoudsopgave\n",
    "\n",
    "- [**Inleiding**](#inleiding)\n",
    "- [**Packages en de data inladen**](#data)\n",
    "- [**Opdracht 1 - EDA**](#eda)\n",
    "- [**Opdracht 2 - LSTM voor audioclips**](#audio)\n",
    "- [**Opdracht 3 - LSTM voor songteksten**](#song_lstm)\n",
    "- [**Opdracht 4 - Transformer voor songteksten**](#song_tran)\n",
    "- [**Opdracht 5 - Model naar keuze**](#mnk)\n",
    "- [**Opdracht 6 - Bevindingen**](#bevindingen)\n",
    "- [**Opdracht 7 - Conclusie en aanbevelingen**](#conclusie)\n",
    "- [**Bronnenlijst**](#bronnenlijst)"
   ]
  },
  {
   "cell_type": "markdown",
   "metadata": {},
   "source": [
    "## Inleiding <a name='inleiding'></a>"
   ]
  },
  {
   "cell_type": "markdown",
   "metadata": {},
   "source": [
    "In dit notebook gaan we aan de hand van songteksten en audiodata, audiotracks in verschillende genres classificeren"
   ]
  },
  {
   "cell_type": "markdown",
   "metadata": {},
   "source": [
    "## Packages en de data inladen <a name='data'></a>"
   ]
  },
  {
   "cell_type": "code",
   "execution_count": 1,
   "metadata": {},
   "outputs": [
    {
     "name": "stdout",
     "output_type": "stream",
     "text": [
      "WARNING:tensorflow:From C:\\Users\\Gebruiker\\anaconda3\\lib\\site-packages\\keras\\src\\losses.py:2976: The name tf.losses.sparse_softmax_cross_entropy is deprecated. Please use tf.compat.v1.losses.sparse_softmax_cross_entropy instead.\n",
      "\n"
     ]
    }
   ],
   "source": [
    "import os\n",
    "import re\n",
    "import nltk\n",
    "from nltk.tokenize import word_tokenize\n",
    "import string\n",
    "import pathlib\n",
    "import numpy as np\n",
    "import pandas as pd\n",
    "import matplotlib.pyplot as plt\n",
    "import seaborn as sns\n",
    "from sklearn.preprocessing import LabelEncoder\n",
    "import tensorflow as tf\n",
    "from tensorflow.keras import Sequential\n",
    "from tensorflow.keras import layers\n",
    "from tensorflow.keras import models\n",
    "from IPython import display\n",
    "from tensorflow.keras.layers import LSTM, Bidirectional, Dense, Dropout, Embedding, TextVectorization\n"
   ]
  },
  {
   "cell_type": "code",
   "execution_count": 2,
   "metadata": {},
   "outputs": [],
   "source": [
    "#songteksten inladen\n",
    "\n",
    "train = pd.read_csv('train.csv')\n",
    "test = pd.read_csv('test.csv')"
   ]
  },
  {
   "cell_type": "code",
   "execution_count": 3,
   "metadata": {},
   "outputs": [
    {
     "data": {
      "text/html": [
       "<div>\n",
       "<style scoped>\n",
       "    .dataframe tbody tr th:only-of-type {\n",
       "        vertical-align: middle;\n",
       "    }\n",
       "\n",
       "    .dataframe tbody tr th {\n",
       "        vertical-align: top;\n",
       "    }\n",
       "\n",
       "    .dataframe thead th {\n",
       "        text-align: right;\n",
       "    }\n",
       "</style>\n",
       "<table border=\"1\" class=\"dataframe\">\n",
       "  <thead>\n",
       "    <tr style=\"text-align: right;\">\n",
       "      <th></th>\n",
       "      <th>filename</th>\n",
       "      <th>lyrics</th>\n",
       "    </tr>\n",
       "  </thead>\n",
       "  <tbody>\n",
       "    <tr>\n",
       "      <th>0</th>\n",
       "      <td>test.00000.wav</td>\n",
       "      <td>[Instrumental Intro]\\r\\n(Radio)\\r\\n(Radio)\\r\\n...</td>\n",
       "    </tr>\n",
       "    <tr>\n",
       "      <th>1</th>\n",
       "      <td>test.00001.wav</td>\n",
       "      <td>[Verse 1]\\r\\nThere's an old Kodak camera in my...</td>\n",
       "    </tr>\n",
       "    <tr>\n",
       "      <th>2</th>\n",
       "      <td>test.00002.wav</td>\n",
       "      <td>[Intro]\\r\\nSo curious, so curious\\r\\n\\r\\n[Vers...</td>\n",
       "    </tr>\n",
       "    <tr>\n",
       "      <th>3</th>\n",
       "      <td>test.00003.wav</td>\n",
       "      <td>[Intro]\\r\\nWhere do I take this pain of mine\\r...</td>\n",
       "    </tr>\n",
       "    <tr>\n",
       "      <th>4</th>\n",
       "      <td>test.00004.wav</td>\n",
       "      <td>[Verse 1]\\r\\nBaby's into runnin' around, hangi...</td>\n",
       "    </tr>\n",
       "    <tr>\n",
       "      <th>...</th>\n",
       "      <td>...</td>\n",
       "      <td>...</td>\n",
       "    </tr>\n",
       "    <tr>\n",
       "      <th>124</th>\n",
       "      <td>test.00124.wav</td>\n",
       "      <td>Heaven must be missing an angel\\r\\nMissing one...</td>\n",
       "    </tr>\n",
       "    <tr>\n",
       "      <th>125</th>\n",
       "      <td>test.00125.wav</td>\n",
       "      <td>[Verse 1]\\r\\nLaura and Tommy were lovers\\r\\nHe...</td>\n",
       "    </tr>\n",
       "    <tr>\n",
       "      <th>126</th>\n",
       "      <td>test.00126.wav</td>\n",
       "      <td>[Chorus: Agnetha &amp; Frida, Benny &amp; Björn]\\r\\nIf...</td>\n",
       "    </tr>\n",
       "    <tr>\n",
       "      <th>127</th>\n",
       "      <td>test.00127.wav</td>\n",
       "      <td>[Chorus]\\r\\nLegalize it\\r\\nAnd don't criticize...</td>\n",
       "    </tr>\n",
       "    <tr>\n",
       "      <th>128</th>\n",
       "      <td>test.00128.wav</td>\n",
       "      <td>[Verse 1]\\r\\nWell, in North Carolina, way back...</td>\n",
       "    </tr>\n",
       "  </tbody>\n",
       "</table>\n",
       "<p>129 rows × 2 columns</p>\n",
       "</div>"
      ],
      "text/plain": [
       "           filename                                             lyrics\n",
       "0    test.00000.wav  [Instrumental Intro]\\r\\n(Radio)\\r\\n(Radio)\\r\\n...\n",
       "1    test.00001.wav  [Verse 1]\\r\\nThere's an old Kodak camera in my...\n",
       "2    test.00002.wav  [Intro]\\r\\nSo curious, so curious\\r\\n\\r\\n[Vers...\n",
       "3    test.00003.wav  [Intro]\\r\\nWhere do I take this pain of mine\\r...\n",
       "4    test.00004.wav  [Verse 1]\\r\\nBaby's into runnin' around, hangi...\n",
       "..              ...                                                ...\n",
       "124  test.00124.wav  Heaven must be missing an angel\\r\\nMissing one...\n",
       "125  test.00125.wav  [Verse 1]\\r\\nLaura and Tommy were lovers\\r\\nHe...\n",
       "126  test.00126.wav  [Chorus: Agnetha & Frida, Benny & Björn]\\r\\nIf...\n",
       "127  test.00127.wav  [Chorus]\\r\\nLegalize it\\r\\nAnd don't criticize...\n",
       "128  test.00128.wav  [Verse 1]\\r\\nWell, in North Carolina, way back...\n",
       "\n",
       "[129 rows x 2 columns]"
      ]
     },
     "execution_count": 3,
     "metadata": {},
     "output_type": "execute_result"
    }
   ],
   "source": [
    "test\n"
   ]
  },
  {
   "cell_type": "code",
   "execution_count": 4,
   "metadata": {},
   "outputs": [
    {
     "name": "stdout",
     "output_type": "stream",
     "text": [
      "Found 537 files belonging to 8 classes.\n",
      "Using 430 files for training.\n",
      "Using 107 files for validation.\n",
      "\n",
      "label names: ['blues' 'country' 'disco' 'hiphop' 'metal' 'pop' 'reggae' 'rock']\n"
     ]
    }
   ],
   "source": [
    "#Train en validation set inladen\n",
    "\n",
    "train_ds, val_ds = tf.keras.utils.audio_dataset_from_directory(\n",
    "    directory='Train',\n",
    "    batch_size=32,\n",
    "    validation_split=0.2,\n",
    "    seed=0,\n",
    "    output_sequence_length=5*16000,\n",
    "    subset='both')\n",
    "\n",
    "label_names = np.array(train_ds.class_names)\n",
    "print()\n",
    "print(\"label names:\", label_names)"
   ]
  },
  {
   "cell_type": "code",
   "execution_count": 5,
   "metadata": {},
   "outputs": [
    {
     "data": {
      "text/plain": [
       "8"
      ]
     },
     "execution_count": 5,
     "metadata": {},
     "output_type": "execute_result"
    }
   ],
   "source": [
    "len(label_names)"
   ]
  },
  {
   "cell_type": "code",
   "execution_count": 6,
   "metadata": {},
   "outputs": [],
   "source": [
    "def squeeze(audio, labels):\n",
    "    audio = tf.squeeze(audio, axis=-1)\n",
    "    return audio, labels\n",
    "\n",
    "train_ds = train_ds.map(squeeze, tf.data.AUTOTUNE)\n",
    "val_ds = val_ds.map(squeeze, tf.data.AUTOTUNE)"
   ]
  },
  {
   "cell_type": "code",
   "execution_count": 7,
   "metadata": {},
   "outputs": [
    {
     "name": "stdout",
     "output_type": "stream",
     "text": [
      "Found 129 files belonging to 1 classes.\n",
      "\n"
     ]
    }
   ],
   "source": [
    "#test dataset inladen\n",
    "\n",
    "test_ds = tf.keras.utils.audio_dataset_from_directory(\n",
    "    directory='Test',\n",
    "    label_mode=None,\n",
    "    batch_size=32,\n",
    "    seed=0,\n",
    "    output_sequence_length=5*16000)\n",
    "\n",
    "print()"
   ]
  },
  {
   "cell_type": "code",
   "execution_count": 8,
   "metadata": {},
   "outputs": [],
   "source": [
    "train_ds = train_ds.cache().shuffle(10).prefetch(tf.data.AUTOTUNE)\n",
    "val_ds = val_ds.cache().prefetch(tf.data.AUTOTUNE)"
   ]
  },
  {
   "cell_type": "markdown",
   "metadata": {},
   "source": [
    "## **Opdracht 1 - EDA** <a name='eda'></a>"
   ]
  },
  {
   "cell_type": "code",
   "execution_count": 9,
   "metadata": {},
   "outputs": [
    {
     "ename": "TypeError",
     "evalue": "'module' object is not callable",
     "output_type": "error",
     "traceback": [
      "\u001b[1;31m---------------------------------------------------------------------------\u001b[0m",
      "\u001b[1;31mTypeError\u001b[0m                                 Traceback (most recent call last)",
      "Input \u001b[1;32mIn [9]\u001b[0m, in \u001b[0;36m<cell line: 1>\u001b[1;34m()\u001b[0m\n\u001b[1;32m----> 1\u001b[0m \u001b[43mdisplay\u001b[49m\u001b[43m(\u001b[49m\u001b[43mtrain\u001b[49m\u001b[38;5;241;43m.\u001b[39;49m\u001b[43mhead\u001b[49m\u001b[43m(\u001b[49m\u001b[43m)\u001b[49m\u001b[43m)\u001b[49m\n\u001b[0;32m      2\u001b[0m display(train\u001b[38;5;241m.\u001b[39mdescribe())\n\u001b[0;32m      3\u001b[0m display(train\u001b[38;5;241m.\u001b[39misnull()\u001b[38;5;241m.\u001b[39msum())\n",
      "\u001b[1;31mTypeError\u001b[0m: 'module' object is not callable"
     ]
    }
   ],
   "source": [
    "display(train.head())\n",
    "display(train.describe())\n",
    "display(train.isnull().sum())"
   ]
  },
  {
   "cell_type": "code",
   "execution_count": 10,
   "metadata": {},
   "outputs": [
    {
     "name": "stdout",
     "output_type": "stream",
     "text": [
      "(32, 80000)\n",
      "(32,)\n"
     ]
    },
    {
     "data": {
      "image/png": "[encoded data removed]",
      "text/plain": [
       "<Figure size 1152x720 with 9 Axes>"
      ]
     },
     "metadata": {
      "needs_background": "light"
     },
     "output_type": "display_data"
    }
   ],
   "source": [
    "for example_audio, example_labels in train_ds.take(1):\n",
    "    print(example_audio.shape)\n",
    "    print(example_labels.shape)\n",
    "\n",
    "label_names[[1,1,0,0]]\n",
    "plt.figure(figsize=(16, 10))\n",
    "rows = 3\n",
    "cols = 3\n",
    "n = rows * cols\n",
    "for i in range(n):\n",
    "    plt.subplot(rows, cols, i+1)\n",
    "    audio_signal = example_audio[i]\n",
    "    plt.plot(audio_signal)\n",
    "    plt.title(label_names[example_labels[i]])\n",
    "    plt.yticks(np.arange(-1.2, 1.2, 0.2))\n",
    "    plt.ylim([-1.1, 1.1])"
   ]
  },
  {
   "cell_type": "markdown",
   "metadata": {},
   "source": [
    "## Opdracht 2 - LSTM voor audioclips <a name='audio'></a>"
   ]
  },
  {
   "cell_type": "code",
   "execution_count": 11,
   "metadata": {},
   "outputs": [],
   "source": [
    "def get_spectrogram(waveform):\n",
    "    # Convert the waveform to a spectrogram via a STFT.\n",
    "    spectrogram = tf.signal.stft(waveform, frame_length=512, frame_step=256)\n",
    "\n",
    "    # Obtain the magnitude of the STFT (use tf.abs).\n",
    "    spectrogram = tf.abs(spectrogram)\n",
    "\n",
    "    # Add a `channels` dimension, so that the spectrogram can be used\n",
    "    # as image-like input data with convolution layers (which expect\n",
    "    # shape (`batch_size`, `height`, `width`, `channels`).\n",
    "    spectrogram = spectrogram[..., tf.newaxis]\n",
    "\n",
    "    return spectrogram"
   ]
  },
  {
   "cell_type": "code",
   "execution_count": 12,
   "metadata": {},
   "outputs": [],
   "source": [
    "def make_spec_ds(ds):\n",
    "    return ds.map(\n",
    "      map_func=lambda audio,label: (get_spectrogram(audio), label),\n",
    "      num_parallel_calls=tf.data.AUTOTUNE)"
   ]
  },
  {
   "cell_type": "code",
   "execution_count": 13,
   "metadata": {},
   "outputs": [],
   "source": [
    "train_spectrogram_ds = make_spec_ds(train_ds)\n",
    "val_spectrogram_ds = make_spec_ds(val_ds)"
   ]
  },
  {
   "cell_type": "code",
   "execution_count": 14,
   "metadata": {},
   "outputs": [],
   "source": [
    "#even kijken of het zo werkt\n",
    "def make_spec_ds(ds):\n",
    "    return ds.map(\n",
    "      map_func=lambda audio: (get_spectrogram(audio),),  # Geen label doorgeven\n",
    "      num_parallel_calls=tf.data.AUTOTUNE)\n",
    "\n",
    "test_spectrogram_ds = make_spec_ds(test_ds)\n"
   ]
  },
  {
   "cell_type": "code",
   "execution_count": 15,
   "metadata": {},
   "outputs": [],
   "source": [
    "train_spectrogram_ds = train_spectrogram_ds.cache().shuffle(10).prefetch(tf.data.AUTOTUNE)\n",
    "val_spectrogram_ds = val_spectrogram_ds.cache().prefetch(tf.data.AUTOTUNE)\n",
    "test_spectrogram_ds = test_spectrogram_ds.cache().prefetch(tf.data.AUTOTUNE)"
   ]
  },
  {
   "cell_type": "code",
   "execution_count": 16,
   "metadata": {},
   "outputs": [],
   "source": [
    "def spectrogram_to_mfcc(spectrograms, num_mel_bins=128, num_coefficients=13, sample_rate=16000):\n",
    "    \"\"\"\n",
    "    Convert a batch of spectrograms to a batch of 1D time series of MFCCs.\n",
    "\n",
    "    Parameters:\n",
    "    - spectrograms: A TensorFlow Tensor representing a batch of spectrograms with shape (batch_size, 311, 257, 1).\n",
    "    - num_mel_bins: Number of Mel bins to use.\n",
    "    - num_coefficients: Number of MFCC coefficients to return.\n",
    "    - sample_rate: Sample rate of the audio.\n",
    "\n",
    "    Returns:\n",
    "    - A TensorFlow Tensor containing the MFCCs with shape (batch_size, num_frames, num_coefficients).\n",
    "    \"\"\"\n",
    "    # Remove the last dimension (channel dimension, if it's 1)\n",
    "    spectrograms = tf.squeeze(spectrograms, axis=-1)\n",
    "\n",
    "    # Compute Mel spectrograms\n",
    "    stfts_to_mel_matrix = tf.signal.linear_to_mel_weight_matrix(\n",
    "        num_mel_bins=num_mel_bins,\n",
    "        num_spectrogram_bins=spectrograms.shape[-1],\n",
    "        sample_rate=sample_rate,\n",
    "        lower_edge_hertz=20.0,\n",
    "        upper_edge_hertz=sample_rate / 2)\n",
    "    mel_spectrograms = tf.tensordot(spectrograms, stfts_to_mel_matrix, 1)\n",
    "    # Shape tuning for the mel spectrograms as expected\n",
    "    mel_spectrograms.set_shape(spectrograms.shape[:-1] + (num_mel_bins,))\n",
    "\n",
    "    # Logarithmic scaling\n",
    "    log_mel_spectrograms = tf.math.log(mel_spectrograms + 1e-6)\n",
    "\n",
    "    # Compute MFCCs\n",
    "    mfccs = tf.signal.mfccs_from_log_mel_spectrograms(log_mel_spectrograms)[..., :num_coefficients]\n",
    "\n",
    "    return mfccs"
   ]
  },
  {
   "cell_type": "code",
   "execution_count": 17,
   "metadata": {},
   "outputs": [],
   "source": [
    "def make_MFCC_ds(ds):\n",
    "    return ds.map(\n",
    "      map_func=lambda spectrogram,label: (spectrogram_to_mfcc(spectrogram), label),\n",
    "      num_parallel_calls=tf.data.AUTOTUNE)"
   ]
  },
  {
   "cell_type": "code",
   "execution_count": 18,
   "metadata": {},
   "outputs": [],
   "source": [
    "train_MFCC_ds = make_MFCC_ds(train_spectrogram_ds)\n",
    "val_MFCC_ds = make_MFCC_ds(val_spectrogram_ds)"
   ]
  },
  {
   "cell_type": "code",
   "execution_count": 19,
   "metadata": {},
   "outputs": [],
   "source": [
    "#even kijken of het zo werkt\n",
    "def make_MFCC_ds(ds):\n",
    "    return ds.map(\n",
    "      map_func=lambda spectrogram: (spectrogram_to_mfcc(spectrogram)),\n",
    "      num_parallel_calls=tf.data.AUTOTUNE)\n",
    "\n",
    "test_MFCC_ds = make_MFCC_ds(test_spectrogram_ds)"
   ]
  },
  {
   "cell_type": "code",
   "execution_count": 20,
   "metadata": {},
   "outputs": [],
   "source": [
    "train_MFCC_ds = train_MFCC_ds.cache().shuffle(10).prefetch(tf.data.AUTOTUNE)\n",
    "val_MFCC_ds = val_MFCC_ds.cache().prefetch(tf.data.AUTOTUNE)\n",
    "test_MFCC_ds = test_MFCC_ds.cache().prefetch(tf.data.AUTOTUNE)"
   ]
  },
  {
   "cell_type": "code",
   "execution_count": 21,
   "metadata": {},
   "outputs": [
    {
     "name": "stdout",
     "output_type": "stream",
     "text": [
      "WARNING:tensorflow:From C:\\Users\\Gebruiker\\anaconda3\\lib\\site-packages\\keras\\src\\layers\\rnn\\lstm.py:148: The name tf.executing_eagerly_outside_functions is deprecated. Please use tf.compat.v1.executing_eagerly_outside_functions instead.\n",
      "\n"
     ]
    }
   ],
   "source": [
    "model_lstm = models.Sequential([\n",
    "    Bidirectional(LSTM(units=64, return_sequences=True)),\n",
    "    Dropout(0.2),\n",
    "    Bidirectional(LSTM(units=32)),\n",
    "    Dropout(0.2),\n",
    "    Dense(8, activation='softmax')\n",
    "])\n"
   ]
  },
  {
   "cell_type": "code",
   "execution_count": 22,
   "metadata": {},
   "outputs": [],
   "source": [
    "model_lstm.compile(\n",
    "    optimizer=tf.keras.optimizers.Adam(),\n",
    "    loss=tf.keras.losses.SparseCategoricalCrossentropy(),\n",
    "    metrics=['accuracy']\n",
    ")"
   ]
  },
  {
   "cell_type": "code",
   "execution_count": 23,
   "metadata": {},
   "outputs": [
    {
     "name": "stdout",
     "output_type": "stream",
     "text": [
      "Epoch 1/50\n",
      "WARNING:tensorflow:From C:\\Users\\Gebruiker\\anaconda3\\lib\\site-packages\\keras\\src\\utils\\tf_utils.py:492: The name tf.ragged.RaggedTensorValue is deprecated. Please use tf.compat.v1.ragged.RaggedTensorValue instead.\n",
      "\n",
      "WARNING:tensorflow:From C:\\Users\\Gebruiker\\anaconda3\\lib\\site-packages\\keras\\src\\engine\\base_layer_utils.py:384: The name tf.executing_eagerly_outside_functions is deprecated. Please use tf.compat.v1.executing_eagerly_outside_functions instead.\n",
      "\n",
      "14/14 [==============================] - 14s 342ms/step - loss: 1.9979 - accuracy: 0.1930 - val_loss: 1.8618 - val_accuracy: 0.2523\n",
      "Epoch 2/50\n",
      "14/14 [==============================] - 3s 195ms/step - loss: 1.7571 - accuracy: 0.3837 - val_loss: 1.7240 - val_accuracy: 0.3271\n",
      "Epoch 3/50\n",
      "14/14 [==============================] - 3s 215ms/step - loss: 1.5897 - accuracy: 0.4279 - val_loss: 1.6516 - val_accuracy: 0.3551\n",
      "Epoch 4/50\n",
      "14/14 [==============================] - 3s 192ms/step - loss: 1.4740 - accuracy: 0.4628 - val_loss: 1.5947 - val_accuracy: 0.3645\n",
      "Epoch 5/50\n",
      "14/14 [==============================] - 3s 188ms/step - loss: 1.3745 - accuracy: 0.5070 - val_loss: 1.5529 - val_accuracy: 0.3364\n",
      "Epoch 6/50\n",
      "14/14 [==============================] - 3s 199ms/step - loss: 1.2721 - accuracy: 0.5233 - val_loss: 1.5056 - val_accuracy: 0.3925\n",
      "Epoch 7/50\n",
      "14/14 [==============================] - 3s 183ms/step - loss: 1.1730 - accuracy: 0.5605 - val_loss: 1.4851 - val_accuracy: 0.4112\n",
      "Epoch 8/50\n",
      "14/14 [==============================] - 3s 193ms/step - loss: 1.0495 - accuracy: 0.6465 - val_loss: 1.4665 - val_accuracy: 0.4393\n",
      "Epoch 9/50\n",
      "14/14 [==============================] - 3s 186ms/step - loss: 0.9773 - accuracy: 0.6977 - val_loss: 1.4932 - val_accuracy: 0.3738\n",
      "Epoch 10/50\n",
      "14/14 [==============================] - 3s 186ms/step - loss: 0.8921 - accuracy: 0.7116 - val_loss: 1.4692 - val_accuracy: 0.4299\n",
      "Epoch 11/50\n",
      "14/14 [==============================] - 3s 189ms/step - loss: 0.8195 - accuracy: 0.7558 - val_loss: 1.4533 - val_accuracy: 0.4299\n",
      "Epoch 12/50\n",
      "14/14 [==============================] - 3s 235ms/step - loss: 0.7691 - accuracy: 0.7535 - val_loss: 1.4634 - val_accuracy: 0.4112\n",
      "Epoch 13/50\n",
      "14/14 [==============================] - 3s 230ms/step - loss: 0.7346 - accuracy: 0.7512 - val_loss: 1.4865 - val_accuracy: 0.4486\n",
      "Epoch 14/50\n",
      "14/14 [==============================] - 3s 222ms/step - loss: 0.7132 - accuracy: 0.7651 - val_loss: 1.5225 - val_accuracy: 0.4393\n",
      "Epoch 15/50\n",
      "14/14 [==============================] - 3s 235ms/step - loss: 0.6344 - accuracy: 0.8093 - val_loss: 1.5734 - val_accuracy: 0.3832\n",
      "Epoch 16/50\n",
      "14/14 [==============================] - 3s 228ms/step - loss: 0.6024 - accuracy: 0.8070 - val_loss: 1.5198 - val_accuracy: 0.4486\n",
      "Epoch 17/50\n",
      "14/14 [==============================] - 3s 233ms/step - loss: 0.5548 - accuracy: 0.8419 - val_loss: 1.4197 - val_accuracy: 0.4766\n",
      "Epoch 18/50\n",
      "14/14 [==============================] - 3s 228ms/step - loss: 0.5734 - accuracy: 0.8186 - val_loss: 1.6384 - val_accuracy: 0.3925\n",
      "Epoch 19/50\n",
      "14/14 [==============================] - 3s 242ms/step - loss: 0.5089 - accuracy: 0.8349 - val_loss: 1.5026 - val_accuracy: 0.4953\n",
      "Epoch 20/50\n",
      "14/14 [==============================] - 3s 218ms/step - loss: 0.4987 - accuracy: 0.8674 - val_loss: 1.7545 - val_accuracy: 0.3738\n",
      "Epoch 21/50\n",
      "14/14 [==============================] - 3s 223ms/step - loss: 0.5199 - accuracy: 0.8395 - val_loss: 1.7656 - val_accuracy: 0.4299\n",
      "Epoch 22/50\n",
      "14/14 [==============================] - 3s 229ms/step - loss: 0.4693 - accuracy: 0.8512 - val_loss: 1.6862 - val_accuracy: 0.3925\n",
      "Epoch 23/50\n",
      "14/14 [==============================] - 3s 223ms/step - loss: 0.3774 - accuracy: 0.8884 - val_loss: 1.6196 - val_accuracy: 0.4486\n",
      "Epoch 24/50\n",
      "14/14 [==============================] - 3s 228ms/step - loss: 0.3603 - accuracy: 0.9023 - val_loss: 1.6666 - val_accuracy: 0.4299\n",
      "Epoch 25/50\n",
      "14/14 [==============================] - 3s 233ms/step - loss: 0.3640 - accuracy: 0.8814 - val_loss: 1.7181 - val_accuracy: 0.4206\n",
      "Epoch 26/50\n",
      "14/14 [==============================] - 3s 214ms/step - loss: 0.3007 - accuracy: 0.9140 - val_loss: 1.8175 - val_accuracy: 0.4393\n",
      "Epoch 27/50\n",
      "14/14 [==============================] - 3s 216ms/step - loss: 0.2648 - accuracy: 0.9419 - val_loss: 1.7708 - val_accuracy: 0.4673\n",
      "Epoch 28/50\n",
      "14/14 [==============================] - 3s 183ms/step - loss: 0.2303 - accuracy: 0.9419 - val_loss: 1.7387 - val_accuracy: 0.4673\n",
      "Epoch 29/50\n",
      "14/14 [==============================] - 3s 200ms/step - loss: 0.2527 - accuracy: 0.9512 - val_loss: 1.8163 - val_accuracy: 0.4486\n",
      "Epoch 30/50\n",
      "14/14 [==============================] - 3s 210ms/step - loss: 0.2195 - accuracy: 0.9442 - val_loss: 1.7069 - val_accuracy: 0.4673\n",
      "Epoch 31/50\n",
      "14/14 [==============================] - 3s 246ms/step - loss: 0.1941 - accuracy: 0.9674 - val_loss: 1.8349 - val_accuracy: 0.4299\n",
      "Epoch 32/50\n",
      "14/14 [==============================] - 3s 243ms/step - loss: 0.2043 - accuracy: 0.9442 - val_loss: 1.7545 - val_accuracy: 0.4299\n",
      "Epoch 33/50\n",
      "14/14 [==============================] - 3s 198ms/step - loss: 0.2370 - accuracy: 0.9302 - val_loss: 1.6959 - val_accuracy: 0.4486\n",
      "Epoch 34/50\n",
      "14/14 [==============================] - 3s 230ms/step - loss: 0.2223 - accuracy: 0.9349 - val_loss: 1.7730 - val_accuracy: 0.4486\n",
      "Epoch 35/50\n",
      "14/14 [==============================] - 3s 210ms/step - loss: 0.2078 - accuracy: 0.9372 - val_loss: 1.8217 - val_accuracy: 0.4393\n",
      "Epoch 36/50\n",
      "14/14 [==============================] - 3s 241ms/step - loss: 0.2061 - accuracy: 0.9535 - val_loss: 1.7761 - val_accuracy: 0.4486\n",
      "Epoch 37/50\n",
      "14/14 [==============================] - 3s 237ms/step - loss: 0.1742 - accuracy: 0.9628 - val_loss: 1.8514 - val_accuracy: 0.4579\n",
      "Epoch 37: early stopping\n"
     ]
    }
   ],
   "source": [
    "EPOCHS = 50\n",
    "\n",
    "history = model_lstm.fit(\n",
    "    train_MFCC_ds,\n",
    "    validation_data=val_MFCC_ds,\n",
    "    epochs=EPOCHS,\n",
    "    callbacks=tf.keras.callbacks.EarlyStopping(verbose=1, patience=20)\n",
    ")"
   ]
  },
  {
   "cell_type": "code",
   "execution_count": 24,
   "metadata": {},
   "outputs": [
    {
     "name": "stdout",
     "output_type": "stream",
     "text": [
      "Epoch 1/50\n",
      "14/14 [==============================] - 10s 268ms/step - loss: 1.9956 - accuracy: 0.2209 - val_loss: 1.9216 - val_accuracy: 0.2804\n",
      "Epoch 2/50\n",
      "14/14 [==============================] - 2s 174ms/step - loss: 1.7430 - accuracy: 0.3651 - val_loss: 1.7759 - val_accuracy: 0.3271\n",
      "Epoch 3/50\n",
      "14/14 [==============================] - 2s 175ms/step - loss: 1.6015 - accuracy: 0.4302 - val_loss: 1.7377 - val_accuracy: 0.3551\n",
      "Epoch 4/50\n",
      "14/14 [==============================] - 2s 179ms/step - loss: 1.5026 - accuracy: 0.4791 - val_loss: 1.6539 - val_accuracy: 0.4112\n",
      "Epoch 5/50\n",
      "14/14 [==============================] - 3s 222ms/step - loss: 1.3561 - accuracy: 0.5395 - val_loss: 1.6665 - val_accuracy: 0.3645\n",
      "Epoch 6/50\n",
      "14/14 [==============================] - 3s 219ms/step - loss: 1.2452 - accuracy: 0.5628 - val_loss: 1.6120 - val_accuracy: 0.3645\n",
      "Epoch 7/50\n",
      "14/14 [==============================] - 3s 201ms/step - loss: 1.1508 - accuracy: 0.6302 - val_loss: 1.4951 - val_accuracy: 0.4299\n",
      "Epoch 8/50\n",
      "14/14 [==============================] - 3s 214ms/step - loss: 1.1197 - accuracy: 0.6419 - val_loss: 1.4821 - val_accuracy: 0.4486\n",
      "Epoch 9/50\n",
      "14/14 [==============================] - 3s 227ms/step - loss: 1.0210 - accuracy: 0.6628 - val_loss: 1.4805 - val_accuracy: 0.4299\n",
      "Epoch 10/50\n",
      "14/14 [==============================] - 3s 222ms/step - loss: 0.9005 - accuracy: 0.7070 - val_loss: 1.4307 - val_accuracy: 0.4766\n",
      "Epoch 11/50\n",
      "14/14 [==============================] - 3s 216ms/step - loss: 0.8271 - accuracy: 0.7395 - val_loss: 1.5203 - val_accuracy: 0.4579\n",
      "Epoch 12/50\n",
      "14/14 [==============================] - 3s 216ms/step - loss: 0.7196 - accuracy: 0.7860 - val_loss: 1.4794 - val_accuracy: 0.4579\n",
      "Epoch 13/50\n",
      "14/14 [==============================] - 3s 221ms/step - loss: 0.7101 - accuracy: 0.7744 - val_loss: 1.5201 - val_accuracy: 0.5234\n",
      "Epoch 14/50\n",
      "14/14 [==============================] - 3s 213ms/step - loss: 0.6458 - accuracy: 0.8023 - val_loss: 1.5489 - val_accuracy: 0.4299\n",
      "Epoch 15/50\n",
      "14/14 [==============================] - 3s 227ms/step - loss: 0.5736 - accuracy: 0.8558 - val_loss: 1.5450 - val_accuracy: 0.4299\n",
      "Epoch 16/50\n",
      "14/14 [==============================] - 3s 215ms/step - loss: 0.5292 - accuracy: 0.8465 - val_loss: 1.5733 - val_accuracy: 0.4393\n",
      "Epoch 17/50\n",
      "14/14 [==============================] - 3s 217ms/step - loss: 0.4704 - accuracy: 0.8628 - val_loss: 1.6308 - val_accuracy: 0.4766\n",
      "Epoch 18/50\n",
      "14/14 [==============================] - 3s 206ms/step - loss: 0.4361 - accuracy: 0.8744 - val_loss: 1.6326 - val_accuracy: 0.4206\n",
      "Epoch 19/50\n",
      "14/14 [==============================] - 3s 224ms/step - loss: 0.4369 - accuracy: 0.8628 - val_loss: 1.7350 - val_accuracy: 0.4299\n",
      "Epoch 20/50\n",
      "14/14 [==============================] - 3s 209ms/step - loss: 0.4301 - accuracy: 0.8767 - val_loss: 1.6306 - val_accuracy: 0.4766\n",
      "Epoch 21/50\n",
      "14/14 [==============================] - 3s 241ms/step - loss: 0.3590 - accuracy: 0.9163 - val_loss: 1.7119 - val_accuracy: 0.4019\n",
      "Epoch 22/50\n",
      "14/14 [==============================] - 3s 245ms/step - loss: 0.3362 - accuracy: 0.9093 - val_loss: 1.6928 - val_accuracy: 0.4673\n",
      "Epoch 23/50\n",
      "14/14 [==============================] - 3s 230ms/step - loss: 0.3246 - accuracy: 0.9186 - val_loss: 1.6272 - val_accuracy: 0.4766\n",
      "Epoch 24/50\n",
      "14/14 [==============================] - 3s 223ms/step - loss: 0.2905 - accuracy: 0.9116 - val_loss: 1.6506 - val_accuracy: 0.4860\n",
      "Epoch 25/50\n",
      "14/14 [==============================] - 3s 232ms/step - loss: 0.2537 - accuracy: 0.9465 - val_loss: 1.6529 - val_accuracy: 0.4579\n",
      "Epoch 26/50\n",
      "14/14 [==============================] - 3s 217ms/step - loss: 0.2114 - accuracy: 0.9512 - val_loss: 1.7517 - val_accuracy: 0.4486\n",
      "Epoch 27/50\n",
      "14/14 [==============================] - 3s 227ms/step - loss: 0.1974 - accuracy: 0.9512 - val_loss: 1.7513 - val_accuracy: 0.4206\n",
      "Epoch 28/50\n",
      "14/14 [==============================] - 3s 223ms/step - loss: 0.2390 - accuracy: 0.9372 - val_loss: 1.9119 - val_accuracy: 0.4299\n",
      "Epoch 29/50\n",
      "14/14 [==============================] - 3s 236ms/step - loss: 0.3459 - accuracy: 0.8860 - val_loss: 1.8059 - val_accuracy: 0.4486\n",
      "Epoch 30/50\n",
      "14/14 [==============================] - 3s 243ms/step - loss: 0.3333 - accuracy: 0.9023 - val_loss: 1.7503 - val_accuracy: 0.4393\n",
      "Epoch 30: early stopping\n"
     ]
    }
   ],
   "source": [
    "del model_lstm\n",
    "model_lstm = models.Sequential([\n",
    "    Bidirectional(LSTM(units=64, return_sequences=True)),\n",
    "    Dropout(0.2),\n",
    "    Bidirectional(LSTM(units=32)),\n",
    "    Dropout(0.2),\n",
    "    Dense(8, activation='softmax')\n",
    "])\n",
    "\n",
    "model_lstm.compile(\n",
    "    optimizer=tf.keras.optimizers.Adam(),\n",
    "    loss=tf.keras.losses.SparseCategoricalCrossentropy(),\n",
    "    metrics=['accuracy']\n",
    ")\n",
    "\n",
    "EPOCHS = 50\n",
    "\n",
    "history = model_lstm.fit(\n",
    "    train_MFCC_ds,\n",
    "    validation_data=val_MFCC_ds,\n",
    "    epochs=EPOCHS,\n",
    "    callbacks=tf.keras.callbacks.EarlyStopping(verbose=1, patience=20)\n",
    ")"
   ]
  },
  {
   "cell_type": "code",
   "execution_count": 25,
   "metadata": {},
   "outputs": [
    {
     "name": "stdout",
     "output_type": "stream",
     "text": [
      "Epoch 1/10\n",
      "14/14 [==============================] - 15s 388ms/step - loss: 2.0384 - accuracy: 0.1674 - val_loss: 1.9572 - val_accuracy: 0.3364\n",
      "Epoch 2/10\n",
      "14/14 [==============================] - 4s 306ms/step - loss: 1.8930 - accuracy: 0.3279 - val_loss: 1.8353 - val_accuracy: 0.3271\n",
      "Epoch 3/10\n",
      "14/14 [==============================] - 5s 345ms/step - loss: 1.7987 - accuracy: 0.3419 - val_loss: 1.7459 - val_accuracy: 0.3551\n",
      "Epoch 4/10\n",
      "14/14 [==============================] - 6s 447ms/step - loss: 1.6998 - accuracy: 0.3698 - val_loss: 1.6844 - val_accuracy: 0.3271\n",
      "Epoch 5/10\n",
      "14/14 [==============================] - 5s 367ms/step - loss: 1.5938 - accuracy: 0.4163 - val_loss: 1.6271 - val_accuracy: 0.3551\n",
      "Epoch 6/10\n",
      "14/14 [==============================] - 5s 344ms/step - loss: 1.5313 - accuracy: 0.4628 - val_loss: 1.5906 - val_accuracy: 0.3458\n",
      "Epoch 7/10\n",
      "14/14 [==============================] - 7s 476ms/step - loss: 1.3950 - accuracy: 0.4698 - val_loss: 1.6172 - val_accuracy: 0.3925\n",
      "Epoch 8/10\n",
      "14/14 [==============================] - 7s 507ms/step - loss: 1.3479 - accuracy: 0.5302 - val_loss: 1.5950 - val_accuracy: 0.3551\n",
      "Epoch 9/10\n",
      "14/14 [==============================] - 9s 650ms/step - loss: 1.3063 - accuracy: 0.5279 - val_loss: 1.5590 - val_accuracy: 0.3925\n",
      "Epoch 10/10\n",
      "14/14 [==============================] - 8s 546ms/step - loss: 1.2100 - accuracy: 0.5628 - val_loss: 1.5254 - val_accuracy: 0.4393\n"
     ]
    }
   ],
   "source": [
    "model_lstm = models.Sequential([\n",
    "    Bidirectional(LSTM(units=64, return_sequences=True)),\n",
    "    Dropout(0.2),\n",
    "    Bidirectional(LSTM(units=32, return_sequences=True)),  # Extra LSTM-laag met return_sequences=True\n",
    "    Dropout(0.2),\n",
    "    Bidirectional(LSTM(units=16)),  # Nog een LSTM-laag zonder return_sequences=True\n",
    "    Dropout(0.2),\n",
    "    Dense(64, activation='relu'),  # Extra dense-laag\n",
    "    Dropout(0.2),\n",
    "    Dense(8, activation='softmax')\n",
    "])\n",
    "\n",
    "model_lstm.compile(\n",
    "    optimizer=tf.keras.optimizers.Adam(),\n",
    "    loss=tf.keras.losses.SparseCategoricalCrossentropy(),\n",
    "    metrics=['accuracy']\n",
    ")\n",
    "\n",
    "EPOCHS = 10\n",
    "history = model_lstm.fit(\n",
    "    train_MFCC_ds,\n",
    "    validation_data=val_MFCC_ds,\n",
    "    epochs=EPOCHS,\n",
    ")"
   ]
  },
  {
   "cell_type": "code",
   "execution_count": 26,
   "metadata": {},
   "outputs": [
    {
     "name": "stdout",
     "output_type": "stream",
     "text": [
      "Epoch 1/50\n",
      "14/14 [==============================] - 25s 802ms/step - loss: 1.9946 - accuracy: 0.2000 - val_loss: 1.8622 - val_accuracy: 0.3084\n",
      "Epoch 2/50\n",
      "14/14 [==============================] - 9s 631ms/step - loss: 1.8361 - accuracy: 0.3279 - val_loss: 1.7310 - val_accuracy: 0.3458\n",
      "Epoch 3/50\n",
      "14/14 [==============================] - 8s 589ms/step - loss: 1.7161 - accuracy: 0.4000 - val_loss: 1.6639 - val_accuracy: 0.3551\n",
      "Epoch 4/50\n",
      "14/14 [==============================] - 8s 597ms/step - loss: 1.6158 - accuracy: 0.4140 - val_loss: 1.5829 - val_accuracy: 0.3738\n",
      "Epoch 5/50\n",
      "14/14 [==============================] - 8s 586ms/step - loss: 1.5259 - accuracy: 0.4395 - val_loss: 1.5788 - val_accuracy: 0.3645\n",
      "Epoch 6/50\n",
      "14/14 [==============================] - 8s 596ms/step - loss: 1.3972 - accuracy: 0.4791 - val_loss: 1.5227 - val_accuracy: 0.3738\n",
      "Epoch 7/50\n",
      "14/14 [==============================] - 8s 607ms/step - loss: 1.3520 - accuracy: 0.5395 - val_loss: 1.5153 - val_accuracy: 0.3645\n",
      "Epoch 8/50\n",
      "14/14 [==============================] - 8s 585ms/step - loss: 1.3050 - accuracy: 0.5395 - val_loss: 1.5238 - val_accuracy: 0.3832\n",
      "Epoch 9/50\n",
      "14/14 [==============================] - 8s 604ms/step - loss: 1.2178 - accuracy: 0.5535 - val_loss: 1.5446 - val_accuracy: 0.3738\n",
      "Epoch 10/50\n",
      "14/14 [==============================] - 8s 586ms/step - loss: 1.1003 - accuracy: 0.6000 - val_loss: 1.5880 - val_accuracy: 0.4019\n",
      "Epoch 11/50\n",
      "14/14 [==============================] - 8s 569ms/step - loss: 1.0622 - accuracy: 0.6093 - val_loss: 1.5293 - val_accuracy: 0.4579\n",
      "Epoch 12/50\n",
      "14/14 [==============================] - 8s 572ms/step - loss: 0.9863 - accuracy: 0.6442 - val_loss: 1.5246 - val_accuracy: 0.4579\n",
      "Epoch 13/50\n",
      "14/14 [==============================] - 8s 569ms/step - loss: 0.9402 - accuracy: 0.6512 - val_loss: 1.6558 - val_accuracy: 0.4486\n",
      "Epoch 14/50\n",
      "14/14 [==============================] - 8s 564ms/step - loss: 0.8904 - accuracy: 0.6907 - val_loss: 1.6192 - val_accuracy: 0.4019\n",
      "Epoch 15/50\n",
      "14/14 [==============================] - 8s 546ms/step - loss: 0.8619 - accuracy: 0.7186 - val_loss: 1.6158 - val_accuracy: 0.4860\n",
      "Epoch 16/50\n",
      "14/14 [==============================] - 8s 550ms/step - loss: 0.8346 - accuracy: 0.7233 - val_loss: 1.7427 - val_accuracy: 0.4673\n",
      "Epoch 17/50\n",
      "14/14 [==============================] - 9s 621ms/step - loss: 0.8375 - accuracy: 0.7256 - val_loss: 1.7907 - val_accuracy: 0.4206\n",
      "Epoch 18/50\n",
      "14/14 [==============================] - 9s 621ms/step - loss: 0.7181 - accuracy: 0.7512 - val_loss: 1.6360 - val_accuracy: 0.4860\n",
      "Epoch 19/50\n",
      "14/14 [==============================] - 8s 572ms/step - loss: 0.6385 - accuracy: 0.8000 - val_loss: 1.6491 - val_accuracy: 0.4860\n",
      "Epoch 20/50\n",
      "14/14 [==============================] - 8s 582ms/step - loss: 0.6517 - accuracy: 0.7907 - val_loss: 1.8963 - val_accuracy: 0.4486\n",
      "Epoch 21/50\n",
      "14/14 [==============================] - 9s 627ms/step - loss: 0.5318 - accuracy: 0.8233 - val_loss: 1.9936 - val_accuracy: 0.4673\n",
      "Epoch 22/50\n",
      "14/14 [==============================] - 9s 660ms/step - loss: 0.4900 - accuracy: 0.8395 - val_loss: 2.1287 - val_accuracy: 0.4393\n",
      "Epoch 23/50\n",
      "14/14 [==============================] - 9s 639ms/step - loss: 0.4557 - accuracy: 0.8488 - val_loss: 1.9339 - val_accuracy: 0.4579\n",
      "Epoch 24/50\n",
      "14/14 [==============================] - 8s 591ms/step - loss: 0.4465 - accuracy: 0.8488 - val_loss: 2.1100 - val_accuracy: 0.4579\n",
      "Epoch 25/50\n",
      "14/14 [==============================] - 8s 610ms/step - loss: 0.4063 - accuracy: 0.8674 - val_loss: 1.9175 - val_accuracy: 0.5140\n",
      "Epoch 26/50\n",
      "14/14 [==============================] - 8s 605ms/step - loss: 0.3564 - accuracy: 0.8791 - val_loss: 2.1738 - val_accuracy: 0.4766\n",
      "Epoch 27/50\n",
      "14/14 [==============================] - 9s 610ms/step - loss: 0.4132 - accuracy: 0.8698 - val_loss: 2.0107 - val_accuracy: 0.4579\n",
      "Epoch 27: early stopping\n"
     ]
    }
   ],
   "source": [
    "del model_lstm\n",
    "model_lstm = models.Sequential([\n",
    "    Bidirectional(LSTM(units=128, return_sequences=True)),\n",
    "    Dropout(0.3),\n",
    "    Bidirectional(LSTM(units=64, return_sequences=True)),\n",
    "    Dropout(0.3),\n",
    "    Bidirectional(LSTM(units=32)),\n",
    "    Dropout(0.3),\n",
    "    Dense(64, activation='relu'),\n",
    "    Dropout(0.3),\n",
    "    Dense(8, activation='softmax')\n",
    "])\n",
    "\n",
    "model_lstm.compile(\n",
    "    optimizer=tf.keras.optimizers.Adam(),\n",
    "    loss=tf.keras.losses.SparseCategoricalCrossentropy(),\n",
    "    metrics=['accuracy']\n",
    ")\n",
    "\n",
    "EPOCHS = 50\n",
    "\n",
    "history = model_lstm.fit(\n",
    "    train_MFCC_ds,\n",
    "    validation_data=val_MFCC_ds,\n",
    "    epochs=EPOCHS,\n",
    "    callbacks=tf.keras.callbacks.EarlyStopping(verbose=1, patience=20)\n",
    ")\n"
   ]
  },
  {
   "cell_type": "code",
   "execution_count": 27,
   "metadata": {},
   "outputs": [
    {
     "data": {
      "text/plain": [
       "Text(0, 0.5, 'Accuracy [%]')"
      ]
     },
     "execution_count": 27,
     "metadata": {},
     "output_type": "execute_result"
    },
    {
     "data": {
      "image/png": "[encoded data removed]",
      "text/plain": [
       "<Figure size 1152x432 with 2 Axes>"
      ]
     },
     "metadata": {
      "needs_background": "light"
     },
     "output_type": "display_data"
    }
   ],
   "source": [
    "metrics = history.history\n",
    "plt.figure(figsize=(16,6))\n",
    "plt.subplot(1,2,1)\n",
    "plt.plot(history.epoch, metrics['loss'], metrics['val_loss'])\n",
    "plt.legend(['loss', 'val_loss'])\n",
    "plt.ylim([0, max(plt.ylim())])\n",
    "plt.xlabel('Epoch')\n",
    "plt.ylabel('Loss [CrossEntropy]')\n",
    "\n",
    "plt.subplot(1,2,2)\n",
    "plt.plot(history.epoch, 100*np.array(metrics['accuracy']), 100*np.array(metrics['val_accuracy']))\n",
    "plt.legend(['accuracy', 'val_accuracy'])\n",
    "plt.ylim([0, 100])\n",
    "plt.xlabel('Epoch')\n",
    "plt.ylabel('Accuracy [%]')"
   ]
  },
  {
   "cell_type": "markdown",
   "metadata": {},
   "source": [
    "## Opdracht 3 - LSTM voor songteksten <a name='song_lstm'></a>"
   ]
  },
  {
   "cell_type": "code",
   "execution_count": null,
   "metadata": {},
   "outputs": [],
   "source": []
  },
  {
   "cell_type": "markdown",
   "metadata": {},
   "source": [
    "## Opdracht 4 - Transformer voor songteksten <a name='song_tran'></a>"
   ]
  },
  {
   "cell_type": "markdown",
   "metadata": {},
   "source": [
    "## Opdracht 5 - Model naar keuze <a name='mnk'></a>"
   ]
  },
  {
   "cell_type": "markdown",
   "metadata": {},
   "source": [
    "## Opdracht 6 - Bevindingen <a name='bevindingen'></a>"
   ]
  },
  {
   "cell_type": "markdown",
   "metadata": {},
   "source": [
    "## Opdracht 7 - Conclusie en aanbevelingen <a name='conclusie'></a>"
   ]
  },
  {
   "cell_type": "markdown",
   "metadata": {},
   "source": [
    "## Bronnenlijst <a name='bronnenlijst'></a>"
   ]
  }
 ],
 "metadata": {
  "kernelspec": {
   "display_name": "Python 3 (ipykernel)",
   "language": "python",
   "name": "python3"
  },
  "language_info": {
   "codemirror_mode": {
    "name": "ipython",
    "version": 3
   },
   "file_extension": ".py",
   "mimetype": "text/x-python",
   "name": "python",
   "nbconvert_exporter": "python",
   "pygments_lexer": "ipython3",
   "version": "3.9.12"
  }
 },
 "nbformat": 4,
 "nbformat_minor": 2
}
