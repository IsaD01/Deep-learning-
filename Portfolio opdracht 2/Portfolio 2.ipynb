{
  "cells": [
    {
      "cell_type": "markdown",
      "metadata": {
        "id": "ZmnuYktoYhfD"
      },
      "source": [
        "<table style=\"margin-left: 0;\">\n",
        "    <tr>\n",
        "        <td colspan=\"5\" style=\"text-align: center;\"><h2><b>Portfolio 2 - Deep Learning</b></h2></td>\n",
        "    </tr>\n",
        "    <tr>\n",
        "        <th>Coach</th>\n",
        "        <th>Opdrachtnummer</th>\n",
        "        <th>Namen groepsleden</th>\n",
        "        <th>Kaggle naam</th>\n",
        "    </tr>\n",
        "    <tr>\n",
        "        <td><span style=\"color:blue\">Vikram en Bob</span></td>\n",
        "        <td><span style=\"color:blue\">2</span></td>\n",
        "        <td>\n",
        "            <ul style=\"list-style-type:none; padding-left:0;\">\n",
        "                <li><b>Mark Olieman:</b> <span style=\"color:green\">19054033</span></li>\n",
        "                <li><b>Johan Heskes:</b> <span style=\"color:green\">22132376</span></li>\n",
        "                <li><b>Henry Lau:</b> <span style=\"color:green\">22122958</span></li>\n",
        "                <li><b>Isa Dijkstra:</b> <span style=\"color:green\">22119485</span></li>\n",
        "            </ul>\n",
        "        </td>\n",
        "        <td><span style=\"color:blue\">???</span></td>\n",
        "    </tr>\n",
        "</table>\n",
        "\n",
        "    \n",
        "    \n",
        "## Inhoudsopgave\n",
        "\n",
        "- [**Inleiding**](#inleiding)\n",
        "- [**Packages en de data inladen**](#data)\n",
        "- [**Opdracht 1 - EDA**](#eda)\n",
        "- [**Opdracht 2 - LSTM voor audioclips**](#audio)\n",
        "- [**Opdracht 3 - LSTM voor songteksten**](#song_lstm)\n",
        "- [**Opdracht 4 - Transformer voor songteksten**](#song_tran)\n",
        "- [**Opdracht 5 - Model naar keuze**](#mnk)\n",
        "- [**Opdracht 6 - Bevindingen**](#bevindingen)\n",
        "- [**Opdracht 7 - Conclusie en aanbevelingen**](#conclusie)\n",
        "- [**Bronnenlijst**](#bronnenlijst)"
      ]
    },
    {
      "cell_type": "markdown",
      "metadata": {
        "id": "i7ZM1939YhfE"
      },
      "source": [
        "## Inleiding <a name='inleiding'></a>"
      ]
    },
    {
      "cell_type": "markdown",
      "metadata": {
        "id": "nZTO22jvYhfE"
      },
      "source": [
        "In dit notebook gaan we aan de hand van songteksten en audiodata, audiotracks in verschillende genres classificeren"
      ]
    },
    {
      "cell_type": "markdown",
      "metadata": {
        "id": "xWsS7raSYhfE"
      },
      "source": [
        "## Packages en de data inladen <a name='data'></a>"
      ]
    },
    {
      "cell_type": "code",
      "execution_count": 22,
      "metadata": {
        "id": "Hf-YN_TmYhfE"
      },
      "outputs": [],
      "source": [
        "import os\n",
        "import pathlib\n",
        "import numpy as np\n",
        "import pandas as pd\n",
        "import matplotlib.pyplot as plt\n",
        "import seaborn as sns\n",
        "\n",
        "import tensorflow as tf\n",
        "from tensorflow.keras import layers\n",
        "from tensorflow.keras import models\n",
        "from tensorflow.keras.preprocessing.text import Tokenizer\n",
        "from tensorflow.keras.preprocessing.sequence import pad_sequences\n",
        "\n",
        "# from IPython import display"
      ]
    },
    {
      "cell_type": "code",
      "source": [
        "from google.colab import drive\n",
        "drive.mount('/content/drive')"
      ],
      "metadata": {
        "colab": {
          "base_uri": "https://localhost:8080/"
        },
        "id": "M9SnU9llYr0P",
        "outputId": "a3e35348-456f-4fde-ef6a-f6220261ed98"
      },
      "execution_count": 23,
      "outputs": [
        {
          "output_type": "stream",
          "name": "stdout",
          "text": [
            "Drive already mounted at /content/drive; to attempt to forcibly remount, call drive.mount(\"/content/drive\", force_remount=True).\n"
          ]
        }
      ]
    },
    {
      "cell_type": "code",
      "source": [
        "os.chdir('/content/drive/MyDrive/Colab Notebooks/Deep-learning/Portfolio opdracht 2')"
      ],
      "metadata": {
        "id": "c07kAATpYz_t"
      },
      "execution_count": 24,
      "outputs": []
    },
    {
      "cell_type": "code",
      "execution_count": 25,
      "metadata": {
        "id": "l9kZJQAkYhfF"
      },
      "outputs": [],
      "source": [
        "#songteksten inladen\n",
        "\n",
        "train = pd.read_csv('train.csv', index_col='filename')\n",
        "test = pd.read_csv('test.csv', index_col='filename')"
      ]
    },
    {
      "cell_type": "code",
      "execution_count": 26,
      "metadata": {
        "colab": {
          "base_uri": "https://localhost:8080/"
        },
        "id": "qwTeOjSCYhfF",
        "outputId": "87fb6146-9f54-4c23-9876-7a2e10c3fb96"
      },
      "outputs": [
        {
          "output_type": "stream",
          "name": "stdout",
          "text": [
            "Found 537 files belonging to 8 classes.\n",
            "Using 430 files for training.\n",
            "Using 107 files for validation.\n",
            "\n",
            "label names: ['blues' 'country' 'disco' 'hiphop' 'metal' 'pop' 'reggae' 'rock']\n"
          ]
        }
      ],
      "source": [
        "#Train en validation set inladen\n",
        "\n",
        "train_ds, val_ds = tf.keras.utils.audio_dataset_from_directory(\n",
        "    directory='Train',\n",
        "    batch_size=32,\n",
        "    validation_split=0.2,\n",
        "    seed=0,\n",
        "    output_sequence_length=5*16000,\n",
        "    subset='both')\n",
        "\n",
        "label_names = np.array(train_ds.class_names)\n",
        "print()\n",
        "print(\"label names:\", label_names)"
      ]
    },
    {
      "cell_type": "code",
      "execution_count": 27,
      "metadata": {
        "id": "-zRRfs52YhfF"
      },
      "outputs": [],
      "source": [
        "def squeeze(audio, labels):\n",
        "    audio = tf.squeeze(audio, axis=-1)\n",
        "    return audio, labels\n",
        "\n",
        "train_ds = train_ds.map(squeeze, tf.data.AUTOTUNE)\n",
        "val_ds = val_ds.map(squeeze, tf.data.AUTOTUNE)"
      ]
    },
    {
      "cell_type": "code",
      "execution_count": 28,
      "metadata": {
        "colab": {
          "base_uri": "https://localhost:8080/"
        },
        "id": "yQvI82VaYhfF",
        "outputId": "2b274b3c-c8e5-4806-ec0f-b4a0713177f9"
      },
      "outputs": [
        {
          "output_type": "stream",
          "name": "stdout",
          "text": [
            "Found 129 files belonging to 1 classes.\n",
            "\n"
          ]
        }
      ],
      "source": [
        "#test dataset inladen\n",
        "\n",
        "test_ds = tf.keras.utils.audio_dataset_from_directory(\n",
        "    directory='Test',\n",
        "    label_mode=None,\n",
        "    batch_size=32,\n",
        "    seed=0,\n",
        "    output_sequence_length=5*16000)\n",
        "\n",
        "print()"
      ]
    },
    {
      "cell_type": "markdown",
      "metadata": {
        "id": "6CFpddE8YhfG"
      },
      "source": [
        "## **Opdracht 1 - EDA** <a name='eda'></a>"
      ]
    },
    {
      "cell_type": "code",
      "execution_count": 29,
      "metadata": {
        "colab": {
          "base_uri": "https://localhost:8080/",
          "height": 621
        },
        "id": "cTKpuxG9YhfG",
        "outputId": "1059c49b-35c9-466f-89b9-6df88cb21ae0"
      },
      "outputs": [
        {
          "output_type": "display_data",
          "data": {
            "text/plain": [
              "                                                            lyrics  genre\n",
              "filename                                                                 \n",
              "blues.00001.wav  I’m in the Mood Lyrics[Verse 1]\\nI'm in the mo...  blues\n",
              "blues.00002.wav  (John Lee Hooker)\\nThink twice before you go, ...  blues\n",
              "blues.00003.wav  [Intro, Spoken]\\n...A little thing I'm going t...  blues\n",
              "blues.00005.wav  Sugar mama, sugar mama, sugar mama please come...  blues\n",
              "blues.00006.wav  My baby left me this morning\\nPeople just arou...  blues"
            ],
            "text/html": [
              "\n",
              "  <div id=\"df-c6b97a1a-60b2-435e-8e7b-62c736e58985\" class=\"colab-df-container\">\n",
              "    <div>\n",
              "<style scoped>\n",
              "    .dataframe tbody tr th:only-of-type {\n",
              "        vertical-align: middle;\n",
              "    }\n",
              "\n",
              "    .dataframe tbody tr th {\n",
              "        vertical-align: top;\n",
              "    }\n",
              "\n",
              "    .dataframe thead th {\n",
              "        text-align: right;\n",
              "    }\n",
              "</style>\n",
              "<table border=\"1\" class=\"dataframe\">\n",
              "  <thead>\n",
              "    <tr style=\"text-align: right;\">\n",
              "      <th></th>\n",
              "      <th>lyrics</th>\n",
              "      <th>genre</th>\n",
              "    </tr>\n",
              "    <tr>\n",
              "      <th>filename</th>\n",
              "      <th></th>\n",
              "      <th></th>\n",
              "    </tr>\n",
              "  </thead>\n",
              "  <tbody>\n",
              "    <tr>\n",
              "      <th>blues.00001.wav</th>\n",
              "      <td>I’m in the Mood Lyrics[Verse 1]\\nI'm in the mo...</td>\n",
              "      <td>blues</td>\n",
              "    </tr>\n",
              "    <tr>\n",
              "      <th>blues.00002.wav</th>\n",
              "      <td>(John Lee Hooker)\\nThink twice before you go, ...</td>\n",
              "      <td>blues</td>\n",
              "    </tr>\n",
              "    <tr>\n",
              "      <th>blues.00003.wav</th>\n",
              "      <td>[Intro, Spoken]\\n...A little thing I'm going t...</td>\n",
              "      <td>blues</td>\n",
              "    </tr>\n",
              "    <tr>\n",
              "      <th>blues.00005.wav</th>\n",
              "      <td>Sugar mama, sugar mama, sugar mama please come...</td>\n",
              "      <td>blues</td>\n",
              "    </tr>\n",
              "    <tr>\n",
              "      <th>blues.00006.wav</th>\n",
              "      <td>My baby left me this morning\\nPeople just arou...</td>\n",
              "      <td>blues</td>\n",
              "    </tr>\n",
              "  </tbody>\n",
              "</table>\n",
              "</div>\n",
              "    <div class=\"colab-df-buttons\">\n",
              "\n",
              "  <div class=\"colab-df-container\">\n",
              "    <button class=\"colab-df-convert\" onclick=\"convertToInteractive('df-c6b97a1a-60b2-435e-8e7b-62c736e58985')\"\n",
              "            title=\"Convert this dataframe to an interactive table.\"\n",
              "            style=\"display:none;\">\n",
              "\n",
              "  <svg xmlns=\"http://www.w3.org/2000/svg\" height=\"24px\" viewBox=\"0 -960 960 960\">\n",
              "    <path d=\"M120-120v-720h720v720H120Zm60-500h600v-160H180v160Zm220 220h160v-160H400v160Zm0 220h160v-160H400v160ZM180-400h160v-160H180v160Zm440 0h160v-160H620v160ZM180-180h160v-160H180v160Zm440 0h160v-160H620v160Z\"/>\n",
              "  </svg>\n",
              "    </button>\n",
              "\n",
              "  <style>\n",
              "    .colab-df-container {\n",
              "      display:flex;\n",
              "      gap: 12px;\n",
              "    }\n",
              "\n",
              "    .colab-df-convert {\n",
              "      background-color: #E8F0FE;\n",
              "      border: none;\n",
              "      border-radius: 50%;\n",
              "      cursor: pointer;\n",
              "      display: none;\n",
              "      fill: #1967D2;\n",
              "      height: 32px;\n",
              "      padding: 0 0 0 0;\n",
              "      width: 32px;\n",
              "    }\n",
              "\n",
              "    .colab-df-convert:hover {\n",
              "      background-color: #E2EBFA;\n",
              "      box-shadow: 0px 1px 2px rgba(60, 64, 67, 0.3), 0px 1px 3px 1px rgba(60, 64, 67, 0.15);\n",
              "      fill: #174EA6;\n",
              "    }\n",
              "\n",
              "    .colab-df-buttons div {\n",
              "      margin-bottom: 4px;\n",
              "    }\n",
              "\n",
              "    [theme=dark] .colab-df-convert {\n",
              "      background-color: #3B4455;\n",
              "      fill: #D2E3FC;\n",
              "    }\n",
              "\n",
              "    [theme=dark] .colab-df-convert:hover {\n",
              "      background-color: #434B5C;\n",
              "      box-shadow: 0px 1px 3px 1px rgba(0, 0, 0, 0.15);\n",
              "      filter: drop-shadow(0px 1px 2px rgba(0, 0, 0, 0.3));\n",
              "      fill: #FFFFFF;\n",
              "    }\n",
              "  </style>\n",
              "\n",
              "    <script>\n",
              "      const buttonEl =\n",
              "        document.querySelector('#df-c6b97a1a-60b2-435e-8e7b-62c736e58985 button.colab-df-convert');\n",
              "      buttonEl.style.display =\n",
              "        google.colab.kernel.accessAllowed ? 'block' : 'none';\n",
              "\n",
              "      async function convertToInteractive(key) {\n",
              "        const element = document.querySelector('#df-c6b97a1a-60b2-435e-8e7b-62c736e58985');\n",
              "        const dataTable =\n",
              "          await google.colab.kernel.invokeFunction('convertToInteractive',\n",
              "                                                    [key], {});\n",
              "        if (!dataTable) return;\n",
              "\n",
              "        const docLinkHtml = 'Like what you see? Visit the ' +\n",
              "          '<a target=\"_blank\" href=https://colab.research.google.com/notebooks/data_table.ipynb>data table notebook</a>'\n",
              "          + ' to learn more about interactive tables.';\n",
              "        element.innerHTML = '';\n",
              "        dataTable['output_type'] = 'display_data';\n",
              "        await google.colab.output.renderOutput(dataTable, element);\n",
              "        const docLink = document.createElement('div');\n",
              "        docLink.innerHTML = docLinkHtml;\n",
              "        element.appendChild(docLink);\n",
              "      }\n",
              "    </script>\n",
              "  </div>\n",
              "\n",
              "\n",
              "<div id=\"df-c15af78b-9e76-41ae-bab1-a3885ee9cb7c\">\n",
              "  <button class=\"colab-df-quickchart\" onclick=\"quickchart('df-c15af78b-9e76-41ae-bab1-a3885ee9cb7c')\"\n",
              "            title=\"Suggest charts\"\n",
              "            style=\"display:none;\">\n",
              "\n",
              "<svg xmlns=\"http://www.w3.org/2000/svg\" height=\"24px\"viewBox=\"0 0 24 24\"\n",
              "     width=\"24px\">\n",
              "    <g>\n",
              "        <path d=\"M19 3H5c-1.1 0-2 .9-2 2v14c0 1.1.9 2 2 2h14c1.1 0 2-.9 2-2V5c0-1.1-.9-2-2-2zM9 17H7v-7h2v7zm4 0h-2V7h2v10zm4 0h-2v-4h2v4z\"/>\n",
              "    </g>\n",
              "</svg>\n",
              "  </button>\n",
              "\n",
              "<style>\n",
              "  .colab-df-quickchart {\n",
              "      --bg-color: #E8F0FE;\n",
              "      --fill-color: #1967D2;\n",
              "      --hover-bg-color: #E2EBFA;\n",
              "      --hover-fill-color: #174EA6;\n",
              "      --disabled-fill-color: #AAA;\n",
              "      --disabled-bg-color: #DDD;\n",
              "  }\n",
              "\n",
              "  [theme=dark] .colab-df-quickchart {\n",
              "      --bg-color: #3B4455;\n",
              "      --fill-color: #D2E3FC;\n",
              "      --hover-bg-color: #434B5C;\n",
              "      --hover-fill-color: #FFFFFF;\n",
              "      --disabled-bg-color: #3B4455;\n",
              "      --disabled-fill-color: #666;\n",
              "  }\n",
              "\n",
              "  .colab-df-quickchart {\n",
              "    background-color: var(--bg-color);\n",
              "    border: none;\n",
              "    border-radius: 50%;\n",
              "    cursor: pointer;\n",
              "    display: none;\n",
              "    fill: var(--fill-color);\n",
              "    height: 32px;\n",
              "    padding: 0;\n",
              "    width: 32px;\n",
              "  }\n",
              "\n",
              "  .colab-df-quickchart:hover {\n",
              "    background-color: var(--hover-bg-color);\n",
              "    box-shadow: 0 1px 2px rgba(60, 64, 67, 0.3), 0 1px 3px 1px rgba(60, 64, 67, 0.15);\n",
              "    fill: var(--button-hover-fill-color);\n",
              "  }\n",
              "\n",
              "  .colab-df-quickchart-complete:disabled,\n",
              "  .colab-df-quickchart-complete:disabled:hover {\n",
              "    background-color: var(--disabled-bg-color);\n",
              "    fill: var(--disabled-fill-color);\n",
              "    box-shadow: none;\n",
              "  }\n",
              "\n",
              "  .colab-df-spinner {\n",
              "    border: 2px solid var(--fill-color);\n",
              "    border-color: transparent;\n",
              "    border-bottom-color: var(--fill-color);\n",
              "    animation:\n",
              "      spin 1s steps(1) infinite;\n",
              "  }\n",
              "\n",
              "  @keyframes spin {\n",
              "    0% {\n",
              "      border-color: transparent;\n",
              "      border-bottom-color: var(--fill-color);\n",
              "      border-left-color: var(--fill-color);\n",
              "    }\n",
              "    20% {\n",
              "      border-color: transparent;\n",
              "      border-left-color: var(--fill-color);\n",
              "      border-top-color: var(--fill-color);\n",
              "    }\n",
              "    30% {\n",
              "      border-color: transparent;\n",
              "      border-left-color: var(--fill-color);\n",
              "      border-top-color: var(--fill-color);\n",
              "      border-right-color: var(--fill-color);\n",
              "    }\n",
              "    40% {\n",
              "      border-color: transparent;\n",
              "      border-right-color: var(--fill-color);\n",
              "      border-top-color: var(--fill-color);\n",
              "    }\n",
              "    60% {\n",
              "      border-color: transparent;\n",
              "      border-right-color: var(--fill-color);\n",
              "    }\n",
              "    80% {\n",
              "      border-color: transparent;\n",
              "      border-right-color: var(--fill-color);\n",
              "      border-bottom-color: var(--fill-color);\n",
              "    }\n",
              "    90% {\n",
              "      border-color: transparent;\n",
              "      border-bottom-color: var(--fill-color);\n",
              "    }\n",
              "  }\n",
              "</style>\n",
              "\n",
              "  <script>\n",
              "    async function quickchart(key) {\n",
              "      const quickchartButtonEl =\n",
              "        document.querySelector('#' + key + ' button');\n",
              "      quickchartButtonEl.disabled = true;  // To prevent multiple clicks.\n",
              "      quickchartButtonEl.classList.add('colab-df-spinner');\n",
              "      try {\n",
              "        const charts = await google.colab.kernel.invokeFunction(\n",
              "            'suggestCharts', [key], {});\n",
              "      } catch (error) {\n",
              "        console.error('Error during call to suggestCharts:', error);\n",
              "      }\n",
              "      quickchartButtonEl.classList.remove('colab-df-spinner');\n",
              "      quickchartButtonEl.classList.add('colab-df-quickchart-complete');\n",
              "    }\n",
              "    (() => {\n",
              "      let quickchartButtonEl =\n",
              "        document.querySelector('#df-c15af78b-9e76-41ae-bab1-a3885ee9cb7c button');\n",
              "      quickchartButtonEl.style.display =\n",
              "        google.colab.kernel.accessAllowed ? 'block' : 'none';\n",
              "    })();\n",
              "  </script>\n",
              "</div>\n",
              "    </div>\n",
              "  </div>\n"
            ],
            "application/vnd.google.colaboratory.intrinsic+json": {
              "type": "dataframe",
              "summary": "{\n  \"name\": \"display(train\",\n  \"rows\": 5,\n  \"fields\": [\n    {\n      \"column\": \"filename\",\n      \"properties\": {\n        \"dtype\": \"string\",\n        \"num_unique_values\": 5,\n        \"samples\": [\n          \"blues.00002.wav\",\n          \"blues.00006.wav\",\n          \"blues.00003.wav\"\n        ],\n        \"semantic_type\": \"\",\n        \"description\": \"\"\n      }\n    },\n    {\n      \"column\": \"lyrics\",\n      \"properties\": {\n        \"dtype\": \"string\",\n        \"num_unique_values\": 5,\n        \"samples\": [\n          \"(John Lee Hooker)\\nThink twice before you go, baby, this will be the end\\nThink twice before you go, baby, this will be the end\\nYou done leave me one time, baby you'll leave again\\n\\nDig in and suffer with me, an' I know you paid your dues\\nDig in and suffer with me baby, an' I know you paid your dues\\nYou done leave me when I need you, then I know you stand accused\\n\\nBreaking the heart you should be ruling\\nDoing the man who loves you wrong\\nBreaking the heart you should be ruling\\nDoing the man who loves you wrong\\nI go for a lot of things, but you're a little too strong\\n\\nThink twice before you go, baby this will be the end\\nThink twice before you go, baby this will be the end\\nYou done leave me one time, baby, you'll leave again\\nHaYou might also likeEmbed\",\n          \"My baby left me this morning\\nPeople just around four o'clock\\nMy baby left me this morning\\nPeople just around four o'clock\\nShe left me dreamin' dreamin'\\nPeople then I woke up crying\\n\\nMe and my baby don't get along so well\\nWe don't do a doggone thing but fuss and fight all\\nMost all the time, she left me to dream\\nPeople dream most all the time\\n\\nEver since my baby left me\\nI don't do a doggone thing but dream\\nYes my nightmares are killing me now\\n\\nYou know I lay down dreamin'\\nPeople God knows that I wake up crying\\n\\nYes since my baby's been gone\\nPeople I just can't eat a bite\\nI'm gonna get up in the morning\\nGoing down that lonesome road\\nI don't find my baby\\nPeople I won't be back no moreYou might also likeEmbed\",\n          \"[Intro, Spoken]\\n...A little thing I'm going to do called \\\"I'm bad like Jesse James:\\\"\\n\\n[Spoken]\\nI'm bad, I'm\\u2005bad,\\u2005like Jesse James,\\u2005uh-huh\\nI had a friend one time\\n'least\\u2005I thought I did\\nHe come to me, said, 'Johnny'\\nI said 'what, man?'\\n'I'm outdoors'\\nI said, 'yeah'\\nI'd taken the cat in\\nGet him a place to stay\\nAnd I found out\\nHe goin' around town\\nTelling everybody that he\\nHe got my wife, heh\\nAnd I gets mad\\nI goes to the cat\\nLike a good guy should\\nI said look man\\nI'm gonna warn you\\nJust one time\\nNext time I warn you\\nI'mma use my gun\\nYou might also like'Cause I'm mad, I'm bad, like Jesse James\\n\\n[Verse 1]\\nI'm so mad, I'm so mad!\\nI'm gonna ruin you this morning\\nI got three boys\\nDo my dirty work\\nNow you don't see me\\nI'm the big boss\\nI do the payin' off\\nAfter they take care of you\\nIn their own way\\nThey may shoot you\\nThey may cut you\\nThey may drown you\\nI just don't know\\nI don't care!\\nAs long as they take care of you\\nIn their own way\\n\\n[Verse 2]\\nI'm so mad, I'm bad, this mornin', like Jesse James\\nThey're gonna take you right down\\nBy the riverside\\nNow four is goin' down\\nAin't but three coming back\\nYou read between the lines\\nWhat's gonna happen to you\\n[Verse 3]\\n'Cause I'm mad, I'm bad, like Jesse James\\nThey gonna tie your hands\\nThey gonna tie your feet\\nThey gonna gag your throat\\nWhere you can't holla none\\nAnd crying won't help you none\\nThey gonna send you in the water\\nGot the bubbles coming up\\nOoo! (grrr, rrr!)\\n\\n[Outro]\\nAww yea! I'm so mad!Embed\"\n        ],\n        \"semantic_type\": \"\",\n        \"description\": \"\"\n      }\n    },\n    {\n      \"column\": \"genre\",\n      \"properties\": {\n        \"dtype\": \"category\",\n        \"num_unique_values\": 1,\n        \"samples\": [\n          \"blues\"\n        ],\n        \"semantic_type\": \"\",\n        \"description\": \"\"\n      }\n    }\n  ]\n}"
            }
          },
          "metadata": {}
        },
        {
          "output_type": "stream",
          "name": "stdout",
          "text": [
            "<class 'pandas.core.frame.DataFrame'>\n",
            "Index: 537 entries, blues.00001.wav to rock.00099.wav\n",
            "Data columns (total 2 columns):\n",
            " #   Column  Non-Null Count  Dtype \n",
            "---  ------  --------------  ----- \n",
            " 0   lyrics  537 non-null    object\n",
            " 1   genre   537 non-null    object\n",
            "dtypes: object(2)\n",
            "memory usage: 12.6+ KB\n"
          ]
        },
        {
          "output_type": "display_data",
          "data": {
            "text/plain": [
              "None"
            ]
          },
          "metadata": {}
        },
        {
          "output_type": "display_data",
          "data": {
            "text/plain": [
              "                                                   lyrics genre\n",
              "count                                                 537   537\n",
              "unique                                                500     8\n",
              "top     [Intro: Lil' Kim, Mýa, Christina Aguilera & P!...  rock\n",
              "freq                                                    4    79"
            ],
            "text/html": [
              "\n",
              "  <div id=\"df-0448766b-1054-43a6-b1fa-ba93efb708bb\" class=\"colab-df-container\">\n",
              "    <div>\n",
              "<style scoped>\n",
              "    .dataframe tbody tr th:only-of-type {\n",
              "        vertical-align: middle;\n",
              "    }\n",
              "\n",
              "    .dataframe tbody tr th {\n",
              "        vertical-align: top;\n",
              "    }\n",
              "\n",
              "    .dataframe thead th {\n",
              "        text-align: right;\n",
              "    }\n",
              "</style>\n",
              "<table border=\"1\" class=\"dataframe\">\n",
              "  <thead>\n",
              "    <tr style=\"text-align: right;\">\n",
              "      <th></th>\n",
              "      <th>lyrics</th>\n",
              "      <th>genre</th>\n",
              "    </tr>\n",
              "  </thead>\n",
              "  <tbody>\n",
              "    <tr>\n",
              "      <th>count</th>\n",
              "      <td>537</td>\n",
              "      <td>537</td>\n",
              "    </tr>\n",
              "    <tr>\n",
              "      <th>unique</th>\n",
              "      <td>500</td>\n",
              "      <td>8</td>\n",
              "    </tr>\n",
              "    <tr>\n",
              "      <th>top</th>\n",
              "      <td>[Intro: Lil' Kim, Mýa, Christina Aguilera &amp; P!...</td>\n",
              "      <td>rock</td>\n",
              "    </tr>\n",
              "    <tr>\n",
              "      <th>freq</th>\n",
              "      <td>4</td>\n",
              "      <td>79</td>\n",
              "    </tr>\n",
              "  </tbody>\n",
              "</table>\n",
              "</div>\n",
              "    <div class=\"colab-df-buttons\">\n",
              "\n",
              "  <div class=\"colab-df-container\">\n",
              "    <button class=\"colab-df-convert\" onclick=\"convertToInteractive('df-0448766b-1054-43a6-b1fa-ba93efb708bb')\"\n",
              "            title=\"Convert this dataframe to an interactive table.\"\n",
              "            style=\"display:none;\">\n",
              "\n",
              "  <svg xmlns=\"http://www.w3.org/2000/svg\" height=\"24px\" viewBox=\"0 -960 960 960\">\n",
              "    <path d=\"M120-120v-720h720v720H120Zm60-500h600v-160H180v160Zm220 220h160v-160H400v160Zm0 220h160v-160H400v160ZM180-400h160v-160H180v160Zm440 0h160v-160H620v160ZM180-180h160v-160H180v160Zm440 0h160v-160H620v160Z\"/>\n",
              "  </svg>\n",
              "    </button>\n",
              "\n",
              "  <style>\n",
              "    .colab-df-container {\n",
              "      display:flex;\n",
              "      gap: 12px;\n",
              "    }\n",
              "\n",
              "    .colab-df-convert {\n",
              "      background-color: #E8F0FE;\n",
              "      border: none;\n",
              "      border-radius: 50%;\n",
              "      cursor: pointer;\n",
              "      display: none;\n",
              "      fill: #1967D2;\n",
              "      height: 32px;\n",
              "      padding: 0 0 0 0;\n",
              "      width: 32px;\n",
              "    }\n",
              "\n",
              "    .colab-df-convert:hover {\n",
              "      background-color: #E2EBFA;\n",
              "      box-shadow: 0px 1px 2px rgba(60, 64, 67, 0.3), 0px 1px 3px 1px rgba(60, 64, 67, 0.15);\n",
              "      fill: #174EA6;\n",
              "    }\n",
              "\n",
              "    .colab-df-buttons div {\n",
              "      margin-bottom: 4px;\n",
              "    }\n",
              "\n",
              "    [theme=dark] .colab-df-convert {\n",
              "      background-color: #3B4455;\n",
              "      fill: #D2E3FC;\n",
              "    }\n",
              "\n",
              "    [theme=dark] .colab-df-convert:hover {\n",
              "      background-color: #434B5C;\n",
              "      box-shadow: 0px 1px 3px 1px rgba(0, 0, 0, 0.15);\n",
              "      filter: drop-shadow(0px 1px 2px rgba(0, 0, 0, 0.3));\n",
              "      fill: #FFFFFF;\n",
              "    }\n",
              "  </style>\n",
              "\n",
              "    <script>\n",
              "      const buttonEl =\n",
              "        document.querySelector('#df-0448766b-1054-43a6-b1fa-ba93efb708bb button.colab-df-convert');\n",
              "      buttonEl.style.display =\n",
              "        google.colab.kernel.accessAllowed ? 'block' : 'none';\n",
              "\n",
              "      async function convertToInteractive(key) {\n",
              "        const element = document.querySelector('#df-0448766b-1054-43a6-b1fa-ba93efb708bb');\n",
              "        const dataTable =\n",
              "          await google.colab.kernel.invokeFunction('convertToInteractive',\n",
              "                                                    [key], {});\n",
              "        if (!dataTable) return;\n",
              "\n",
              "        const docLinkHtml = 'Like what you see? Visit the ' +\n",
              "          '<a target=\"_blank\" href=https://colab.research.google.com/notebooks/data_table.ipynb>data table notebook</a>'\n",
              "          + ' to learn more about interactive tables.';\n",
              "        element.innerHTML = '';\n",
              "        dataTable['output_type'] = 'display_data';\n",
              "        await google.colab.output.renderOutput(dataTable, element);\n",
              "        const docLink = document.createElement('div');\n",
              "        docLink.innerHTML = docLinkHtml;\n",
              "        element.appendChild(docLink);\n",
              "      }\n",
              "    </script>\n",
              "  </div>\n",
              "\n",
              "\n",
              "<div id=\"df-d78cdef9-0fd7-4c97-9ab9-c66cca6745bb\">\n",
              "  <button class=\"colab-df-quickchart\" onclick=\"quickchart('df-d78cdef9-0fd7-4c97-9ab9-c66cca6745bb')\"\n",
              "            title=\"Suggest charts\"\n",
              "            style=\"display:none;\">\n",
              "\n",
              "<svg xmlns=\"http://www.w3.org/2000/svg\" height=\"24px\"viewBox=\"0 0 24 24\"\n",
              "     width=\"24px\">\n",
              "    <g>\n",
              "        <path d=\"M19 3H5c-1.1 0-2 .9-2 2v14c0 1.1.9 2 2 2h14c1.1 0 2-.9 2-2V5c0-1.1-.9-2-2-2zM9 17H7v-7h2v7zm4 0h-2V7h2v10zm4 0h-2v-4h2v4z\"/>\n",
              "    </g>\n",
              "</svg>\n",
              "  </button>\n",
              "\n",
              "<style>\n",
              "  .colab-df-quickchart {\n",
              "      --bg-color: #E8F0FE;\n",
              "      --fill-color: #1967D2;\n",
              "      --hover-bg-color: #E2EBFA;\n",
              "      --hover-fill-color: #174EA6;\n",
              "      --disabled-fill-color: #AAA;\n",
              "      --disabled-bg-color: #DDD;\n",
              "  }\n",
              "\n",
              "  [theme=dark] .colab-df-quickchart {\n",
              "      --bg-color: #3B4455;\n",
              "      --fill-color: #D2E3FC;\n",
              "      --hover-bg-color: #434B5C;\n",
              "      --hover-fill-color: #FFFFFF;\n",
              "      --disabled-bg-color: #3B4455;\n",
              "      --disabled-fill-color: #666;\n",
              "  }\n",
              "\n",
              "  .colab-df-quickchart {\n",
              "    background-color: var(--bg-color);\n",
              "    border: none;\n",
              "    border-radius: 50%;\n",
              "    cursor: pointer;\n",
              "    display: none;\n",
              "    fill: var(--fill-color);\n",
              "    height: 32px;\n",
              "    padding: 0;\n",
              "    width: 32px;\n",
              "  }\n",
              "\n",
              "  .colab-df-quickchart:hover {\n",
              "    background-color: var(--hover-bg-color);\n",
              "    box-shadow: 0 1px 2px rgba(60, 64, 67, 0.3), 0 1px 3px 1px rgba(60, 64, 67, 0.15);\n",
              "    fill: var(--button-hover-fill-color);\n",
              "  }\n",
              "\n",
              "  .colab-df-quickchart-complete:disabled,\n",
              "  .colab-df-quickchart-complete:disabled:hover {\n",
              "    background-color: var(--disabled-bg-color);\n",
              "    fill: var(--disabled-fill-color);\n",
              "    box-shadow: none;\n",
              "  }\n",
              "\n",
              "  .colab-df-spinner {\n",
              "    border: 2px solid var(--fill-color);\n",
              "    border-color: transparent;\n",
              "    border-bottom-color: var(--fill-color);\n",
              "    animation:\n",
              "      spin 1s steps(1) infinite;\n",
              "  }\n",
              "\n",
              "  @keyframes spin {\n",
              "    0% {\n",
              "      border-color: transparent;\n",
              "      border-bottom-color: var(--fill-color);\n",
              "      border-left-color: var(--fill-color);\n",
              "    }\n",
              "    20% {\n",
              "      border-color: transparent;\n",
              "      border-left-color: var(--fill-color);\n",
              "      border-top-color: var(--fill-color);\n",
              "    }\n",
              "    30% {\n",
              "      border-color: transparent;\n",
              "      border-left-color: var(--fill-color);\n",
              "      border-top-color: var(--fill-color);\n",
              "      border-right-color: var(--fill-color);\n",
              "    }\n",
              "    40% {\n",
              "      border-color: transparent;\n",
              "      border-right-color: var(--fill-color);\n",
              "      border-top-color: var(--fill-color);\n",
              "    }\n",
              "    60% {\n",
              "      border-color: transparent;\n",
              "      border-right-color: var(--fill-color);\n",
              "    }\n",
              "    80% {\n",
              "      border-color: transparent;\n",
              "      border-right-color: var(--fill-color);\n",
              "      border-bottom-color: var(--fill-color);\n",
              "    }\n",
              "    90% {\n",
              "      border-color: transparent;\n",
              "      border-bottom-color: var(--fill-color);\n",
              "    }\n",
              "  }\n",
              "</style>\n",
              "\n",
              "  <script>\n",
              "    async function quickchart(key) {\n",
              "      const quickchartButtonEl =\n",
              "        document.querySelector('#' + key + ' button');\n",
              "      quickchartButtonEl.disabled = true;  // To prevent multiple clicks.\n",
              "      quickchartButtonEl.classList.add('colab-df-spinner');\n",
              "      try {\n",
              "        const charts = await google.colab.kernel.invokeFunction(\n",
              "            'suggestCharts', [key], {});\n",
              "      } catch (error) {\n",
              "        console.error('Error during call to suggestCharts:', error);\n",
              "      }\n",
              "      quickchartButtonEl.classList.remove('colab-df-spinner');\n",
              "      quickchartButtonEl.classList.add('colab-df-quickchart-complete');\n",
              "    }\n",
              "    (() => {\n",
              "      let quickchartButtonEl =\n",
              "        document.querySelector('#df-d78cdef9-0fd7-4c97-9ab9-c66cca6745bb button');\n",
              "      quickchartButtonEl.style.display =\n",
              "        google.colab.kernel.accessAllowed ? 'block' : 'none';\n",
              "    })();\n",
              "  </script>\n",
              "</div>\n",
              "    </div>\n",
              "  </div>\n"
            ],
            "application/vnd.google.colaboratory.intrinsic+json": {
              "type": "dataframe",
              "summary": "{\n  \"name\": \"display(train\",\n  \"rows\": 4,\n  \"fields\": [\n    {\n      \"column\": \"lyrics\",\n      \"properties\": {\n        \"dtype\": \"string\",\n        \"num_unique_values\": 4,\n        \"samples\": [\n          500,\n          \"4\",\n          \"537\"\n        ],\n        \"semantic_type\": \"\",\n        \"description\": \"\"\n      }\n    },\n    {\n      \"column\": \"genre\",\n      \"properties\": {\n        \"dtype\": \"string\",\n        \"num_unique_values\": 4,\n        \"samples\": [\n          8,\n          \"79\",\n          \"537\"\n        ],\n        \"semantic_type\": \"\",\n        \"description\": \"\"\n      }\n    }\n  ]\n}"
            }
          },
          "metadata": {}
        },
        {
          "output_type": "display_data",
          "data": {
            "text/plain": [
              "lyrics    0\n",
              "genre     0\n",
              "dtype: int64"
            ]
          },
          "metadata": {}
        }
      ],
      "source": [
        "display(train.head())\n",
        "display(train.info())\n",
        "display(train.describe())\n",
        "display(train.isnull().sum())"
      ]
    },
    {
      "cell_type": "code",
      "execution_count": 30,
      "metadata": {
        "colab": {
          "base_uri": "https://localhost:8080/",
          "height": 888
        },
        "id": "jKPvG8HwYhfG",
        "outputId": "78240362-f5fd-47ed-9216-67762f4c9a7f"
      },
      "outputs": [
        {
          "output_type": "stream",
          "name": "stdout",
          "text": [
            "(32, 80000)\n",
            "(32,)\n"
          ]
        },
        {
          "output_type": "display_data",
          "data": {
            "text/plain": [
              "<Figure size 1600x1000 with 9 Axes>"
            ],
            "image/png": "[encoded data removed]"
          },
          "metadata": {}
        }
      ],
      "source": [
        "for example_audio, example_labels in train_ds.take(1):\n",
        "    print(example_audio.shape)\n",
        "    print(example_labels.shape)\n",
        "\n",
        "label_names[[1,1,0,0]]\n",
        "plt.figure(figsize=(16, 10))\n",
        "rows = 3\n",
        "cols = 3\n",
        "n = rows * cols\n",
        "for i in range(n):\n",
        "    plt.subplot(rows, cols, i+1)\n",
        "    audio_signal = example_audio[i]\n",
        "    plt.plot(audio_signal)\n",
        "    plt.title(label_names[example_labels[i]])\n",
        "    plt.yticks(np.arange(-1.2, 1.2, 0.2))\n",
        "    plt.ylim([-1.1, 1.1])"
      ]
    },
    {
      "cell_type": "markdown",
      "metadata": {
        "id": "jSPGu-15YhfG"
      },
      "source": [
        "## Opdracht 2 - LSTM voor audioclips <a name='audio'></a>"
      ]
    },
    {
      "cell_type": "markdown",
      "metadata": {
        "id": "QDb8x04EYhfG"
      },
      "source": [
        "## Opdracht 3 - LSTM voor songteksten <a name='song_lstm'></a>"
      ]
    },
    {
      "cell_type": "code",
      "source": [
        "import re\n",
        "import nltk\n",
        "from nltk.tokenize import word_tokenize\n",
        "# from nltk.corpus import stopwords\n",
        "# from nltk.stem import PorterStemmer"
      ],
      "metadata": {
        "id": "JqdgD46farRs"
      },
      "execution_count": 31,
      "outputs": []
    },
    {
      "cell_type": "code",
      "source": [
        "# nltk.download('punkt')"
      ],
      "metadata": {
        "id": "W-wyS81L49Dt"
      },
      "execution_count": 32,
      "outputs": []
    },
    {
      "cell_type": "code",
      "source": [
        "# from sklearn.model_selection import train_test_split"
      ],
      "metadata": {
        "id": "UlzyrHbZBWSK"
      },
      "execution_count": 33,
      "outputs": []
    },
    {
      "cell_type": "code",
      "source": [
        "# train_ds, val_ds = train_test_split(train, test_size=0.2, random_state=42)"
      ],
      "metadata": {
        "id": "3UzE4pd5BS-t"
      },
      "execution_count": 34,
      "outputs": []
    },
    {
      "cell_type": "code",
      "source": [
        "from sklearn.preprocessing import LabelEncoder"
      ],
      "metadata": {
        "id": "v4ZOB1VwkOSr"
      },
      "execution_count": 60,
      "outputs": []
    },
    {
      "cell_type": "code",
      "source": [
        "genres = list(set(train['genre']))\n",
        "\n",
        "label_encoder = LabelEncoder()\n",
        "\n",
        "# Fit label encoder and transform the genre labels into numbers\n",
        "encoded_labels = label_encoder.fit_transform(genres)\n",
        "\n",
        "# Print the mapping between genres and encoded labels\n",
        "label_mapping = dict(sorted(zip(genres, encoded_labels)))\n",
        "print(\"Label mapping:\", label_mapping)\n",
        "\n",
        "train['genre_encoded'] = train['genre'].map(label_mapping)\n",
        "\n",
        "display(train)"
      ],
      "metadata": {
        "id": "ubrmYHIakPWF",
        "outputId": "3894012e-385e-477f-d711-32924419f9a5",
        "colab": {
          "base_uri": "https://localhost:8080/",
          "height": 472
        }
      },
      "execution_count": 68,
      "outputs": [
        {
          "output_type": "stream",
          "name": "stdout",
          "text": [
            "Label mapping: {'blues': 0, 'country': 1, 'disco': 2, 'hiphop': 3, 'metal': 4, 'pop': 5, 'reggae': 6, 'rock': 7}\n"
          ]
        },
        {
          "output_type": "display_data",
          "data": {
            "text/plain": [
              "                                                            lyrics  genre  \\\n",
              "filename                                                                    \n",
              "blues.00001.wav  I’m in the Mood Lyrics[Verse 1]\\nI'm in the mo...  blues   \n",
              "blues.00002.wav  (John Lee Hooker)\\nThink twice before you go, ...  blues   \n",
              "blues.00003.wav  [Intro, Spoken]\\n...A little thing I'm going t...  blues   \n",
              "blues.00005.wav  Sugar mama, sugar mama, sugar mama please come...  blues   \n",
              "blues.00006.wav  My baby left me this morning\\nPeople just arou...  blues   \n",
              "...                                                            ...    ...   \n",
              "rock.00094.wav   [Chorus]\\nDon’t stop\\nIsn’t it funny how you s...   rock   \n",
              "rock.00096.wav   [Verse 1]\\nHer hair, soft drifted snow\\nDeath ...   rock   \n",
              "rock.00097.wav   [Verse 1]\\nYour knuckles whiten on the wheel\\n...   rock   \n",
              "rock.00098.wav   [Verse 1]\\nYou know it\\nYou show it\\nAnd the t...   rock   \n",
              "rock.00099.wav   [Verse 1]\\nA girl consumed by fire\\nWe all kno...   rock   \n",
              "\n",
              "                 genre_encoded  \n",
              "filename                        \n",
              "blues.00001.wav              0  \n",
              "blues.00002.wav              0  \n",
              "blues.00003.wav              0  \n",
              "blues.00005.wav              0  \n",
              "blues.00006.wav              0  \n",
              "...                        ...  \n",
              "rock.00094.wav               7  \n",
              "rock.00096.wav               7  \n",
              "rock.00097.wav               7  \n",
              "rock.00098.wav               7  \n",
              "rock.00099.wav               7  \n",
              "\n",
              "[537 rows x 3 columns]"
            ],
            "text/html": [
              "\n",
              "  <div id=\"df-92deb76d-fb93-4cea-a2a7-32039011be3c\" class=\"colab-df-container\">\n",
              "    <div>\n",
              "<style scoped>\n",
              "    .dataframe tbody tr th:only-of-type {\n",
              "        vertical-align: middle;\n",
              "    }\n",
              "\n",
              "    .dataframe tbody tr th {\n",
              "        vertical-align: top;\n",
              "    }\n",
              "\n",
              "    .dataframe thead th {\n",
              "        text-align: right;\n",
              "    }\n",
              "</style>\n",
              "<table border=\"1\" class=\"dataframe\">\n",
              "  <thead>\n",
              "    <tr style=\"text-align: right;\">\n",
              "      <th></th>\n",
              "      <th>lyrics</th>\n",
              "      <th>genre</th>\n",
              "      <th>genre_encoded</th>\n",
              "    </tr>\n",
              "    <tr>\n",
              "      <th>filename</th>\n",
              "      <th></th>\n",
              "      <th></th>\n",
              "      <th></th>\n",
              "    </tr>\n",
              "  </thead>\n",
              "  <tbody>\n",
              "    <tr>\n",
              "      <th>blues.00001.wav</th>\n",
              "      <td>I’m in the Mood Lyrics[Verse 1]\\nI'm in the mo...</td>\n",
              "      <td>blues</td>\n",
              "      <td>0</td>\n",
              "    </tr>\n",
              "    <tr>\n",
              "      <th>blues.00002.wav</th>\n",
              "      <td>(John Lee Hooker)\\nThink twice before you go, ...</td>\n",
              "      <td>blues</td>\n",
              "      <td>0</td>\n",
              "    </tr>\n",
              "    <tr>\n",
              "      <th>blues.00003.wav</th>\n",
              "      <td>[Intro, Spoken]\\n...A little thing I'm going t...</td>\n",
              "      <td>blues</td>\n",
              "      <td>0</td>\n",
              "    </tr>\n",
              "    <tr>\n",
              "      <th>blues.00005.wav</th>\n",
              "      <td>Sugar mama, sugar mama, sugar mama please come...</td>\n",
              "      <td>blues</td>\n",
              "      <td>0</td>\n",
              "    </tr>\n",
              "    <tr>\n",
              "      <th>blues.00006.wav</th>\n",
              "      <td>My baby left me this morning\\nPeople just arou...</td>\n",
              "      <td>blues</td>\n",
              "      <td>0</td>\n",
              "    </tr>\n",
              "    <tr>\n",
              "      <th>...</th>\n",
              "      <td>...</td>\n",
              "      <td>...</td>\n",
              "      <td>...</td>\n",
              "    </tr>\n",
              "    <tr>\n",
              "      <th>rock.00094.wav</th>\n",
              "      <td>[Chorus]\\nDon’t stop\\nIsn’t it funny how you s...</td>\n",
              "      <td>rock</td>\n",
              "      <td>7</td>\n",
              "    </tr>\n",
              "    <tr>\n",
              "      <th>rock.00096.wav</th>\n",
              "      <td>[Verse 1]\\nHer hair, soft drifted snow\\nDeath ...</td>\n",
              "      <td>rock</td>\n",
              "      <td>7</td>\n",
              "    </tr>\n",
              "    <tr>\n",
              "      <th>rock.00097.wav</th>\n",
              "      <td>[Verse 1]\\nYour knuckles whiten on the wheel\\n...</td>\n",
              "      <td>rock</td>\n",
              "      <td>7</td>\n",
              "    </tr>\n",
              "    <tr>\n",
              "      <th>rock.00098.wav</th>\n",
              "      <td>[Verse 1]\\nYou know it\\nYou show it\\nAnd the t...</td>\n",
              "      <td>rock</td>\n",
              "      <td>7</td>\n",
              "    </tr>\n",
              "    <tr>\n",
              "      <th>rock.00099.wav</th>\n",
              "      <td>[Verse 1]\\nA girl consumed by fire\\nWe all kno...</td>\n",
              "      <td>rock</td>\n",
              "      <td>7</td>\n",
              "    </tr>\n",
              "  </tbody>\n",
              "</table>\n",
              "<p>537 rows × 3 columns</p>\n",
              "</div>\n",
              "    <div class=\"colab-df-buttons\">\n",
              "\n",
              "  <div class=\"colab-df-container\">\n",
              "    <button class=\"colab-df-convert\" onclick=\"convertToInteractive('df-92deb76d-fb93-4cea-a2a7-32039011be3c')\"\n",
              "            title=\"Convert this dataframe to an interactive table.\"\n",
              "            style=\"display:none;\">\n",
              "\n",
              "  <svg xmlns=\"http://www.w3.org/2000/svg\" height=\"24px\" viewBox=\"0 -960 960 960\">\n",
              "    <path d=\"M120-120v-720h720v720H120Zm60-500h600v-160H180v160Zm220 220h160v-160H400v160Zm0 220h160v-160H400v160ZM180-400h160v-160H180v160Zm440 0h160v-160H620v160ZM180-180h160v-160H180v160Zm440 0h160v-160H620v160Z\"/>\n",
              "  </svg>\n",
              "    </button>\n",
              "\n",
              "  <style>\n",
              "    .colab-df-container {\n",
              "      display:flex;\n",
              "      gap: 12px;\n",
              "    }\n",
              "\n",
              "    .colab-df-convert {\n",
              "      background-color: #E8F0FE;\n",
              "      border: none;\n",
              "      border-radius: 50%;\n",
              "      cursor: pointer;\n",
              "      display: none;\n",
              "      fill: #1967D2;\n",
              "      height: 32px;\n",
              "      padding: 0 0 0 0;\n",
              "      width: 32px;\n",
              "    }\n",
              "\n",
              "    .colab-df-convert:hover {\n",
              "      background-color: #E2EBFA;\n",
              "      box-shadow: 0px 1px 2px rgba(60, 64, 67, 0.3), 0px 1px 3px 1px rgba(60, 64, 67, 0.15);\n",
              "      fill: #174EA6;\n",
              "    }\n",
              "\n",
              "    .colab-df-buttons div {\n",
              "      margin-bottom: 4px;\n",
              "    }\n",
              "\n",
              "    [theme=dark] .colab-df-convert {\n",
              "      background-color: #3B4455;\n",
              "      fill: #D2E3FC;\n",
              "    }\n",
              "\n",
              "    [theme=dark] .colab-df-convert:hover {\n",
              "      background-color: #434B5C;\n",
              "      box-shadow: 0px 1px 3px 1px rgba(0, 0, 0, 0.15);\n",
              "      filter: drop-shadow(0px 1px 2px rgba(0, 0, 0, 0.3));\n",
              "      fill: #FFFFFF;\n",
              "    }\n",
              "  </style>\n",
              "\n",
              "    <script>\n",
              "      const buttonEl =\n",
              "        document.querySelector('#df-92deb76d-fb93-4cea-a2a7-32039011be3c button.colab-df-convert');\n",
              "      buttonEl.style.display =\n",
              "        google.colab.kernel.accessAllowed ? 'block' : 'none';\n",
              "\n",
              "      async function convertToInteractive(key) {\n",
              "        const element = document.querySelector('#df-92deb76d-fb93-4cea-a2a7-32039011be3c');\n",
              "        const dataTable =\n",
              "          await google.colab.kernel.invokeFunction('convertToInteractive',\n",
              "                                                    [key], {});\n",
              "        if (!dataTable) return;\n",
              "\n",
              "        const docLinkHtml = 'Like what you see? Visit the ' +\n",
              "          '<a target=\"_blank\" href=https://colab.research.google.com/notebooks/data_table.ipynb>data table notebook</a>'\n",
              "          + ' to learn more about interactive tables.';\n",
              "        element.innerHTML = '';\n",
              "        dataTable['output_type'] = 'display_data';\n",
              "        await google.colab.output.renderOutput(dataTable, element);\n",
              "        const docLink = document.createElement('div');\n",
              "        docLink.innerHTML = docLinkHtml;\n",
              "        element.appendChild(docLink);\n",
              "      }\n",
              "    </script>\n",
              "  </div>\n",
              "\n",
              "\n",
              "<div id=\"df-ce3f4c84-0039-4265-b68f-c1218f18577a\">\n",
              "  <button class=\"colab-df-quickchart\" onclick=\"quickchart('df-ce3f4c84-0039-4265-b68f-c1218f18577a')\"\n",
              "            title=\"Suggest charts\"\n",
              "            style=\"display:none;\">\n",
              "\n",
              "<svg xmlns=\"http://www.w3.org/2000/svg\" height=\"24px\"viewBox=\"0 0 24 24\"\n",
              "     width=\"24px\">\n",
              "    <g>\n",
              "        <path d=\"M19 3H5c-1.1 0-2 .9-2 2v14c0 1.1.9 2 2 2h14c1.1 0 2-.9 2-2V5c0-1.1-.9-2-2-2zM9 17H7v-7h2v7zm4 0h-2V7h2v10zm4 0h-2v-4h2v4z\"/>\n",
              "    </g>\n",
              "</svg>\n",
              "  </button>\n",
              "\n",
              "<style>\n",
              "  .colab-df-quickchart {\n",
              "      --bg-color: #E8F0FE;\n",
              "      --fill-color: #1967D2;\n",
              "      --hover-bg-color: #E2EBFA;\n",
              "      --hover-fill-color: #174EA6;\n",
              "      --disabled-fill-color: #AAA;\n",
              "      --disabled-bg-color: #DDD;\n",
              "  }\n",
              "\n",
              "  [theme=dark] .colab-df-quickchart {\n",
              "      --bg-color: #3B4455;\n",
              "      --fill-color: #D2E3FC;\n",
              "      --hover-bg-color: #434B5C;\n",
              "      --hover-fill-color: #FFFFFF;\n",
              "      --disabled-bg-color: #3B4455;\n",
              "      --disabled-fill-color: #666;\n",
              "  }\n",
              "\n",
              "  .colab-df-quickchart {\n",
              "    background-color: var(--bg-color);\n",
              "    border: none;\n",
              "    border-radius: 50%;\n",
              "    cursor: pointer;\n",
              "    display: none;\n",
              "    fill: var(--fill-color);\n",
              "    height: 32px;\n",
              "    padding: 0;\n",
              "    width: 32px;\n",
              "  }\n",
              "\n",
              "  .colab-df-quickchart:hover {\n",
              "    background-color: var(--hover-bg-color);\n",
              "    box-shadow: 0 1px 2px rgba(60, 64, 67, 0.3), 0 1px 3px 1px rgba(60, 64, 67, 0.15);\n",
              "    fill: var(--button-hover-fill-color);\n",
              "  }\n",
              "\n",
              "  .colab-df-quickchart-complete:disabled,\n",
              "  .colab-df-quickchart-complete:disabled:hover {\n",
              "    background-color: var(--disabled-bg-color);\n",
              "    fill: var(--disabled-fill-color);\n",
              "    box-shadow: none;\n",
              "  }\n",
              "\n",
              "  .colab-df-spinner {\n",
              "    border: 2px solid var(--fill-color);\n",
              "    border-color: transparent;\n",
              "    border-bottom-color: var(--fill-color);\n",
              "    animation:\n",
              "      spin 1s steps(1) infinite;\n",
              "  }\n",
              "\n",
              "  @keyframes spin {\n",
              "    0% {\n",
              "      border-color: transparent;\n",
              "      border-bottom-color: var(--fill-color);\n",
              "      border-left-color: var(--fill-color);\n",
              "    }\n",
              "    20% {\n",
              "      border-color: transparent;\n",
              "      border-left-color: var(--fill-color);\n",
              "      border-top-color: var(--fill-color);\n",
              "    }\n",
              "    30% {\n",
              "      border-color: transparent;\n",
              "      border-left-color: var(--fill-color);\n",
              "      border-top-color: var(--fill-color);\n",
              "      border-right-color: var(--fill-color);\n",
              "    }\n",
              "    40% {\n",
              "      border-color: transparent;\n",
              "      border-right-color: var(--fill-color);\n",
              "      border-top-color: var(--fill-color);\n",
              "    }\n",
              "    60% {\n",
              "      border-color: transparent;\n",
              "      border-right-color: var(--fill-color);\n",
              "    }\n",
              "    80% {\n",
              "      border-color: transparent;\n",
              "      border-right-color: var(--fill-color);\n",
              "      border-bottom-color: var(--fill-color);\n",
              "    }\n",
              "    90% {\n",
              "      border-color: transparent;\n",
              "      border-bottom-color: var(--fill-color);\n",
              "    }\n",
              "  }\n",
              "</style>\n",
              "\n",
              "  <script>\n",
              "    async function quickchart(key) {\n",
              "      const quickchartButtonEl =\n",
              "        document.querySelector('#' + key + ' button');\n",
              "      quickchartButtonEl.disabled = true;  // To prevent multiple clicks.\n",
              "      quickchartButtonEl.classList.add('colab-df-spinner');\n",
              "      try {\n",
              "        const charts = await google.colab.kernel.invokeFunction(\n",
              "            'suggestCharts', [key], {});\n",
              "      } catch (error) {\n",
              "        console.error('Error during call to suggestCharts:', error);\n",
              "      }\n",
              "      quickchartButtonEl.classList.remove('colab-df-spinner');\n",
              "      quickchartButtonEl.classList.add('colab-df-quickchart-complete');\n",
              "    }\n",
              "    (() => {\n",
              "      let quickchartButtonEl =\n",
              "        document.querySelector('#df-ce3f4c84-0039-4265-b68f-c1218f18577a button');\n",
              "      quickchartButtonEl.style.display =\n",
              "        google.colab.kernel.accessAllowed ? 'block' : 'none';\n",
              "    })();\n",
              "  </script>\n",
              "</div>\n",
              "    </div>\n",
              "  </div>\n"
            ],
            "application/vnd.google.colaboratory.intrinsic+json": {
              "type": "dataframe",
              "variable_name": "train",
              "summary": "{\n  \"name\": \"train\",\n  \"rows\": 537,\n  \"fields\": [\n    {\n      \"column\": \"filename\",\n      \"properties\": {\n        \"dtype\": \"string\",\n        \"num_unique_values\": 537,\n        \"samples\": [\n          \"rock.00045.wav\",\n          \"country.00046.wav\",\n          \"pop.00036.wav\"\n        ],\n        \"semantic_type\": \"\",\n        \"description\": \"\"\n      }\n    },\n    {\n      \"column\": \"lyrics\",\n      \"properties\": {\n        \"dtype\": \"string\",\n        \"num_unique_values\": 500,\n        \"samples\": [\n          \"[Verse 1]\\nI try, but I can't seem to get myself to think of anything but you\\nYour breath on my face, your warm gentle kiss, I taste the truth\\nI taste the truth\\n\\n[Pre-Chorus]\\nYou know what I came here for\\nSo I won't ask for more\\n\\n[Chorus]\\nI wanna be with you\\nIf only for a night\\nTo be the one who's in your arms who holds you tight\\nI wanna be with you\\nThere's nothing more to say\\nThere's nothing else I want more than to feel this way\\nI wanna be with you\\n\\n[Verse 2]\\nSo I'll hold you tonight like I would if you were mine\\nTo hold forever more\\nAnd I'll savor each touch that I wanted so much to feel before\\nTo feel before\\n\\n[Pre-Chorus]\\nHow beautiful it is\\nJust to be like this\\nYou might also like[Chorus]\\nI wanna be with you\\nIf only for a night\\nTo be the one who's in your arms who holds you tight\\nI wanna be with you\\nThere's nothing more to say\\nThere's nothing else I want more than to feel this way\\nI wanna be with you\\n\\n[Bridge]\\nOh, baby\\nI can't fight this feeling anymore\\nIt drives me crazy when I try to\\nSo call my name\\nTake my hand\\nAnd make my wish\\nBaby, your command\\n\\n[Chorus]\\nYeah\\nI wanna be with you\\nThere's nothing more to say\\nThere's nothing else I want more than to feel this way\\n(I wanna be) I wanna be with you (I wanna be with you)\\nI wanna be with you\\nWanna be with you (Yeah)\\n(I wanna be with you) I wanna be\\nI wanna be with you\\n(I wanna be)\\n(I wanna be)\\n(I wanna be with you) Yeah\\n(I wanna be with you)\\nI wanna be, I wanna be, baby\\nI wanna be\\n(I wanna be with you)\\nI wanna be with you, yeah\\nI wanna be with you1Embed\",\n          \"They sing about little German Lee, somebody's sweet fr\\u00e4ulein\\nThey tell about little geisha girl, whose\\u2005love\\u2005is true and\\u2005fine\\nI met them all, but I\\u2005didn't fall, I waited for that day\\nAnd found my girl here in the good old U-S-A\\n\\nI met her where the bluegrass grows and the mountains meet the sky\\nWe're happy now in the cottage small with a baby 'bout so high\\nI was lonesome too, while over there but I waited for that day\\nAnd found my girl here in the good old U-S-A\\n\\n[Instrumental Break]\\n\\nI seen your Filipino baby and your pretty fr\\u00e4ulein, too\\nWatched the geisha girls all in a whirl with a cute little dance they do\\nThey're all so wonderful and sweet, still I am proud that I can say\\nI found my girl here in the good old U-S-A\\n\\nI met her where the bluegrass grows and the mountains meet the sky\\nWe're happy now in the cottage small with a baby 'bout so high\\nI was lonesome too, while over there but I waited for that day\\nAnd found my girl here in the good old U-S-A\\n\\n[Instrumental Break]\\n\\nI met her where the bluegrass grows and the mountains meet the sky\\nWe're happy now in the cottage small with a baby 'bout so high\\nI was lonesome too, while over there but I waited for that day\\nAnd found my girl here in the good old U-S-AYou might also likeEmbed\",\n          \"[Chorus]\\nI shot the sheriff\\nBut I didn't shoot no deputy, oh no, oh\\nI shot the sheriff\\nBut I didn't shoot no deputy, ooh, ooh, ooh\\n\\n[Verse 1]\\nYeah, all around in my home town\\nThey're trying to track me down, yeah\\nThey say they want to bring me in guilty\\nFor the killing of a deputy\\nFor the life of a deputy\\nBut I say\\nOh, now, now, oh\\n\\n[Chorus]\\nI shot the sheriff, the sheriff\\nBut I swear it was in self-defense, oh no\\nOoh, ooh, ooh, yeah\\nI say, I shot the sherriff, oh Lord\\nAnd they say it is a capital offense, yeah\\nOoh, ooh, ooh, yeah\\n\\n[Verse 2]\\nSheriff John Brown always hated me\\nFor what, I don't know\\nEvery time I plant a seed\\nHe said kill it before it grow\\nHe said kill them before they grow\\nAnd so, and so\\nRead it in the news\\nYou might also like[Chorus]\\nI shot the sheriff, oh Lord\\nBut I swear it was in self-defense\\nWhere was the deputy? Ooh, ooh, ooh\\nI say, I shot the sheriff\\nBut I swear it was in self-defense, yeah\\nOoh-ooh\\n\\n[Verse 3]\\nFreedom came my way one day\\nAnd I started out of town, yeah\\nAll of a sudden I saw Sheriff John Brown\\nAiming to shoot me down\\nSo I shot, I shot, I shot him down and I say\\nIf I am guilty I will pay (pay, pay, pay, pay, pay)\\n\\n[Chorus]\\nI shot the sheriff\\nBut I say, but I didn't shoot no deputy\\nI didn't shoot no deputy, oh no, ooh, ooh, ooh\\nI shot the sheriff, I did\\nBut I didn't shoot no deputy, oh\\nOoh, ooh, ooh\\n\\n[Verse 4]\\nReflexes had the better of me\\nAnd what is to be must be\\nEvery day the bucket a-go a well\\nOne day the bottom a-go drop out\\nOne day the bottom a-go drop out\\n[Outro]\\nI say\\nI-I-I, I shot the sheriff\\nLord, I didn't shot the deputy, no\\nYeah, I-I shot the sheriff\\nBut I didn't shoot no deputy, yeah, so, yeah16Embed\"\n        ],\n        \"semantic_type\": \"\",\n        \"description\": \"\"\n      }\n    },\n    {\n      \"column\": \"genre\",\n      \"properties\": {\n        \"dtype\": \"category\",\n        \"num_unique_values\": 8,\n        \"samples\": [\n          \"country\",\n          \"pop\",\n          \"blues\"\n        ],\n        \"semantic_type\": \"\",\n        \"description\": \"\"\n      }\n    },\n    {\n      \"column\": \"genre_encoded\",\n      \"properties\": {\n        \"dtype\": \"number\",\n        \"std\": 2,\n        \"min\": 0,\n        \"max\": 7,\n        \"num_unique_values\": 8,\n        \"samples\": [\n          1,\n          5,\n          0\n        ],\n        \"semantic_type\": \"\",\n        \"description\": \"\"\n      }\n    }\n  ]\n}"
            }
          },
          "metadata": {}
        }
      ]
    },
    {
      "cell_type": "code",
      "source": [
        "def df_to_dataset(dataframe, target, batch_size=32):\n",
        "    dataframe = dataframe.copy()\n",
        "    labels = dataframe.pop(target)\n",
        "    ds = tf.data.Dataset.from_tensor_slices((dataframe['lyrics'].values, labels.values))\n",
        "    ds = ds.batch(batch_size)\n",
        "    return ds"
      ],
      "metadata": {
        "id": "TSlqyCN3DzN3"
      },
      "execution_count": 69,
      "outputs": []
    },
    {
      "cell_type": "code",
      "source": [
        "dataframe = train[['lyrics', 'genre_encoded']]\n",
        "train_ds = df_to_dataset(dataframe, 'genre_encoded')\n",
        "train_size = int(0.8 * len(train_ds))\n",
        "val_size = len(train_ds) - train_size\n",
        "\n",
        "# Shuffle and split the dataset\n",
        "train_ds = train_ds.shuffle(len(train_ds), reshuffle_each_iteration=False)\n",
        "train_ds = train_ds.take(train_size)\n",
        "val_ds = train_ds.skip(train_size)"
      ],
      "metadata": {
        "id": "WJqmmGPqD1DC"
      },
      "execution_count": 70,
      "outputs": []
    },
    {
      "cell_type": "code",
      "source": [
        "# def preprocess_text(text):\n",
        "#     # Remove newline characters\n",
        "#     text = text.replace('\\n', ' ')\n",
        "\n",
        "#     # Remove 'Verse #' and 'Chorus' lines\n",
        "#     text = re.sub(r'\\[Verse\\s*\\d*\\]', '', text)\n",
        "#     text = re.sub(r'\\[Chorus\\]', '', text)\n",
        "\n",
        "#     # Tokenization\n",
        "#     tokens = word_tokenize(text)\n",
        "\n",
        "#     # Removing Punctuation and Special Characters\n",
        "#     tokens = [re.sub(r'[^a-zA-Z0-9]', '', token) for token in tokens]\n",
        "\n",
        "#     return ' '.join(tokens)"
      ],
      "metadata": {
        "id": "u9rzLOYYZGYC"
      },
      "execution_count": 71,
      "outputs": []
    },
    {
      "cell_type": "code",
      "source": [
        "from tensorflow.keras import Sequential\n",
        "from tensorflow.keras.layers import Dense, Embedding, GlobalAveragePooling1D, LSTM\n",
        "from tensorflow.keras.layers import TextVectorization, Embedding"
      ],
      "metadata": {
        "id": "yLtEMAS_7bd6"
      },
      "execution_count": 72,
      "outputs": []
    },
    {
      "cell_type": "code",
      "source": [
        "def custom_standardization(text):\n",
        "    # Convert to string if not already\n",
        "    text = tf.strings.as_string(text)\n",
        "    # Remove new lines\n",
        "    text = tf.strings.regex_replace(text, r'\\n', ' ')\n",
        "    # Remove anything in square brackets\n",
        "    text = tf.strings.regex_replace(text, r'\\[.*?\\]', '')\n",
        "    return text\n",
        "\n",
        "vocab_size = 10000\n",
        "sequence_length = 100\n",
        "\n",
        "vectorize_layer = TextVectorization(\n",
        "    standardize=custom_standardization,\n",
        "    max_tokens=vocab_size,\n",
        "    output_mode='int',\n",
        "    output_sequence_length=sequence_length)\n",
        "\n",
        "# Make a text-only dataset (no labels) and call adapt to build the vocabulary.\n",
        "text_ds = train_ds.map(lambda x, y: x)\n",
        "text_ds = text_ds.unbatch()  # Unbatch the dataset to get individual text samples\n",
        "\n",
        "# Extract the text data from the dataset\n",
        "texts = [text.numpy().decode('utf-8') for text in text_ds]\n",
        "vectorize_layer.adapt(texts)\n",
        "\n",
        "embedding_layer = Embedding(input_dim=len(vectorize_layer.get_vocabulary()), output_dim=64, mask_zero=True)"
      ],
      "metadata": {
        "id": "xkJ9Hpo16du2"
      },
      "execution_count": 73,
      "outputs": []
    },
    {
      "cell_type": "code",
      "source": [
        "model_text_lstm = Sequential([\n",
        "    vectorize_layer,\n",
        "    embedding_layer,\n",
        "    LSTM(64),\n",
        "    Dense(64, activation='relu'),\n",
        "    Dense(1, activation='sigmoid')\n",
        "])\n",
        "\n",
        "model_text_lstm.summary()"
      ],
      "metadata": {
        "colab": {
          "base_uri": "https://localhost:8080/"
        },
        "id": "iXzUgf4-q09B",
        "outputId": "2aadbcf7-7068-4b7b-ff2e-a702b7cdd990"
      },
      "execution_count": 74,
      "outputs": [
        {
          "output_type": "stream",
          "name": "stdout",
          "text": [
            "Model: \"sequential_7\"\n",
            "_________________________________________________________________\n",
            " Layer (type)                Output Shape              Param #   \n",
            "=================================================================\n",
            " text_vectorization_5 (Text  (None, 100)               0         \n",
            " Vectorization)                                                  \n",
            "                                                                 \n",
            " embedding_3 (Embedding)     (None, 100, 64)           640000    \n",
            "                                                                 \n",
            " lstm_8 (LSTM)               (None, 64)                33024     \n",
            "                                                                 \n",
            " dense_16 (Dense)            (None, 64)                4160      \n",
            "                                                                 \n",
            " dense_17 (Dense)            (None, 1)                 65        \n",
            "                                                                 \n",
            "=================================================================\n",
            "Total params: 677249 (2.58 MB)\n",
            "Trainable params: 677249 (2.58 MB)\n",
            "Non-trainable params: 0 (0.00 Byte)\n",
            "_________________________________________________________________\n"
          ]
        }
      ]
    },
    {
      "cell_type": "code",
      "source": [
        "epochs=15\n",
        "\n",
        "# Compile\n",
        "model_text_lstm.compile(optimizer=tf.keras.optimizers.Adam(),\n",
        "                          loss=tf.keras.losses.BinaryCrossentropy(from_logits=False),\n",
        "                          metrics=['accuracy'])\n",
        "\n",
        "# Add early stopping to the tuning process\n",
        "stop_early = tf.keras.callbacks.EarlyStopping(monitor='val_loss', patience=3)\n",
        "\n",
        "# Train\n",
        "history = model_text_lstm.fit(train_ds,\n",
        "                                validation_data=val_ds,\n",
        "                                epochs=epochs,\n",
        "                                callbacks=[stop_early])"
      ],
      "metadata": {
        "colab": {
          "base_uri": "https://localhost:8080/",
          "height": 408
        },
        "id": "FOnWGFTEAqI2",
        "outputId": "2ab53ce8-1c71-4d0e-caee-ae36c9f13829"
      },
      "execution_count": 75,
      "outputs": [
        {
          "output_type": "stream",
          "name": "stdout",
          "text": [
            "Epoch 1/15\n",
            "13/13 [==============================] - ETA: 0s - loss: 0.1070 - accuracy: 0.0481"
          ]
        },
        {
          "output_type": "error",
          "ename": "ValueError",
          "evalue": "Expected input data to be non-empty.",
          "traceback": [
            "\u001b[0;31m---------------------------------------------------------------------------\u001b[0m",
            "\u001b[0;31mValueError\u001b[0m                                Traceback (most recent call last)",
            "\u001b[0;32m<ipython-input-75-8268cbef63e9>\u001b[0m in \u001b[0;36m<cell line: 12>\u001b[0;34m()\u001b[0m\n\u001b[1;32m     10\u001b[0m \u001b[0;34m\u001b[0m\u001b[0m\n\u001b[1;32m     11\u001b[0m \u001b[0;31m# Train\u001b[0m\u001b[0;34m\u001b[0m\u001b[0;34m\u001b[0m\u001b[0m\n\u001b[0;32m---> 12\u001b[0;31m history = model_text_lstm.fit(train_ds,\n\u001b[0m\u001b[1;32m     13\u001b[0m                                 \u001b[0mvalidation_data\u001b[0m\u001b[0;34m=\u001b[0m\u001b[0mval_ds\u001b[0m\u001b[0;34m,\u001b[0m\u001b[0;34m\u001b[0m\u001b[0;34m\u001b[0m\u001b[0m\n\u001b[1;32m     14\u001b[0m                                 \u001b[0mepochs\u001b[0m\u001b[0;34m=\u001b[0m\u001b[0mepochs\u001b[0m\u001b[0;34m,\u001b[0m\u001b[0;34m\u001b[0m\u001b[0;34m\u001b[0m\u001b[0m\n",
            "\u001b[0;32m/usr/local/lib/python3.10/dist-packages/keras/src/utils/traceback_utils.py\u001b[0m in \u001b[0;36merror_handler\u001b[0;34m(*args, **kwargs)\u001b[0m\n\u001b[1;32m     68\u001b[0m             \u001b[0;31m# To get the full stack trace, call:\u001b[0m\u001b[0;34m\u001b[0m\u001b[0;34m\u001b[0m\u001b[0m\n\u001b[1;32m     69\u001b[0m             \u001b[0;31m# `tf.debugging.disable_traceback_filtering()`\u001b[0m\u001b[0;34m\u001b[0m\u001b[0;34m\u001b[0m\u001b[0m\n\u001b[0;32m---> 70\u001b[0;31m             \u001b[0;32mraise\u001b[0m \u001b[0me\u001b[0m\u001b[0;34m.\u001b[0m\u001b[0mwith_traceback\u001b[0m\u001b[0;34m(\u001b[0m\u001b[0mfiltered_tb\u001b[0m\u001b[0;34m)\u001b[0m \u001b[0;32mfrom\u001b[0m \u001b[0;32mNone\u001b[0m\u001b[0;34m\u001b[0m\u001b[0;34m\u001b[0m\u001b[0m\n\u001b[0m\u001b[1;32m     71\u001b[0m         \u001b[0;32mfinally\u001b[0m\u001b[0;34m:\u001b[0m\u001b[0;34m\u001b[0m\u001b[0;34m\u001b[0m\u001b[0m\n\u001b[1;32m     72\u001b[0m             \u001b[0;32mdel\u001b[0m \u001b[0mfiltered_tb\u001b[0m\u001b[0;34m\u001b[0m\u001b[0;34m\u001b[0m\u001b[0m\n",
            "\u001b[0;32m/usr/local/lib/python3.10/dist-packages/keras/src/engine/data_adapter.py\u001b[0m in \u001b[0;36m__init__\u001b[0;34m(self, x, y, sample_weight, batch_size, steps_per_epoch, initial_epoch, epochs, shuffle, class_weight, max_queue_size, workers, use_multiprocessing, model, steps_per_execution, distribute, pss_evaluation_shards)\u001b[0m\n\u001b[1;32m   1317\u001b[0m \u001b[0;34m\u001b[0m\u001b[0m\n\u001b[1;32m   1318\u001b[0m         \u001b[0;32mif\u001b[0m \u001b[0mself\u001b[0m\u001b[0;34m.\u001b[0m\u001b[0m_inferred_steps\u001b[0m \u001b[0;34m==\u001b[0m \u001b[0;36m0\u001b[0m\u001b[0;34m:\u001b[0m\u001b[0;34m\u001b[0m\u001b[0;34m\u001b[0m\u001b[0m\n\u001b[0;32m-> 1319\u001b[0;31m             \u001b[0;32mraise\u001b[0m \u001b[0mValueError\u001b[0m\u001b[0;34m(\u001b[0m\u001b[0;34m\"Expected input data to be non-empty.\"\u001b[0m\u001b[0;34m)\u001b[0m\u001b[0;34m\u001b[0m\u001b[0;34m\u001b[0m\u001b[0m\n\u001b[0m\u001b[1;32m   1320\u001b[0m \u001b[0;34m\u001b[0m\u001b[0m\n\u001b[1;32m   1321\u001b[0m     def _configure_dataset_and_inferred_steps(\n",
            "\u001b[0;31mValueError\u001b[0m: Expected input data to be non-empty."
          ]
        }
      ]
    },
    {
      "cell_type": "markdown",
      "metadata": {
        "id": "COLzSVDOYhfG"
      },
      "source": [
        "## Opdracht 4 - Transformer voor songteksten <a name='song_tran'></a>"
      ]
    },
    {
      "cell_type": "markdown",
      "metadata": {
        "id": "lFHxiEpRYhfG"
      },
      "source": [
        "## Opdracht 5 - Model naar keuze <a name='mnk'></a>"
      ]
    },
    {
      "cell_type": "markdown",
      "metadata": {
        "id": "yJ_iCAwVYhfG"
      },
      "source": [
        "## Opdracht 6 - Bevindingen <a name='bevindingen'></a>"
      ]
    },
    {
      "cell_type": "markdown",
      "metadata": {
        "id": "SAqpmiFJYhfG"
      },
      "source": [
        "## Opdracht 7 - Conclusie en aanbevelingen <a name='conclusie'></a>"
      ]
    },
    {
      "cell_type": "markdown",
      "metadata": {
        "id": "MbjVb7kLYhfG"
      },
      "source": [
        "## Bronnenlijst <a name='bronnenlijst'></a>"
      ]
    }
  ],
  "metadata": {
    "kernelspec": {
      "display_name": "Python 3 (ipykernel)",
      "language": "python",
      "name": "python3"
    },
    "language_info": {
      "codemirror_mode": {
        "name": "ipython",
        "version": 3
      },
      "file_extension": ".py",
      "mimetype": "text/x-python",
      "name": "python",
      "nbconvert_exporter": "python",
      "pygments_lexer": "ipython3",
      "version": "3.9.12"
    },
    "colab": {
      "provenance": []
    }
  },
  "nbformat": 4,
  "nbformat_minor": 0
}