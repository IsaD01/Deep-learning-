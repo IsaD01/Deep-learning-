{
 "cells": [
  {
   "cell_type": "markdown",
   "metadata": {
    "id": "rZ5vntWL5GIU"
   },
   "source": [
    "<table style=\"margin-left: 0;\">\n",
    "    <tr>\n",
    "        <td colspan=\"5\" style=\"text-align: center;\"><h2><b>Portfolio 2 - Deep Learning</b></h2></td>\n",
    "    </tr>\n",
    "    <tr>\n",
    "        <th>Coach</th>\n",
    "        <th>Opdrachtnummer</th>\n",
    "        <th>Namen groepsleden</th>\n",
    "        <th>Kaggle naam</th>\n",
    "    </tr>\n",
    "    <tr>\n",
    "        <td><span style=\"color:blue\">Vikram en Bob</span></td>\n",
    "        <td><span style=\"color:blue\">2</span></td>\n",
    "        <td>\n",
    "            <ul style=\"list-style-type:none; padding-left:0;\">\n",
    "                <li><b>Mark Olieman:</b> <span style=\"color:green\">19054033</span></li>\n",
    "                <li><b>Johan Heskes:</b> <span style=\"color:green\">22132376</span></li>\n",
    "                <li><b>Henry Lau:</b> <span style=\"color:green\">22122958</span></li>\n",
    "                <li><b>Isa Dijkstra:</b> <span style=\"color:green\">22119485</span></li>\n",
    "            </ul>\n",
    "        </td>\n",
    "        <td><span style=\"color:blue\">???</span></td>\n",
    "    </tr>\n",
    "</table>\n",
    "\n",
    "    \n",
    "    \n",
    "## Inhoudsopgave\n",
    "\n",
    "- [**Inleiding**](#inleiding)\n",
    "- [**Packages en de data inladen**](#data)\n",
    "- [**Opdracht 1 - EDA**](#eda)\n",
    "- [**Opdracht 2 - LSTM voor audioclips**](#audio)\n",
    "- [**Opdracht 3 - LSTM voor songteksten**](#song_lstm)\n",
    "- [**Opdracht 4 - Transformer voor songteksten**](#song_tran)\n",
    "- [**Opdracht 5 - Model naar keuze**](#mnk)\n",
    "- [**Opdracht 6 - Bevindingen**](#bevindingen)\n",
    "- [**Opdracht 7 - Conclusie en aanbevelingen**](#conclusie)\n",
    "- [**Bronnenlijst**](#bronnenlijst)"
   ]
  },
  {
   "cell_type": "markdown",
   "metadata": {
    "id": "mOJyEVZU5GIV"
   },
   "source": [
    "## Inleiding <a name='inleiding'></a>"
   ]
  },
  {
   "cell_type": "markdown",
   "metadata": {
    "id": "AW1hq3IR5GIV"
   },
   "source": [
    "In dit notebook gaan we aan de hand van songteksten en audiodata, audiotracks in verschillende genres classificeren"
   ]
  },
  {
   "cell_type": "markdown",
   "metadata": {
    "id": "AYrpxCra5GIV"
   },
   "source": [
    "## Packages en de data inladen <a name='data'></a>"
   ]
  },
  {
   "cell_type": "code",
   "execution_count": 1,
   "metadata": {
    "id": "uAyKCk8t5GIW"
   },
   "outputs": [
    {
     "name": "stdout",
     "output_type": "stream",
     "text": [
      "WARNING:tensorflow:From C:\\Users\\Gebruiker\\anaconda3\\lib\\site-packages\\keras\\src\\losses.py:2976: The name tf.losses.sparse_softmax_cross_entropy is deprecated. Please use tf.compat.v1.losses.sparse_softmax_cross_entropy instead.\n",
      "\n"
     ]
    }
   ],
   "source": [
    "#!pip install datasets\n",
    "#!pip install transformers\n",
    "import os\n",
    "import re\n",
    "import nltk\n",
    "from nltk.tokenize import word_tokenize\n",
    "import string\n",
    "import pathlib\n",
    "from collections import Counter\n",
    "import numpy as np\n",
    "import pandas as pd\n",
    "import matplotlib.pyplot as plt\n",
    "import seaborn as sns\n",
    "from sklearn.preprocessing import LabelEncoder\n",
    "from sklearn.model_selection import train_test_split\n",
    "import tensorflow as tf\n",
    "from tensorflow.keras import Sequential\n",
    "from tensorflow.keras import layers\n",
    "from tensorflow.keras import models\n",
    "from IPython.display import display\n",
    "from tensorflow.keras.layers import LSTM, GRU, Bidirectional, Dense, Dropout, Embedding, TextVectorization\n",
    "from tensorflow.keras.utils import to_categorical\n",
    "from transformers import AutoTokenizer, create_optimizer, TFAutoModelForSequenceClassification\n",
    "from datasets import Dataset"
   ]
  },
  {
   "cell_type": "code",
   "execution_count": 2,
   "metadata": {
    "colab": {
     "base_uri": "https://localhost:8080/"
    },
    "id": "6d3Dmp560GoW",
    "outputId": "b7416c86-0467-48d1-b898-742794bab6f4"
   },
   "outputs": [
    {
     "ename": "ModuleNotFoundError",
     "evalue": "No module named 'google.colab'",
     "output_type": "error",
     "traceback": [
      "\u001b[1;31m---------------------------------------------------------------------------\u001b[0m",
      "\u001b[1;31mModuleNotFoundError\u001b[0m                       Traceback (most recent call last)",
      "Input \u001b[1;32mIn [2]\u001b[0m, in \u001b[0;36m<cell line: 1>\u001b[1;34m()\u001b[0m\n\u001b[1;32m----> 1\u001b[0m \u001b[38;5;28;01mfrom\u001b[39;00m \u001b[38;5;21;01mgoogle\u001b[39;00m\u001b[38;5;21;01m.\u001b[39;00m\u001b[38;5;21;01mcolab\u001b[39;00m \u001b[38;5;28;01mimport\u001b[39;00m drive\n\u001b[0;32m      2\u001b[0m drive\u001b[38;5;241m.\u001b[39mmount(\u001b[38;5;124m'\u001b[39m\u001b[38;5;124m/content/drive\u001b[39m\u001b[38;5;124m'\u001b[39m)\n",
      "\u001b[1;31mModuleNotFoundError\u001b[0m: No module named 'google.colab'"
     ]
    }
   ],
   "source": [
    "from google.colab import drive\n",
    "drive.mount('/content/drive')"
   ]
  },
  {
   "cell_type": "code",
   "execution_count": null,
   "metadata": {
    "id": "mmuBr74I0K6x"
   },
   "outputs": [],
   "source": [
    "os.chdir('/content/drive/MyDrive/Colab Notebooks/Deep-learning/Portfolio opdracht 2')"
   ]
  },
  {
   "cell_type": "code",
   "execution_count": 3,
   "metadata": {
    "id": "bIIrqzAs5GIW"
   },
   "outputs": [],
   "source": [
    "#songteksten inladen\n",
    "\n",
    "train = pd.read_csv('train.csv', index_col='filename')\n",
    "test = pd.read_csv('test.csv', index_col='filename')"
   ]
  },
  {
   "cell_type": "code",
   "execution_count": 5,
   "metadata": {
    "colab": {
     "base_uri": "https://localhost:8080/"
    },
    "id": "IMk66ocp5GIX",
    "outputId": "f376586d-becb-46a6-ae77-6bce8db191f7"
   },
   "outputs": [
    {
     "name": "stdout",
     "output_type": "stream",
     "text": [
      "Found 537 files belonging to 8 classes.\n",
      "Using 430 files for training.\n",
      "Using 107 files for validation.\n",
      "\n",
      "label names: ['blues' 'country' 'disco' 'hiphop' 'metal' 'pop' 'reggae' 'rock']\n"
     ]
    }
   ],
   "source": [
    "#Train en validation set inladen\n",
    "\n",
    "train_ds, val_ds = tf.keras.utils.audio_dataset_from_directory(\n",
    "    directory='Train',\n",
    "    batch_size=32,\n",
    "    validation_split=0.2,\n",
    "    seed=0,\n",
    "    output_sequence_length=5*16000,\n",
    "    subset='both')\n",
    "\n",
    "label_names = np.array(train_ds.class_names)\n",
    "print()\n",
    "print(\"label names:\", label_names)"
   ]
  },
  {
   "cell_type": "code",
   "execution_count": 45,
   "metadata": {
    "colab": {
     "base_uri": "https://localhost:8080/"
    },
    "id": "ghQqQsSq5GIX",
    "outputId": "9024457b-1002-4bf6-c3c2-b9dd4f6260e9"
   },
   "outputs": [
    {
     "data": {
      "text/plain": [
       "8"
      ]
     },
     "execution_count": 45,
     "metadata": {},
     "output_type": "execute_result"
    }
   ],
   "source": [
    "#aantal labels\n",
    "\n",
    "len(label_names)"
   ]
  },
  {
   "cell_type": "code",
   "execution_count": 7,
   "metadata": {
    "id": "EyfqYBR35GIX"
   },
   "outputs": [],
   "source": [
    "# squeeze gebruiken om de extra as te verwijderen\n",
    "def squeeze(audio, labels):\n",
    "    audio = tf.squeeze(audio, axis=-1)\n",
    "    return audio, labels\n",
    "\n",
    "train_ds = train_ds.map(squeeze, tf.data.AUTOTUNE)\n",
    "val_ds = val_ds.map(squeeze, tf.data.AUTOTUNE)"
   ]
  },
  {
   "cell_type": "code",
   "execution_count": 8,
   "metadata": {
    "colab": {
     "base_uri": "https://localhost:8080/"
    },
    "id": "9q95ccuK5GIX",
    "outputId": "e00eec88-72e9-41a4-bf68-d520d785aa81"
   },
   "outputs": [
    {
     "name": "stdout",
     "output_type": "stream",
     "text": [
      "Found 129 files belonging to 1 classes.\n",
      "\n"
     ]
    }
   ],
   "source": [
    "#test dataset inladen\n",
    "\n",
    "test_ds = tf.keras.utils.audio_dataset_from_directory(\n",
    "    directory='Test',\n",
    "    label_mode=None,\n",
    "    batch_size=32,\n",
    "    seed=0,\n",
    "    output_sequence_length=5*16000)\n",
    "\n",
    "print()"
   ]
  },
  {
   "cell_type": "code",
   "execution_count": 9,
   "metadata": {
    "id": "7Vg10eyr5GIX"
   },
   "outputs": [],
   "source": [
    "train_ds = train_ds.cache().shuffle(10).prefetch(tf.data.AUTOTUNE)\n",
    "val_ds = val_ds.cache().prefetch(tf.data.AUTOTUNE)"
   ]
  },
  {
   "cell_type": "markdown",
   "metadata": {
    "id": "OXgYSMRZ5GIX"
   },
   "source": [
    "## **Opdracht 1 - EDA** <a name='eda'></a>"
   ]
  },
  {
   "cell_type": "code",
   "execution_count": 10,
   "metadata": {
    "colab": {
     "base_uri": "https://localhost:8080/",
     "height": 449
    },
    "id": "0T6qBZZ45GIX",
    "outputId": "83cc5c2e-a225-46fd-cc8e-951381452977"
   },
   "outputs": [
    {
     "data": {
      "text/html": [
       "<div>\n",
       "<style scoped>\n",
       "    .dataframe tbody tr th:only-of-type {\n",
       "        vertical-align: middle;\n",
       "    }\n",
       "\n",
       "    .dataframe tbody tr th {\n",
       "        vertical-align: top;\n",
       "    }\n",
       "\n",
       "    .dataframe thead th {\n",
       "        text-align: right;\n",
       "    }\n",
       "</style>\n",
       "<table border=\"1\" class=\"dataframe\">\n",
       "  <thead>\n",
       "    <tr style=\"text-align: right;\">\n",
       "      <th></th>\n",
       "      <th>lyrics</th>\n",
       "      <th>genre</th>\n",
       "    </tr>\n",
       "    <tr>\n",
       "      <th>filename</th>\n",
       "      <th></th>\n",
       "      <th></th>\n",
       "    </tr>\n",
       "  </thead>\n",
       "  <tbody>\n",
       "    <tr>\n",
       "      <th>blues.00001.wav</th>\n",
       "      <td>I’m in the Mood Lyrics[Verse 1]\\r\\nI'm in the ...</td>\n",
       "      <td>blues</td>\n",
       "    </tr>\n",
       "    <tr>\n",
       "      <th>blues.00002.wav</th>\n",
       "      <td>(John Lee Hooker)\\r\\nThink twice before you go...</td>\n",
       "      <td>blues</td>\n",
       "    </tr>\n",
       "    <tr>\n",
       "      <th>blues.00003.wav</th>\n",
       "      <td>[Intro, Spoken]\\r\\n...A little thing I'm going...</td>\n",
       "      <td>blues</td>\n",
       "    </tr>\n",
       "    <tr>\n",
       "      <th>blues.00005.wav</th>\n",
       "      <td>Sugar mama, sugar mama, sugar mama please come...</td>\n",
       "      <td>blues</td>\n",
       "    </tr>\n",
       "    <tr>\n",
       "      <th>blues.00006.wav</th>\n",
       "      <td>My baby left me this morning\\r\\nPeople just ar...</td>\n",
       "      <td>blues</td>\n",
       "    </tr>\n",
       "  </tbody>\n",
       "</table>\n",
       "</div>"
      ],
      "text/plain": [
       "                                                            lyrics  genre\n",
       "filename                                                                 \n",
       "blues.00001.wav  I’m in the Mood Lyrics[Verse 1]\\r\\nI'm in the ...  blues\n",
       "blues.00002.wav  (John Lee Hooker)\\r\\nThink twice before you go...  blues\n",
       "blues.00003.wav  [Intro, Spoken]\\r\\n...A little thing I'm going...  blues\n",
       "blues.00005.wav  Sugar mama, sugar mama, sugar mama please come...  blues\n",
       "blues.00006.wav  My baby left me this morning\\r\\nPeople just ar...  blues"
      ]
     },
     "metadata": {},
     "output_type": "display_data"
    },
    {
     "data": {
      "text/html": [
       "<div>\n",
       "<style scoped>\n",
       "    .dataframe tbody tr th:only-of-type {\n",
       "        vertical-align: middle;\n",
       "    }\n",
       "\n",
       "    .dataframe tbody tr th {\n",
       "        vertical-align: top;\n",
       "    }\n",
       "\n",
       "    .dataframe thead th {\n",
       "        text-align: right;\n",
       "    }\n",
       "</style>\n",
       "<table border=\"1\" class=\"dataframe\">\n",
       "  <thead>\n",
       "    <tr style=\"text-align: right;\">\n",
       "      <th></th>\n",
       "      <th>lyrics</th>\n",
       "      <th>genre</th>\n",
       "    </tr>\n",
       "  </thead>\n",
       "  <tbody>\n",
       "    <tr>\n",
       "      <th>count</th>\n",
       "      <td>537</td>\n",
       "      <td>537</td>\n",
       "    </tr>\n",
       "    <tr>\n",
       "      <th>unique</th>\n",
       "      <td>500</td>\n",
       "      <td>8</td>\n",
       "    </tr>\n",
       "    <tr>\n",
       "      <th>top</th>\n",
       "      <td>[Intro: Lil' Kim, Mýa, Christina Aguilera &amp; P!...</td>\n",
       "      <td>rock</td>\n",
       "    </tr>\n",
       "    <tr>\n",
       "      <th>freq</th>\n",
       "      <td>4</td>\n",
       "      <td>79</td>\n",
       "    </tr>\n",
       "  </tbody>\n",
       "</table>\n",
       "</div>"
      ],
      "text/plain": [
       "                                                   lyrics genre\n",
       "count                                                 537   537\n",
       "unique                                                500     8\n",
       "top     [Intro: Lil' Kim, Mýa, Christina Aguilera & P!...  rock\n",
       "freq                                                    4    79"
      ]
     },
     "metadata": {},
     "output_type": "display_data"
    },
    {
     "data": {
      "text/plain": [
       "lyrics    0\n",
       "genre     0\n",
       "dtype: int64"
      ]
     },
     "metadata": {},
     "output_type": "display_data"
    }
   ],
   "source": [
    "display(train.head())\n",
    "display(train.describe())\n",
    "display(train.isnull().sum())"
   ]
  },
  {
   "cell_type": "markdown",
   "metadata": {},
   "source": [
    "Hier kunnen we zien dat er geen missende waardes in de data zijn. "
   ]
  },
  {
   "cell_type": "code",
   "execution_count": 11,
   "metadata": {
    "colab": {
     "base_uri": "https://localhost:8080/",
     "height": 455
    },
    "id": "3Nb79mOfWAC0",
    "outputId": "ef9c36ac-267f-4fc7-85e3-7f40b7254402"
   },
   "outputs": [
    {
     "data": {
      "text/html": [
       "<div>\n",
       "<style scoped>\n",
       "    .dataframe tbody tr th:only-of-type {\n",
       "        vertical-align: middle;\n",
       "    }\n",
       "\n",
       "    .dataframe tbody tr th {\n",
       "        vertical-align: top;\n",
       "    }\n",
       "\n",
       "    .dataframe thead th {\n",
       "        text-align: right;\n",
       "    }\n",
       "</style>\n",
       "<table border=\"1\" class=\"dataframe\">\n",
       "  <thead>\n",
       "    <tr style=\"text-align: right;\">\n",
       "      <th></th>\n",
       "      <th>lyrics</th>\n",
       "      <th>genre</th>\n",
       "      <th>prep_text</th>\n",
       "    </tr>\n",
       "    <tr>\n",
       "      <th>filename</th>\n",
       "      <th></th>\n",
       "      <th></th>\n",
       "      <th></th>\n",
       "    </tr>\n",
       "  </thead>\n",
       "  <tbody>\n",
       "    <tr>\n",
       "      <th>blues.00001.wav</th>\n",
       "      <td>I’m in the Mood Lyrics[Verse 1]\\r\\nI'm in the ...</td>\n",
       "      <td>blues</td>\n",
       "      <td>i’m in the mood lyrics\\r im in the mood baby i...</td>\n",
       "    </tr>\n",
       "    <tr>\n",
       "      <th>blues.00002.wav</th>\n",
       "      <td>(John Lee Hooker)\\r\\nThink twice before you go...</td>\n",
       "      <td>blues</td>\n",
       "      <td>john lee hooker\\r think twice before you go ba...</td>\n",
       "    </tr>\n",
       "    <tr>\n",
       "      <th>blues.00003.wav</th>\n",
       "      <td>[Intro, Spoken]\\r\\n...A little thing I'm going...</td>\n",
       "      <td>blues</td>\n",
       "      <td>\\r a little thing im going to do called im bad...</td>\n",
       "    </tr>\n",
       "    <tr>\n",
       "      <th>blues.00005.wav</th>\n",
       "      <td>Sugar mama, sugar mama, sugar mama please come...</td>\n",
       "      <td>blues</td>\n",
       "      <td>sugar mama sugar mama sugar mama please come b...</td>\n",
       "    </tr>\n",
       "    <tr>\n",
       "      <th>blues.00006.wav</th>\n",
       "      <td>My baby left me this morning\\r\\nPeople just ar...</td>\n",
       "      <td>blues</td>\n",
       "      <td>my baby left me this morning\\r people just aro...</td>\n",
       "    </tr>\n",
       "    <tr>\n",
       "      <th>...</th>\n",
       "      <td>...</td>\n",
       "      <td>...</td>\n",
       "      <td>...</td>\n",
       "    </tr>\n",
       "    <tr>\n",
       "      <th>rock.00094.wav</th>\n",
       "      <td>[Chorus]\\r\\nDon’t stop\\r\\nIsn’t it funny how y...</td>\n",
       "      <td>rock</td>\n",
       "      <td>\\r don’t stop\\r isn’t it funny how you shine\\r...</td>\n",
       "    </tr>\n",
       "    <tr>\n",
       "      <th>rock.00096.wav</th>\n",
       "      <td>[Verse 1]\\r\\nHer hair, soft drifted snow\\r\\nDe...</td>\n",
       "      <td>rock</td>\n",
       "      <td>\\r her hair soft drifted snow\\r death white id...</td>\n",
       "    </tr>\n",
       "    <tr>\n",
       "      <th>rock.00097.wav</th>\n",
       "      <td>[Verse 1]\\r\\nYour knuckles whiten on the wheel...</td>\n",
       "      <td>rock</td>\n",
       "      <td>\\r your knuckles whiten on the wheel\\r the las...</td>\n",
       "    </tr>\n",
       "    <tr>\n",
       "      <th>rock.00098.wav</th>\n",
       "      <td>[Verse 1]\\r\\nYou know it\\r\\nYou show it\\r\\nAnd...</td>\n",
       "      <td>rock</td>\n",
       "      <td>\\r you know it\\r you show it\\r and the time ha...</td>\n",
       "    </tr>\n",
       "    <tr>\n",
       "      <th>rock.00099.wav</th>\n",
       "      <td>[Verse 1]\\r\\nA girl consumed by fire\\r\\nWe all...</td>\n",
       "      <td>rock</td>\n",
       "      <td>\\r a girl consumed by fire\\r we all know her d...</td>\n",
       "    </tr>\n",
       "  </tbody>\n",
       "</table>\n",
       "<p>537 rows × 3 columns</p>\n",
       "</div>"
      ],
      "text/plain": [
       "                                                            lyrics  genre  \\\n",
       "filename                                                                    \n",
       "blues.00001.wav  I’m in the Mood Lyrics[Verse 1]\\r\\nI'm in the ...  blues   \n",
       "blues.00002.wav  (John Lee Hooker)\\r\\nThink twice before you go...  blues   \n",
       "blues.00003.wav  [Intro, Spoken]\\r\\n...A little thing I'm going...  blues   \n",
       "blues.00005.wav  Sugar mama, sugar mama, sugar mama please come...  blues   \n",
       "blues.00006.wav  My baby left me this morning\\r\\nPeople just ar...  blues   \n",
       "...                                                            ...    ...   \n",
       "rock.00094.wav   [Chorus]\\r\\nDon’t stop\\r\\nIsn’t it funny how y...   rock   \n",
       "rock.00096.wav   [Verse 1]\\r\\nHer hair, soft drifted snow\\r\\nDe...   rock   \n",
       "rock.00097.wav   [Verse 1]\\r\\nYour knuckles whiten on the wheel...   rock   \n",
       "rock.00098.wav   [Verse 1]\\r\\nYou know it\\r\\nYou show it\\r\\nAnd...   rock   \n",
       "rock.00099.wav   [Verse 1]\\r\\nA girl consumed by fire\\r\\nWe all...   rock   \n",
       "\n",
       "                                                         prep_text  \n",
       "filename                                                            \n",
       "blues.00001.wav  i’m in the mood lyrics\\r im in the mood baby i...  \n",
       "blues.00002.wav  john lee hooker\\r think twice before you go ba...  \n",
       "blues.00003.wav  \\r a little thing im going to do called im bad...  \n",
       "blues.00005.wav  sugar mama sugar mama sugar mama please come b...  \n",
       "blues.00006.wav  my baby left me this morning\\r people just aro...  \n",
       "...                                                            ...  \n",
       "rock.00094.wav   \\r don’t stop\\r isn’t it funny how you shine\\r...  \n",
       "rock.00096.wav   \\r her hair soft drifted snow\\r death white id...  \n",
       "rock.00097.wav   \\r your knuckles whiten on the wheel\\r the las...  \n",
       "rock.00098.wav   \\r you know it\\r you show it\\r and the time ha...  \n",
       "rock.00099.wav   \\r a girl consumed by fire\\r we all know her d...  \n",
       "\n",
       "[537 rows x 3 columns]"
      ]
     },
     "metadata": {},
     "output_type": "display_data"
    }
   ],
   "source": [
    "def preprocess_text(text):\n",
    "    text = text.lower()\n",
    "    text = re.sub(r'\\n', ' ', text)  # Replace newline characters with space\n",
    "    text = re.sub(r'\\[.*?\\]', '', text)  # Remove square brackets and their contents\n",
    "    punctuation = string.punctuation\n",
    "    text = re.sub(r'[%s]' % re.escape(punctuation), '', text)  # Remove punctuation\n",
    "    return text\n",
    "\n",
    "df_test = train.copy()\n",
    "df_test['prep_text'] = df_test['lyrics'].apply(preprocess_text)\n",
    "display(df_test)"
   ]
  },
  {
   "cell_type": "code",
   "execution_count": 12,
   "metadata": {
    "id": "FlXsxZWLZPTI"
   },
   "outputs": [],
   "source": [
    "def preprocess_text(text):\n",
    "    text = text.lower()\n",
    "    text = re.sub(r'\\n', ' ', text)  # Replace newline characters with space\n",
    "    text = re.sub(r'\\[.*?\\]', '', text)  # Remove square brackets and their contents\n",
    "    punctuation = string.punctuation\n",
    "    text = re.sub(r'[%s]' % re.escape(punctuation), '', text)  # Remove punctuation\n",
    "    return text\n",
    "\n",
    "def tokenize_text(text):\n",
    "    return text.split()\n",
    "\n",
    "def count_tokens(text):\n",
    "    return Counter(text)\n",
    "\n",
    "df_test['prep_text'] = df_test['lyrics'].apply(preprocess_text)\n",
    "\n",
    "# Combine all lyrics\n",
    "all_lyrics = ' '.join(df_test['prep_text'])\n",
    "\n",
    "# Tokenize combined text\n",
    "all_tokens = tokenize_text(all_lyrics)\n",
    "\n",
    "# Count occurrences of each token\n",
    "token_counts = count_tokens(all_tokens)\n",
    "\n",
    "# Get the most common tokens\n",
    "most_common_all_genres = token_counts.most_common(20)  # You can adjust this number as needed\n",
    "\n",
    "\n",
    "grouped_by_genre = df_test.groupby('genre')\n",
    "\n",
    "#Calculate frequency distribution of tokens and extract most common tokens per genre\n",
    "most_common_per_genre = {}\n",
    "for genre, group in grouped_by_genre:\n",
    "    all_tokens = [token for text in group['prep_text'] for token in tokenize_text(text)]\n",
    "    token_counts = count_tokens(all_tokens)\n",
    "    most_common = token_counts.most_common(20)  # You can adjust this number as needed\n",
    "    most_common_per_genre[genre] = most_common"
   ]
  },
  {
   "cell_type": "code",
   "execution_count": 13,
   "metadata": {
    "colab": {
     "base_uri": "https://localhost:8080/",
     "height": 1000
    },
    "id": "JL8s-uJ9bUcd",
    "outputId": "ee84d074-c81b-45e6-fd41-43ae6fbe2d78"
   },
   "outputs": [
    {
     "ename": "AttributeError",
     "evalue": "'bool' object has no attribute 'all'",
     "output_type": "error",
     "traceback": [
      "\u001b[1;31m---------------------------------------------------------------------------\u001b[0m",
      "\u001b[1;31mAttributeError\u001b[0m                            Traceback (most recent call last)",
      "Input \u001b[1;32mIn [13]\u001b[0m, in \u001b[0;36m<cell line: 5>\u001b[1;34m()\u001b[0m\n\u001b[0;32m      6\u001b[0m tokens, counts \u001b[38;5;241m=\u001b[39m \u001b[38;5;28mzip\u001b[39m(\u001b[38;5;241m*\u001b[39mcommon_tokens)\n\u001b[0;32m      7\u001b[0m plt\u001b[38;5;241m.\u001b[39mfigure(figsize\u001b[38;5;241m=\u001b[39m(\u001b[38;5;241m10\u001b[39m, \u001b[38;5;241m6\u001b[39m))\n\u001b[1;32m----> 8\u001b[0m \u001b[43msns\u001b[49m\u001b[38;5;241;43m.\u001b[39;49m\u001b[43mbarplot\u001b[49m\u001b[43m(\u001b[49m\u001b[43mx\u001b[49m\u001b[38;5;241;43m=\u001b[39;49m\u001b[43mcounts\u001b[49m\u001b[43m,\u001b[49m\u001b[43m \u001b[49m\u001b[43my\u001b[49m\u001b[38;5;241;43m=\u001b[39;49m\u001b[43mtokens\u001b[49m\u001b[43m,\u001b[49m\u001b[43m \u001b[49m\u001b[43mci\u001b[49m\u001b[38;5;241;43m=\u001b[39;49m\u001b[38;5;28;43;01mNone\u001b[39;49;00m\u001b[43m)\u001b[49m\n\u001b[0;32m      9\u001b[0m plt\u001b[38;5;241m.\u001b[39mtitle(\u001b[38;5;124mf\u001b[39m\u001b[38;5;124m\"\u001b[39m\u001b[38;5;124mMost Common Tokens in \u001b[39m\u001b[38;5;132;01m{\u001b[39;00mgenre\u001b[38;5;132;01m}\u001b[39;00m\u001b[38;5;124m\"\u001b[39m)\n\u001b[0;32m     10\u001b[0m plt\u001b[38;5;241m.\u001b[39mxlabel(\u001b[38;5;124m\"\u001b[39m\u001b[38;5;124mFrequency\u001b[39m\u001b[38;5;124m\"\u001b[39m)\n",
      "File \u001b[1;32m~\\anaconda3\\lib\\site-packages\\seaborn\\_decorators.py:46\u001b[0m, in \u001b[0;36m_deprecate_positional_args.<locals>.inner_f\u001b[1;34m(*args, **kwargs)\u001b[0m\n\u001b[0;32m     36\u001b[0m     warnings\u001b[38;5;241m.\u001b[39mwarn(\n\u001b[0;32m     37\u001b[0m         \u001b[38;5;124m\"\u001b[39m\u001b[38;5;124mPass the following variable\u001b[39m\u001b[38;5;132;01m{}\u001b[39;00m\u001b[38;5;124m as \u001b[39m\u001b[38;5;132;01m{}\u001b[39;00m\u001b[38;5;124mkeyword arg\u001b[39m\u001b[38;5;132;01m{}\u001b[39;00m\u001b[38;5;124m: \u001b[39m\u001b[38;5;132;01m{}\u001b[39;00m\u001b[38;5;124m. \u001b[39m\u001b[38;5;124m\"\u001b[39m\n\u001b[0;32m     38\u001b[0m         \u001b[38;5;124m\"\u001b[39m\u001b[38;5;124mFrom version 0.12, the only valid positional argument \u001b[39m\u001b[38;5;124m\"\u001b[39m\n\u001b[1;32m   (...)\u001b[0m\n\u001b[0;32m     43\u001b[0m         \u001b[38;5;167;01mFutureWarning\u001b[39;00m\n\u001b[0;32m     44\u001b[0m     )\n\u001b[0;32m     45\u001b[0m kwargs\u001b[38;5;241m.\u001b[39mupdate({k: arg \u001b[38;5;28;01mfor\u001b[39;00m k, arg \u001b[38;5;129;01min\u001b[39;00m \u001b[38;5;28mzip\u001b[39m(sig\u001b[38;5;241m.\u001b[39mparameters, args)})\n\u001b[1;32m---> 46\u001b[0m \u001b[38;5;28;01mreturn\u001b[39;00m f(\u001b[38;5;241m*\u001b[39m\u001b[38;5;241m*\u001b[39mkwargs)\n",
      "File \u001b[1;32m~\\anaconda3\\lib\\site-packages\\seaborn\\categorical.py:3182\u001b[0m, in \u001b[0;36mbarplot\u001b[1;34m(x, y, hue, data, order, hue_order, estimator, ci, n_boot, units, seed, orient, color, palette, saturation, errcolor, errwidth, capsize, dodge, ax, **kwargs)\u001b[0m\n\u001b[0;32m   3169\u001b[0m \u001b[38;5;129m@_deprecate_positional_args\u001b[39m\n\u001b[0;32m   3170\u001b[0m \u001b[38;5;28;01mdef\u001b[39;00m \u001b[38;5;21mbarplot\u001b[39m(\n\u001b[0;32m   3171\u001b[0m     \u001b[38;5;241m*\u001b[39m,\n\u001b[1;32m   (...)\u001b[0m\n\u001b[0;32m   3179\u001b[0m     \u001b[38;5;241m*\u001b[39m\u001b[38;5;241m*\u001b[39mkwargs,\n\u001b[0;32m   3180\u001b[0m ):\n\u001b[1;32m-> 3182\u001b[0m     plotter \u001b[38;5;241m=\u001b[39m \u001b[43m_BarPlotter\u001b[49m\u001b[43m(\u001b[49m\u001b[43mx\u001b[49m\u001b[43m,\u001b[49m\u001b[43m \u001b[49m\u001b[43my\u001b[49m\u001b[43m,\u001b[49m\u001b[43m \u001b[49m\u001b[43mhue\u001b[49m\u001b[43m,\u001b[49m\u001b[43m \u001b[49m\u001b[43mdata\u001b[49m\u001b[43m,\u001b[49m\u001b[43m \u001b[49m\u001b[43morder\u001b[49m\u001b[43m,\u001b[49m\u001b[43m \u001b[49m\u001b[43mhue_order\u001b[49m\u001b[43m,\u001b[49m\n\u001b[0;32m   3183\u001b[0m \u001b[43m                          \u001b[49m\u001b[43mestimator\u001b[49m\u001b[43m,\u001b[49m\u001b[43m \u001b[49m\u001b[43mci\u001b[49m\u001b[43m,\u001b[49m\u001b[43m \u001b[49m\u001b[43mn_boot\u001b[49m\u001b[43m,\u001b[49m\u001b[43m \u001b[49m\u001b[43munits\u001b[49m\u001b[43m,\u001b[49m\u001b[43m \u001b[49m\u001b[43mseed\u001b[49m\u001b[43m,\u001b[49m\n\u001b[0;32m   3184\u001b[0m \u001b[43m                          \u001b[49m\u001b[43morient\u001b[49m\u001b[43m,\u001b[49m\u001b[43m \u001b[49m\u001b[43mcolor\u001b[49m\u001b[43m,\u001b[49m\u001b[43m \u001b[49m\u001b[43mpalette\u001b[49m\u001b[43m,\u001b[49m\u001b[43m \u001b[49m\u001b[43msaturation\u001b[49m\u001b[43m,\u001b[49m\n\u001b[0;32m   3185\u001b[0m \u001b[43m                          \u001b[49m\u001b[43merrcolor\u001b[49m\u001b[43m,\u001b[49m\u001b[43m \u001b[49m\u001b[43merrwidth\u001b[49m\u001b[43m,\u001b[49m\u001b[43m \u001b[49m\u001b[43mcapsize\u001b[49m\u001b[43m,\u001b[49m\u001b[43m \u001b[49m\u001b[43mdodge\u001b[49m\u001b[43m)\u001b[49m\n\u001b[0;32m   3187\u001b[0m     \u001b[38;5;28;01mif\u001b[39;00m ax \u001b[38;5;129;01mis\u001b[39;00m \u001b[38;5;28;01mNone\u001b[39;00m:\n\u001b[0;32m   3188\u001b[0m         ax \u001b[38;5;241m=\u001b[39m plt\u001b[38;5;241m.\u001b[39mgca()\n",
      "File \u001b[1;32m~\\anaconda3\\lib\\site-packages\\seaborn\\categorical.py:1584\u001b[0m, in \u001b[0;36m_BarPlotter.__init__\u001b[1;34m(self, x, y, hue, data, order, hue_order, estimator, ci, n_boot, units, seed, orient, color, palette, saturation, errcolor, errwidth, capsize, dodge)\u001b[0m\n\u001b[0;32m   1579\u001b[0m \u001b[38;5;28;01mdef\u001b[39;00m \u001b[38;5;21m__init__\u001b[39m(\u001b[38;5;28mself\u001b[39m, x, y, hue, data, order, hue_order,\n\u001b[0;32m   1580\u001b[0m              estimator, ci, n_boot, units, seed,\n\u001b[0;32m   1581\u001b[0m              orient, color, palette, saturation, errcolor,\n\u001b[0;32m   1582\u001b[0m              errwidth, capsize, dodge):\n\u001b[0;32m   1583\u001b[0m     \u001b[38;5;124;03m\"\"\"Initialize the plotter.\"\"\"\u001b[39;00m\n\u001b[1;32m-> 1584\u001b[0m     \u001b[38;5;28;43mself\u001b[39;49m\u001b[38;5;241;43m.\u001b[39;49m\u001b[43mestablish_variables\u001b[49m\u001b[43m(\u001b[49m\u001b[43mx\u001b[49m\u001b[43m,\u001b[49m\u001b[43m \u001b[49m\u001b[43my\u001b[49m\u001b[43m,\u001b[49m\u001b[43m \u001b[49m\u001b[43mhue\u001b[49m\u001b[43m,\u001b[49m\u001b[43m \u001b[49m\u001b[43mdata\u001b[49m\u001b[43m,\u001b[49m\u001b[43m \u001b[49m\u001b[43morient\u001b[49m\u001b[43m,\u001b[49m\n\u001b[0;32m   1585\u001b[0m \u001b[43m                             \u001b[49m\u001b[43morder\u001b[49m\u001b[43m,\u001b[49m\u001b[43m \u001b[49m\u001b[43mhue_order\u001b[49m\u001b[43m,\u001b[49m\u001b[43m \u001b[49m\u001b[43munits\u001b[49m\u001b[43m)\u001b[49m\n\u001b[0;32m   1586\u001b[0m     \u001b[38;5;28mself\u001b[39m\u001b[38;5;241m.\u001b[39mestablish_colors(color, palette, saturation)\n\u001b[0;32m   1587\u001b[0m     \u001b[38;5;28mself\u001b[39m\u001b[38;5;241m.\u001b[39mestimate_statistic(estimator, ci, n_boot, seed)\n",
      "File \u001b[1;32m~\\anaconda3\\lib\\site-packages\\seaborn\\categorical.py:156\u001b[0m, in \u001b[0;36m_CategoricalPlotter.establish_variables\u001b[1;34m(self, x, y, hue, data, orient, order, hue_order, units)\u001b[0m\n\u001b[0;32m    153\u001b[0m         \u001b[38;5;28;01mraise\u001b[39;00m \u001b[38;5;167;01mValueError\u001b[39;00m(err)\n\u001b[0;32m    155\u001b[0m \u001b[38;5;66;03m# Figure out the plotting orientation\u001b[39;00m\n\u001b[1;32m--> 156\u001b[0m orient \u001b[38;5;241m=\u001b[39m \u001b[43minfer_orient\u001b[49m\u001b[43m(\u001b[49m\n\u001b[0;32m    157\u001b[0m \u001b[43m    \u001b[49m\u001b[43mx\u001b[49m\u001b[43m,\u001b[49m\u001b[43m \u001b[49m\u001b[43my\u001b[49m\u001b[43m,\u001b[49m\u001b[43m \u001b[49m\u001b[43morient\u001b[49m\u001b[43m,\u001b[49m\u001b[43m \u001b[49m\u001b[43mrequire_numeric\u001b[49m\u001b[38;5;241;43m=\u001b[39;49m\u001b[38;5;28;43mself\u001b[39;49m\u001b[38;5;241;43m.\u001b[39;49m\u001b[43mrequire_numeric\u001b[49m\n\u001b[0;32m    158\u001b[0m \u001b[43m\u001b[49m\u001b[43m)\u001b[49m\n\u001b[0;32m    160\u001b[0m \u001b[38;5;66;03m# Option 2a:\u001b[39;00m\n\u001b[0;32m    161\u001b[0m \u001b[38;5;66;03m# We are plotting a single set of data\u001b[39;00m\n\u001b[0;32m    162\u001b[0m \u001b[38;5;66;03m# ------------------------------------\u001b[39;00m\n\u001b[0;32m    163\u001b[0m \u001b[38;5;28;01mif\u001b[39;00m x \u001b[38;5;129;01mis\u001b[39;00m \u001b[38;5;28;01mNone\u001b[39;00m \u001b[38;5;129;01mor\u001b[39;00m y \u001b[38;5;129;01mis\u001b[39;00m \u001b[38;5;28;01mNone\u001b[39;00m:\n\u001b[0;32m    164\u001b[0m \n\u001b[0;32m    165\u001b[0m     \u001b[38;5;66;03m# Determine where the data are\u001b[39;00m\n",
      "File \u001b[1;32m~\\anaconda3\\lib\\site-packages\\seaborn\\_core.py:1311\u001b[0m, in \u001b[0;36minfer_orient\u001b[1;34m(x, y, orient, require_numeric)\u001b[0m\n\u001b[0;32m   1283\u001b[0m \u001b[38;5;28;01mdef\u001b[39;00m \u001b[38;5;21minfer_orient\u001b[39m(x\u001b[38;5;241m=\u001b[39m\u001b[38;5;28;01mNone\u001b[39;00m, y\u001b[38;5;241m=\u001b[39m\u001b[38;5;28;01mNone\u001b[39;00m, orient\u001b[38;5;241m=\u001b[39m\u001b[38;5;28;01mNone\u001b[39;00m, require_numeric\u001b[38;5;241m=\u001b[39m\u001b[38;5;28;01mTrue\u001b[39;00m):\n\u001b[0;32m   1284\u001b[0m     \u001b[38;5;124;03m\"\"\"Determine how the plot should be oriented based on the data.\u001b[39;00m\n\u001b[0;32m   1285\u001b[0m \n\u001b[0;32m   1286\u001b[0m \u001b[38;5;124;03m    For historical reasons, the convention is to call a plot \"horizontally\"\u001b[39;00m\n\u001b[1;32m   (...)\u001b[0m\n\u001b[0;32m   1308\u001b[0m \n\u001b[0;32m   1309\u001b[0m \u001b[38;5;124;03m    \"\"\"\u001b[39;00m\n\u001b[1;32m-> 1311\u001b[0m     x_type \u001b[38;5;241m=\u001b[39m \u001b[38;5;28;01mNone\u001b[39;00m \u001b[38;5;28;01mif\u001b[39;00m x \u001b[38;5;129;01mis\u001b[39;00m \u001b[38;5;28;01mNone\u001b[39;00m \u001b[38;5;28;01melse\u001b[39;00m \u001b[43mvariable_type\u001b[49m\u001b[43m(\u001b[49m\u001b[43mx\u001b[49m\u001b[43m)\u001b[49m\n\u001b[0;32m   1312\u001b[0m     y_type \u001b[38;5;241m=\u001b[39m \u001b[38;5;28;01mNone\u001b[39;00m \u001b[38;5;28;01mif\u001b[39;00m y \u001b[38;5;129;01mis\u001b[39;00m \u001b[38;5;28;01mNone\u001b[39;00m \u001b[38;5;28;01melse\u001b[39;00m variable_type(y)\n\u001b[0;32m   1314\u001b[0m     nonnumeric_dv_error \u001b[38;5;241m=\u001b[39m \u001b[38;5;124m\"\u001b[39m\u001b[38;5;132;01m{}\u001b[39;00m\u001b[38;5;124m orientation requires numeric `\u001b[39m\u001b[38;5;132;01m{}\u001b[39;00m\u001b[38;5;124m` variable.\u001b[39m\u001b[38;5;124m\"\u001b[39m\n",
      "File \u001b[1;32m~\\anaconda3\\lib\\site-packages\\seaborn\\_core.py:1229\u001b[0m, in \u001b[0;36mvariable_type\u001b[1;34m(vector, boolean_type)\u001b[0m\n\u001b[0;32m   1226\u001b[0m     \u001b[38;5;28;01mreturn\u001b[39;00m \u001b[38;5;124m\"\u001b[39m\u001b[38;5;124mcategorical\u001b[39m\u001b[38;5;124m\"\u001b[39m\n\u001b[0;32m   1228\u001b[0m \u001b[38;5;66;03m# Special-case all-na data, which is always \"numeric\"\u001b[39;00m\n\u001b[1;32m-> 1229\u001b[0m \u001b[38;5;28;01mif\u001b[39;00m \u001b[43mpd\u001b[49m\u001b[38;5;241;43m.\u001b[39;49m\u001b[43misna\u001b[49m\u001b[43m(\u001b[49m\u001b[43mvector\u001b[49m\u001b[43m)\u001b[49m\u001b[38;5;241;43m.\u001b[39;49m\u001b[43mall\u001b[49m():\n\u001b[0;32m   1230\u001b[0m     \u001b[38;5;28;01mreturn\u001b[39;00m \u001b[38;5;124m\"\u001b[39m\u001b[38;5;124mnumeric\u001b[39m\u001b[38;5;124m\"\u001b[39m\n\u001b[0;32m   1232\u001b[0m \u001b[38;5;66;03m# Special-case binary/boolean data, allow caller to determine\u001b[39;00m\n\u001b[0;32m   1233\u001b[0m \u001b[38;5;66;03m# This triggers a numpy warning when vector has strings/objects\u001b[39;00m\n\u001b[0;32m   1234\u001b[0m \u001b[38;5;66;03m# https://github.com/numpy/numpy/issues/6784\u001b[39;00m\n\u001b[1;32m   (...)\u001b[0m\n\u001b[0;32m   1238\u001b[0m \u001b[38;5;66;03m# https://github.com/numpy/numpy/issues/13548\u001b[39;00m\n\u001b[0;32m   1239\u001b[0m \u001b[38;5;66;03m# This is considered a bug by numpy and will likely go away.\u001b[39;00m\n",
      "\u001b[1;31mAttributeError\u001b[0m: 'bool' object has no attribute 'all'"
     ]
    },
    {
     "data": {
      "text/plain": [
       "<Figure size 720x432 with 0 Axes>"
      ]
     },
     "metadata": {},
     "output_type": "display_data"
    }
   ],
   "source": [
    "max_count = max(max(sublist[1] for sublist in sublist_list) for sublist_list in most_common_per_genre.values())\n",
    "x_ticks = np.arange(0, max_count + 1, 100)\n",
    "\n",
    "# Plot most common tokens per genre\n",
    "for genre, common_tokens in most_common_per_genre.items():\n",
    "    tokens, counts = zip(*common_tokens)\n",
    "    plt.figure(figsize=(10, 6))\n",
    "    sns.barplot(x=counts, y=tokens, ci=None)\n",
    "    plt.title(f\"Most Common Tokens in {genre}\")\n",
    "    plt.xlabel(\"Frequency\")\n",
    "    plt.ylabel(\"Token\")\n",
    "    plt.xticks(x_ticks, rotation=90)\n",
    "    plt.show()\n",
    "\n",
    "# Plot most common tokens across all genres\n",
    "tokens_all, counts_all = zip(*most_common_all_genres)\n",
    "plt.figure(figsize=(10, 6))\n",
    "sns.barplot(x=counts_all, y=tokens_all, ci=None)\n",
    "plt.title(\"Most Common Tokens Across All Genres\")\n",
    "plt.xlabel(\"Frequency\")\n",
    "plt.ylabel(\"Token\")\n",
    "plt.show()"
   ]
  },
  {
   "cell_type": "code",
   "execution_count": 14,
   "metadata": {
    "colab": {
     "base_uri": "https://localhost:8080/",
     "height": 888
    },
    "id": "Xq89vSfr5GIX",
    "outputId": "f7e4193a-260d-441f-c508-95b15458618a"
   },
   "outputs": [
    {
     "name": "stdout",
     "output_type": "stream",
     "text": [
      "(32, 80000)\n",
      "(32,)\n"
     ]
    },
    {
     "data": {
      "image/png": "[encoded data removed]",
      "text/plain": [
       "<Figure size 1152x720 with 9 Axes>"
      ]
     },
     "metadata": {
      "needs_background": "light"
     },
     "output_type": "display_data"
    }
   ],
   "source": [
    "for example_audio, example_labels in train_ds.take(1):\n",
    "    print(example_audio.shape)\n",
    "    print(example_labels.shape)\n",
    "\n",
    "label_names[[1,1,0,0]]\n",
    "plt.figure(figsize=(16, 10))\n",
    "rows = 3\n",
    "cols = 3\n",
    "n = rows * cols\n",
    "for i in range(n):\n",
    "    plt.subplot(rows, cols, i+1)\n",
    "    audio_signal = example_audio[i]\n",
    "    plt.plot(audio_signal)\n",
    "    plt.title(label_names[example_labels[i]])\n",
    "    plt.yticks(np.arange(-1.2, 1.2, 0.2))\n",
    "    plt.ylim([-1.1, 1.1])"
   ]
  },
  {
   "cell_type": "markdown",
   "metadata": {},
   "source": [
    "Hier zie je de golfvormen van verschillende genres, wat ons opvalt is dat je verschil ziet in de golfvormen van de verschillende genres. Dit is erg handig want hierdoor kan het model waarschijnlijk ook beter onderscheid maken tussen de genres. "
   ]
  },
  {
   "cell_type": "markdown",
   "metadata": {
    "id": "QuCCR4M55GIY"
   },
   "source": [
    "## Opdracht 2 - LSTM voor audioclips <a name='audio'></a>"
   ]
  },
  {
   "cell_type": "markdown",
   "metadata": {},
   "source": [
    "Voor feature engineren hebben wij ervoor gekozen om Mel-frequency cepstral coefficients (mfcc) toe te passen. MFCC's zijn een compact aantal eigenschappen die de algemene vorm van het frequentiespectrum van een geluidssignaal samenvatten. \n",
    "We hebben voor MFCC gekozen omdat deze robuust zijn tegen veranderingen in toonhoogte en luidheid, dit is handig aangezien de verschillende genres kunnen varieren in toonhoogte. Ook kunnen MFCC's helpen bij het vastleggen van subtiele verschillen in klankkleur. MFCC's helpen ook bij het verminderen van ruis en onnodige details in de audiodata. \n",
    "(Deruty, 2022)\n",
    "\n",
    "De code hieronder komen voor een groot deel uit de lesopdracht  'LSTM_voor_timeseries_data_–_classificatie_van_audioclips'"
   ]
  },
  {
   "cell_type": "code",
   "execution_count": 15,
   "metadata": {
    "id": "nPt97Fpt5GIY"
   },
   "outputs": [],
   "source": [
    "def get_spectrogram(waveform):\n",
    "    # Convert the waveform to a spectrogram via a STFT.\n",
    "    spectrogram = tf.signal.stft(waveform, frame_length=512, frame_step=256)\n",
    "\n",
    "    # Obtain the magnitude of the STFT (use tf.abs).\n",
    "    spectrogram = tf.abs(spectrogram)\n",
    "\n",
    "    # Add a `channels` dimension, so that the spectrogram can be used\n",
    "    # as image-like input data with convolution layers (which expect\n",
    "    # shape (`batch_size`, `height`, `width`, `channels`).\n",
    "    spectrogram = spectrogram[..., tf.newaxis]\n",
    "\n",
    "    return spectrogram"
   ]
  },
  {
   "cell_type": "code",
   "execution_count": 16,
   "metadata": {
    "id": "-4O8S_q45GIY"
   },
   "outputs": [],
   "source": [
    "def make_spec_ds(ds):\n",
    "    return ds.map(\n",
    "      map_func=lambda audio,label: (get_spectrogram(audio), label),\n",
    "      num_parallel_calls=tf.data.AUTOTUNE)"
   ]
  },
  {
   "cell_type": "code",
   "execution_count": 17,
   "metadata": {
    "id": "KH6ErSXQ5GIY"
   },
   "outputs": [],
   "source": [
    "train_spectrogram_ds = make_spec_ds(train_ds)\n",
    "val_spectrogram_ds = make_spec_ds(val_ds)"
   ]
  },
  {
   "cell_type": "code",
   "execution_count": 18,
   "metadata": {
    "id": "b36nVd6-5GIY"
   },
   "outputs": [],
   "source": [
    "def make_spec_ds(ds):\n",
    "    return ds.map(\n",
    "      map_func=lambda audio: (get_spectrogram(audio),),  # Geen label doorgeven\n",
    "      num_parallel_calls=tf.data.AUTOTUNE)\n",
    "\n",
    "test_spectrogram_ds = make_spec_ds(test_ds)\n"
   ]
  },
  {
   "cell_type": "code",
   "execution_count": 19,
   "metadata": {
    "id": "TfkC4RAT5GIY"
   },
   "outputs": [],
   "source": [
    "train_spectrogram_ds = train_spectrogram_ds.cache().shuffle(10).prefetch(tf.data.AUTOTUNE)\n",
    "val_spectrogram_ds = val_spectrogram_ds.cache().prefetch(tf.data.AUTOTUNE)\n",
    "test_spectrogram_ds = test_spectrogram_ds.cache().prefetch(tf.data.AUTOTUNE)"
   ]
  },
  {
   "cell_type": "code",
   "execution_count": 20,
   "metadata": {
    "id": "S8MPu5Ai5GIY"
   },
   "outputs": [],
   "source": [
    "def spectrogram_to_mfcc(spectrograms, num_mel_bins=128, num_coefficients=13, sample_rate=16000):\n",
    "    \"\"\"\n",
    "    Convert a batch of spectrograms to a batch of 1D time series of MFCCs.\n",
    "\n",
    "    Parameters:\n",
    "    - spectrograms: A TensorFlow Tensor representing a batch of spectrograms with shape (batch_size, 311, 257, 1).\n",
    "    - num_mel_bins: Number of Mel bins to use.\n",
    "    - num_coefficients: Number of MFCC coefficients to return.\n",
    "    - sample_rate: Sample rate of the audio.\n",
    "\n",
    "    Returns:\n",
    "    - A TensorFlow Tensor containing the MFCCs with shape (batch_size, num_frames, num_coefficients).\n",
    "    \"\"\"\n",
    "    # Remove the last dimension (channel dimension, if it's 1)\n",
    "    spectrograms = tf.squeeze(spectrograms, axis=-1)\n",
    "\n",
    "    # Compute Mel spectrograms\n",
    "    stfts_to_mel_matrix = tf.signal.linear_to_mel_weight_matrix(\n",
    "        num_mel_bins=num_mel_bins,\n",
    "        num_spectrogram_bins=spectrograms.shape[-1],\n",
    "        sample_rate=sample_rate,\n",
    "        lower_edge_hertz=20.0,\n",
    "        upper_edge_hertz=sample_rate / 2)\n",
    "    mel_spectrograms = tf.tensordot(spectrograms, stfts_to_mel_matrix, 1)\n",
    "    # Shape tuning for the mel spectrograms as expected\n",
    "    mel_spectrograms.set_shape(spectrograms.shape[:-1] + (num_mel_bins,))\n",
    "\n",
    "    # Logarithmic scaling\n",
    "    log_mel_spectrograms = tf.math.log(mel_spectrograms + 1e-6)\n",
    "\n",
    "    # Compute MFCCs\n",
    "    mfccs = tf.signal.mfccs_from_log_mel_spectrograms(log_mel_spectrograms)[..., :num_coefficients]\n",
    "\n",
    "    return mfccs"
   ]
  },
  {
   "cell_type": "code",
   "execution_count": 21,
   "metadata": {
    "id": "AtI7CK5x5GIY"
   },
   "outputs": [],
   "source": [
    "def make_MFCC_ds(ds):\n",
    "    return ds.map(\n",
    "      map_func=lambda spectrogram,label: (spectrogram_to_mfcc(spectrogram), label),\n",
    "      num_parallel_calls=tf.data.AUTOTUNE)"
   ]
  },
  {
   "cell_type": "code",
   "execution_count": 22,
   "metadata": {
    "id": "ziAJ7pwC5GIY"
   },
   "outputs": [],
   "source": [
    "train_MFCC_ds = make_MFCC_ds(train_spectrogram_ds)\n",
    "val_MFCC_ds = make_MFCC_ds(val_spectrogram_ds)"
   ]
  },
  {
   "cell_type": "code",
   "execution_count": 23,
   "metadata": {
    "id": "ueP5FhRK5GIY"
   },
   "outputs": [],
   "source": [
    "def make_MFCC_ds(ds):\n",
    "    return ds.map(\n",
    "      map_func=lambda spectrogram: (spectrogram_to_mfcc(spectrogram)),\n",
    "      num_parallel_calls=tf.data.AUTOTUNE)\n",
    "\n",
    "test_MFCC_ds = make_MFCC_ds(test_spectrogram_ds)"
   ]
  },
  {
   "cell_type": "code",
   "execution_count": 24,
   "metadata": {
    "id": "08oEJy1f5GIY"
   },
   "outputs": [],
   "source": [
    "train_MFCC_ds = train_MFCC_ds.cache().shuffle(10).prefetch(tf.data.AUTOTUNE)\n",
    "val_MFCC_ds = val_MFCC_ds.cache().prefetch(tf.data.AUTOTUNE)\n",
    "test_MFCC_ds = test_MFCC_ds.cache().prefetch(tf.data.AUTOTUNE)"
   ]
  },
  {
   "cell_type": "markdown",
   "metadata": {},
   "source": [
    "## LSTM"
   ]
  },
  {
   "cell_type": "markdown",
   "metadata": {},
   "source": [
    "We hebben verschillende LSTM modellen getrainen om te kijken welke het beste werkt. \n",
    "Voor optimizer hebben wij gekozen voor ADAM, deze past de leersnelheid van elk parametergewicht aan op basis van de schattingen van het eerste moment en het tweede moment van de gradiënte. (Team, z.d.) \n",
    "De loss functie waar wij gebruik van maken is de SparseCategoricalCrossentropy. Deze wordt gebruikt bij het categoriseren van 2 of meerdere label classen. (Team, z.d.-b)\n",
    "Daarnaast hebben we gekozen voor een Early stopping met een patience van 20 zodat het trainingsproces vroegtijdig stopt als er gedurende een bepaald aantal epochs geen verbetering meer is in de vall los van het model. Hierdoor voorkom je overfitten en het bespaart ook tijd met het trainen. "
   ]
  },
  {
   "cell_type": "code",
   "execution_count": 31,
   "metadata": {
    "id": "va22VxgK5GIY",
    "outputId": "6269065e-1fbd-453f-9c94-57230ca3a976"
   },
   "outputs": [],
   "source": [
    "#LSTM model 1\n",
    "\n",
    "model_lstm = models.Sequential([\n",
    "    Bidirectional(LSTM(units=64, return_sequences=True)),\n",
    "    Dropout(0.2),\n",
    "    Bidirectional(LSTM(units=32)),\n",
    "    Dropout(0.2),\n",
    "    Dense(8, activation='softmax')\n",
    "])\n"
   ]
  },
  {
   "cell_type": "code",
   "execution_count": 32,
   "metadata": {
    "id": "Je9rrHkg5GIY"
   },
   "outputs": [],
   "source": [
    "model_lstm.compile(\n",
    "    optimizer=tf.keras.optimizers.Adam(),\n",
    "    loss=tf.keras.losses.SparseCategoricalCrossentropy(),\n",
    "    metrics=['accuracy']\n",
    ")"
   ]
  },
  {
   "cell_type": "code",
   "execution_count": 33,
   "metadata": {},
   "outputs": [
    {
     "ename": "ValueError",
     "evalue": "This model has not yet been built. Build the model first by calling `build()` or by calling the model on a batch of data.",
     "output_type": "error",
     "traceback": [
      "\u001b[1;31m---------------------------------------------------------------------------\u001b[0m",
      "\u001b[1;31mValueError\u001b[0m                                Traceback (most recent call last)",
      "Input \u001b[1;32mIn [33]\u001b[0m, in \u001b[0;36m<cell line: 1>\u001b[1;34m()\u001b[0m\n\u001b[1;32m----> 1\u001b[0m \u001b[43mmodel_lstm\u001b[49m\u001b[38;5;241;43m.\u001b[39;49m\u001b[43msummary\u001b[49m\u001b[43m(\u001b[49m\u001b[43m)\u001b[49m\n",
      "File \u001b[1;32m~\\anaconda3\\lib\\site-packages\\keras\\src\\engine\\training.py:3506\u001b[0m, in \u001b[0;36mModel.summary\u001b[1;34m(self, line_length, positions, print_fn, expand_nested, show_trainable, layer_range)\u001b[0m\n\u001b[0;32m   3475\u001b[0m \u001b[38;5;124;03m\"\"\"Prints a string summary of the network.\u001b[39;00m\n\u001b[0;32m   3476\u001b[0m \n\u001b[0;32m   3477\u001b[0m \u001b[38;5;124;03mArgs:\u001b[39;00m\n\u001b[1;32m   (...)\u001b[0m\n\u001b[0;32m   3503\u001b[0m \u001b[38;5;124;03m    ValueError: if `summary()` is called before the model is built.\u001b[39;00m\n\u001b[0;32m   3504\u001b[0m \u001b[38;5;124;03m\"\"\"\u001b[39;00m\n\u001b[0;32m   3505\u001b[0m \u001b[38;5;28;01mif\u001b[39;00m \u001b[38;5;129;01mnot\u001b[39;00m \u001b[38;5;28mself\u001b[39m\u001b[38;5;241m.\u001b[39mbuilt:\n\u001b[1;32m-> 3506\u001b[0m     \u001b[38;5;28;01mraise\u001b[39;00m \u001b[38;5;167;01mValueError\u001b[39;00m(\n\u001b[0;32m   3507\u001b[0m         \u001b[38;5;124m\"\u001b[39m\u001b[38;5;124mThis model has not yet been built. \u001b[39m\u001b[38;5;124m\"\u001b[39m\n\u001b[0;32m   3508\u001b[0m         \u001b[38;5;124m\"\u001b[39m\u001b[38;5;124mBuild the model first by calling `build()` or by calling \u001b[39m\u001b[38;5;124m\"\u001b[39m\n\u001b[0;32m   3509\u001b[0m         \u001b[38;5;124m\"\u001b[39m\u001b[38;5;124mthe model on a batch of data.\u001b[39m\u001b[38;5;124m\"\u001b[39m\n\u001b[0;32m   3510\u001b[0m     )\n\u001b[0;32m   3511\u001b[0m layer_utils\u001b[38;5;241m.\u001b[39mprint_summary(\n\u001b[0;32m   3512\u001b[0m     \u001b[38;5;28mself\u001b[39m,\n\u001b[0;32m   3513\u001b[0m     line_length\u001b[38;5;241m=\u001b[39mline_length,\n\u001b[1;32m   (...)\u001b[0m\n\u001b[0;32m   3518\u001b[0m     layer_range\u001b[38;5;241m=\u001b[39mlayer_range,\n\u001b[0;32m   3519\u001b[0m )\n",
      "\u001b[1;31mValueError\u001b[0m: This model has not yet been built. Build the model first by calling `build()` or by calling the model on a batch of data."
     ]
    }
   ],
   "source": [
    "model_lstm.summary()\n"
   ]
  },
  {
   "cell_type": "markdown",
   "metadata": {},
   "source": [
    "Dit LSTM-model bestaat uit meerdere lagen:\n",
    "\n",
    "Een bidirectionele laag met 64 units. De laag stelt het model in staat om zowel naar voren als naar achteren door de gegevenssequentie te kijken. Hier door krijgt het model een dieper begrip kan krijgen van de context van de invoergegevens.\n",
    "Een dropout-laag met een dropout-waarde van 0.20, wat betekent dat tijdens het trainen 20% van de getrainde gegevens wordt uitgeschakeld om overfitting te voorkomen.\n",
    "Een tweede bidirectionele laag met 32 units. Deze laag bouwt voort op de eerdere bidirectionele laag en verfijnt de representaties verder.\n",
    "Opnieuw een dropout-laag met een dropout-waarde van 0.20 om overfitting te verminderen.\n",
    "Tot slot een dense laag met 8 uitgangen, aangezien er 8 verschillende muziekgenres zijn die voorspeld moeten worden. De softmax-activatiefunctie wordt gebruikt om de kansverdeling over de verschillende klassen te berekenen."
   ]
  },
  {
   "cell_type": "code",
   "execution_count": 34,
   "metadata": {
    "id": "c0_N0TQB5GIY",
    "outputId": "680d8f87-7b8c-4ddd-932f-8c7e1edb7d68",
    "scrolled": false
   },
   "outputs": [
    {
     "name": "stdout",
     "output_type": "stream",
     "text": [
      "Epoch 1/50\n",
      "14/14 [==============================] - 28s 732ms/step - loss: 2.0144 - accuracy: 0.2023 - val_loss: 1.8704 - val_accuracy: 0.2804\n",
      "Epoch 2/50\n",
      "14/14 [==============================] - 6s 451ms/step - loss: 1.7714 - accuracy: 0.3581 - val_loss: 1.7218 - val_accuracy: 0.3178\n",
      "Epoch 3/50\n",
      "14/14 [==============================] - 6s 455ms/step - loss: 1.6151 - accuracy: 0.4256 - val_loss: 1.6594 - val_accuracy: 0.3645\n",
      "Epoch 4/50\n",
      "14/14 [==============================] - 6s 459ms/step - loss: 1.4959 - accuracy: 0.4767 - val_loss: 1.5956 - val_accuracy: 0.3645\n",
      "Epoch 5/50\n",
      "14/14 [==============================] - 6s 450ms/step - loss: 1.3623 - accuracy: 0.5674 - val_loss: 1.5653 - val_accuracy: 0.4019\n",
      "Epoch 6/50\n",
      "14/14 [==============================] - 6s 465ms/step - loss: 1.2741 - accuracy: 0.5442 - val_loss: 1.5431 - val_accuracy: 0.4112\n",
      "Epoch 7/50\n",
      "14/14 [==============================] - 6s 465ms/step - loss: 1.2299 - accuracy: 0.5698 - val_loss: 1.4800 - val_accuracy: 0.4579\n",
      "Epoch 8/50\n",
      "14/14 [==============================] - 6s 449ms/step - loss: 1.1146 - accuracy: 0.6140 - val_loss: 1.5724 - val_accuracy: 0.3925\n",
      "Epoch 9/50\n",
      "14/14 [==============================] - 6s 451ms/step - loss: 1.0303 - accuracy: 0.6628 - val_loss: 1.5030 - val_accuracy: 0.4486\n",
      "Epoch 10/50\n",
      "14/14 [==============================] - 6s 455ms/step - loss: 0.9077 - accuracy: 0.7070 - val_loss: 1.4776 - val_accuracy: 0.4766\n",
      "Epoch 11/50\n",
      "14/14 [==============================] - 6s 464ms/step - loss: 0.8865 - accuracy: 0.7140 - val_loss: 1.5065 - val_accuracy: 0.4019\n",
      "Epoch 12/50\n",
      "14/14 [==============================] - 6s 458ms/step - loss: 0.8117 - accuracy: 0.7372 - val_loss: 1.4643 - val_accuracy: 0.4486\n",
      "Epoch 13/50\n",
      "14/14 [==============================] - 6s 463ms/step - loss: 0.7458 - accuracy: 0.7558 - val_loss: 1.4518 - val_accuracy: 0.4953\n",
      "Epoch 14/50\n",
      "14/14 [==============================] - 6s 457ms/step - loss: 0.6530 - accuracy: 0.8093 - val_loss: 1.5284 - val_accuracy: 0.4299\n",
      "Epoch 15/50\n",
      "14/14 [==============================] - 6s 467ms/step - loss: 0.7395 - accuracy: 0.7605 - val_loss: 1.4758 - val_accuracy: 0.4579\n",
      "Epoch 16/50\n",
      "14/14 [==============================] - 7s 469ms/step - loss: 0.7178 - accuracy: 0.7767 - val_loss: 1.5537 - val_accuracy: 0.4673\n",
      "Epoch 17/50\n",
      "14/14 [==============================] - 6s 460ms/step - loss: 0.6183 - accuracy: 0.8163 - val_loss: 1.5591 - val_accuracy: 0.4766\n",
      "Epoch 18/50\n",
      "14/14 [==============================] - 6s 460ms/step - loss: 0.5502 - accuracy: 0.8116 - val_loss: 1.6516 - val_accuracy: 0.4953\n",
      "Epoch 19/50\n",
      "14/14 [==============================] - 6s 441ms/step - loss: 0.5459 - accuracy: 0.8302 - val_loss: 1.5272 - val_accuracy: 0.5140\n",
      "Epoch 20/50\n",
      "14/14 [==============================] - 6s 448ms/step - loss: 0.5679 - accuracy: 0.8279 - val_loss: 1.5167 - val_accuracy: 0.5140\n",
      "Epoch 21/50\n",
      "14/14 [==============================] - 6s 447ms/step - loss: 0.4758 - accuracy: 0.8605 - val_loss: 1.6405 - val_accuracy: 0.4579\n",
      "Epoch 22/50\n",
      "14/14 [==============================] - 6s 459ms/step - loss: 0.4078 - accuracy: 0.8744 - val_loss: 1.6331 - val_accuracy: 0.4579\n",
      "Epoch 23/50\n",
      "14/14 [==============================] - 6s 464ms/step - loss: 0.4179 - accuracy: 0.8907 - val_loss: 1.5822 - val_accuracy: 0.4673\n",
      "Epoch 24/50\n",
      "14/14 [==============================] - 7s 467ms/step - loss: 0.4648 - accuracy: 0.8605 - val_loss: 1.7865 - val_accuracy: 0.4486\n",
      "Epoch 25/50\n",
      "14/14 [==============================] - 6s 445ms/step - loss: 0.4042 - accuracy: 0.8977 - val_loss: 1.6167 - val_accuracy: 0.4579\n",
      "Epoch 26/50\n",
      "14/14 [==============================] - 6s 452ms/step - loss: 0.2942 - accuracy: 0.9372 - val_loss: 1.6953 - val_accuracy: 0.4766\n",
      "Epoch 27/50\n",
      "14/14 [==============================] - 6s 446ms/step - loss: 0.2427 - accuracy: 0.9535 - val_loss: 1.6923 - val_accuracy: 0.4766\n",
      "Epoch 28/50\n",
      "14/14 [==============================] - 6s 444ms/step - loss: 0.2317 - accuracy: 0.9558 - val_loss: 1.7196 - val_accuracy: 0.4393\n",
      "Epoch 29/50\n",
      "14/14 [==============================] - 6s 440ms/step - loss: 0.2309 - accuracy: 0.9419 - val_loss: 1.8139 - val_accuracy: 0.4766\n",
      "Epoch 30/50\n",
      "14/14 [==============================] - 6s 468ms/step - loss: 0.2235 - accuracy: 0.9581 - val_loss: 1.7424 - val_accuracy: 0.5047\n",
      "Epoch 31/50\n",
      "14/14 [==============================] - 6s 443ms/step - loss: 0.2280 - accuracy: 0.9512 - val_loss: 1.8015 - val_accuracy: 0.4860\n",
      "Epoch 32/50\n",
      "14/14 [==============================] - 6s 466ms/step - loss: 0.2034 - accuracy: 0.9605 - val_loss: 1.8985 - val_accuracy: 0.4673\n",
      "Epoch 33/50\n",
      "14/14 [==============================] - 7s 473ms/step - loss: 0.1838 - accuracy: 0.9628 - val_loss: 1.7993 - val_accuracy: 0.4766\n",
      "Epoch 33: early stopping\n",
      "Beste validatiescore: 1.4518179893493652\n",
      "Beste trainingsloss: 0.18383803963661194\n"
     ]
    }
   ],
   "source": [
    "EPOCHS = 50\n",
    "\n",
    "history = model_lstm.fit(\n",
    "    train_MFCC_ds,\n",
    "    validation_data=val_MFCC_ds,\n",
    "    epochs=EPOCHS,\n",
    "    callbacks=tf.keras.callbacks.EarlyStopping(verbose=1, patience=20)\n",
    ")\n",
    "\n",
    "best_val_score = min(history.history['val_loss'])  \n",
    "best_loss = min(history.history['loss']) \n",
    "print(\"Beste validatiescore:\", best_val_score)\n",
    "print(\"Beste trainingsloss:\", best_loss)"
   ]
  },
  {
   "cell_type": "code",
   "execution_count": 35,
   "metadata": {
    "id": "hGTvXKGK5GIZ",
    "outputId": "429e330f-f048-4a72-bb7d-f09c77c3688f"
   },
   "outputs": [
    {
     "name": "stdout",
     "output_type": "stream",
     "text": [
      "Epoch 1/50\n",
      "14/14 [==============================] - 43s 1s/step - loss: 2.0583 - accuracy: 0.1535 - val_loss: 1.9985 - val_accuracy: 0.2336\n",
      "Epoch 2/50\n",
      "14/14 [==============================] - 9s 685ms/step - loss: 1.9308 - accuracy: 0.2674 - val_loss: 1.9000 - val_accuracy: 0.3178\n",
      "Epoch 3/50\n",
      "14/14 [==============================] - 10s 708ms/step - loss: 1.8052 - accuracy: 0.3791 - val_loss: 1.7924 - val_accuracy: 0.3364\n",
      "Epoch 4/50\n",
      "14/14 [==============================] - 10s 709ms/step - loss: 1.6959 - accuracy: 0.3930 - val_loss: 1.7008 - val_accuracy: 0.3738\n",
      "Epoch 5/50\n",
      "14/14 [==============================] - 10s 705ms/step - loss: 1.5989 - accuracy: 0.4372 - val_loss: 1.6945 - val_accuracy: 0.3738\n",
      "Epoch 6/50\n",
      "14/14 [==============================] - 10s 694ms/step - loss: 1.4930 - accuracy: 0.4558 - val_loss: 1.6455 - val_accuracy: 0.4112\n",
      "Epoch 7/50\n",
      "14/14 [==============================] - 9s 671ms/step - loss: 1.4242 - accuracy: 0.5186 - val_loss: 1.6525 - val_accuracy: 0.3832\n",
      "Epoch 8/50\n",
      "14/14 [==============================] - 10s 721ms/step - loss: 1.3737 - accuracy: 0.4907 - val_loss: 1.6114 - val_accuracy: 0.3925\n",
      "Epoch 9/50\n",
      "14/14 [==============================] - 9s 670ms/step - loss: 1.2684 - accuracy: 0.5512 - val_loss: 1.6754 - val_accuracy: 0.4206\n",
      "Epoch 10/50\n",
      "14/14 [==============================] - 9s 669ms/step - loss: 1.2201 - accuracy: 0.5907 - val_loss: 1.7139 - val_accuracy: 0.4112\n",
      "Epoch 11/50\n",
      "14/14 [==============================] - 10s 688ms/step - loss: 1.1874 - accuracy: 0.5884 - val_loss: 1.6210 - val_accuracy: 0.4299\n",
      "Epoch 12/50\n",
      "14/14 [==============================] - 10s 710ms/step - loss: 1.1184 - accuracy: 0.6442 - val_loss: 1.6328 - val_accuracy: 0.4486\n",
      "Epoch 13/50\n",
      "14/14 [==============================] - 9s 651ms/step - loss: 1.1319 - accuracy: 0.5953 - val_loss: 1.7626 - val_accuracy: 0.3832\n",
      "Epoch 14/50\n",
      "14/14 [==============================] - 9s 659ms/step - loss: 0.9946 - accuracy: 0.6791 - val_loss: 1.6304 - val_accuracy: 0.4112\n",
      "Epoch 15/50\n",
      "14/14 [==============================] - 10s 707ms/step - loss: 0.9054 - accuracy: 0.7000 - val_loss: 1.7712 - val_accuracy: 0.3925\n",
      "Epoch 16/50\n",
      "14/14 [==============================] - 9s 638ms/step - loss: 0.8922 - accuracy: 0.7140 - val_loss: 1.7938 - val_accuracy: 0.4019\n",
      "Epoch 17/50\n",
      "14/14 [==============================] - 10s 700ms/step - loss: 0.8303 - accuracy: 0.7116 - val_loss: 1.8356 - val_accuracy: 0.3738\n",
      "Epoch 18/50\n",
      "14/14 [==============================] - 9s 662ms/step - loss: 0.8068 - accuracy: 0.7116 - val_loss: 1.8842 - val_accuracy: 0.4206\n",
      "Epoch 19/50\n",
      "14/14 [==============================] - 10s 698ms/step - loss: 0.7960 - accuracy: 0.7116 - val_loss: 1.8224 - val_accuracy: 0.4486\n",
      "Epoch 20/50\n",
      "14/14 [==============================] - 10s 721ms/step - loss: 0.6722 - accuracy: 0.7814 - val_loss: 1.8756 - val_accuracy: 0.3925\n",
      "Epoch 21/50\n",
      "14/14 [==============================] - 10s 712ms/step - loss: 0.6905 - accuracy: 0.7814 - val_loss: 1.9252 - val_accuracy: 0.4860\n",
      "Epoch 22/50\n",
      "14/14 [==============================] - 10s 712ms/step - loss: 0.6723 - accuracy: 0.7651 - val_loss: 1.9795 - val_accuracy: 0.3551\n",
      "Epoch 23/50\n",
      "14/14 [==============================] - 10s 713ms/step - loss: 0.5761 - accuracy: 0.8047 - val_loss: 2.0267 - val_accuracy: 0.4019\n",
      "Epoch 24/50\n",
      "14/14 [==============================] - 10s 706ms/step - loss: 0.5833 - accuracy: 0.8023 - val_loss: 2.1410 - val_accuracy: 0.4019\n",
      "Epoch 25/50\n",
      "14/14 [==============================] - 10s 713ms/step - loss: 0.6139 - accuracy: 0.8093 - val_loss: 1.9487 - val_accuracy: 0.4206\n",
      "Epoch 26/50\n",
      "14/14 [==============================] - 10s 693ms/step - loss: 0.6301 - accuracy: 0.7767 - val_loss: 2.1325 - val_accuracy: 0.4019\n",
      "Epoch 27/50\n",
      "14/14 [==============================] - 10s 712ms/step - loss: 0.5823 - accuracy: 0.8000 - val_loss: 2.1055 - val_accuracy: 0.3925\n",
      "Epoch 28/50\n",
      "14/14 [==============================] - 10s 685ms/step - loss: 0.5590 - accuracy: 0.8163 - val_loss: 2.1403 - val_accuracy: 0.4486\n",
      "Epoch 28: early stopping\n"
     ]
    },
    {
     "ename": "AttributeError",
     "evalue": "'History' object has no attribute 'history_2'",
     "output_type": "error",
     "traceback": [
      "\u001b[1;31m---------------------------------------------------------------------------\u001b[0m",
      "\u001b[1;31mAttributeError\u001b[0m                            Traceback (most recent call last)",
      "Input \u001b[1;32mIn [35]\u001b[0m, in \u001b[0;36m<cell line: 27>\u001b[1;34m()\u001b[0m\n\u001b[0;32m     19\u001b[0m EPOCHS \u001b[38;5;241m=\u001b[39m \u001b[38;5;241m50\u001b[39m\n\u001b[0;32m     20\u001b[0m history_2 \u001b[38;5;241m=\u001b[39m model_lstm_2\u001b[38;5;241m.\u001b[39mfit(\n\u001b[0;32m     21\u001b[0m     train_MFCC_ds,\n\u001b[0;32m     22\u001b[0m     validation_data\u001b[38;5;241m=\u001b[39mval_MFCC_ds,\n\u001b[0;32m     23\u001b[0m     epochs\u001b[38;5;241m=\u001b[39mEPOCHS,\n\u001b[0;32m     24\u001b[0m     callbacks\u001b[38;5;241m=\u001b[39mtf\u001b[38;5;241m.\u001b[39mkeras\u001b[38;5;241m.\u001b[39mcallbacks\u001b[38;5;241m.\u001b[39mEarlyStopping(verbose\u001b[38;5;241m=\u001b[39m\u001b[38;5;241m1\u001b[39m, patience\u001b[38;5;241m=\u001b[39m\u001b[38;5;241m20\u001b[39m)\n\u001b[0;32m     25\u001b[0m )\n\u001b[1;32m---> 27\u001b[0m best_val_score_2 \u001b[38;5;241m=\u001b[39m \u001b[38;5;28mmin\u001b[39m(\u001b[43mhistory_2\u001b[49m\u001b[38;5;241;43m.\u001b[39;49m\u001b[43mhistory_2\u001b[49m[\u001b[38;5;124m'\u001b[39m\u001b[38;5;124mval_loss\u001b[39m\u001b[38;5;124m'\u001b[39m])  \n\u001b[0;32m     28\u001b[0m best_loss_2 \u001b[38;5;241m=\u001b[39m \u001b[38;5;28mmin\u001b[39m(history_2\u001b[38;5;241m.\u001b[39mhistory_2[\u001b[38;5;124m'\u001b[39m\u001b[38;5;124mloss\u001b[39m\u001b[38;5;124m'\u001b[39m]) \n\u001b[0;32m     29\u001b[0m \u001b[38;5;28mprint\u001b[39m(\u001b[38;5;124m\"\u001b[39m\u001b[38;5;124mBeste validatiescore:\u001b[39m\u001b[38;5;124m\"\u001b[39m, best_val_score_2)\n",
      "\u001b[1;31mAttributeError\u001b[0m: 'History' object has no attribute 'history_2'"
     ]
    }
   ],
   "source": [
    "#LSTM model 2\n",
    "\n",
    "model_lstm_2 = models.Sequential([\n",
    "    Bidirectional(LSTM(units=64, return_sequences=True)),\n",
    "    Dropout(0.2),\n",
    "    Bidirectional(LSTM(units=32, return_sequences=True)), \n",
    "    Dropout(0.2),\n",
    "    Bidirectional(LSTM(units=16)),  \n",
    "    Dropout(0.2),\n",
    "    Dense(64, activation='relu'),  \n",
    "    Dropout(0.2),\n",
    "    Dense(8, activation='softmax')\n",
    "])\n",
    "\n",
    "model_lstm_2.compile(\n",
    "    optimizer=tf.keras.optimizers.Adam(),\n",
    "    loss=tf.keras.losses.SparseCategoricalCrossentropy(),\n",
    "    metrics=['accuracy']\n",
    ")\n",
    "\n",
    "EPOCHS = 50\n",
    "history_2 = model_lstm_2.fit(\n",
    "    train_MFCC_ds,\n",
    "    validation_data=val_MFCC_ds,\n",
    "    epochs=EPOCHS,\n",
    "    callbacks=tf.keras.callbacks.EarlyStopping(verbose=1, patience=20)\n",
    ")\n",
    "\n",
    "best_val_score_2 = min(history_2.history['val_loss'])  \n",
    "best_loss_2 = min(history_2.history['loss']) \n",
    "print(\"Beste validatiescore:\", best_val_score_2)\n",
    "print(\"Beste trainingsloss:\", best_loss_2)"
   ]
  },
  {
   "cell_type": "code",
   "execution_count": 42,
   "metadata": {
    "id": "Y-SeLzB55GIZ",
    "outputId": "10bc3015-146e-4181-a1b2-4a783eaeef4d"
   },
   "outputs": [
    {
     "name": "stdout",
     "output_type": "stream",
     "text": [
      "Epoch 1/50\n",
      "14/14 [==============================] - 49s 1s/step - loss: 2.0079 - accuracy: 0.2302 - val_loss: 1.8602 - val_accuracy: 0.3925\n",
      "Epoch 2/50\n",
      "14/14 [==============================] - 15s 1s/step - loss: 1.8293 - accuracy: 0.2907 - val_loss: 1.7482 - val_accuracy: 0.4206\n",
      "Epoch 3/50\n",
      "14/14 [==============================] - 15s 1s/step - loss: 1.7335 - accuracy: 0.3419 - val_loss: 1.7070 - val_accuracy: 0.4019\n",
      "Epoch 4/50\n",
      "14/14 [==============================] - 14s 1s/step - loss: 1.6589 - accuracy: 0.3953 - val_loss: 1.6550 - val_accuracy: 0.3925\n",
      "Epoch 5/50\n",
      "14/14 [==============================] - 14s 1s/step - loss: 1.5293 - accuracy: 0.4000 - val_loss: 1.5920 - val_accuracy: 0.4299\n",
      "Epoch 6/50\n",
      "14/14 [==============================] - 14s 1s/step - loss: 1.4930 - accuracy: 0.4605 - val_loss: 1.5804 - val_accuracy: 0.3551\n",
      "Epoch 7/50\n",
      "14/14 [==============================] - 14s 1s/step - loss: 1.3864 - accuracy: 0.4814 - val_loss: 1.5487 - val_accuracy: 0.4112\n",
      "Epoch 8/50\n",
      "14/14 [==============================] - 14s 1s/step - loss: 1.2938 - accuracy: 0.5512 - val_loss: 1.5423 - val_accuracy: 0.4112\n",
      "Epoch 9/50\n",
      "14/14 [==============================] - 14s 1s/step - loss: 1.2331 - accuracy: 0.5651 - val_loss: 1.6359 - val_accuracy: 0.3645\n",
      "Epoch 10/50\n",
      "14/14 [==============================] - 14s 1s/step - loss: 1.1390 - accuracy: 0.5860 - val_loss: 1.4859 - val_accuracy: 0.4112\n",
      "Epoch 11/50\n",
      "14/14 [==============================] - 14s 1s/step - loss: 1.0771 - accuracy: 0.6233 - val_loss: 1.5834 - val_accuracy: 0.3925\n",
      "Epoch 12/50\n",
      "14/14 [==============================] - 15s 1s/step - loss: 0.9976 - accuracy: 0.6651 - val_loss: 1.6278 - val_accuracy: 0.3925\n",
      "Epoch 13/50\n",
      "14/14 [==============================] - 14s 1s/step - loss: 1.0116 - accuracy: 0.6419 - val_loss: 1.7674 - val_accuracy: 0.4579\n",
      "Epoch 14/50\n",
      "14/14 [==============================] - 14s 1s/step - loss: 0.9352 - accuracy: 0.6837 - val_loss: 1.7073 - val_accuracy: 0.4019\n",
      "Epoch 15/50\n",
      "14/14 [==============================] - 14s 1s/step - loss: 0.8894 - accuracy: 0.6907 - val_loss: 1.7292 - val_accuracy: 0.3832\n",
      "Epoch 16/50\n",
      "14/14 [==============================] - 15s 1s/step - loss: 0.7914 - accuracy: 0.7209 - val_loss: 1.7274 - val_accuracy: 0.4299\n",
      "Epoch 17/50\n",
      "14/14 [==============================] - 15s 1s/step - loss: 0.7264 - accuracy: 0.7581 - val_loss: 1.8291 - val_accuracy: 0.4206\n",
      "Epoch 18/50\n",
      "14/14 [==============================] - 15s 1s/step - loss: 0.6741 - accuracy: 0.7837 - val_loss: 1.9419 - val_accuracy: 0.4112\n",
      "Epoch 19/50\n",
      "14/14 [==============================] - 15s 1s/step - loss: 0.6207 - accuracy: 0.7674 - val_loss: 1.9029 - val_accuracy: 0.4112\n",
      "Epoch 20/50\n",
      "14/14 [==============================] - 15s 1s/step - loss: 0.5825 - accuracy: 0.8116 - val_loss: 1.8971 - val_accuracy: 0.4206\n",
      "Epoch 21/50\n",
      "14/14 [==============================] - 15s 1s/step - loss: 0.6112 - accuracy: 0.8163 - val_loss: 2.0266 - val_accuracy: 0.4206\n",
      "Epoch 22/50\n",
      "14/14 [==============================] - 15s 1s/step - loss: 0.5443 - accuracy: 0.8279 - val_loss: 2.1929 - val_accuracy: 0.3738\n",
      "Epoch 23/50\n",
      "14/14 [==============================] - 15s 1s/step - loss: 0.5076 - accuracy: 0.8070 - val_loss: 2.1999 - val_accuracy: 0.3738\n",
      "Epoch 24/50\n",
      "14/14 [==============================] - 15s 1s/step - loss: 0.5189 - accuracy: 0.8326 - val_loss: 2.1416 - val_accuracy: 0.4299\n",
      "Epoch 25/50\n",
      "14/14 [==============================] - 15s 1s/step - loss: 0.4311 - accuracy: 0.8767 - val_loss: 2.0929 - val_accuracy: 0.3925\n",
      "Epoch 26/50\n",
      "14/14 [==============================] - 15s 1s/step - loss: 0.4265 - accuracy: 0.8605 - val_loss: 2.0685 - val_accuracy: 0.4579\n",
      "Epoch 27/50\n",
      "14/14 [==============================] - 15s 1s/step - loss: 0.3644 - accuracy: 0.8791 - val_loss: 2.3570 - val_accuracy: 0.4393\n",
      "Epoch 28/50\n",
      "14/14 [==============================] - 15s 1s/step - loss: 0.4332 - accuracy: 0.8674 - val_loss: 2.2055 - val_accuracy: 0.4579\n",
      "Epoch 29/50\n",
      "14/14 [==============================] - 15s 1s/step - loss: 0.4003 - accuracy: 0.8651 - val_loss: 2.3955 - val_accuracy: 0.4486\n",
      "Epoch 30/50\n",
      "14/14 [==============================] - 15s 1s/step - loss: 0.2921 - accuracy: 0.9326 - val_loss: 2.2819 - val_accuracy: 0.4299\n",
      "Epoch 30: early stopping\n",
      "Beste validatiescore: 1.4858773946762085\n",
      "Beste trainingsloss: 0.29207849502563477\n"
     ]
    }
   ],
   "source": [
    "#LSTM model 3\n",
    "\n",
    "model_lstm_3 = models.Sequential([\n",
    "    Bidirectional(LSTM(units=128, return_sequences=True)),\n",
    "    Dropout(0.3),\n",
    "    Bidirectional(LSTM(units=64, return_sequences=True)),\n",
    "    Dropout(0.3),\n",
    "    Bidirectional(LSTM(units=32)),\n",
    "    Dropout(0.3),\n",
    "    Dense(64, activation='relu'),\n",
    "    Dropout(0.3),\n",
    "    Dense(8, activation='softmax')\n",
    "])\n",
    "\n",
    "model_lstm_3.compile(\n",
    "    optimizer=tf.keras.optimizers.Adam(),\n",
    "    loss=tf.keras.losses.SparseCategoricalCrossentropy(),\n",
    "    metrics=['accuracy']\n",
    ")\n",
    "\n",
    "EPOCHS = 50\n",
    "\n",
    "history_3 = model_lstm_3.fit(\n",
    "    train_MFCC_ds,\n",
    "    validation_data=val_MFCC_ds,\n",
    "    epochs=EPOCHS,\n",
    "    callbacks=tf.keras.callbacks.EarlyStopping(verbose=1, patience=20)\n",
    ")\n",
    "\n",
    "best_val_score_3 = min(history_3.history['val_loss'])  \n",
    "best_loss_3 = min(history_3.history['loss'])  \n",
    "print(\"Beste validatiescore:\", best_val_score_3)\n",
    "print(\"Beste trainingsloss:\", best_loss_3)"
   ]
  },
  {
   "cell_type": "markdown",
   "metadata": {},
   "source": [
    "LSTM Model 1: Validatiescore = 1.4518, Trainingsloss = 0.1838\n",
    "\n",
    "LSTM Model 2: Validatiescore = 1.6114, Trainingsloss = 0.5590\n",
    "\n",
    "LSTM Model 3: Validatiescore = 1.4859, Trainingsloss = 0.2921\n",
    "\n",
    "LSTM Model 1 heeft de laagste validatiescore en de laagste trainingsloss, wat suggereert dat het het beste presteert van de drie modellen. Dus model 1 lijkt het beste te zijn op basis van deze metingen."
   ]
  },
  {
   "cell_type": "code",
   "execution_count": 44,
   "metadata": {
    "id": "uLPh5LJy5GIZ",
    "outputId": "decfeae4-13ef-4af4-e4d3-ad28888aec60"
   },
   "outputs": [
    {
     "data": {
      "text/plain": [
       "Text(0, 0.5, 'Accuracy [%]')"
      ]
     },
     "execution_count": 44,
     "metadata": {},
     "output_type": "execute_result"
    },
    {
     "data": {
      "image/png": "[encoded data removed]",
      "text/plain": [
       "<Figure size 1152x432 with 2 Axes>"
      ]
     },
     "metadata": {
      "needs_background": "light"
     },
     "output_type": "display_data"
    }
   ],
   "source": [
    "metrics = history.history\n",
    "plt.figure(figsize=(16,6))\n",
    "plt.subplot(1,2,1)\n",
    "plt.plot(history.epoch, metrics['loss'], metrics['val_loss'])\n",
    "plt.legend(['loss', 'val_loss'])\n",
    "plt.ylim([0, max(plt.ylim())])\n",
    "plt.xlabel('Epoch')\n",
    "plt.ylabel('Loss [CrossEntropy]')\n",
    "\n",
    "plt.subplot(1,2,2)\n",
    "plt.plot(history.epoch, 100*np.array(metrics['accuracy']), 100*np.array(metrics['val_accuracy']))\n",
    "plt.legend(['accuracy', 'val_accuracy'])\n",
    "plt.ylim([0, 100])\n",
    "plt.xlabel('Epoch')\n",
    "plt.ylabel('Accuracy [%]')"
   ]
  },
  {
   "cell_type": "markdown",
   "metadata": {
    "id": "rVCkTo1X5GIZ"
   },
   "source": [
    "## Opdracht 3 - LSTM voor songteksten <a name='song_lstm'></a>"
   ]
  },
  {
   "cell_type": "markdown",
   "metadata": {
    "id": "6Kgyxbh7sBSO"
   },
   "source": [
    "Alle code is gemaakt met behulp van ChatGPT.  \n",
    "[ChatGPT, Prompt: Preprocess text](https://chat.openai.com/share/23851467-f3c1-4ab7-a520-ce6f3e93bc8d)  \n",
    "[ChatGPT, Prompt: LSTM Model Input Error](https://chat.openai.com/share/87bf7e53-56c5-4fd7-ac24-236f9f47ebf9)  \n",
    "[ChatGPT, Prompt: Lower text](https://chat.openai.com/share/3d02c6cd-6317-4eb8-a171-864d7a67873c)  \n",
    "[ChatGPT, Prompt: Model error](https://chat.openai.com/share/1ab1e7fb-5b2f-41c9-8c28-182b9d584c50)  \n",
    "[ChatGPT, Prompt: Text Preprocessing & Embedding](https://chat.openai.com/share/14b384fc-55f4-4ef3-b5df-699f256dc903)  \n",
    "[ChatGPT, Prompt: Preprocess Text: Corrections Made](https://chat.openai.com/share/9a0924be-1a99-4e08-b269-fa10cb08b4b1)  \n",
    "[ChatGPT, Prompt: Overfitting indicated by loss and accuracy score](https://chat.openai.com/share/fc5c120f-dc1f-4203-ab43-9c111367aeb3)  \n",
    "\n"
   ]
  },
  {
   "cell_type": "markdown",
   "metadata": {
    "id": "L7JfnpMn--uU"
   },
   "source": [
    "De dataframe heeft als index de filename en de kollomen zijn lyrics en genre. We maken gebruik van LabelEncoder om een encoded genre te maken, zodat de target/labels numeriek zijn."
   ]
  },
  {
   "cell_type": "code",
   "execution_count": null,
   "metadata": {
    "colab": {
     "base_uri": "https://localhost:8080/",
     "height": 472
    },
    "id": "ubrmYHIakPWF",
    "outputId": "719e30f9-e56d-402b-cbdb-27f9e02b8b01"
   },
   "outputs": [],
   "source": [
    "genres = list(set(train['genre']))\n",
    "\n",
    "label_encoder = LabelEncoder()\n",
    "\n",
    "# Fit label encoder and transform the genre labels into numbers\n",
    "encoded_labels = label_encoder.fit_transform(genres)\n",
    "\n",
    "# Print the mapping between genres and encoded labels\n",
    "label_mapping = dict(sorted(zip(genres, encoded_labels)))\n",
    "print(\"Label mapping:\", label_mapping)\n",
    "\n",
    "train['genre_encoded'] = train['genre'].map(label_mapping)\n",
    "\n",
    "display(train)"
   ]
  },
  {
   "cell_type": "code",
   "execution_count": null,
   "metadata": {
    "id": "TSlqyCN3DzN3"
   },
   "outputs": [],
   "source": [
    "def df_to_dataset(dataframe, target, num_classes, batch_size=32, shuffle=True):\n",
    "    '''Takes a dataframe with lyrics, target and number of classes to turn them to a training and validation dataset.\n",
    "\n",
    "    Parameters:\n",
    "    -----------\n",
    "      dataframe: Dataframe.\n",
    "      target: str, target column (labels).\n",
    "      num_classes: int, amount of set classes.\n",
    "\n",
    "    Returns:\n",
    "    --------\n",
    "      train_ds: tensorflow.python.data.ops.batch_op._BatchDataset, training dataset.\n",
    "      val_ds: tensorflow.python.data.ops.batch_op._BatchDataset, validation dataset.\n",
    "    '''\n",
    "    dataframe = dataframe.copy()\n",
    "    if shuffle:\n",
    "      dataframe = dataframe.reset_index().sample(frac=1).set_index('filename')\n",
    "\n",
    "    train_size = int(0.8 * len(dataframe))\n",
    "\n",
    "    # Split dataframe into training and validation sets\n",
    "    train_df = dataframe[:train_size]\n",
    "    val_df = dataframe[train_size:]\n",
    "    train_labels = to_categorical(train_df.pop(target), num_classes)\n",
    "    val_labels = to_categorical(val_df.pop(target), num_classes)\n",
    "\n",
    "    train_ds = tf.data.Dataset.from_tensor_slices((train_df['lyrics'].values, train_labels))\n",
    "    train_ds = train_ds.batch(batch_size)\n",
    "\n",
    "    val_ds = tf.data.Dataset.from_tensor_slices((val_df['lyrics'].values, val_labels))\n",
    "    val_ds = val_ds.batch(batch_size)\n",
    "    return train_ds, val_ds"
   ]
  },
  {
   "cell_type": "code",
   "execution_count": null,
   "metadata": {
    "id": "WJqmmGPqD1DC"
   },
   "outputs": [],
   "source": [
    "dataframe = train[['lyrics', 'genre_encoded']]\n",
    "num_classes = len(set(dataframe['genre_encoded']))\n",
    "train_text_ds, val_text_ds = df_to_dataset(dataframe, 'genre_encoded', num_classes)"
   ]
  },
  {
   "cell_type": "markdown",
   "metadata": {
    "id": "we0gT-kB_9Ut"
   },
   "source": [
    "Voor de vectorize layer is er een custom_standardization functie gemaakt om de lyrics te preprocessen. De preprocessing bestaat uit:  \n",
    "1. Alles uit de text tot klein letters gemaakt.\n",
    "2. Alle new lines (\\n) verplaats met een spatie.\n",
    "3. Alles in rechte haakjes verplaats met een spatie (Er wordt in rechte haakjes de Chorus, Verse of andere termen gewezen).\n",
    "4. Alle leestekens weggehaald.  \n",
    "  \n",
    "We hebben dan schonere teksten voor de vectorize layer, met max_tokens en output_sequence_length hopen we voor een goede kwaliteit van de vectorize layer.  \n",
    "De embedding layer is om voor elk woord een dense vector te maken, zodat de woorden een connectie hebben met elkaar.\n"
   ]
  },
  {
   "cell_type": "code",
   "execution_count": null,
   "metadata": {
    "id": "xkJ9Hpo16du2"
   },
   "outputs": [],
   "source": [
    "def custom_standardization(text):\n",
    "    # Lowercase text\n",
    "    text = tf.strings.lower(text)\n",
    "    # Remove new lines\n",
    "    text = tf.strings.regex_replace(text, r'\\n', ' ')\n",
    "    # Remove anything in square brackets\n",
    "    text = tf.strings.regex_replace(text, r'\\[.*?\\]', '')\n",
    "    # Remove punctuation\n",
    "    punctuation = string.punctuation\n",
    "    text = tf.strings.regex_replace(text, '[%s]' % re.escape(punctuation), '')\n",
    "    return text\n",
    "\n",
    "vocab_size = 10000\n",
    "sequence_length = 120\n",
    "\n",
    "vectorize_layer = TextVectorization(\n",
    "    standardize=custom_standardization,\n",
    "    max_tokens=vocab_size,\n",
    "    output_mode='int',\n",
    "    output_sequence_length=sequence_length)\n",
    "\n",
    "# Make a text-only dataset (no labels) and call adapt to build the vocabulary.\n",
    "text_ds = train_text_ds.map(lambda x, y: x)\n",
    "text_ds = text_ds.unbatch()  # Unbatch the dataset to get individual text samples\n",
    "\n",
    "# Extract the text data from the dataset\n",
    "texts = [text.numpy().decode('utf-8') for text in text_ds]\n",
    "vectorize_layer.adapt(texts)\n",
    "\n",
    "embedding_layer = Embedding(input_dim=len(vectorize_layer.get_vocabulary()), output_dim=64, mask_zero=True)"
   ]
  },
  {
   "cell_type": "code",
   "execution_count": null,
   "metadata": {
    "colab": {
     "base_uri": "https://localhost:8080/"
    },
    "id": "iXzUgf4-q09B",
    "outputId": "b47e4333-06c8-47c8-c292-18b04300a53d"
   },
   "outputs": [],
   "source": [
    "model_text_lstm = Sequential([\n",
    "    vectorize_layer,\n",
    "    embedding_layer,\n",
    "    GRU(128, return_sequences=True, dropout=0.2),\n",
    "    Bidirectional(LSTM(64, return_sequences=False, dropout=0.2)),\n",
    "    Dense(64, activation='relu'),\n",
    "    Dense(num_classes, activation='softmax')\n",
    "])\n",
    "\n",
    "model_text_lstm.summary()"
   ]
  },
  {
   "cell_type": "markdown",
   "metadata": {
    "id": "d6uQ8FVOhstK"
   },
   "source": [
    "Het model bestaat eerst uit vectorized_layer en embedding_layer, daarna hebben we willekeurig een GRU en Bidrectional met LSTM layers geplaatst. Dan een Dense naar een output met softmax als activation, omdat we te maken hebben met multiple classes. In dit geval 8."
   ]
  },
  {
   "cell_type": "code",
   "execution_count": null,
   "metadata": {
    "colab": {
     "base_uri": "https://localhost:8080/"
    },
    "id": "FOnWGFTEAqI2",
    "outputId": "8ae989dc-dc72-439f-be27-e23754b7032d"
   },
   "outputs": [],
   "source": [
    "epochs=5000\n",
    "\n",
    "# Compile\n",
    "model_text_lstm.compile(optimizer=tf.keras.optimizers.Adam(),\n",
    "                          loss=tf.keras.losses.CategoricalCrossentropy(),\n",
    "                          metrics=['accuracy'])\n",
    "\n",
    "# Add early stopping to the tuning process\n",
    "stop_early = tf.keras.callbacks.EarlyStopping(monitor='val_loss', patience=3)\n",
    "\n",
    "# Train\n",
    "history = model_text_lstm.fit(train_text_ds,\n",
    "                              batch_size = 32,\n",
    "                                validation_data=val_text_ds,\n",
    "                                epochs=epochs,\n",
    "                                callbacks=[stop_early])"
   ]
  },
  {
   "cell_type": "markdown",
   "metadata": {
    "id": "XGBy6mz1-LYA"
   },
   "source": [
    "Willekeurig 5000 epochs gekozen om te zien hoe ver de training gaat. De EarlyStopping monitor de val_loss en heeft de training gestopt, omdat het al zakte. Maar de val_accuracy is heel laag."
   ]
  },
  {
   "cell_type": "markdown",
   "metadata": {
    "id": "e0nd4cfd5GIZ"
   },
   "source": [
    "## Opdracht 4 - Transformer voor songteksten <a name='song_tran'></a>"
   ]
  },
  {
   "cell_type": "markdown",
   "metadata": {
    "id": "B9G22GCEQsfN"
   },
   "source": [
    "## BERT model\n",
    "Voor deze opdracht gebruiken wij het BERT model, dit is een vrij klein model wat goed is omdat het lokaal gerunt kan worden. Ook is het een transformer model dat getrained is op een grote dataset van text waardoor het model goede generalisaties in text kan herkennen en dus beter is in het voorspellen van genres gebaseerd op lyrics. Het model gebruikt de voorgetrainde kennis om de voorspellingen goed uit te kunnen voeren zonder hier enorme hoeveelheden data voor nodig te hebben. (Google-bert/Bert-base-uncased · Hugging Face, 2001)\n",
    "\n",
    "### Modelnaam\n",
    "model: bert-base-uncased\n",
    "\n",
    "### Training data\n",
    "Het BERT-model werd vooraf getraind op BookCorpus, een dataset bestaande uit 11.038 niet-gepubliceerde boeken en de Engelstalige Wikipedia (zonder lijsten, tabellen en kopteksten). (Google-bert/Bert-base-uncased · Hugging Face, 2001)\n",
    "\n",
    "BookCorpus: https://yknzhu.wixsite.com/mbweb (Home | Mbweb, z.d.)<br>\n",
    "English Wikipedia: https://en.wikipedia.org/wiki/English_Wikipedia (Wikipedia contributors, 2024)"
   ]
  },
  {
   "cell_type": "code",
   "execution_count": null,
   "metadata": {
    "id": "YwH4CZEWQuFo"
   },
   "outputs": [],
   "source": [
    "batch_size = 8\n",
    "num_train_epochs = 12\n",
    "num_train_steps = (len(train['lyrics']) // batch_size) * num_train_epochs\n",
    "label2id = label_dict = train[['genre', 'genre_encoded']].drop_duplicates().set_index('genre').to_dict()['genre_encoded']\n",
    "id2label = {i: label for label, i in label_dict.items()}"
   ]
  },
  {
   "cell_type": "code",
   "execution_count": null,
   "metadata": {
    "colab": {
     "base_uri": "https://localhost:8080/"
    },
    "id": "R11cO0B7Qw6I",
    "outputId": "8bd2432d-540b-439f-ff82-608b5a44b553"
   },
   "outputs": [],
   "source": [
    "model_checkpoint = \"bert-base-uncased\"\n",
    "\n",
    "tokenizer = AutoTokenizer.from_pretrained(model_checkpoint)\n",
    "train['tokenized'] = train['lyrics'].apply(lambda lyrics: tokenizer(lyrics, truncation=True, padding='max_length', max_length=512)['input_ids'])"
   ]
  },
  {
   "cell_type": "code",
   "execution_count": null,
   "metadata": {
    "colab": {
     "base_uri": "https://localhost:8080/"
    },
    "id": "Vgs8Q3HKQ6ow",
    "outputId": "7fcdaea1-fcd1-429f-f5b6-c5d4fad235c9"
   },
   "outputs": [],
   "source": [
    "train_data, eval_data = train_test_split(train, test_size=0.2)\n",
    "\n",
    "train_dataset = Dataset.from_pandas(train_data).to_tf_dataset(\n",
    "    columns=['tokenized'],\n",
    "    label_cols=[\"genre_encoded\"],\n",
    "    shuffle=True,\n",
    "    batch_size=batch_size,\n",
    ")\n",
    "\n",
    "eval_dataset = Dataset.from_pandas(eval_data).to_tf_dataset(\n",
    "    columns=['tokenized'],\n",
    "    label_cols=[\"genre_encoded\"],\n",
    "    shuffle=True,\n",
    "    batch_size=batch_size,\n",
    ")"
   ]
  },
  {
   "cell_type": "markdown",
   "metadata": {
    "id": "pcvn3ES8Q9p2"
   },
   "source": [
    "## Training/fine-tuning het BERT model op de train dataset\n",
    "Voor het finetunen van het BERT model op de songteksten is eerst de dataset ingeladen en zijn de labels ge-encoded naar nummerieke data zodat dit gebruikt kan worden. Daarna is door de AutoTokenizer de song lyrics getokenized en deze worden vervolgens omgezet naar een Tensorflow dataset met de kolom 'tokenized' (de getokenizede lyrics) als columns en 'genre_encoded' (de numerieke genres) als label_cols. Dit gebeurd allemaal in cellen hierboven\n",
    "\n",
    "Als laatst is het alleen nog noodzakelijk een optimizer te definieren en het model te trainen. De optimizer gebruikt een learning rate van 2e-5 wat zorgt voor een mooie fit in een lage hoeveelheid epochs, daarnaast hebben we weight decay toegepast als vorm van regularisatie die zorgt dat het model niet te snel zal overfitten. Alle hyperparameters zijn experimenteel gevonden om te zorgen dat er een juiste balans is tussen de snelheid waarin er geleerd wordt en de resultaten die behaald worden.\n",
    "\n",
    "Met deze optimizers hebben we experimenteel gezien dat tussen de 8 en 12 epochs de optimale scores behaalt worden en dat als er meer epochs worden uitgevoerd dat het model overfit."
   ]
  },
  {
   "cell_type": "code",
   "execution_count": null,
   "metadata": {
    "colab": {
     "base_uri": "https://localhost:8080/",
     "height": 711,
     "referenced_widgets": [
      "6b72b48bba30440f9b203f796cf41b58",
      "341e5aa5aef84169a0bf48462e68d81b",
      "1b942054b8c142e3b0238229ca650ff1",
      "9061b673694140798db4bf0090d36616",
      "c5f4d1971c1043b9b7db64df80caa496",
      "534dea5d5e7c4b1aa0e69f5791009a3d",
      "e442c5b3e7c54d59bb4a8828fb958e37",
      "866fd2a8513a45059e5ee55af5ae397b",
      "f0848b0b38914ab4b32e1595479f2ca3",
      "1834c19f9a7b47a3b9e2f869905c3d84",
      "861488802e3341299b5aaa854fc565db"
     ]
    },
    "id": "7AyO6vDaQ-vV",
    "outputId": "63c83f7f-483e-45bb-e716-f63e6e2ae3df"
   },
   "outputs": [],
   "source": [
    "model = TFAutoModelForSequenceClassification.from_pretrained(\n",
    "    model_checkpoint, num_labels=len(label2id), id2label=id2label, label2id=label2id\n",
    ")\n",
    "\n",
    "\n",
    "optimizer, lr_schedule = create_optimizer(\n",
    "    init_lr=2e-5,\n",
    "    num_train_steps=num_train_steps,\n",
    "    weight_decay_rate=0.01,\n",
    "    num_warmup_steps=0,\n",
    ")\n",
    "\n",
    "model.compile(optimizer=optimizer)\n",
    "\n",
    "model.fit(\n",
    "    train_dataset,\n",
    "    validation_data=eval_dataset,\n",
    "    epochs=num_train_epochs\n",
    ")\n"
   ]
  },
  {
   "cell_type": "markdown",
   "metadata": {
    "id": "q2mv3qxW5GIZ"
   },
   "source": [
    "## Opdracht 5 - Model naar keuze <a name='mnk'></a>"
   ]
  },
  {
   "cell_type": "markdown",
   "metadata": {
    "id": "YVCy_Iao5GIZ"
   },
   "source": [
    "## Opdracht 6 - Bevindingen <a name='bevindingen'></a>"
   ]
  },
  {
   "cell_type": "markdown",
   "metadata": {
    "id": "XSB5jqMhySwa"
   },
   "source": [
    "### overzicht van de resultaten\n",
    "|model|loss|val loss|\n",
    "|-----|----|--------|\n",
    "|LSTM voor audioclips|0.1838| 1.4518|\n",
    "|LSTM voor songteksten|0.0050|4.8882|\n",
    "|Transformer voor songteksten|0.2149|0.9383|\n",
    "|Model naar keuze|||"
   ]
  },
  {
   "cell_type": "markdown",
   "metadata": {
    "id": "cAqby5-y1auq"
   },
   "source": [
    "## Beschrijving en overzicht van het best presterende model\n",
    "### LSTM voor audioclips  \n",
    "Het model loss is gezakt naar 0.1838, terwijl de val loss omhoog is gegaan naar 1.4518 tijdens het trainen. Dit geeft aan dat het model is gaan overfitten. Vandaar dat de val accuracy wat lager zit dan de accuracy. Dus het model presteert slechter met data dat het model niet kent.  \n",
    "### LSTM voor songteksten  \n",
    "Hier geldt hetzelfde als bij LSTM voor audioclips. Alleen slechter volgens de scores.  \n",
    "### Transformer voor songteksten  \n",
    "De transformer is een erg goede keuze, het heeft een lage loss and val_loss die dichter bij elkaar liggen dan andere modellen. Dit geeft aan dat het model niet overfit is en dat het een betrouwbare score is. Ook is de score lager dan bij de andere modellen, dit komt waarschijnlijk omdat de transformer gebruik maakt van alle training die hij hiervoor ook gehad heeft. Bert is getrained op een grote hoeveelheid tekst en gebruikt dit om betere predicties te maken nu dat wij nieuwe data introduceren.\n",
    "### Model naar keuze  "
   ]
  },
  {
   "cell_type": "markdown",
   "metadata": {
    "id": "JXWdM8zSykeT"
   },
   "source": [
    "## conclusie\n",
    "\n"
   ]
  },
  {
   "cell_type": "markdown",
   "metadata": {
    "id": "2iq9q3OY5GIZ"
   },
   "source": [
    "## Opdracht 7 - Conclusie en aanbevelingen <a name='conclusie'></a>\n",
    "\n"
   ]
  },
  {
   "cell_type": "markdown",
   "metadata": {
    "id": "zs4NJbgz0wBj"
   },
   "source": [
    "## Samenvatting van modeleringsproces\n",
    "\n",
    "Het LSTM-model voor audioclips maakte gebruik van Mel-frequency cepstral coefficients (MFCCs) als invoer, die relevante kenmerken uit de audio extraheren. Ondanks het vermogen van de LSTM's, vertoonde dit model tekenen van overfitting, wat suggereert dat het moeite had om te generaliseren naar ongeziene gegevens.\n",
    "\n",
    "Het LSTM-model voor songteksten volgde een vergelijkbare aanpak, maar richtte zich op de informatie die aanwezig is in de tekst van de songteksten. Helaas presteerde dit model ook ondermaats, met vergelijkbare problemen met overfitting als het audiomodel.\n",
    "\n",
    "Het transformer-model, specifiek BERT, bleek de meest veelbelovende benadering te zijn. Door de transformer-architectuur en de pre-training op een enorme dataset met tekstgegevens, kon BERT complexe patronen effectief gebruiken. Dit resulteerde in een lagere loss en een betere generalisatie in vergelijking met de LSTM-modellen.\n"
   ]
  },
  {
   "cell_type": "markdown",
   "metadata": {
    "id": "eLXDeuP31nzm"
   },
   "source": [
    "## Conclusie gebaseerd op bevindingen\n",
    "\n",
    "BERT heeft de meestbelovende scores en is dus het model wat het beste gebruikt kan worden voor deze taak. Het model heeft al kennis van de buitenwereld door de pre-training en gebruikt dit voor betere prestaties. Zo kan het model belangrijke linken leggen tussen woorden die niet gemaakt zouden kunnen worden al was er alleen getrained op de lyrics data."
   ]
  },
  {
   "cell_type": "markdown",
   "metadata": {
    "id": "J0bZXZwn1r3V"
   },
   "source": [
    "## Aanbeveling sluit aan op conclusie en concrete ideeën gegeven om het project uit te breiden tot een aanbevelingssysteem.\n",
    "\n",
    "Het is mogelijk de scores nog verder te verbeteren. Dit kan gedaan worden door te kijken naar andere modellen van huggingface die wellicht beter zijn in dit soort taken, of die over het algemeen betere scores behalen op NLP gerelateerde taken. Ook is het mogelijk om nog meer te experimenteren met hyperparameters om zo het model nog beter te krijgen in deze specifieke taak. En als laatst is het altijd mogelijk om meer data te vergaren om zo het model beter te kunnen trainen. Dit zijn onze aanbevelingen en dit alles samen zou erg goede resultaten moeten kunnen behalen."
   ]
  },
  {
   "cell_type": "markdown",
   "metadata": {
    "id": "HMyH3ZF55GIg"
   },
   "source": [
    "## Bronnenlijst <a name='bronnenlijst'></a>"
   ]
  },
  {
   "cell_type": "markdown",
   "metadata": {
    "id": "GzORoHuk6Vpp"
   },
   "source": [
    "- Team, K. (z.d.). Keras documentation: Adam. https://keras.io/api/optimizers/adam/\n",
    "- Team, K. (z.d.-b). Keras documentation: Probabilistic losses. https://keras.io/api/losses/probabilistic_losses/\n",
    "- Deruty, E. (2022, 15 december). Intuitive understanding of MFCCs - Emmanuel Deruty - Medium. Medium. https://medium.com/@derutycsl/intuitive-understanding-of-mfccs-836d36a1f779\n",
    "- Google Colab. (z.d.). https://colab.research.google.com/github/huggingface/notebooks/blob/main/transformers_doc/en/tensorflow/training.ipynb\n",
    "- google-bert/bert-base-uncased · Hugging Face. (2001, 11 maart). https://huggingface.co/google-bert/bert-base-uncased\n",
    "- Home | mbweb. (z.d.). Mbweb. https://yknzhu.wixsite.com/mbweb\n",
    "- Wikipedia contributors. (2024, 29 april). English Wikipedia - Wikipedia. https://en.wikipedia.org/wiki/English_Wikipedia  \n",
    "- ChatGPT, Prompt: Preprocess text. https://chat.openai.com/share/23851467-f3c1-4ab7-a520-ce6f3e93bc8d  \n",
    "- ChatGPT, Prompt: LSTM Model Input Error. https://chat.openai.com/share/87bf7e53-56c5-4fd7-ac24-236f9f47ebf9  \n",
    "- ChatGPT, Prompt: Lower text. https://chat.openai.com/share/3d02c6cd-6317-4eb8-a171-864d7a67873c  \n",
    "- ChatGPT, Prompt: Model error. https://chat.openai.com/share/1ab1e7fb-5b2f-41c9-8c28-182b9d584c50  \n",
    "- ChatGPT, Prompt: Text Preprocessing & Embedding. https://chat.openai.com/share/14b384fc-55f4-4ef3-b5df-699f256dc903  \n",
    "- ChatGPT, Prompt: Preprocess Text: Corrections Made. https://chat.openai.com/share/9a0924be-1a99-4e08-b269-fa10cb08b4b1  \n",
    "- ChatGPT, Prompt: Overfitting indicated by loss and accuracy score. https://chat.openai.com/share/fc5c120f-dc1f-4203-ab43-9c111367aeb3\n",
    "- Les opdrachten"
   ]
  },
  {
   "cell_type": "code",
   "execution_count": null,
   "metadata": {
    "id": "-YMzUrk19w5k"
   },
   "outputs": [],
   "source": []
  }
 ],
 "metadata": {
  "accelerator": "GPU",
  "colab": {
   "gpuType": "T4",
   "provenance": []
  },
  "kernelspec": {
   "display_name": "Python 3 (ipykernel)",
   "language": "python",
   "name": "python3"
  },
  "language_info": {
   "codemirror_mode": {
    "name": "ipython",
    "version": 3
   },
   "file_extension": ".py",
   "mimetype": "text/x-python",
   "name": "python",
   "nbconvert_exporter": "python",
   "pygments_lexer": "ipython3",
   "version": "3.9.12"
  },
  "widgets": {
   "application/vnd.jupyter.widget-state+json": {
    "1834c19f9a7b47a3b9e2f869905c3d84": {
     "model_module": "@jupyter-widgets/base",
     "model_module_version": "1.2.0",
     "model_name": "LayoutModel",
     "state": {
      "_model_module": "@jupyter-widgets/base",
      "_model_module_version": "1.2.0",
      "_model_name": "LayoutModel",
      "_view_count": null,
      "_view_module": "@jupyter-widgets/base",
      "_view_module_version": "1.2.0",
      "_view_name": "LayoutView",
      "align_content": null,
      "align_items": null,
      "align_self": null,
      "border": null,
      "bottom": null,
      "display": null,
      "flex": null,
      "flex_flow": null,
      "grid_area": null,
      "grid_auto_columns": null,
      "grid_auto_flow": null,
      "grid_auto_rows": null,
      "grid_column": null,
      "grid_gap": null,
      "grid_row": null,
      "grid_template_areas": null,
      "grid_template_columns": null,
      "grid_template_rows": null,
      "height": null,
      "justify_content": null,
      "justify_items": null,
      "left": null,
      "margin": null,
      "max_height": null,
      "max_width": null,
      "min_height": null,
      "min_width": null,
      "object_fit": null,
      "object_position": null,
      "order": null,
      "overflow": null,
      "overflow_x": null,
      "overflow_y": null,
      "padding": null,
      "right": null,
      "top": null,
      "visibility": null,
      "width": null
     }
    },
    "1b942054b8c142e3b0238229ca650ff1": {
     "model_module": "@jupyter-widgets/controls",
     "model_module_version": "1.5.0",
     "model_name": "FloatProgressModel",
     "state": {
      "_dom_classes": [],
      "_model_module": "@jupyter-widgets/controls",
      "_model_module_version": "1.5.0",
      "_model_name": "FloatProgressModel",
      "_view_count": null,
      "_view_module": "@jupyter-widgets/controls",
      "_view_module_version": "1.5.0",
      "_view_name": "ProgressView",
      "bar_style": "success",
      "description": "",
      "description_tooltip": null,
      "layout": "IPY_MODEL_866fd2a8513a45059e5ee55af5ae397b",
      "max": 440449768,
      "min": 0,
      "orientation": "horizontal",
      "style": "IPY_MODEL_f0848b0b38914ab4b32e1595479f2ca3",
      "value": 440449768
     }
    },
    "341e5aa5aef84169a0bf48462e68d81b": {
     "model_module": "@jupyter-widgets/controls",
     "model_module_version": "1.5.0",
     "model_name": "HTMLModel",
     "state": {
      "_dom_classes": [],
      "_model_module": "@jupyter-widgets/controls",
      "_model_module_version": "1.5.0",
      "_model_name": "HTMLModel",
      "_view_count": null,
      "_view_module": "@jupyter-widgets/controls",
      "_view_module_version": "1.5.0",
      "_view_name": "HTMLView",
      "description": "",
      "description_tooltip": null,
      "layout": "IPY_MODEL_534dea5d5e7c4b1aa0e69f5791009a3d",
      "placeholder": "​",
      "style": "IPY_MODEL_e442c5b3e7c54d59bb4a8828fb958e37",
      "value": "model.safetensors: 100%"
     }
    },
    "534dea5d5e7c4b1aa0e69f5791009a3d": {
     "model_module": "@jupyter-widgets/base",
     "model_module_version": "1.2.0",
     "model_name": "LayoutModel",
     "state": {
      "_model_module": "@jupyter-widgets/base",
      "_model_module_version": "1.2.0",
      "_model_name": "LayoutModel",
      "_view_count": null,
      "_view_module": "@jupyter-widgets/base",
      "_view_module_version": "1.2.0",
      "_view_name": "LayoutView",
      "align_content": null,
      "align_items": null,
      "align_self": null,
      "border": null,
      "bottom": null,
      "display": null,
      "flex": null,
      "flex_flow": null,
      "grid_area": null,
      "grid_auto_columns": null,
      "grid_auto_flow": null,
      "grid_auto_rows": null,
      "grid_column": null,
      "grid_gap": null,
      "grid_row": null,
      "grid_template_areas": null,
      "grid_template_columns": null,
      "grid_template_rows": null,
      "height": null,
      "justify_content": null,
      "justify_items": null,
      "left": null,
      "margin": null,
      "max_height": null,
      "max_width": null,
      "min_height": null,
      "min_width": null,
      "object_fit": null,
      "object_position": null,
      "order": null,
      "overflow": null,
      "overflow_x": null,
      "overflow_y": null,
      "padding": null,
      "right": null,
      "top": null,
      "visibility": null,
      "width": null
     }
    },
    "6b72b48bba30440f9b203f796cf41b58": {
     "model_module": "@jupyter-widgets/controls",
     "model_module_version": "1.5.0",
     "model_name": "HBoxModel",
     "state": {
      "_dom_classes": [],
      "_model_module": "@jupyter-widgets/controls",
      "_model_module_version": "1.5.0",
      "_model_name": "HBoxModel",
      "_view_count": null,
      "_view_module": "@jupyter-widgets/controls",
      "_view_module_version": "1.5.0",
      "_view_name": "HBoxView",
      "box_style": "",
      "children": [
       "IPY_MODEL_341e5aa5aef84169a0bf48462e68d81b",
       "IPY_MODEL_1b942054b8c142e3b0238229ca650ff1",
       "IPY_MODEL_9061b673694140798db4bf0090d36616"
      ],
      "layout": "IPY_MODEL_c5f4d1971c1043b9b7db64df80caa496"
     }
    },
    "861488802e3341299b5aaa854fc565db": {
     "model_module": "@jupyter-widgets/controls",
     "model_module_version": "1.5.0",
     "model_name": "DescriptionStyleModel",
     "state": {
      "_model_module": "@jupyter-widgets/controls",
      "_model_module_version": "1.5.0",
      "_model_name": "DescriptionStyleModel",
      "_view_count": null,
      "_view_module": "@jupyter-widgets/base",
      "_view_module_version": "1.2.0",
      "_view_name": "StyleView",
      "description_width": ""
     }
    },
    "866fd2a8513a45059e5ee55af5ae397b": {
     "model_module": "@jupyter-widgets/base",
     "model_module_version": "1.2.0",
     "model_name": "LayoutModel",
     "state": {
      "_model_module": "@jupyter-widgets/base",
      "_model_module_version": "1.2.0",
      "_model_name": "LayoutModel",
      "_view_count": null,
      "_view_module": "@jupyter-widgets/base",
      "_view_module_version": "1.2.0",
      "_view_name": "LayoutView",
      "align_content": null,
      "align_items": null,
      "align_self": null,
      "border": null,
      "bottom": null,
      "display": null,
      "flex": null,
      "flex_flow": null,
      "grid_area": null,
      "grid_auto_columns": null,
      "grid_auto_flow": null,
      "grid_auto_rows": null,
      "grid_column": null,
      "grid_gap": null,
      "grid_row": null,
      "grid_template_areas": null,
      "grid_template_columns": null,
      "grid_template_rows": null,
      "height": null,
      "justify_content": null,
      "justify_items": null,
      "left": null,
      "margin": null,
      "max_height": null,
      "max_width": null,
      "min_height": null,
      "min_width": null,
      "object_fit": null,
      "object_position": null,
      "order": null,
      "overflow": null,
      "overflow_x": null,
      "overflow_y": null,
      "padding": null,
      "right": null,
      "top": null,
      "visibility": null,
      "width": null
     }
    },
    "9061b673694140798db4bf0090d36616": {
     "model_module": "@jupyter-widgets/controls",
     "model_module_version": "1.5.0",
     "model_name": "HTMLModel",
     "state": {
      "_dom_classes": [],
      "_model_module": "@jupyter-widgets/controls",
      "_model_module_version": "1.5.0",
      "_model_name": "HTMLModel",
      "_view_count": null,
      "_view_module": "@jupyter-widgets/controls",
      "_view_module_version": "1.5.0",
      "_view_name": "HTMLView",
      "description": "",
      "description_tooltip": null,
      "layout": "IPY_MODEL_1834c19f9a7b47a3b9e2f869905c3d84",
      "placeholder": "​",
      "style": "IPY_MODEL_861488802e3341299b5aaa854fc565db",
      "value": " 440M/440M [00:10&lt;00:00, 44.7MB/s]"
     }
    },
    "c5f4d1971c1043b9b7db64df80caa496": {
     "model_module": "@jupyter-widgets/base",
     "model_module_version": "1.2.0",
     "model_name": "LayoutModel",
     "state": {
      "_model_module": "@jupyter-widgets/base",
      "_model_module_version": "1.2.0",
      "_model_name": "LayoutModel",
      "_view_count": null,
      "_view_module": "@jupyter-widgets/base",
      "_view_module_version": "1.2.0",
      "_view_name": "LayoutView",
      "align_content": null,
      "align_items": null,
      "align_self": null,
      "border": null,
      "bottom": null,
      "display": null,
      "flex": null,
      "flex_flow": null,
      "grid_area": null,
      "grid_auto_columns": null,
      "grid_auto_flow": null,
      "grid_auto_rows": null,
      "grid_column": null,
      "grid_gap": null,
      "grid_row": null,
      "grid_template_areas": null,
      "grid_template_columns": null,
      "grid_template_rows": null,
      "height": null,
      "justify_content": null,
      "justify_items": null,
      "left": null,
      "margin": null,
      "max_height": null,
      "max_width": null,
      "min_height": null,
      "min_width": null,
      "object_fit": null,
      "object_position": null,
      "order": null,
      "overflow": null,
      "overflow_x": null,
      "overflow_y": null,
      "padding": null,
      "right": null,
      "top": null,
      "visibility": null,
      "width": null
     }
    },
    "e442c5b3e7c54d59bb4a8828fb958e37": {
     "model_module": "@jupyter-widgets/controls",
     "model_module_version": "1.5.0",
     "model_name": "DescriptionStyleModel",
     "state": {
      "_model_module": "@jupyter-widgets/controls",
      "_model_module_version": "1.5.0",
      "_model_name": "DescriptionStyleModel",
      "_view_count": null,
      "_view_module": "@jupyter-widgets/base",
      "_view_module_version": "1.2.0",
      "_view_name": "StyleView",
      "description_width": ""
     }
    },
    "f0848b0b38914ab4b32e1595479f2ca3": {
     "model_module": "@jupyter-widgets/controls",
     "model_module_version": "1.5.0",
     "model_name": "ProgressStyleModel",
     "state": {
      "_model_module": "@jupyter-widgets/controls",
      "_model_module_version": "1.5.0",
      "_model_name": "ProgressStyleModel",
      "_view_count": null,
      "_view_module": "@jupyter-widgets/base",
      "_view_module_version": "1.2.0",
      "_view_name": "StyleView",
      "bar_color": null,
      "description_width": ""
     }
    }
   }
  }
 },
 "nbformat": 4,
 "nbformat_minor": 1
}
